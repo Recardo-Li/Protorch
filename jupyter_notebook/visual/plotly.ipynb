{
 "cells": [
  {
   "cell_type": "code",
   "execution_count": 14,
   "metadata": {},
   "outputs": [],
   "source": [
    "import torch\n",
    "import plotly.express as px\n",
    "from sklearn.decomposition import PCA"
   ]
  },
  {
   "cell_type": "code",
   "execution_count": 15,
   "metadata": {},
   "outputs": [
    {
     "name": "stderr",
     "output_type": "stream",
     "text": [
      "/tmp/ipykernel_3734053/2450295720.py:1: FutureWarning:\n",
      "\n",
      "You are using `torch.load` with `weights_only=False` (the current default value), which uses the default pickle module implicitly. It is possible to construct malicious pickle data which will execute arbitrary code during unpickling (See https://github.com/pytorch/pytorch/blob/main/SECURITY.md#untrusted-models for more details). In a future release, the default value for `weights_only` will be flipped to `True`. This limits the functions that could be executed during unpickling. Arbitrary objects will no longer be allowed to be loaded via this mode unless they are explicitly allowlisted by the user via `torch.serialization.add_safe_globals`. We recommend you start setting `weights_only=True` for any use case where you don't have full control of the loaded file. Please open an issue on GitHub for any issues related to this experimental feature.\n",
      "\n",
      "/tmp/ipykernel_3734053/2450295720.py:2: FutureWarning:\n",
      "\n",
      "You are using `torch.load` with `weights_only=False` (the current default value), which uses the default pickle module implicitly. It is possible to construct malicious pickle data which will execute arbitrary code during unpickling (See https://github.com/pytorch/pytorch/blob/main/SECURITY.md#untrusted-models for more details). In a future release, the default value for `weights_only` will be flipped to `True`. This limits the functions that could be executed during unpickling. Arbitrary objects will no longer be allowed to be loaded via this mode unless they are explicitly allowlisted by the user via `torch.serialization.add_safe_globals`. We recommend you start setting `weights_only=True` for any use case where you don't have full control of the loaded file. Please open an issue on GitHub for any issues related to this experimental feature.\n",
      "\n",
      "/tmp/ipykernel_3734053/2450295720.py:3: FutureWarning:\n",
      "\n",
      "You are using `torch.load` with `weights_only=False` (the current default value), which uses the default pickle module implicitly. It is possible to construct malicious pickle data which will execute arbitrary code during unpickling (See https://github.com/pytorch/pytorch/blob/main/SECURITY.md#untrusted-models for more details). In a future release, the default value for `weights_only` will be flipped to `True`. This limits the functions that could be executed during unpickling. Arbitrary objects will no longer be allowed to be loaded via this mode unless they are explicitly allowlisted by the user via `torch.serialization.add_safe_globals`. We recommend you start setting `weights_only=True` for any use case where you don't have full control of the loaded file. Please open an issue on GitHub for any issues related to this experimental feature.\n",
      "\n"
     ]
    }
   ],
   "source": [
    "toolnames = torch.load('toolnames.pt')\n",
    "categories = torch.load('categories.pt')\n",
    "corpus_embeddings = torch.load('corpus_embeddings.pt')"
   ]
  },
  {
   "cell_type": "code",
   "execution_count": 16,
   "metadata": {},
   "outputs": [
    {
     "data": {
      "text/plain": [
       "torch.Size([58, 768])"
      ]
     },
     "execution_count": 16,
     "metadata": {},
     "output_type": "execute_result"
    }
   ],
   "source": [
    "corpus_embeddings.shape"
   ]
  },
  {
   "cell_type": "code",
   "execution_count": 17,
   "metadata": {},
   "outputs": [
    {
     "data": {
      "image/png": "[encoded data removed]",
      "text/plain": [
       "<Figure size 800x600 with 1 Axes>"
      ]
     },
     "metadata": {},
     "output_type": "display_data"
    }
   ],
   "source": [
    "from sklearn.preprocessing import StandardScaler\n",
    "from sklearn.manifold import TSNE\n",
    "import matplotlib.pyplot as plt\n",
    "\n",
    "# 假设 corpus_embeddings 是你的数据，转换为 numpy 数组\n",
    "tensor_np = corpus_embeddings.cpu().numpy()\n",
    "\n",
    "# 标准化数据\n",
    "scaler = StandardScaler()\n",
    "tensor_np = scaler.fit_transform(tensor_np)\n",
    "\n",
    "# 使用t-SNE将数据降维到二维或三维\n",
    "tsne = TSNE(n_components=2, random_state=44)  # 这里将数据降到二维\n",
    "tensor_2d = tsne.fit_transform(tensor_np)\n",
    "\n",
    "# 可视化t-SNE降维结果\n",
    "plt.figure(figsize=(8, 6))\n",
    "plt.scatter(tensor_2d[:, 0], tensor_2d[:, 1], c='b', marker='o')\n",
    "plt.title('t-SNE Projection to 2D')\n",
    "plt.xlabel('t-SNE Component 1')\n",
    "plt.ylabel('t-SNE Component 2')\n",
    "plt.show()\n"
   ]
  },
  {
   "cell_type": "code",
   "execution_count": 18,
   "metadata": {},
   "outputs": [],
   "source": [
    "# from sklearn.preprocessing import StandardScaler\n",
    "# from sklearn.decomposition import PCA  # 导入PCA\n",
    "# import matplotlib.pyplot as plt\n",
    "\n",
    "# # 假设 corpus_embeddings 是你的数据，转换为 numpy 数组\n",
    "# tensor_np = corpus_embeddings.cpu().numpy()\n",
    "\n",
    "# # 标准化数据\n",
    "# scaler = StandardScaler()\n",
    "# tensor_np = scaler.fit_transform(tensor_np)\n",
    "\n",
    "# # 使用PCA将数据降维到二维\n",
    "# pca = PCA(n_components=2)  # 这里将数据降到二维\n",
    "# tensor_2d = pca.fit_transform(tensor_np)\n",
    "\n",
    "# # 可视化PCA降维结果\n",
    "# plt.figure(figsize=(8, 6))\n",
    "# plt.scatter(tensor_2d[:, 0], tensor_2d[:, 1], c='b', marker='o')\n",
    "# plt.title('PCA Projection to 2D')\n",
    "# plt.xlabel('PCA Component 1')\n",
    "# plt.ylabel('PCA Component 2')\n",
    "# plt.show()\n"
   ]
  },
  {
   "cell_type": "code",
   "execution_count": 19,
   "metadata": {},
   "outputs": [],
   "source": [
    "import json\n",
    "tool_types = json.load(open(\"/root/ProtAgent/funchub/tool_type.json\"))"
   ]
  },
  {
   "cell_type": "code",
   "execution_count": 20,
   "metadata": {},
   "outputs": [
    {
     "data": {
      "text/plain": [
       "{'Function': {'description': 'If you are asked to do some prediction task, use these tools. These tools are based on the ProteinLLM model, which is a large language model trained on protein sequences. And you can use the pretrained model to do abundant downstream tasks. The tasks include regression, mutation, pair regression, classification, token classification, and pair classification on specific biomedical tasks, such as stability prediction and fitness prediction. Also, you can finetune your own model to proceed a new task if you have enough data.',\n",
       "  'tools': ['saprot_regression',\n",
       "   'saprot_mutation',\n",
       "   'saprot_pair_regression',\n",
       "   'saprot_pair_classification',\n",
       "   'saprot_classification',\n",
       "   'saprot_token_classification',\n",
       "   'saprot_pair_classification',\n",
       "   'saprot_tune_regression',\n",
       "   'saprot_tune_pair_regression',\n",
       "   'saprot_tune_classification',\n",
       "   'saprot_tune_token_classification',\n",
       "   'saprot_tune_pair_classification',\n",
       "   'saprot_inference']},\n",
       " 'Structure': {'description': 'If you are asked to predict a protein structure according to its sequence, use these tools.',\n",
       "  'tools': ['alphafold2', 'esmfold', 'foldseek', 'tmalign']},\n",
       " 'Design': {'description': 'If you are asked to design a protein, use these tools. These tools are based on the Rosetta software suite, which is a powerful software suite for protein structure prediction and protein design. And you can use the pretrained model to do abundant specific design tasks. The tasks include binder design, conditional fold generation, motif scaffolding, partial diffusion, unconditional protein design, and sequence design.',\n",
       "  'tools': ['rf_diffusion_binder_design',\n",
       "   'rf_diffusion_motif_scaffolding',\n",
       "   'rf_diffusion_partial_diffusion',\n",
       "   'rf_diffusion_unconditional_protein_design',\n",
       "   'rf_diffusion_conditional_fold_generation',\n",
       "   'proteinmpnn',\n",
       "   'pinal',\n",
       "   'deepab',\n",
       "   'diffab_antigen_antibody',\n",
       "   'diffab_antigen_only',\n",
       "   'umol']},\n",
       " 'Database': {'description': 'If you are asked to do some protein related knowledge tasks, such as protein function prediction, protein family prediction, and protein structure prediction, use these tools.',\n",
       "  'tools': ['uniprot_fetch_sequence',\n",
       "   'uniprot_fetch_structure',\n",
       "   'uniprot_fetch_subsection']},\n",
       " 'Knowledge': {'description': 'If you are asked to do some protein related knowledge tasks, such as protein function prediction, protein family prediction, and protein structure prediction, use these tools.',\n",
       "  'tools': ['wikipedia', 'pfam_entry', 'pfam_match', 'biorxiv', 'pubmed']},\n",
       " 'Sequence': {'description': 'If you are asked to search for some protein related information, use these tools. They include searching for protein sequences, protein structures, protein functions, protein families, protein articles, and protein papers, and also some basic protein related concepts.',\n",
       "  'tools': ['blast',\n",
       "   'mmseqs_cluster',\n",
       "   'mmseqs_group',\n",
       "   'mmseqs_search',\n",
       "   'hhsearch',\n",
       "   'hhfilter',\n",
       "   'hhblits',\n",
       "   'hhmake',\n",
       "   'hmm_search',\n",
       "   'clustalw',\n",
       "   'hhalign']},\n",
       " 'Multimodal': {'description': 'If you are asked to search for some protein multimodal related information, use these tools. They include searching for protein multimodal sequences, protein multimodal structures, protein multimodal functions, protein multimodal families, protein multimodal articles, and protein multimodal papers, and also some basic protein multimodal related concepts.',\n",
       "  'tools': ['protrek_protein2text',\n",
       "   'protrek_text2protein',\n",
       "   'protrek_text2structure',\n",
       "   'protrek_protein2structure',\n",
       "   'protrek_structure2protein',\n",
       "   'protrek_structure2text',\n",
       "   'protrek_protein2protein',\n",
       "   'protrek_structure2structure',\n",
       "   'protrek_text2text',\n",
       "   'protein_chat_byid',\n",
       "   'protein_chat_byseq',\n",
       "   'protein_chat_bystruc']},\n",
       " 'Basic': {'description': 'These are basic utilities to smooth your work.',\n",
       "  'tools': ['ChatAction',\n",
       "   'PythonInterpreter',\n",
       "   'FastaOperator.save',\n",
       "   'FastaOperator.load',\n",
       "   'StructureOperator.visualize']}}"
      ]
     },
     "execution_count": 20,
     "metadata": {},
     "output_type": "execute_result"
    }
   ],
   "source": [
    "tool_types"
   ]
  },
  {
   "cell_type": "code",
   "execution_count": 21,
   "metadata": {},
   "outputs": [],
   "source": [
    "def find_tool_type(toolname):\n",
    "    for tool_type in tool_types:\n",
    "        if toolname.strip() in tool_types[tool_type]['tools']:\n",
    "            return tool_type\n",
    "    return \"unknown\""
   ]
  },
  {
   "cell_type": "code",
   "execution_count": 22,
   "metadata": {},
   "outputs": [
    {
     "data": {
      "text/plain": [
       "[' protrek_protein2text',\n",
       " ' protrek_text2protein',\n",
       " ' protrek_protein2structure',\n",
       " ' protrek_structure2protein',\n",
       " ' protrek_structure2text',\n",
       " ' protrek_text2structure',\n",
       " ' protrek_protein2protein',\n",
       " ' protrek_structure2structure',\n",
       " ' protrek_text2text',\n",
       " ' diffab_antigen_antibody',\n",
       " ' diffab_antigen_only',\n",
       " ' deepab',\n",
       " ' rf_diffusion_binder_design',\n",
       " ' rf_diffusion_conditional_fold_generation',\n",
       " ' rf_diffusion_motif_scaffolding',\n",
       " ' rf_diffusion_partial_diffusion',\n",
       " ' rf_diffusion_unconditional_protein_design',\n",
       " ' clustalw',\n",
       " ' foldseek',\n",
       " ' hmm_search',\n",
       " ' mmseqs_cluster',\n",
       " ' mmseqs_group',\n",
       " ' mmseqs_search',\n",
       " ' tmalign',\n",
       " ' hhblits',\n",
       " ' hhmake',\n",
       " ' hhsearch',\n",
       " ' hhfilter',\n",
       " ' hhalign',\n",
       " ' blast',\n",
       " ' wikipedia',\n",
       " ' saprot_pair_regression',\n",
       " ' umol',\n",
       " ' pfam_match',\n",
       " ' pfam_entry',\n",
       " ' saprot_mutation',\n",
       " ' alphafold2',\n",
       " ' esmfold',\n",
       " ' saprot_regression',\n",
       " ' saprot_inference',\n",
       " ' saprot_tune_pair_classification',\n",
       " ' saprot_tune_pair_regression',\n",
       " ' saprot_tune_classification',\n",
       " ' saprot_tune_regression',\n",
       " ' saprot_tune_token_classification',\n",
       " ' saprot_classification',\n",
       " ' proteinmpnn',\n",
       " ' uniprot_fetch_subsection',\n",
       " ' uniprot_fetch_sequence',\n",
       " ' uniprot_fetch_structure',\n",
       " ' saprot_pair_classification',\n",
       " ' protein_chat_byid',\n",
       " ' protein_chat_byseq',\n",
       " ' protein_chat_bystruc',\n",
       " ' pubmed',\n",
       " ' biorxiv',\n",
       " ' saprot_token_classification',\n",
       " ' pinal']"
      ]
     },
     "execution_count": 22,
     "metadata": {},
     "output_type": "execute_result"
    }
   ],
   "source": [
    "toolnames"
   ]
  },
  {
   "cell_type": "code",
   "execution_count": 23,
   "metadata": {},
   "outputs": [],
   "source": [
    "short_names = ['',\n",
    " 'ProTrek',\n",
    " '',\n",
    " '',\n",
    " 'ProTrek',\n",
    " 'ProTrek',\n",
    " 'ProTrek',\n",
    " 'ProTrek',\n",
    " '',\n",
    " '',\n",
    " 'DiffAb',\n",
    " 'DeepAb',\n",
    " '',\n",
    " 'RFDiffusion',\n",
    " 'RFDdiffusion',\n",
    " '',\n",
    " '',\n",
    " 'Clustalw',\n",
    " 'FoldSeek',\n",
    " 'HMMer',\n",
    " '',\n",
    " '',\n",
    " 'MMseqs2',\n",
    " 'TMAlign',\n",
    " 'HHblits',\n",
    " '',\n",
    " 'HHsearch',\n",
    " 'HHfilter',\n",
    " 'HHalign',\n",
    " 'BLAST',\n",
    " 'WikiPedia',\n",
    " '',\n",
    " 'Umol',\n",
    " '',\n",
    " 'Pfam',\n",
    " 'SaProt',\n",
    " 'AlphaFold2',\n",
    " 'ESMFold',\n",
    " 'SaProt',\n",
    " 'SaProt',\n",
    " 'SaProt Tune',\n",
    " '',\n",
    " '',\n",
    " '',\n",
    " 'SaProt Tune',\n",
    " '',\n",
    " 'ProteinMPNN',\n",
    " '',\n",
    " '',\n",
    " 'UniProt',\n",
    " '',\n",
    " '',\n",
    " '',\n",
    " 'Evolla',\n",
    " 'PubMed',\n",
    " '',\n",
    " 'SaProt',\n",
    " 'Pinal']"
   ]
  },
  {
   "cell_type": "code",
   "execution_count": 24,
   "metadata": {},
   "outputs": [
    {
     "data": {
      "text/plain": [
       "['Multimodal',\n",
       " 'Multimodal',\n",
       " 'Multimodal',\n",
       " 'Multimodal',\n",
       " 'Multimodal',\n",
       " 'Multimodal',\n",
       " 'Multimodal',\n",
       " 'Multimodal',\n",
       " 'Multimodal',\n",
       " 'Design',\n",
       " 'Design',\n",
       " 'Design',\n",
       " 'Design',\n",
       " 'Design',\n",
       " 'Design',\n",
       " 'Design',\n",
       " 'Design',\n",
       " 'Sequence',\n",
       " 'Structure',\n",
       " 'Sequence',\n",
       " 'Sequence',\n",
       " 'Sequence',\n",
       " 'Sequence',\n",
       " 'Structure',\n",
       " 'Sequence',\n",
       " 'Sequence',\n",
       " 'Sequence',\n",
       " 'Sequence',\n",
       " 'Sequence',\n",
       " 'Sequence',\n",
       " 'Knowledge',\n",
       " 'Function',\n",
       " 'Design',\n",
       " 'Knowledge',\n",
       " 'Knowledge',\n",
       " 'Function',\n",
       " 'Structure',\n",
       " 'Structure',\n",
       " 'Function',\n",
       " 'Function',\n",
       " 'Function',\n",
       " 'Function',\n",
       " 'Function',\n",
       " 'Function',\n",
       " 'Function',\n",
       " 'Function',\n",
       " 'Design',\n",
       " 'Database',\n",
       " 'Database',\n",
       " 'Database',\n",
       " 'Function',\n",
       " 'Multimodal',\n",
       " 'Multimodal',\n",
       " 'Multimodal',\n",
       " 'Knowledge',\n",
       " 'Knowledge',\n",
       " 'Function',\n",
       " 'Design']"
      ]
     },
     "execution_count": 24,
     "metadata": {},
     "output_type": "execute_result"
    }
   ],
   "source": [
    "groups = [find_tool_type(toolname) for toolname in toolnames]\n",
    "groups"
   ]
  },
  {
   "cell_type": "code",
   "execution_count": 25,
   "metadata": {},
   "outputs": [
    {
     "data": {
      "text/plain": [
       "{'antibody_design',\n",
       " 'binary',\n",
       " 'literature_search',\n",
       " 'pfam',\n",
       " 'pinal',\n",
       " 'protein_chat',\n",
       " 'protein_design',\n",
       " 'protein_ligand_structure_prediction',\n",
       " 'protein_sequence_design',\n",
       " 'protrek',\n",
       " 'saprot_classification',\n",
       " 'saprot_inference',\n",
       " 'saprot_mutation',\n",
       " 'saprot_pair_classification',\n",
       " 'saprot_pair_regression',\n",
       " 'saprot_regression',\n",
       " 'saprot_token_classification',\n",
       " 'saprot_tune',\n",
       " 'structure_prediction',\n",
       " 'uniprot',\n",
       " 'wikipedia'}"
      ]
     },
     "execution_count": 25,
     "metadata": {},
     "output_type": "execute_result"
    }
   ],
   "source": [
    "set(categories)"
   ]
  },
  {
   "cell_type": "code",
   "execution_count": 27,
   "metadata": {},
   "outputs": [
    {
     "data": {
      "application/vnd.plotly.v1+json": {
       "config": {
        "plotlyServerURL": "https://plot.ly"
       },
       "data": [
        {
         "fill": "toself",
         "fillcolor": "rgba(68, 1, 84, 0.3)",
         "line": {
          "width": 0
         },
         "marker": {
          "color": "#440154",
          "colorscale": [
           [
            0,
            "#440154"
           ],
           [
            0.1111111111111111,
            "#482878"
           ],
           [
            0.2222222222222222,
            "#3e4989"
           ],
           [
            0.3333333333333333,
            "#31688e"
           ],
           [
            0.4444444444444444,
            "#26828e"
           ],
           [
            0.5555555555555556,
            "#1f9e89"
           ],
           [
            0.6666666666666666,
            "#35b779"
           ],
           [
            0.7777777777777778,
            "#6ece58"
           ],
           [
            0.8888888888888888,
            "#b5de2b"
           ],
           [
            1,
            "#fde725"
           ]
          ],
          "opacity": 0.6,
          "size": 8
         },
         "name": "Multimodal",
         "showlegend": true,
         "type": "scatter",
         "x": [
          -1.8974439,
          -2.3271885,
          -2.9803348,
          -4.0027337,
          -3.9971879,
          -3.9137945,
          -2.0290651
         ],
         "y": [
          -1.6508614,
          -0.47927186,
          -0.90703154,
          -3.4633384,
          -3.5205896,
          -3.5345209,
          -1.9113674
         ]
        },
        {
         "fill": "toself",
         "fillcolor": "rgba(72, 40, 120, 0.3)",
         "line": {
          "width": 0
         },
         "marker": {
          "color": "#482878",
          "colorscale": [
           [
            0,
            "#440154"
           ],
           [
            0.1111111111111111,
            "#482878"
           ],
           [
            0.2222222222222222,
            "#3e4989"
           ],
           [
            0.3333333333333333,
            "#31688e"
           ],
           [
            0.4444444444444444,
            "#26828e"
           ],
           [
            0.5555555555555556,
            "#1f9e89"
           ],
           [
            0.6666666666666666,
            "#35b779"
           ],
           [
            0.7777777777777778,
            "#6ece58"
           ],
           [
            0.8888888888888888,
            "#b5de2b"
           ],
           [
            1,
            "#fde725"
           ]
          ],
          "opacity": 0.6,
          "size": 8
         },
         "name": "Database",
         "showlegend": true,
         "type": "scatter",
         "x": [
          -2.1896636,
          -2.3682804,
          -2.3025665
         ],
         "y": [
          -3.0953038,
          -3.1998403,
          -3.2024329
         ]
        },
        {
         "fill": "toself",
         "fillcolor": "rgba(62, 73, 137, 0.3)",
         "line": {
          "width": 0
         },
         "marker": {
          "color": "#3e4989",
          "colorscale": [
           [
            0,
            "#440154"
           ],
           [
            0.1111111111111111,
            "#482878"
           ],
           [
            0.2222222222222222,
            "#3e4989"
           ],
           [
            0.3333333333333333,
            "#31688e"
           ],
           [
            0.4444444444444444,
            "#26828e"
           ],
           [
            0.5555555555555556,
            "#1f9e89"
           ],
           [
            0.6666666666666666,
            "#35b779"
           ],
           [
            0.7777777777777778,
            "#6ece58"
           ],
           [
            0.8888888888888888,
            "#b5de2b"
           ],
           [
            1,
            "#fde725"
           ]
          ],
          "opacity": 0.6,
          "size": 8
         },
         "name": "Structure",
         "showlegend": true,
         "type": "scatter",
         "x": [
          -1.6083398,
          -1.4487818,
          -0.4924416,
          -0.55734074
         ],
         "y": [
          2.4255042,
          1.1999396,
          0.8529162,
          0.972178
         ]
        },
        {
         "fill": "toself",
         "fillcolor": "rgba(49, 104, 142, 0.3)",
         "line": {
          "width": 0
         },
         "marker": {
          "color": "#31688e",
          "colorscale": [
           [
            0,
            "#440154"
           ],
           [
            0.1111111111111111,
            "#482878"
           ],
           [
            0.2222222222222222,
            "#3e4989"
           ],
           [
            0.3333333333333333,
            "#31688e"
           ],
           [
            0.4444444444444444,
            "#26828e"
           ],
           [
            0.5555555555555556,
            "#1f9e89"
           ],
           [
            0.6666666666666666,
            "#35b779"
           ],
           [
            0.7777777777777778,
            "#6ece58"
           ],
           [
            0.8888888888888888,
            "#b5de2b"
           ],
           [
            1,
            "#fde725"
           ]
          ],
          "opacity": 0.6,
          "size": 8
         },
         "name": "Design",
         "showlegend": true,
         "type": "scatter",
         "x": [
          0.68608063,
          -0.7875402,
          -0.63763714,
          1.9922445,
          2.0865645
         ],
         "y": [
          0.116635285,
          -0.41211805,
          -1.3925529,
          -1.6689719,
          -1.1874921
         ]
        },
        {
         "fill": "toself",
         "fillcolor": "rgba(38, 130, 142, 0.3)",
         "line": {
          "width": 0
         },
         "marker": {
          "color": "#26828e",
          "colorscale": [
           [
            0,
            "#440154"
           ],
           [
            0.1111111111111111,
            "#482878"
           ],
           [
            0.2222222222222222,
            "#3e4989"
           ],
           [
            0.3333333333333333,
            "#31688e"
           ],
           [
            0.4444444444444444,
            "#26828e"
           ],
           [
            0.5555555555555556,
            "#1f9e89"
           ],
           [
            0.6666666666666666,
            "#35b779"
           ],
           [
            0.7777777777777778,
            "#6ece58"
           ],
           [
            0.8888888888888888,
            "#b5de2b"
           ],
           [
            1,
            "#fde725"
           ]
          ],
          "opacity": 0.6,
          "size": 8
         },
         "name": "Knowledge",
         "showlegend": true,
         "type": "scatter",
         "x": [
          -4.7743053,
          -5.59599,
          -4.1580243,
          -3.7069767
         ],
         "y": [
          -1.2710834,
          -1.8358082,
          -1.9598984,
          -1.9629058
         ]
        },
        {
         "fill": "toself",
         "fillcolor": "rgba(31, 158, 137, 0.3)",
         "line": {
          "width": 0
         },
         "marker": {
          "color": "#1f9e89",
          "colorscale": [
           [
            0,
            "#440154"
           ],
           [
            0.1111111111111111,
            "#482878"
           ],
           [
            0.2222222222222222,
            "#3e4989"
           ],
           [
            0.3333333333333333,
            "#31688e"
           ],
           [
            0.4444444444444444,
            "#26828e"
           ],
           [
            0.5555555555555556,
            "#1f9e89"
           ],
           [
            0.6666666666666666,
            "#35b779"
           ],
           [
            0.7777777777777778,
            "#6ece58"
           ],
           [
            0.8888888888888888,
            "#b5de2b"
           ],
           [
            1,
            "#fde725"
           ]
          ],
          "opacity": 0.6,
          "size": 8
         },
         "name": "Function",
         "showlegend": true,
         "type": "scatter",
         "x": [
          1.1438829,
          0.77875406,
          0.2224138,
          -0.1355062,
          -0.81880605,
          0.31863353
         ],
         "y": [
          -4.366206,
          -3.0368125,
          -2.941343,
          -3.1799579,
          -4.9192486,
          -4.7133636
         ]
        },
        {
         "fill": "toself",
         "fillcolor": "rgba(53, 183, 121, 0.3)",
         "line": {
          "width": 0
         },
         "marker": {
          "color": "#35b779",
          "colorscale": [
           [
            0,
            "#440154"
           ],
           [
            0.1111111111111111,
            "#482878"
           ],
           [
            0.2222222222222222,
            "#3e4989"
           ],
           [
            0.3333333333333333,
            "#31688e"
           ],
           [
            0.4444444444444444,
            "#26828e"
           ],
           [
            0.5555555555555556,
            "#1f9e89"
           ],
           [
            0.6666666666666666,
            "#35b779"
           ],
           [
            0.7777777777777778,
            "#6ece58"
           ],
           [
            0.8888888888888888,
            "#b5de2b"
           ],
           [
            1,
            "#fde725"
           ]
          ],
          "opacity": 0.6,
          "size": 8
         },
         "name": "Sequence",
         "showlegend": true,
         "type": "scatter",
         "x": [
          -5.4952183,
          -4.656782,
          -3.2170856,
          -2.1934516,
          -5.0964932
         ],
         "y": [
          1.6632357,
          0.7685605,
          1.2333848,
          2.601972,
          2.0509837
         ]
        },
        {
         "hoverinfo": "text",
         "marker": {
          "color": [
           "#440154",
           "#440154",
           "#440154",
           "#440154",
           "#440154",
           "#440154",
           "#440154",
           "#440154",
           "#440154",
           "#31688e",
           "#31688e",
           "#31688e",
           "#31688e",
           "#31688e",
           "#31688e",
           "#31688e",
           "#31688e",
           "#35b779",
           "#3e4989",
           "#35b779",
           "#35b779",
           "#35b779",
           "#35b779",
           "#3e4989",
           "#35b779",
           "#35b779",
           "#35b779",
           "#35b779",
           "#35b779",
           "#35b779",
           "#26828e",
           "#1f9e89",
           "#31688e",
           "#26828e",
           "#26828e",
           "#1f9e89",
           "#3e4989",
           "#3e4989",
           "#1f9e89",
           "#1f9e89",
           "#1f9e89",
           "#1f9e89",
           "#1f9e89",
           "#1f9e89",
           "#1f9e89",
           "#1f9e89",
           "#31688e",
           "#482878",
           "#482878",
           "#482878",
           "#1f9e89",
           "#440154",
           "#440154",
           "#440154",
           "#26828e",
           "#26828e",
           "#1f9e89",
           "#31688e"
          ],
          "colorscale": [
           [
            0,
            "#440154"
           ],
           [
            0.1111111111111111,
            "#482878"
           ],
           [
            0.2222222222222222,
            "#3e4989"
           ],
           [
            0.3333333333333333,
            "#31688e"
           ],
           [
            0.4444444444444444,
            "#26828e"
           ],
           [
            0.5555555555555556,
            "#1f9e89"
           ],
           [
            0.6666666666666666,
            "#35b779"
           ],
           [
            0.7777777777777778,
            "#6ece58"
           ],
           [
            0.8888888888888888,
            "#b5de2b"
           ],
           [
            1,
            "#fde725"
           ]
          ],
          "opacity": 0.6,
          "size": 8
         },
         "mode": "markers+text",
         "showlegend": false,
         "text": [
          "",
          "ProTrek",
          "",
          "",
          "ProTrek",
          "ProTrek",
          "ProTrek",
          "ProTrek",
          "",
          "",
          "DiffAb",
          "DeepAb",
          "",
          "RFDiffusion",
          "RFDdiffusion",
          "",
          "",
          "Clustalw",
          "FoldSeek",
          "HMMer",
          "",
          "",
          "MMseqs2",
          "TMAlign",
          "HHblits",
          "",
          "HHsearch",
          "HHfilter",
          "HHalign",
          "BLAST",
          "WikiPedia",
          "",
          "Umol",
          "",
          "Pfam",
          "SaProt",
          "AlphaFold2",
          "ESMFold",
          "SaProt",
          "SaProt",
          "SaProt Tune",
          "",
          "",
          "",
          "SaProt Tune",
          "",
          "ProteinMPNN",
          "",
          "",
          "UniProt",
          "",
          "",
          "",
          "Evolla",
          "PubMed",
          "",
          "SaProt",
          "Pinal"
         ],
         "textfont": {
          "size": 12
         },
         "textposition": "bottom center",
         "type": "scatter",
         "x": [
          -2.2956939,
          -2.786077,
          -2.2580807,
          -2.4572425,
          -1.8974439,
          -2.1354449,
          -2.9803348,
          -2.3271885,
          -2.0290651,
          1.9703443,
          1.9922445,
          2.0865645,
          1.0371042,
          0.68608063,
          0.8446381,
          0.90931493,
          0.8222111,
          -2.1934516,
          -1.4487818,
          -4.656782,
          -3.2196376,
          -3.2170856,
          -3.3199143,
          -1.6083398,
          -4.4869013,
          -5.32988,
          -4.874333,
          -5.0964932,
          -5.4952183,
          -2.8885958,
          -4.7743053,
          0.31863353,
          -0.7875402,
          -3.7069767,
          -4.1580243,
          -0.81880605,
          -0.4924416,
          -0.55734074,
          0.24043426,
          1.1438829,
          0.77875406,
          0.8442563,
          0.2224138,
          0.5611541,
          -0.1355062,
          -0.051788688,
          -0.5026763,
          -2.1896636,
          -2.3682804,
          -2.3025665,
          0.14606786,
          -3.9137945,
          -4.0027337,
          -3.9971879,
          -5.582673,
          -5.59599,
          -0.40276894,
          -0.63763714
         ],
         "y": [
          -1.7977566,
          -1.2528987,
          -0.7264303,
          -0.62980825,
          -1.6508614,
          -1.1276695,
          -0.90703154,
          -0.47927186,
          -1.9113674,
          -1.6507,
          -1.6689719,
          -1.1874921,
          -0.47990248,
          0.116635285,
          -0.5662402,
          -0.4367137,
          -0.4503014,
          2.601972,
          1.1999396,
          0.7685605,
          1.2416947,
          1.2333848,
          1.5242729,
          2.4255042,
          2.1226497,
          1.7287337,
          1.0076793,
          2.0509837,
          1.6632357,
          2.2095385,
          -1.2710834,
          -4.7133636,
          -0.41211805,
          -1.9629058,
          -1.9598984,
          -4.9192486,
          0.8529162,
          0.972178,
          -4.6172004,
          -4.366206,
          -3.0368125,
          -3.2770767,
          -2.941343,
          -3.1860902,
          -3.1799579,
          -4.2780886,
          -0.6180963,
          -3.0953038,
          -3.1998403,
          -3.2024329,
          -4.4188995,
          -3.5345209,
          -3.4633384,
          -3.5205896,
          -1.8312167,
          -1.8358082,
          -3.9848921,
          -1.3925529
         ]
        }
       ],
       "layout": {
        "autosize": true,
        "height": 600,
        "paper_bgcolor": "rgba(0, 0, 0, 0)",
        "plot_bgcolor": "rgba(0, 0, 0, 0)",
        "template": {
         "data": {
          "bar": [
           {
            "error_x": {
             "color": "#2a3f5f"
            },
            "error_y": {
             "color": "#2a3f5f"
            },
            "marker": {
             "line": {
              "color": "#E5ECF6",
              "width": 0.5
             },
             "pattern": {
              "fillmode": "overlay",
              "size": 10,
              "solidity": 0.2
             }
            },
            "type": "bar"
           }
          ],
          "barpolar": [
           {
            "marker": {
             "line": {
              "color": "#E5ECF6",
              "width": 0.5
             },
             "pattern": {
              "fillmode": "overlay",
              "size": 10,
              "solidity": 0.2
             }
            },
            "type": "barpolar"
           }
          ],
          "carpet": [
           {
            "aaxis": {
             "endlinecolor": "#2a3f5f",
             "gridcolor": "white",
             "linecolor": "white",
             "minorgridcolor": "white",
             "startlinecolor": "#2a3f5f"
            },
            "baxis": {
             "endlinecolor": "#2a3f5f",
             "gridcolor": "white",
             "linecolor": "white",
             "minorgridcolor": "white",
             "startlinecolor": "#2a3f5f"
            },
            "type": "carpet"
           }
          ],
          "choropleth": [
           {
            "colorbar": {
             "outlinewidth": 0,
             "ticks": ""
            },
            "type": "choropleth"
           }
          ],
          "contour": [
           {
            "colorbar": {
             "outlinewidth": 0,
             "ticks": ""
            },
            "colorscale": [
             [
              0,
              "#0d0887"
             ],
             [
              0.1111111111111111,
              "#46039f"
             ],
             [
              0.2222222222222222,
              "#7201a8"
             ],
             [
              0.3333333333333333,
              "#9c179e"
             ],
             [
              0.4444444444444444,
              "#bd3786"
             ],
             [
              0.5555555555555556,
              "#d8576b"
             ],
             [
              0.6666666666666666,
              "#ed7953"
             ],
             [
              0.7777777777777778,
              "#fb9f3a"
             ],
             [
              0.8888888888888888,
              "#fdca26"
             ],
             [
              1,
              "#f0f921"
             ]
            ],
            "type": "contour"
           }
          ],
          "contourcarpet": [
           {
            "colorbar": {
             "outlinewidth": 0,
             "ticks": ""
            },
            "type": "contourcarpet"
           }
          ],
          "heatmap": [
           {
            "colorbar": {
             "outlinewidth": 0,
             "ticks": ""
            },
            "colorscale": [
             [
              0,
              "#0d0887"
             ],
             [
              0.1111111111111111,
              "#46039f"
             ],
             [
              0.2222222222222222,
              "#7201a8"
             ],
             [
              0.3333333333333333,
              "#9c179e"
             ],
             [
              0.4444444444444444,
              "#bd3786"
             ],
             [
              0.5555555555555556,
              "#d8576b"
             ],
             [
              0.6666666666666666,
              "#ed7953"
             ],
             [
              0.7777777777777778,
              "#fb9f3a"
             ],
             [
              0.8888888888888888,
              "#fdca26"
             ],
             [
              1,
              "#f0f921"
             ]
            ],
            "type": "heatmap"
           }
          ],
          "heatmapgl": [
           {
            "colorbar": {
             "outlinewidth": 0,
             "ticks": ""
            },
            "colorscale": [
             [
              0,
              "#0d0887"
             ],
             [
              0.1111111111111111,
              "#46039f"
             ],
             [
              0.2222222222222222,
              "#7201a8"
             ],
             [
              0.3333333333333333,
              "#9c179e"
             ],
             [
              0.4444444444444444,
              "#bd3786"
             ],
             [
              0.5555555555555556,
              "#d8576b"
             ],
             [
              0.6666666666666666,
              "#ed7953"
             ],
             [
              0.7777777777777778,
              "#fb9f3a"
             ],
             [
              0.8888888888888888,
              "#fdca26"
             ],
             [
              1,
              "#f0f921"
             ]
            ],
            "type": "heatmapgl"
           }
          ],
          "histogram": [
           {
            "marker": {
             "pattern": {
              "fillmode": "overlay",
              "size": 10,
              "solidity": 0.2
             }
            },
            "type": "histogram"
           }
          ],
          "histogram2d": [
           {
            "colorbar": {
             "outlinewidth": 0,
             "ticks": ""
            },
            "colorscale": [
             [
              0,
              "#0d0887"
             ],
             [
              0.1111111111111111,
              "#46039f"
             ],
             [
              0.2222222222222222,
              "#7201a8"
             ],
             [
              0.3333333333333333,
              "#9c179e"
             ],
             [
              0.4444444444444444,
              "#bd3786"
             ],
             [
              0.5555555555555556,
              "#d8576b"
             ],
             [
              0.6666666666666666,
              "#ed7953"
             ],
             [
              0.7777777777777778,
              "#fb9f3a"
             ],
             [
              0.8888888888888888,
              "#fdca26"
             ],
             [
              1,
              "#f0f921"
             ]
            ],
            "type": "histogram2d"
           }
          ],
          "histogram2dcontour": [
           {
            "colorbar": {
             "outlinewidth": 0,
             "ticks": ""
            },
            "colorscale": [
             [
              0,
              "#0d0887"
             ],
             [
              0.1111111111111111,
              "#46039f"
             ],
             [
              0.2222222222222222,
              "#7201a8"
             ],
             [
              0.3333333333333333,
              "#9c179e"
             ],
             [
              0.4444444444444444,
              "#bd3786"
             ],
             [
              0.5555555555555556,
              "#d8576b"
             ],
             [
              0.6666666666666666,
              "#ed7953"
             ],
             [
              0.7777777777777778,
              "#fb9f3a"
             ],
             [
              0.8888888888888888,
              "#fdca26"
             ],
             [
              1,
              "#f0f921"
             ]
            ],
            "type": "histogram2dcontour"
           }
          ],
          "mesh3d": [
           {
            "colorbar": {
             "outlinewidth": 0,
             "ticks": ""
            },
            "type": "mesh3d"
           }
          ],
          "parcoords": [
           {
            "line": {
             "colorbar": {
              "outlinewidth": 0,
              "ticks": ""
             }
            },
            "type": "parcoords"
           }
          ],
          "pie": [
           {
            "automargin": true,
            "type": "pie"
           }
          ],
          "scatter": [
           {
            "fillpattern": {
             "fillmode": "overlay",
             "size": 10,
             "solidity": 0.2
            },
            "type": "scatter"
           }
          ],
          "scatter3d": [
           {
            "line": {
             "colorbar": {
              "outlinewidth": 0,
              "ticks": ""
             }
            },
            "marker": {
             "colorbar": {
              "outlinewidth": 0,
              "ticks": ""
             }
            },
            "type": "scatter3d"
           }
          ],
          "scattercarpet": [
           {
            "marker": {
             "colorbar": {
              "outlinewidth": 0,
              "ticks": ""
             }
            },
            "type": "scattercarpet"
           }
          ],
          "scattergeo": [
           {
            "marker": {
             "colorbar": {
              "outlinewidth": 0,
              "ticks": ""
             }
            },
            "type": "scattergeo"
           }
          ],
          "scattergl": [
           {
            "marker": {
             "colorbar": {
              "outlinewidth": 0,
              "ticks": ""
             }
            },
            "type": "scattergl"
           }
          ],
          "scattermapbox": [
           {
            "marker": {
             "colorbar": {
              "outlinewidth": 0,
              "ticks": ""
             }
            },
            "type": "scattermapbox"
           }
          ],
          "scatterpolar": [
           {
            "marker": {
             "colorbar": {
              "outlinewidth": 0,
              "ticks": ""
             }
            },
            "type": "scatterpolar"
           }
          ],
          "scatterpolargl": [
           {
            "marker": {
             "colorbar": {
              "outlinewidth": 0,
              "ticks": ""
             }
            },
            "type": "scatterpolargl"
           }
          ],
          "scatterternary": [
           {
            "marker": {
             "colorbar": {
              "outlinewidth": 0,
              "ticks": ""
             }
            },
            "type": "scatterternary"
           }
          ],
          "surface": [
           {
            "colorbar": {
             "outlinewidth": 0,
             "ticks": ""
            },
            "colorscale": [
             [
              0,
              "#0d0887"
             ],
             [
              0.1111111111111111,
              "#46039f"
             ],
             [
              0.2222222222222222,
              "#7201a8"
             ],
             [
              0.3333333333333333,
              "#9c179e"
             ],
             [
              0.4444444444444444,
              "#bd3786"
             ],
             [
              0.5555555555555556,
              "#d8576b"
             ],
             [
              0.6666666666666666,
              "#ed7953"
             ],
             [
              0.7777777777777778,
              "#fb9f3a"
             ],
             [
              0.8888888888888888,
              "#fdca26"
             ],
             [
              1,
              "#f0f921"
             ]
            ],
            "type": "surface"
           }
          ],
          "table": [
           {
            "cells": {
             "fill": {
              "color": "#EBF0F8"
             },
             "line": {
              "color": "white"
             }
            },
            "header": {
             "fill": {
              "color": "#C8D4E3"
             },
             "line": {
              "color": "white"
             }
            },
            "type": "table"
           }
          ]
         },
         "layout": {
          "annotationdefaults": {
           "arrowcolor": "#2a3f5f",
           "arrowhead": 0,
           "arrowwidth": 1
          },
          "autotypenumbers": "strict",
          "coloraxis": {
           "colorbar": {
            "outlinewidth": 0,
            "ticks": ""
           }
          },
          "colorscale": {
           "diverging": [
            [
             0,
             "#8e0152"
            ],
            [
             0.1,
             "#c51b7d"
            ],
            [
             0.2,
             "#de77ae"
            ],
            [
             0.3,
             "#f1b6da"
            ],
            [
             0.4,
             "#fde0ef"
            ],
            [
             0.5,
             "#f7f7f7"
            ],
            [
             0.6,
             "#e6f5d0"
            ],
            [
             0.7,
             "#b8e186"
            ],
            [
             0.8,
             "#7fbc41"
            ],
            [
             0.9,
             "#4d9221"
            ],
            [
             1,
             "#276419"
            ]
           ],
           "sequential": [
            [
             0,
             "#0d0887"
            ],
            [
             0.1111111111111111,
             "#46039f"
            ],
            [
             0.2222222222222222,
             "#7201a8"
            ],
            [
             0.3333333333333333,
             "#9c179e"
            ],
            [
             0.4444444444444444,
             "#bd3786"
            ],
            [
             0.5555555555555556,
             "#d8576b"
            ],
            [
             0.6666666666666666,
             "#ed7953"
            ],
            [
             0.7777777777777778,
             "#fb9f3a"
            ],
            [
             0.8888888888888888,
             "#fdca26"
            ],
            [
             1,
             "#f0f921"
            ]
           ],
           "sequentialminus": [
            [
             0,
             "#0d0887"
            ],
            [
             0.1111111111111111,
             "#46039f"
            ],
            [
             0.2222222222222222,
             "#7201a8"
            ],
            [
             0.3333333333333333,
             "#9c179e"
            ],
            [
             0.4444444444444444,
             "#bd3786"
            ],
            [
             0.5555555555555556,
             "#d8576b"
            ],
            [
             0.6666666666666666,
             "#ed7953"
            ],
            [
             0.7777777777777778,
             "#fb9f3a"
            ],
            [
             0.8888888888888888,
             "#fdca26"
            ],
            [
             1,
             "#f0f921"
            ]
           ]
          },
          "colorway": [
           "#636efa",
           "#EF553B",
           "#00cc96",
           "#ab63fa",
           "#FFA15A",
           "#19d3f3",
           "#FF6692",
           "#B6E880",
           "#FF97FF",
           "#FECB52"
          ],
          "font": {
           "color": "#2a3f5f"
          },
          "geo": {
           "bgcolor": "white",
           "lakecolor": "white",
           "landcolor": "#E5ECF6",
           "showlakes": true,
           "showland": true,
           "subunitcolor": "white"
          },
          "hoverlabel": {
           "align": "left"
          },
          "hovermode": "closest",
          "mapbox": {
           "style": "light"
          },
          "paper_bgcolor": "white",
          "plot_bgcolor": "#E5ECF6",
          "polar": {
           "angularaxis": {
            "gridcolor": "white",
            "linecolor": "white",
            "ticks": ""
           },
           "bgcolor": "#E5ECF6",
           "radialaxis": {
            "gridcolor": "white",
            "linecolor": "white",
            "ticks": ""
           }
          },
          "scene": {
           "xaxis": {
            "backgroundcolor": "#E5ECF6",
            "gridcolor": "white",
            "gridwidth": 2,
            "linecolor": "white",
            "showbackground": true,
            "ticks": "",
            "zerolinecolor": "white"
           },
           "yaxis": {
            "backgroundcolor": "#E5ECF6",
            "gridcolor": "white",
            "gridwidth": 2,
            "linecolor": "white",
            "showbackground": true,
            "ticks": "",
            "zerolinecolor": "white"
           },
           "zaxis": {
            "backgroundcolor": "#E5ECF6",
            "gridcolor": "white",
            "gridwidth": 2,
            "linecolor": "white",
            "showbackground": true,
            "ticks": "",
            "zerolinecolor": "white"
           }
          },
          "shapedefaults": {
           "line": {
            "color": "#2a3f5f"
           }
          },
          "ternary": {
           "aaxis": {
            "gridcolor": "white",
            "linecolor": "white",
            "ticks": ""
           },
           "baxis": {
            "gridcolor": "white",
            "linecolor": "white",
            "ticks": ""
           },
           "bgcolor": "#E5ECF6",
           "caxis": {
            "gridcolor": "white",
            "linecolor": "white",
            "ticks": ""
           }
          },
          "title": {
           "x": 0.05
          },
          "xaxis": {
           "automargin": true,
           "gridcolor": "white",
           "linecolor": "white",
           "ticks": "",
           "title": {
            "standoff": 15
           },
           "zerolinecolor": "white",
           "zerolinewidth": 2
          },
          "yaxis": {
           "automargin": true,
           "gridcolor": "white",
           "linecolor": "white",
           "ticks": "",
           "title": {
            "standoff": 15
           },
           "zerolinecolor": "white",
           "zerolinewidth": 2
          }
         }
        },
        "width": 800,
        "xaxis": {
         "autorange": "reversed",
         "visible": false
        },
        "yaxis": {
         "visible": false
        }
       }
      },
      "text/html": [
       "<div>                            <div id=\"1b130c46-a478-4010-96bf-1a2c4e3230cf\" class=\"plotly-graph-div\" style=\"height:600px; width:800px;\"></div>            <script type=\"text/javascript\">                require([\"plotly\"], function(Plotly) {                    window.PLOTLYENV=window.PLOTLYENV || {};                                    if (document.getElementById(\"1b130c46-a478-4010-96bf-1a2c4e3230cf\")) {                    Plotly.newPlot(                        \"1b130c46-a478-4010-96bf-1a2c4e3230cf\",                        [{\"fill\":\"toself\",\"fillcolor\":\"rgba(68, 1, 84, 0.3)\",\"line\":{\"width\":0},\"marker\":{\"color\":\"#440154\",\"colorscale\":[[0.0,\"#440154\"],[0.1111111111111111,\"#482878\"],[0.2222222222222222,\"#3e4989\"],[0.3333333333333333,\"#31688e\"],[0.4444444444444444,\"#26828e\"],[0.5555555555555556,\"#1f9e89\"],[0.6666666666666666,\"#35b779\"],[0.7777777777777778,\"#6ece58\"],[0.8888888888888888,\"#b5de2b\"],[1.0,\"#fde725\"]],\"opacity\":0.6,\"size\":8},\"name\":\"Multimodal\",\"showlegend\":true,\"x\":[-1.8974439,-2.3271885,-2.9803348,-4.0027337,-3.9971879,-3.9137945,-2.0290651],\"y\":[-1.6508614,-0.47927186,-0.90703154,-3.4633384,-3.5205896,-3.5345209,-1.9113674],\"type\":\"scatter\"},{\"fill\":\"toself\",\"fillcolor\":\"rgba(72, 40, 120, 0.3)\",\"line\":{\"width\":0},\"marker\":{\"color\":\"#482878\",\"colorscale\":[[0.0,\"#440154\"],[0.1111111111111111,\"#482878\"],[0.2222222222222222,\"#3e4989\"],[0.3333333333333333,\"#31688e\"],[0.4444444444444444,\"#26828e\"],[0.5555555555555556,\"#1f9e89\"],[0.6666666666666666,\"#35b779\"],[0.7777777777777778,\"#6ece58\"],[0.8888888888888888,\"#b5de2b\"],[1.0,\"#fde725\"]],\"opacity\":0.6,\"size\":8},\"name\":\"Database\",\"showlegend\":true,\"x\":[-2.1896636,-2.3682804,-2.3025665],\"y\":[-3.0953038,-3.1998403,-3.2024329],\"type\":\"scatter\"},{\"fill\":\"toself\",\"fillcolor\":\"rgba(62, 73, 137, 0.3)\",\"line\":{\"width\":0},\"marker\":{\"color\":\"#3e4989\",\"colorscale\":[[0.0,\"#440154\"],[0.1111111111111111,\"#482878\"],[0.2222222222222222,\"#3e4989\"],[0.3333333333333333,\"#31688e\"],[0.4444444444444444,\"#26828e\"],[0.5555555555555556,\"#1f9e89\"],[0.6666666666666666,\"#35b779\"],[0.7777777777777778,\"#6ece58\"],[0.8888888888888888,\"#b5de2b\"],[1.0,\"#fde725\"]],\"opacity\":0.6,\"size\":8},\"name\":\"Structure\",\"showlegend\":true,\"x\":[-1.6083398,-1.4487818,-0.4924416,-0.55734074],\"y\":[2.4255042,1.1999396,0.8529162,0.972178],\"type\":\"scatter\"},{\"fill\":\"toself\",\"fillcolor\":\"rgba(49, 104, 142, 0.3)\",\"line\":{\"width\":0},\"marker\":{\"color\":\"#31688e\",\"colorscale\":[[0.0,\"#440154\"],[0.1111111111111111,\"#482878\"],[0.2222222222222222,\"#3e4989\"],[0.3333333333333333,\"#31688e\"],[0.4444444444444444,\"#26828e\"],[0.5555555555555556,\"#1f9e89\"],[0.6666666666666666,\"#35b779\"],[0.7777777777777778,\"#6ece58\"],[0.8888888888888888,\"#b5de2b\"],[1.0,\"#fde725\"]],\"opacity\":0.6,\"size\":8},\"name\":\"Design\",\"showlegend\":true,\"x\":[0.68608063,-0.7875402,-0.63763714,1.9922445,2.0865645],\"y\":[0.116635285,-0.41211805,-1.3925529,-1.6689719,-1.1874921],\"type\":\"scatter\"},{\"fill\":\"toself\",\"fillcolor\":\"rgba(38, 130, 142, 0.3)\",\"line\":{\"width\":0},\"marker\":{\"color\":\"#26828e\",\"colorscale\":[[0.0,\"#440154\"],[0.1111111111111111,\"#482878\"],[0.2222222222222222,\"#3e4989\"],[0.3333333333333333,\"#31688e\"],[0.4444444444444444,\"#26828e\"],[0.5555555555555556,\"#1f9e89\"],[0.6666666666666666,\"#35b779\"],[0.7777777777777778,\"#6ece58\"],[0.8888888888888888,\"#b5de2b\"],[1.0,\"#fde725\"]],\"opacity\":0.6,\"size\":8},\"name\":\"Knowledge\",\"showlegend\":true,\"x\":[-4.7743053,-5.59599,-4.1580243,-3.7069767],\"y\":[-1.2710834,-1.8358082,-1.9598984,-1.9629058],\"type\":\"scatter\"},{\"fill\":\"toself\",\"fillcolor\":\"rgba(31, 158, 137, 0.3)\",\"line\":{\"width\":0},\"marker\":{\"color\":\"#1f9e89\",\"colorscale\":[[0.0,\"#440154\"],[0.1111111111111111,\"#482878\"],[0.2222222222222222,\"#3e4989\"],[0.3333333333333333,\"#31688e\"],[0.4444444444444444,\"#26828e\"],[0.5555555555555556,\"#1f9e89\"],[0.6666666666666666,\"#35b779\"],[0.7777777777777778,\"#6ece58\"],[0.8888888888888888,\"#b5de2b\"],[1.0,\"#fde725\"]],\"opacity\":0.6,\"size\":8},\"name\":\"Function\",\"showlegend\":true,\"x\":[1.1438829,0.77875406,0.2224138,-0.1355062,-0.81880605,0.31863353],\"y\":[-4.366206,-3.0368125,-2.941343,-3.1799579,-4.9192486,-4.7133636],\"type\":\"scatter\"},{\"fill\":\"toself\",\"fillcolor\":\"rgba(53, 183, 121, 0.3)\",\"line\":{\"width\":0},\"marker\":{\"color\":\"#35b779\",\"colorscale\":[[0.0,\"#440154\"],[0.1111111111111111,\"#482878\"],[0.2222222222222222,\"#3e4989\"],[0.3333333333333333,\"#31688e\"],[0.4444444444444444,\"#26828e\"],[0.5555555555555556,\"#1f9e89\"],[0.6666666666666666,\"#35b779\"],[0.7777777777777778,\"#6ece58\"],[0.8888888888888888,\"#b5de2b\"],[1.0,\"#fde725\"]],\"opacity\":0.6,\"size\":8},\"name\":\"Sequence\",\"showlegend\":true,\"x\":[-5.4952183,-4.656782,-3.2170856,-2.1934516,-5.0964932],\"y\":[1.6632357,0.7685605,1.2333848,2.601972,2.0509837],\"type\":\"scatter\"},{\"hoverinfo\":\"text\",\"marker\":{\"color\":[\"#440154\",\"#440154\",\"#440154\",\"#440154\",\"#440154\",\"#440154\",\"#440154\",\"#440154\",\"#440154\",\"#31688e\",\"#31688e\",\"#31688e\",\"#31688e\",\"#31688e\",\"#31688e\",\"#31688e\",\"#31688e\",\"#35b779\",\"#3e4989\",\"#35b779\",\"#35b779\",\"#35b779\",\"#35b779\",\"#3e4989\",\"#35b779\",\"#35b779\",\"#35b779\",\"#35b779\",\"#35b779\",\"#35b779\",\"#26828e\",\"#1f9e89\",\"#31688e\",\"#26828e\",\"#26828e\",\"#1f9e89\",\"#3e4989\",\"#3e4989\",\"#1f9e89\",\"#1f9e89\",\"#1f9e89\",\"#1f9e89\",\"#1f9e89\",\"#1f9e89\",\"#1f9e89\",\"#1f9e89\",\"#31688e\",\"#482878\",\"#482878\",\"#482878\",\"#1f9e89\",\"#440154\",\"#440154\",\"#440154\",\"#26828e\",\"#26828e\",\"#1f9e89\",\"#31688e\"],\"colorscale\":[[0.0,\"#440154\"],[0.1111111111111111,\"#482878\"],[0.2222222222222222,\"#3e4989\"],[0.3333333333333333,\"#31688e\"],[0.4444444444444444,\"#26828e\"],[0.5555555555555556,\"#1f9e89\"],[0.6666666666666666,\"#35b779\"],[0.7777777777777778,\"#6ece58\"],[0.8888888888888888,\"#b5de2b\"],[1.0,\"#fde725\"]],\"opacity\":0.6,\"size\":8},\"mode\":\"markers+text\",\"showlegend\":false,\"text\":[\"\",\"ProTrek\",\"\",\"\",\"ProTrek\",\"ProTrek\",\"ProTrek\",\"ProTrek\",\"\",\"\",\"DiffAb\",\"DeepAb\",\"\",\"RFDiffusion\",\"RFDdiffusion\",\"\",\"\",\"Clustalw\",\"FoldSeek\",\"HMMer\",\"\",\"\",\"MMseqs2\",\"TMAlign\",\"HHblits\",\"\",\"HHsearch\",\"HHfilter\",\"HHalign\",\"BLAST\",\"WikiPedia\",\"\",\"Umol\",\"\",\"Pfam\",\"SaProt\",\"AlphaFold2\",\"ESMFold\",\"SaProt\",\"SaProt\",\"SaProt Tune\",\"\",\"\",\"\",\"SaProt Tune\",\"\",\"ProteinMPNN\",\"\",\"\",\"UniProt\",\"\",\"\",\"\",\"Evolla\",\"PubMed\",\"\",\"SaProt\",\"Pinal\"],\"textfont\":{\"size\":12},\"textposition\":\"bottom center\",\"x\":[-2.2956939,-2.786077,-2.2580807,-2.4572425,-1.8974439,-2.1354449,-2.9803348,-2.3271885,-2.0290651,1.9703443,1.9922445,2.0865645,1.0371042,0.68608063,0.8446381,0.90931493,0.8222111,-2.1934516,-1.4487818,-4.656782,-3.2196376,-3.2170856,-3.3199143,-1.6083398,-4.4869013,-5.32988,-4.874333,-5.0964932,-5.4952183,-2.8885958,-4.7743053,0.31863353,-0.7875402,-3.7069767,-4.1580243,-0.81880605,-0.4924416,-0.55734074,0.24043426,1.1438829,0.77875406,0.8442563,0.2224138,0.5611541,-0.1355062,-0.051788688,-0.5026763,-2.1896636,-2.3682804,-2.3025665,0.14606786,-3.9137945,-4.0027337,-3.9971879,-5.582673,-5.59599,-0.40276894,-0.63763714],\"y\":[-1.7977566,-1.2528987,-0.7264303,-0.62980825,-1.6508614,-1.1276695,-0.90703154,-0.47927186,-1.9113674,-1.6507,-1.6689719,-1.1874921,-0.47990248,0.116635285,-0.5662402,-0.4367137,-0.4503014,2.601972,1.1999396,0.7685605,1.2416947,1.2333848,1.5242729,2.4255042,2.1226497,1.7287337,1.0076793,2.0509837,1.6632357,2.2095385,-1.2710834,-4.7133636,-0.41211805,-1.9629058,-1.9598984,-4.9192486,0.8529162,0.972178,-4.6172004,-4.366206,-3.0368125,-3.2770767,-2.941343,-3.1860902,-3.1799579,-4.2780886,-0.6180963,-3.0953038,-3.1998403,-3.2024329,-4.4188995,-3.5345209,-3.4633384,-3.5205896,-1.8312167,-1.8358082,-3.9848921,-1.3925529],\"type\":\"scatter\"}],                        {\"template\":{\"data\":{\"histogram2dcontour\":[{\"type\":\"histogram2dcontour\",\"colorbar\":{\"outlinewidth\":0,\"ticks\":\"\"},\"colorscale\":[[0.0,\"#0d0887\"],[0.1111111111111111,\"#46039f\"],[0.2222222222222222,\"#7201a8\"],[0.3333333333333333,\"#9c179e\"],[0.4444444444444444,\"#bd3786\"],[0.5555555555555556,\"#d8576b\"],[0.6666666666666666,\"#ed7953\"],[0.7777777777777778,\"#fb9f3a\"],[0.8888888888888888,\"#fdca26\"],[1.0,\"#f0f921\"]]}],\"choropleth\":[{\"type\":\"choropleth\",\"colorbar\":{\"outlinewidth\":0,\"ticks\":\"\"}}],\"histogram2d\":[{\"type\":\"histogram2d\",\"colorbar\":{\"outlinewidth\":0,\"ticks\":\"\"},\"colorscale\":[[0.0,\"#0d0887\"],[0.1111111111111111,\"#46039f\"],[0.2222222222222222,\"#7201a8\"],[0.3333333333333333,\"#9c179e\"],[0.4444444444444444,\"#bd3786\"],[0.5555555555555556,\"#d8576b\"],[0.6666666666666666,\"#ed7953\"],[0.7777777777777778,\"#fb9f3a\"],[0.8888888888888888,\"#fdca26\"],[1.0,\"#f0f921\"]]}],\"heatmap\":[{\"type\":\"heatmap\",\"colorbar\":{\"outlinewidth\":0,\"ticks\":\"\"},\"colorscale\":[[0.0,\"#0d0887\"],[0.1111111111111111,\"#46039f\"],[0.2222222222222222,\"#7201a8\"],[0.3333333333333333,\"#9c179e\"],[0.4444444444444444,\"#bd3786\"],[0.5555555555555556,\"#d8576b\"],[0.6666666666666666,\"#ed7953\"],[0.7777777777777778,\"#fb9f3a\"],[0.8888888888888888,\"#fdca26\"],[1.0,\"#f0f921\"]]}],\"heatmapgl\":[{\"type\":\"heatmapgl\",\"colorbar\":{\"outlinewidth\":0,\"ticks\":\"\"},\"colorscale\":[[0.0,\"#0d0887\"],[0.1111111111111111,\"#46039f\"],[0.2222222222222222,\"#7201a8\"],[0.3333333333333333,\"#9c179e\"],[0.4444444444444444,\"#bd3786\"],[0.5555555555555556,\"#d8576b\"],[0.6666666666666666,\"#ed7953\"],[0.7777777777777778,\"#fb9f3a\"],[0.8888888888888888,\"#fdca26\"],[1.0,\"#f0f921\"]]}],\"contourcarpet\":[{\"type\":\"contourcarpet\",\"colorbar\":{\"outlinewidth\":0,\"ticks\":\"\"}}],\"contour\":[{\"type\":\"contour\",\"colorbar\":{\"outlinewidth\":0,\"ticks\":\"\"},\"colorscale\":[[0.0,\"#0d0887\"],[0.1111111111111111,\"#46039f\"],[0.2222222222222222,\"#7201a8\"],[0.3333333333333333,\"#9c179e\"],[0.4444444444444444,\"#bd3786\"],[0.5555555555555556,\"#d8576b\"],[0.6666666666666666,\"#ed7953\"],[0.7777777777777778,\"#fb9f3a\"],[0.8888888888888888,\"#fdca26\"],[1.0,\"#f0f921\"]]}],\"surface\":[{\"type\":\"surface\",\"colorbar\":{\"outlinewidth\":0,\"ticks\":\"\"},\"colorscale\":[[0.0,\"#0d0887\"],[0.1111111111111111,\"#46039f\"],[0.2222222222222222,\"#7201a8\"],[0.3333333333333333,\"#9c179e\"],[0.4444444444444444,\"#bd3786\"],[0.5555555555555556,\"#d8576b\"],[0.6666666666666666,\"#ed7953\"],[0.7777777777777778,\"#fb9f3a\"],[0.8888888888888888,\"#fdca26\"],[1.0,\"#f0f921\"]]}],\"mesh3d\":[{\"type\":\"mesh3d\",\"colorbar\":{\"outlinewidth\":0,\"ticks\":\"\"}}],\"scatter\":[{\"fillpattern\":{\"fillmode\":\"overlay\",\"size\":10,\"solidity\":0.2},\"type\":\"scatter\"}],\"parcoords\":[{\"type\":\"parcoords\",\"line\":{\"colorbar\":{\"outlinewidth\":0,\"ticks\":\"\"}}}],\"scatterpolargl\":[{\"type\":\"scatterpolargl\",\"marker\":{\"colorbar\":{\"outlinewidth\":0,\"ticks\":\"\"}}}],\"bar\":[{\"error_x\":{\"color\":\"#2a3f5f\"},\"error_y\":{\"color\":\"#2a3f5f\"},\"marker\":{\"line\":{\"color\":\"#E5ECF6\",\"width\":0.5},\"pattern\":{\"fillmode\":\"overlay\",\"size\":10,\"solidity\":0.2}},\"type\":\"bar\"}],\"scattergeo\":[{\"type\":\"scattergeo\",\"marker\":{\"colorbar\":{\"outlinewidth\":0,\"ticks\":\"\"}}}],\"scatterpolar\":[{\"type\":\"scatterpolar\",\"marker\":{\"colorbar\":{\"outlinewidth\":0,\"ticks\":\"\"}}}],\"histogram\":[{\"marker\":{\"pattern\":{\"fillmode\":\"overlay\",\"size\":10,\"solidity\":0.2}},\"type\":\"histogram\"}],\"scattergl\":[{\"type\":\"scattergl\",\"marker\":{\"colorbar\":{\"outlinewidth\":0,\"ticks\":\"\"}}}],\"scatter3d\":[{\"type\":\"scatter3d\",\"line\":{\"colorbar\":{\"outlinewidth\":0,\"ticks\":\"\"}},\"marker\":{\"colorbar\":{\"outlinewidth\":0,\"ticks\":\"\"}}}],\"scattermapbox\":[{\"type\":\"scattermapbox\",\"marker\":{\"colorbar\":{\"outlinewidth\":0,\"ticks\":\"\"}}}],\"scatterternary\":[{\"type\":\"scatterternary\",\"marker\":{\"colorbar\":{\"outlinewidth\":0,\"ticks\":\"\"}}}],\"scattercarpet\":[{\"type\":\"scattercarpet\",\"marker\":{\"colorbar\":{\"outlinewidth\":0,\"ticks\":\"\"}}}],\"carpet\":[{\"aaxis\":{\"endlinecolor\":\"#2a3f5f\",\"gridcolor\":\"white\",\"linecolor\":\"white\",\"minorgridcolor\":\"white\",\"startlinecolor\":\"#2a3f5f\"},\"baxis\":{\"endlinecolor\":\"#2a3f5f\",\"gridcolor\":\"white\",\"linecolor\":\"white\",\"minorgridcolor\":\"white\",\"startlinecolor\":\"#2a3f5f\"},\"type\":\"carpet\"}],\"table\":[{\"cells\":{\"fill\":{\"color\":\"#EBF0F8\"},\"line\":{\"color\":\"white\"}},\"header\":{\"fill\":{\"color\":\"#C8D4E3\"},\"line\":{\"color\":\"white\"}},\"type\":\"table\"}],\"barpolar\":[{\"marker\":{\"line\":{\"color\":\"#E5ECF6\",\"width\":0.5},\"pattern\":{\"fillmode\":\"overlay\",\"size\":10,\"solidity\":0.2}},\"type\":\"barpolar\"}],\"pie\":[{\"automargin\":true,\"type\":\"pie\"}]},\"layout\":{\"autotypenumbers\":\"strict\",\"colorway\":[\"#636efa\",\"#EF553B\",\"#00cc96\",\"#ab63fa\",\"#FFA15A\",\"#19d3f3\",\"#FF6692\",\"#B6E880\",\"#FF97FF\",\"#FECB52\"],\"font\":{\"color\":\"#2a3f5f\"},\"hovermode\":\"closest\",\"hoverlabel\":{\"align\":\"left\"},\"paper_bgcolor\":\"white\",\"plot_bgcolor\":\"#E5ECF6\",\"polar\":{\"bgcolor\":\"#E5ECF6\",\"angularaxis\":{\"gridcolor\":\"white\",\"linecolor\":\"white\",\"ticks\":\"\"},\"radialaxis\":{\"gridcolor\":\"white\",\"linecolor\":\"white\",\"ticks\":\"\"}},\"ternary\":{\"bgcolor\":\"#E5ECF6\",\"aaxis\":{\"gridcolor\":\"white\",\"linecolor\":\"white\",\"ticks\":\"\"},\"baxis\":{\"gridcolor\":\"white\",\"linecolor\":\"white\",\"ticks\":\"\"},\"caxis\":{\"gridcolor\":\"white\",\"linecolor\":\"white\",\"ticks\":\"\"}},\"coloraxis\":{\"colorbar\":{\"outlinewidth\":0,\"ticks\":\"\"}},\"colorscale\":{\"sequential\":[[0.0,\"#0d0887\"],[0.1111111111111111,\"#46039f\"],[0.2222222222222222,\"#7201a8\"],[0.3333333333333333,\"#9c179e\"],[0.4444444444444444,\"#bd3786\"],[0.5555555555555556,\"#d8576b\"],[0.6666666666666666,\"#ed7953\"],[0.7777777777777778,\"#fb9f3a\"],[0.8888888888888888,\"#fdca26\"],[1.0,\"#f0f921\"]],\"sequentialminus\":[[0.0,\"#0d0887\"],[0.1111111111111111,\"#46039f\"],[0.2222222222222222,\"#7201a8\"],[0.3333333333333333,\"#9c179e\"],[0.4444444444444444,\"#bd3786\"],[0.5555555555555556,\"#d8576b\"],[0.6666666666666666,\"#ed7953\"],[0.7777777777777778,\"#fb9f3a\"],[0.8888888888888888,\"#fdca26\"],[1.0,\"#f0f921\"]],\"diverging\":[[0,\"#8e0152\"],[0.1,\"#c51b7d\"],[0.2,\"#de77ae\"],[0.3,\"#f1b6da\"],[0.4,\"#fde0ef\"],[0.5,\"#f7f7f7\"],[0.6,\"#e6f5d0\"],[0.7,\"#b8e186\"],[0.8,\"#7fbc41\"],[0.9,\"#4d9221\"],[1,\"#276419\"]]},\"xaxis\":{\"gridcolor\":\"white\",\"linecolor\":\"white\",\"ticks\":\"\",\"title\":{\"standoff\":15},\"zerolinecolor\":\"white\",\"automargin\":true,\"zerolinewidth\":2},\"yaxis\":{\"gridcolor\":\"white\",\"linecolor\":\"white\",\"ticks\":\"\",\"title\":{\"standoff\":15},\"zerolinecolor\":\"white\",\"automargin\":true,\"zerolinewidth\":2},\"scene\":{\"xaxis\":{\"backgroundcolor\":\"#E5ECF6\",\"gridcolor\":\"white\",\"linecolor\":\"white\",\"showbackground\":true,\"ticks\":\"\",\"zerolinecolor\":\"white\",\"gridwidth\":2},\"yaxis\":{\"backgroundcolor\":\"#E5ECF6\",\"gridcolor\":\"white\",\"linecolor\":\"white\",\"showbackground\":true,\"ticks\":\"\",\"zerolinecolor\":\"white\",\"gridwidth\":2},\"zaxis\":{\"backgroundcolor\":\"#E5ECF6\",\"gridcolor\":\"white\",\"linecolor\":\"white\",\"showbackground\":true,\"ticks\":\"\",\"zerolinecolor\":\"white\",\"gridwidth\":2}},\"shapedefaults\":{\"line\":{\"color\":\"#2a3f5f\"}},\"annotationdefaults\":{\"arrowcolor\":\"#2a3f5f\",\"arrowhead\":0,\"arrowwidth\":1},\"geo\":{\"bgcolor\":\"white\",\"landcolor\":\"#E5ECF6\",\"subunitcolor\":\"white\",\"showland\":true,\"showlakes\":true,\"lakecolor\":\"white\"},\"title\":{\"x\":0.05},\"mapbox\":{\"style\":\"light\"}}},\"xaxis\":{\"visible\":false,\"autorange\":\"reversed\"},\"yaxis\":{\"visible\":false},\"plot_bgcolor\":\"rgba(0, 0, 0, 0)\",\"paper_bgcolor\":\"rgba(0, 0, 0, 0)\",\"autosize\":true,\"height\":600,\"width\":800},                        {\"responsive\": true}                    ).then(function(){\n",
       "                            \n",
       "var gd = document.getElementById('1b130c46-a478-4010-96bf-1a2c4e3230cf');\n",
       "var x = new MutationObserver(function (mutations, observer) {{\n",
       "        var display = window.getComputedStyle(gd).display;\n",
       "        if (!display || display === 'none') {{\n",
       "            console.log([gd, 'removed!']);\n",
       "            Plotly.purge(gd);\n",
       "            observer.disconnect();\n",
       "        }}\n",
       "}});\n",
       "\n",
       "// Listen for the removal of the full notebook cells\n",
       "var notebookContainer = gd.closest('#notebook-container');\n",
       "if (notebookContainer) {{\n",
       "    x.observe(notebookContainer, {childList: true});\n",
       "}}\n",
       "\n",
       "// Listen for the clearing of the current output cell\n",
       "var outputEl = gd.closest('.output');\n",
       "if (outputEl) {{\n",
       "    x.observe(outputEl, {childList: true});\n",
       "}}\n",
       "\n",
       "                        })                };                });            </script>        </div>"
      ]
     },
     "metadata": {},
     "output_type": "display_data"
    }
   ],
   "source": [
    "import numpy as np\n",
    "import plotly.graph_objects as go\n",
    "import plotly.express as px\n",
    "from scipy.spatial import ConvexHull\n",
    "\n",
    "# 假设 tensor_2d 是点的坐标，groups 是点的分组\n",
    "points = tensor_2d\n",
    "categories = groups  # 这包含 'Search', 'Design', 等类别标签\n",
    "\n",
    "# 创建一个类别到索引的映射\n",
    "unique_categories = list(set(categories))\n",
    "category_to_idx = {category: idx for idx, category in enumerate(unique_categories)}\n",
    "\n",
    "# 初始化 Plotly 图形\n",
    "fig = go.Figure()\n",
    "\n",
    "# 获取类别的颜色\n",
    "color_scale = px.colors.sequential.Viridis  # 选择一个颜色调色板\n",
    "\n",
    "# 遍历每个类别\n",
    "for category in unique_categories:\n",
    "    # 获取属于该类别的点\n",
    "    category_points = points[np.array(categories) == category]\n",
    "\n",
    "    if len(category_points) == 2:\n",
    "        # 如果类别只有两个点，绘制一条连接它们的线\n",
    "        category_idx = category_to_idx[category]\n",
    "        color = color_scale[category_idx % len(color_scale)]\n",
    "\n",
    "        # 绘制连接两点的线\n",
    "        fig.add_trace(go.Scatter(\n",
    "            x=category_points[:, 0], y=category_points[:, 1],\n",
    "            mode='lines+markers',  # 线和点\n",
    "            marker=dict(size=8, color=color, opacity=0.6),\n",
    "            name=category,  # 添加类别标签\n",
    "            showlegend=True,  # 显示图例\n",
    "        ))\n",
    "        continue  # 跳过后续的凸包计算\n",
    "\n",
    "    if len(category_points) < 3:\n",
    "        # 对于没有凸包的类别且点数少于3个，可以直接添加到图例\n",
    "        category_idx = category_to_idx[category]\n",
    "        color = color_scale[category_idx % len(color_scale)]\n",
    "\n",
    "        # 添加没有凸包的点到图例\n",
    "        fig.add_trace(go.Scatter(\n",
    "            x=category_points[:, 0], y=category_points[:, 1],\n",
    "            mode='markers',  # 只显示点\n",
    "            marker=dict(size=8, color=color, opacity=0.6),\n",
    "            name=category,  # 添加类别标签\n",
    "            showlegend=True,  # 显示图例\n",
    "        ))\n",
    "        continue  # 跳过没有凸包的点的凸包计算\n",
    "\n",
    "    # 计算该类别点的凸包\n",
    "    hull = ConvexHull(category_points)\n",
    "    hull_points = category_points[hull.vertices]\n",
    "\n",
    "    # 使用 category_to_idx 获取类别的数值索引\n",
    "    category_idx = category_to_idx[category]\n",
    "    \n",
    "    # 使用颜色调色板选择颜色\n",
    "    color = color_scale[category_idx % len(color_scale)]\n",
    "    \n",
    "    fill_color = f\"rgba{tuple(px.colors.hex_to_rgb(color)) + (0.3,)}\"  # 更低的透明度\n",
    "\n",
    "    # 创建该类别的光滑闭合图形\n",
    "    # 创建该类别的光滑闭合图形，但不绘制边界点\n",
    "    fig.add_trace(go.Scatter(\n",
    "        x=hull_points[:, 0], y=hull_points[:, 1],\n",
    "        fill='toself',\n",
    "        fillcolor=fill_color,  # 使用选定的颜色\n",
    "        line=dict(width=0),  # 不绘制边界线\n",
    "        showlegend=True,  # 显示图例\n",
    "        name=category,  # 添加类别标签\n",
    "        marker=dict(size=8, color=color, colorscale='Viridis', opacity=0.6), # 确保填充颜色统一\n",
    "    ))\n",
    "\n",
    "# 将每个点的类别转换为数值索引\n",
    "numeric_colors = [category_to_idx[category] for category in categories]\n",
    "\n",
    "# 添加点的散点图，并且隐藏图例\n",
    "fig.add_trace(go.Scatter(\n",
    "    x=points[:, 0], y=points[:, 1],\n",
    "    mode='markers+text',\n",
    "    marker=dict(\n",
    "        size=8,\n",
    "        color=[color_scale[category_to_idx[category] % len(color_scale)] for category in categories],  # 统一颜色映射\n",
    "        colorscale='Viridis',\n",
    "        opacity=0.6\n",
    "    ),\n",
    "    text=short_names,\n",
    "    textposition='bottom center',\n",
    "    textfont=dict(size=12),\n",
    "    hoverinfo='text',\n",
    "    showlegend=False\n",
    "))\n",
    "\n",
    "# 去掉轴和背景，并调整图像的纵横比\n",
    "fig.update_layout(\n",
    "    xaxis_visible=False,\n",
    "    yaxis_visible=False,\n",
    "    plot_bgcolor='rgba(0, 0, 0, 0)',  # 去掉背景颜色\n",
    "    paper_bgcolor='rgba(0, 0, 0, 0)',  # 去掉纸张背景颜色\n",
    "    autosize=True,  # 自动调整大小\n",
    "    height=600,  # 增大高度\n",
    "    width=800,   # 减小宽度\n",
    ")\n",
    "\n",
    "# 让x轴从右往左\n",
    "fig.update_xaxes(autorange='reversed')\n",
    "\n",
    "# 显示图形\n",
    "fig.show()\n",
    "\n",
    "# 保存图形到svg\n",
    "fig.write_image(\"output.svg\")\n"
   ]
  }
 ],
 "metadata": {
  "kernelspec": {
   "display_name": "agent",
   "language": "python",
   "name": "python3"
  },
  "language_info": {
   "codemirror_mode": {
    "name": "ipython",
    "version": 3
   },
   "file_extension": ".py",
   "mimetype": "text/x-python",
   "name": "python",
   "nbconvert_exporter": "python",
   "pygments_lexer": "ipython3",
   "version": "3.10.0"
  }
 },
 "nbformat": 4,
 "nbformat_minor": 2
}
