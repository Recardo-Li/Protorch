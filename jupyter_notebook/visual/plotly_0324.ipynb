{
 "cells": [
  {
   "cell_type": "code",
   "execution_count": 528,
   "metadata": {},
   "outputs": [],
   "source": [
    "import torch\n",
    "import plotly.express as px\n",
    "from sklearn.decomposition import PCA"
   ]
  },
  {
   "cell_type": "code",
   "execution_count": 529,
   "metadata": {},
   "outputs": [
    {
     "name": "stderr",
     "output_type": "stream",
     "text": [
      "/tmp/ipykernel_2070320/1873476236.py:1: FutureWarning:\n",
      "\n",
      "You are using `torch.load` with `weights_only=False` (the current default value), which uses the default pickle module implicitly. It is possible to construct malicious pickle data which will execute arbitrary code during unpickling (See https://github.com/pytorch/pytorch/blob/main/SECURITY.md#untrusted-models for more details). In a future release, the default value for `weights_only` will be flipped to `True`. This limits the functions that could be executed during unpickling. Arbitrary objects will no longer be allowed to be loaded via this mode unless they are explicitly allowlisted by the user via `torch.serialization.add_safe_globals`. We recommend you start setting `weights_only=True` for any use case where you don't have full control of the loaded file. Please open an issue on GitHub for any issues related to this experimental feature.\n",
      "\n",
      "/tmp/ipykernel_2070320/1873476236.py:3: FutureWarning:\n",
      "\n",
      "You are using `torch.load` with `weights_only=False` (the current default value), which uses the default pickle module implicitly. It is possible to construct malicious pickle data which will execute arbitrary code during unpickling (See https://github.com/pytorch/pytorch/blob/main/SECURITY.md#untrusted-models for more details). In a future release, the default value for `weights_only` will be flipped to `True`. This limits the functions that could be executed during unpickling. Arbitrary objects will no longer be allowed to be loaded via this mode unless they are explicitly allowlisted by the user via `torch.serialization.add_safe_globals`. We recommend you start setting `weights_only=True` for any use case where you don't have full control of the loaded file. Please open an issue on GitHub for any issues related to this experimental feature.\n",
      "\n"
     ]
    }
   ],
   "source": [
    "toolnames = torch.load('toolnames.pt')\n",
    "# categories = torch.load('categories.pt')\n",
    "corpus_embeddings = torch.load('corpus_embeddings.pt')"
   ]
  },
  {
   "cell_type": "code",
   "execution_count": 530,
   "metadata": {},
   "outputs": [
    {
     "data": {
      "text/plain": [
       "(torch.Size([58, 1024]), 58)"
      ]
     },
     "execution_count": 530,
     "metadata": {},
     "output_type": "execute_result"
    }
   ],
   "source": [
    "corpus_embeddings.shape, len(toolnames)"
   ]
  },
  {
   "cell_type": "code",
   "execution_count": 531,
   "metadata": {},
   "outputs": [],
   "source": [
    "for i in range(len(toolnames)):\n",
    "    if toolnames[i] == \"chat\":\n",
    "        chat_index = i"
   ]
  },
  {
   "cell_type": "code",
   "execution_count": 532,
   "metadata": {},
   "outputs": [],
   "source": [
    "corpus_embeddings = torch.concatenate((corpus_embeddings[:chat_index], corpus_embeddings[chat_index+1:]), 0)\n",
    "toolnames = toolnames[:chat_index] + toolnames[chat_index+1:]"
   ]
  },
  {
   "cell_type": "code",
   "execution_count": 533,
   "metadata": {},
   "outputs": [
    {
     "data": {
      "text/plain": [
       "(torch.Size([57, 1024]), 57)"
      ]
     },
     "execution_count": 533,
     "metadata": {},
     "output_type": "execute_result"
    }
   ],
   "source": [
    "corpus_embeddings.shape, len(toolnames)"
   ]
  },
  {
   "cell_type": "code",
   "execution_count": 534,
   "metadata": {},
   "outputs": [
    {
     "data": {
      "image/png": "[encoded data removed]",
      "text/plain": [
       "<Figure size 800x600 with 1 Axes>"
      ]
     },
     "metadata": {},
     "output_type": "display_data"
    }
   ],
   "source": [
    "from sklearn.preprocessing import StandardScaler\n",
    "from sklearn.manifold import TSNE\n",
    "import matplotlib.pyplot as plt\n",
    "\n",
    "# 假设 corpus_embeddings 是你的数据，转换为 numpy 数组\n",
    "tensor_np = corpus_embeddings.cpu().numpy()\n",
    "\n",
    "# 标准化数据\n",
    "scaler = StandardScaler()\n",
    "tensor_np = scaler.fit_transform(tensor_np)\n",
    "\n",
    "# 使用t-SNE将数据降维到二维或三维\n",
    "tsne = TSNE(n_components=2, random_state=17)  # 这里将数据降到二维\n",
    "tensor_2d = tsne.fit_transform(tensor_np)\n",
    "\n",
    "# 可视化t-SNE降维结果\n",
    "plt.figure(figsize=(8, 6))\n",
    "plt.scatter(tensor_2d[:, 0], tensor_2d[:, 1], c='b', marker='o')\n",
    "plt.title('t-SNE Projection to 2D')\n",
    "plt.xlabel('t-SNE Component 1')\n",
    "plt.ylabel('t-SNE Component 2')\n",
    "plt.show()\n"
   ]
  },
  {
   "cell_type": "code",
   "execution_count": 535,
   "metadata": {},
   "outputs": [],
   "source": [
    "# from sklearn.preprocessing import StandardScaler\n",
    "# from sklearn.decomposition import PCA  # 导入PCA\n",
    "# import matplotlib.pyplot as plt\n",
    "\n",
    "# # 假设 corpus_embeddings 是你的数据，转换为 numpy 数组\n",
    "# tensor_np = corpus_embeddings.cpu().numpy()\n",
    "\n",
    "# # 标准化数据\n",
    "# scaler = StandardScaler()\n",
    "# tensor_np = scaler.fit_transform(tensor_np)\n",
    "\n",
    "# # 使用PCA将数据降维到二维\n",
    "# pca = PCA(n_components=2)  # 这里将数据降到二维\n",
    "# tensor_2d = pca.fit_transform(tensor_np)\n",
    "\n",
    "# # 可视化PCA降维结果\n",
    "# plt.figure(figsize=(8, 6))\n",
    "# plt.scatter(tensor_2d[:, 0], tensor_2d[:, 1], c='b', marker='o')\n",
    "# plt.title('PCA Projection to 2D')\n",
    "# plt.xlabel('PCA Component 1')\n",
    "# plt.ylabel('PCA Component 2')\n",
    "# plt.show()\n"
   ]
  },
  {
   "cell_type": "code",
   "execution_count": 536,
   "metadata": {},
   "outputs": [],
   "source": [
    "tool_types ={\n",
    "    \"Function\": [\n",
    "            \"saprot_regression\",\n",
    "            \"saprot_mutation\",\n",
    "            \"saprot_pair_regression\",\n",
    "            \"saprot_pair_classification\",\n",
    "            \"saprot_classification\",\n",
    "            \"saprot_token_classification\",\n",
    "            \"saprot_pair_classification\",\n",
    "            \"saprot_tune_regression\",\n",
    "            \"saprot_tune_pair_regression\",\n",
    "            \"saprot_tune_classification\",\n",
    "            \"saprot_tune_token_classification\",\n",
    "            \"saprot_tune_pair_classification\",\n",
    "            \"saprot_tuned_inference_classification\",\n",
    "            \"saprot_tuned_inference_regression\",\n",
    "            \"saprot_tuned_inference_pair_classification\",\n",
    "            \"saprot_tuned_inference_pair_regression\",\n",
    "            \"saprot_tuned_inference_token_classification\",\n",
    "        ],\n",
    "    \"Structure\": [\n",
    "            \"alphafold2\",\n",
    "            \"esmfold\",\n",
    "            \"foldseek\",\n",
    "            \"tmalign\",\n",
    "            \"umol\"\n",
    "        ],\n",
    "    \"Design\": [\n",
    "            \"rfdiffusion_binder_design\",\n",
    "            \"rfdiffusion_motif_scaffolding\",\n",
    "            \"rfdiffusion_partial_diffusion\",\n",
    "            \"rfdiffusion\",\n",
    "            \"rfdiffusion_conditional_fold_generation\",\n",
    "            \"proteinmpnn\",\n",
    "            \"pinal\",\n",
    "            \"deepab\",\n",
    "            \"diffab_design\",\n",
    "            \"diffab_optimize\"\n",
    "        ],\n",
    "    # \"Design(Struct)\": [\n",
    "    #         \"rfdiffusion_binder_design\",\n",
    "    #         \"rfdiffusion_motif_scaffolding\",\n",
    "    #         \"rfdiffusion_partial_diffusion\",\n",
    "    #         \"rfdiffusion\",\n",
    "    #         \"rfdiffusion_conditional_fold_generation\",\n",
    "    #         \"proteinmpnn\",\n",
    "    #         \"pinal\",\n",
    "    #         \"deepab\",\n",
    "    #         \"diffab_design\",\n",
    "    #         \"diffab_optimize\",\n",
    "    #         \"umol\"\n",
    "    #     ],\n",
    "    # \"Design(Seq)\": [\n",
    "    #         \"rfdiffusion_binder_design\",\n",
    "    #         \"rfdiffusion_motif_scaffolding\",\n",
    "    #         \"rfdiffusion_partial_diffusion\",\n",
    "    #         \"rfdiffusion\",\n",
    "    #         \"rfdiffusion_conditional_fold_generation\",\n",
    "    #         \"proteinmpnn\",\n",
    "    #         \"pinal\",\n",
    "    #         \"deepab\",\n",
    "    #         \"diffab_design\",\n",
    "    #         \"diffab_optimize\",\n",
    "    #         \"umol\"\n",
    "    #     ],\n",
    "    \n",
    "    \"Knowledge\": [\n",
    "            \"wikipedia\",\n",
    "            \"pfam_entry\",\n",
    "            \"pfam_match\",\n",
    "            \"biorxiv\",\n",
    "            \"pubmed\",\n",
    "            \"uniprot_fetch_sequence\",\n",
    "            \"uniprot_fetch_structure\",\n",
    "            \"uniprot_fetch_subsection\"\n",
    "        ],\n",
    "    \"Sequence\": [\n",
    "            \"blast\",\n",
    "            \"mmseqs_cluster\",\n",
    "            \"mmseqs_group\",\n",
    "            \"mmseqs_search\",\n",
    "            \"hhsearch\",\n",
    "            \"hhfilter\",\n",
    "            \"hhblits\",\n",
    "            \"hhmake\",\n",
    "            \"hmmsearch\",\n",
    "            \"clustalw\",\n",
    "            \"hhalign\"\n",
    "        ],\n",
    "    \"Multimodal\": [\n",
    "            \"protrek_protein2text\",\n",
    "            \"protrek_text2protein\",\n",
    "            \"protrek_text2structure\",\n",
    "            \"protrek_protein2structure\",\n",
    "            \"protrek_structure2protein\",\n",
    "            \"protrek_structure2text\",\n",
    "            \"protrek_protein2protein\",\n",
    "            \"protrek_structure2structure\",\n",
    "            \"protrek_text2text\",\n",
    "            \"evolla_chat_byid\",\n",
    "            \"evolla_chat_byseq\",\n",
    "            \"evolla_chat_bystruct\"\n",
    "        ]\n",
    "}"
   ]
  },
  {
   "cell_type": "code",
   "execution_count": 537,
   "metadata": {},
   "outputs": [],
   "source": [
    "def find_tool_type(toolname):\n",
    "    for tool_type in tool_types.keys():\n",
    "        if toolname.strip() in tool_types[tool_type]:\n",
    "            return tool_type\n",
    "    return \"unknown\""
   ]
  },
  {
   "cell_type": "code",
   "execution_count": 538,
   "metadata": {},
   "outputs": [
    {
     "data": {
      "text/plain": [
       "['alphafold2',\n",
       " 'biorxiv',\n",
       " 'blast',\n",
       " 'clustalw',\n",
       " 'diffab_design',\n",
       " 'diffab_optimize',\n",
       " 'esmfold',\n",
       " 'evolla_chat_byid',\n",
       " 'evolla_chat_byseq',\n",
       " 'evolla_chat_bystruct',\n",
       " 'foldseek',\n",
       " 'hmmsearch',\n",
       " 'hhalign',\n",
       " 'hhblits',\n",
       " 'hhfilter',\n",
       " 'hhmake',\n",
       " 'hhsearch',\n",
       " 'mmseqs_cluster',\n",
       " 'mmseqs_group',\n",
       " 'mmseqs_search',\n",
       " 'pfam_entry',\n",
       " 'pfam_match',\n",
       " 'pinal',\n",
       " 'proteinmpnn',\n",
       " 'protrek_protein2protein',\n",
       " 'protrek_protein2structure',\n",
       " 'protrek_protein2text',\n",
       " 'protrek_structure2protein',\n",
       " 'protrek_structure2structure',\n",
       " 'protrek_structure2text',\n",
       " 'protrek_text2text',\n",
       " 'pubmed',\n",
       " 'rfdiffusion_binder_design',\n",
       " 'rfdiffusion_motif_scaffolding',\n",
       " 'rfdiffusion_partial_diffusion',\n",
       " 'rfdiffusion',\n",
       " 'saprot_classification',\n",
       " 'saprot_tuned_inference_classification',\n",
       " 'saprot_tuned_inference_regression',\n",
       " 'saprot_tuned_inference_token_classification',\n",
       " 'saprot_mutation',\n",
       " 'saprot_pair_classification',\n",
       " 'saprot_pair_regression',\n",
       " 'saprot_tuned_inference_pair_classification',\n",
       " 'saprot_tuned_inference_pair_regression',\n",
       " 'saprot_regression',\n",
       " 'saprot_token_classification',\n",
       " 'saprot_tune_classification',\n",
       " 'saprot_tune_pair_classification',\n",
       " 'saprot_tune_regression',\n",
       " 'saprot_tune_token_classification',\n",
       " 'tmalign',\n",
       " 'umol',\n",
       " 'uniprot_fetch_sequence',\n",
       " 'uniprot_fetch_structure',\n",
       " 'uniprot_fetch_subsection',\n",
       " 'wikipedia']"
      ]
     },
     "execution_count": 538,
     "metadata": {},
     "output_type": "execute_result"
    }
   ],
   "source": [
    "toolnames"
   ]
  },
  {
   "cell_type": "code",
   "execution_count": 539,
   "metadata": {},
   "outputs": [],
   "source": [
    "short_names = ['AlphaFold2',\n",
    " 'BioRxiv',\n",
    " 'Blast',\n",
    " 'ClustalW',\n",
    " 'Diffab',\n",
    " 'Diffab',\n",
    " 'ESMFold',\n",
    " 'Evolla',\n",
    " 'Evolla',\n",
    " 'Evolla',\n",
    " 'FoldSeek',\n",
    " 'HMMSearch',\n",
    " 'HHAlgin',\n",
    " 'HHBlits',\n",
    " 'HHFilter',\n",
    " 'HHMake',\n",
    " 'HHSearch',\n",
    " 'MMseqs',\n",
    " 'MMseqs',\n",
    " 'MMseqs',\n",
    " 'Pfam',\n",
    " 'Pfam',\n",
    " 'Pinal',\n",
    " 'ProteinMPNN',\n",
    " 'ProTrek',\n",
    " 'ProTrek',\n",
    " 'ProTrek',\n",
    " 'ProTrek',\n",
    " 'ProTrek',\n",
    " 'ProTrek',\n",
    " 'ProTrek',\n",
    " 'PubMed',\n",
    " 'RFDiffusion',\n",
    " 'RFDiffusion',\n",
    " 'RFDiffusion',\n",
    " 'RFDiffusion',\n",
    " 'SaProt',\n",
    " 'SaProt',\n",
    " 'SaProt',\n",
    " 'SaProt',\n",
    " 'SaProt',\n",
    " 'SaProt',\n",
    " 'SaProt',\n",
    " 'SaProt',\n",
    " 'SaProt',\n",
    " 'SaProt',\n",
    " 'SaProt',\n",
    " 'SaProt',\n",
    " 'SaProt',\n",
    " 'SaProt',\n",
    " 'SaProt',\n",
    " 'TMAlign',\n",
    " 'Umol',\n",
    " 'UniProt',\n",
    " 'UniProt',\n",
    " 'UniProt',\n",
    " 'wikipedia']"
   ]
  },
  {
   "cell_type": "code",
   "execution_count": 540,
   "metadata": {},
   "outputs": [
    {
     "data": {
      "text/plain": [
       "['Structure',\n",
       " 'Knowledge',\n",
       " 'Sequence',\n",
       " 'Sequence',\n",
       " 'Design',\n",
       " 'Design',\n",
       " 'Structure',\n",
       " 'Multimodal',\n",
       " 'Multimodal',\n",
       " 'Multimodal',\n",
       " 'Structure',\n",
       " 'Sequence',\n",
       " 'Sequence',\n",
       " 'Sequence',\n",
       " 'Sequence',\n",
       " 'Sequence',\n",
       " 'Sequence',\n",
       " 'Sequence',\n",
       " 'Sequence',\n",
       " 'Sequence',\n",
       " 'Knowledge',\n",
       " 'Knowledge',\n",
       " 'Design',\n",
       " 'Design',\n",
       " 'Multimodal',\n",
       " 'Multimodal',\n",
       " 'Multimodal',\n",
       " 'Multimodal',\n",
       " 'Multimodal',\n",
       " 'Multimodal',\n",
       " 'Multimodal',\n",
       " 'Knowledge',\n",
       " 'Design',\n",
       " 'Design',\n",
       " 'Design',\n",
       " 'Design',\n",
       " 'Function',\n",
       " 'Function',\n",
       " 'Function',\n",
       " 'Function',\n",
       " 'Function',\n",
       " 'Function',\n",
       " 'Function',\n",
       " 'Function',\n",
       " 'Function',\n",
       " 'Function',\n",
       " 'Function',\n",
       " 'Function',\n",
       " 'Function',\n",
       " 'Function',\n",
       " 'Function',\n",
       " 'Structure',\n",
       " 'Structure',\n",
       " 'Knowledge',\n",
       " 'Knowledge',\n",
       " 'Knowledge',\n",
       " 'Knowledge']"
      ]
     },
     "execution_count": 540,
     "metadata": {},
     "output_type": "execute_result"
    }
   ],
   "source": [
    "groups = [find_tool_type(toolname) for toolname in toolnames]\n",
    "groups"
   ]
  },
  {
   "cell_type": "code",
   "execution_count": 541,
   "metadata": {},
   "outputs": [
    {
     "data": {
      "application/vnd.plotly.v1+json": {
       "config": {
        "plotlyServerURL": "https://plot.ly"
       },
       "data": [
        {
         "fill": "toself",
         "fillcolor": "rgba(68, 1, 84, 0.3)",
         "line": {
          "width": 0
         },
         "marker": {
          "color": "#440154",
          "colorscale": [
           [
            0,
            "#440154"
           ],
           [
            0.1111111111111111,
            "#482878"
           ],
           [
            0.2222222222222222,
            "#3e4989"
           ],
           [
            0.3333333333333333,
            "#31688e"
           ],
           [
            0.4444444444444444,
            "#26828e"
           ],
           [
            0.5555555555555556,
            "#1f9e89"
           ],
           [
            0.6666666666666666,
            "#35b779"
           ],
           [
            0.7777777777777778,
            "#6ece58"
           ],
           [
            0.8888888888888888,
            "#b5de2b"
           ],
           [
            1,
            "#fde725"
           ]
          ],
          "opacity": 0.6,
          "size": 8
         },
         "name": "Multimodal",
         "showlegend": true,
         "type": "scatter",
         "x": [
          -1.1707534,
          -1.4334842,
          -1.4269538,
          -1.2985338,
          -1.2593504,
          -0.78661287
         ],
         "y": [
          7.576105,
          7.5233054,
          6.987292,
          4.797785,
          4.887674,
          6.9869795
         ]
        },
        {
         "fill": "toself",
         "fillcolor": "rgba(72, 40, 120, 0.3)",
         "line": {
          "width": 0
         },
         "marker": {
          "color": "#482878",
          "colorscale": [
           [
            0,
            "#440154"
           ],
           [
            0.1111111111111111,
            "#482878"
           ],
           [
            0.2222222222222222,
            "#3e4989"
           ],
           [
            0.3333333333333333,
            "#31688e"
           ],
           [
            0.4444444444444444,
            "#26828e"
           ],
           [
            0.5555555555555556,
            "#1f9e89"
           ],
           [
            0.6666666666666666,
            "#35b779"
           ],
           [
            0.7777777777777778,
            "#6ece58"
           ],
           [
            0.8888888888888888,
            "#b5de2b"
           ],
           [
            1,
            "#fde725"
           ]
          ],
          "opacity": 0.6,
          "size": 8
         },
         "name": "Design",
         "showlegend": true,
         "type": "scatter",
         "x": [
          1.2531121,
          1.0539855,
          2.8191772,
          2.944018
         ],
         "y": [
          10.0248375,
          7.723679,
          8.759546,
          8.88026
         ]
        },
        {
         "fill": "toself",
         "fillcolor": "rgba(62, 73, 137, 0.3)",
         "line": {
          "width": 0
         },
         "marker": {
          "color": "#3e4989",
          "colorscale": [
           [
            0,
            "#440154"
           ],
           [
            0.1111111111111111,
            "#482878"
           ],
           [
            0.2222222222222222,
            "#3e4989"
           ],
           [
            0.3333333333333333,
            "#31688e"
           ],
           [
            0.4444444444444444,
            "#26828e"
           ],
           [
            0.5555555555555556,
            "#1f9e89"
           ],
           [
            0.6666666666666666,
            "#35b779"
           ],
           [
            0.7777777777777778,
            "#6ece58"
           ],
           [
            0.8888888888888888,
            "#b5de2b"
           ],
           [
            1,
            "#fde725"
           ]
          ],
          "opacity": 0.6,
          "size": 8
         },
         "name": "Sequence",
         "showlegend": true,
         "type": "scatter",
         "x": [
          -3.8556151,
          -3.1904,
          -1.4420861,
          -1.5652305,
          -1.7008975,
          -2.737165,
          -3.4527783,
          -3.6238298
         ],
         "y": [
          8.459863,
          7.864284,
          10.494037,
          11.015995,
          11.072735,
          10.761885,
          9.688199,
          9.325861
         ]
        },
        {
         "fill": "toself",
         "fillcolor": "rgba(49, 104, 142, 0.3)",
         "line": {
          "width": 0
         },
         "marker": {
          "color": "#31688e",
          "colorscale": [
           [
            0,
            "#440154"
           ],
           [
            0.1111111111111111,
            "#482878"
           ],
           [
            0.2222222222222222,
            "#3e4989"
           ],
           [
            0.3333333333333333,
            "#31688e"
           ],
           [
            0.4444444444444444,
            "#26828e"
           ],
           [
            0.5555555555555556,
            "#1f9e89"
           ],
           [
            0.6666666666666666,
            "#35b779"
           ],
           [
            0.7777777777777778,
            "#6ece58"
           ],
           [
            0.8888888888888888,
            "#b5de2b"
           ],
           [
            1,
            "#fde725"
           ]
          ],
          "opacity": 0.6,
          "size": 8
         },
         "name": "Knowledge",
         "showlegend": true,
         "type": "scatter",
         "x": [
          -4.523468,
          -2.7107117,
          -2.9683242,
          -4.4611306
         ],
         "y": [
          6.034984,
          3.2388694,
          6.060826,
          6.057616
         ]
        },
        {
         "fill": "toself",
         "fillcolor": "rgba(38, 130, 142, 0.3)",
         "line": {
          "width": 0
         },
         "marker": {
          "color": "#26828e",
          "colorscale": [
           [
            0,
            "#440154"
           ],
           [
            0.1111111111111111,
            "#482878"
           ],
           [
            0.2222222222222222,
            "#3e4989"
           ],
           [
            0.3333333333333333,
            "#31688e"
           ],
           [
            0.4444444444444444,
            "#26828e"
           ],
           [
            0.5555555555555556,
            "#1f9e89"
           ],
           [
            0.6666666666666666,
            "#35b779"
           ],
           [
            0.7777777777777778,
            "#6ece58"
           ],
           [
            0.8888888888888888,
            "#b5de2b"
           ],
           [
            1,
            "#fde725"
           ]
          ],
          "opacity": 0.6,
          "size": 8
         },
         "name": "Structure",
         "showlegend": true,
         "type": "scatter",
         "x": [
          -2.055616,
          -0.12774958,
          -0.27606928,
          -0.95853937
         ],
         "y": [
          8.072952,
          7.784362,
          8.767154,
          9.711851
         ]
        },
        {
         "fill": "toself",
         "fillcolor": "rgba(31, 158, 137, 0.3)",
         "line": {
          "width": 0
         },
         "marker": {
          "color": "#1f9e89",
          "colorscale": [
           [
            0,
            "#440154"
           ],
           [
            0.1111111111111111,
            "#482878"
           ],
           [
            0.2222222222222222,
            "#3e4989"
           ],
           [
            0.3333333333333333,
            "#31688e"
           ],
           [
            0.4444444444444444,
            "#26828e"
           ],
           [
            0.5555555555555556,
            "#1f9e89"
           ],
           [
            0.6666666666666666,
            "#35b779"
           ],
           [
            0.7777777777777778,
            "#6ece58"
           ],
           [
            0.8888888888888888,
            "#b5de2b"
           ],
           [
            1,
            "#fde725"
           ]
          ],
          "opacity": 0.6,
          "size": 8
         },
         "name": "Function",
         "showlegend": true,
         "type": "scatter",
         "x": [
          2.5092726,
          2.6289308,
          2.469463,
          2.1950476,
          1.9360031,
          1.1204438,
          0.51855314,
          0.46904555,
          0.4054325,
          1.465676
         ],
         "y": [
          4.6147175,
          5.687547,
          5.967321,
          6.3966384,
          6.319093,
          6.0391726,
          5.3736453,
          5.285562,
          3.8340933,
          3.9254944
         ]
        },
        {
         "hoverinfo": "text",
         "marker": {
          "color": [
           "#26828e",
           "#31688e",
           "#3e4989",
           "#3e4989",
           "#482878",
           "#482878",
           "#26828e",
           "#440154",
           "#440154",
           "#440154",
           "#26828e",
           "#3e4989",
           "#3e4989",
           "#3e4989",
           "#3e4989",
           "#3e4989",
           "#3e4989",
           "#3e4989",
           "#3e4989",
           "#3e4989",
           "#31688e",
           "#31688e",
           "#482878",
           "#482878",
           "#440154",
           "#440154",
           "#440154",
           "#440154",
           "#440154",
           "#440154",
           "#440154",
           "#31688e",
           "#482878",
           "#482878",
           "#482878",
           "#482878",
           "#1f9e89",
           "#1f9e89",
           "#1f9e89",
           "#1f9e89",
           "#1f9e89",
           "#1f9e89",
           "#1f9e89",
           "#1f9e89",
           "#1f9e89",
           "#1f9e89",
           "#1f9e89",
           "#1f9e89",
           "#1f9e89",
           "#1f9e89",
           "#1f9e89",
           "#26828e",
           "#26828e",
           "#31688e",
           "#31688e",
           "#31688e",
           "#31688e"
          ],
          "colorscale": [
           [
            0,
            "#440154"
           ],
           [
            0.1111111111111111,
            "#482878"
           ],
           [
            0.2222222222222222,
            "#3e4989"
           ],
           [
            0.3333333333333333,
            "#31688e"
           ],
           [
            0.4444444444444444,
            "#26828e"
           ],
           [
            0.5555555555555556,
            "#1f9e89"
           ],
           [
            0.6666666666666666,
            "#35b779"
           ],
           [
            0.7777777777777778,
            "#6ece58"
           ],
           [
            0.8888888888888888,
            "#b5de2b"
           ],
           [
            1,
            "#fde725"
           ]
          ],
          "opacity": 0.6,
          "size": 8
         },
         "mode": "markers+text",
         "showlegend": false,
         "text": [
          "AlphaFold2",
          "BioRxiv",
          "Blast",
          "ClustalW",
          "Diffab",
          "Diffab",
          "ESMFold",
          "Evolla",
          "Evolla",
          "Evolla",
          "FoldSeek",
          "HMMSearch",
          "HHAlgin",
          "HHBlits",
          "HHFilter",
          "HHMake",
          "HHSearch",
          "MMseqs",
          "MMseqs",
          "MMseqs",
          "Pfam",
          "Pfam",
          "Pinal",
          "ProteinMPNN",
          "ProTrek",
          "ProTrek",
          "ProTrek",
          "ProTrek",
          "ProTrek",
          "ProTrek",
          "ProTrek",
          "PubMed",
          "RFDiffusion",
          "RFDiffusion",
          "RFDiffusion",
          "RFDiffusion",
          "SaProt",
          "SaProt",
          "SaProt",
          "SaProt",
          "SaProt",
          "SaProt",
          "SaProt",
          "SaProt",
          "SaProt",
          "SaProt",
          "SaProt",
          "SaProt",
          "SaProt",
          "SaProt",
          "SaProt",
          "TMAlign",
          "Umol",
          "UniProt",
          "UniProt",
          "UniProt",
          "wikipedia"
         ],
         "textfont": {
          "size": 12
         },
         "textposition": "bottom center",
         "type": "scatter",
         "x": [
          -0.35139978,
          -2.7530882,
          -3.1904,
          -3.8556151,
          1.275111,
          1.2531121,
          -0.27606928,
          -1.2985338,
          -1.2593504,
          -1.2687817,
          -2.055616,
          -2.737165,
          -1.4420861,
          -2.003756,
          -1.5652305,
          -1.7008975,
          -2.4686606,
          -3.6238298,
          -3.6061788,
          -3.4527783,
          -4.523468,
          -4.4611306,
          1.210064,
          1.0539855,
          -0.78661287,
          -1.2194806,
          -1.2123295,
          -1.4334842,
          -1.1707534,
          -1.4269538,
          -1.1319988,
          -2.7107117,
          2.6939137,
          2.8191772,
          2.944018,
          2.6903772,
          0.9047369,
          2.469463,
          2.1950476,
          2.6289308,
          0.4054325,
          0.7657924,
          0.46904555,
          2.159284,
          1.9360031,
          0.51855314,
          1.465676,
          2.059532,
          1.6597649,
          1.1204438,
          2.5092726,
          -0.95853937,
          -0.12774958,
          -3.018966,
          -2.9683242,
          -3.0582716,
          -3.0101168
         ],
         "y": [
          8.733906,
          3.3187864,
          7.864284,
          8.459863,
          10.006726,
          10.0248375,
          8.767154,
          4.797785,
          4.887674,
          4.929757,
          8.072952,
          10.761885,
          10.494037,
          10.258907,
          11.015995,
          11.072735,
          10.709001,
          9.325861,
          9.338874,
          9.688199,
          6.034984,
          6.057616,
          7.821067,
          7.723679,
          6.9869795,
          7.50549,
          6.6191783,
          7.5233054,
          7.576105,
          6.987292,
          6.487445,
          3.2388694,
          8.90603,
          8.759546,
          8.88026,
          8.874845,
          4.640468,
          5.967321,
          6.3966384,
          5.687547,
          3.8340933,
          4.8161697,
          5.285562,
          5.9375896,
          6.319093,
          5.3736453,
          3.9254944,
          4.8534083,
          5.104453,
          6.0391726,
          4.6147175,
          9.711851,
          7.784362,
          6.0602117,
          6.060826,
          5.9873543,
          3.7146215
         ]
        }
       ],
       "layout": {
        "autosize": true,
        "height": 600,
        "paper_bgcolor": "rgba(0, 0, 0, 0)",
        "plot_bgcolor": "rgba(0, 0, 0, 0)",
        "template": {
         "data": {
          "bar": [
           {
            "error_x": {
             "color": "#2a3f5f"
            },
            "error_y": {
             "color": "#2a3f5f"
            },
            "marker": {
             "line": {
              "color": "#E5ECF6",
              "width": 0.5
             },
             "pattern": {
              "fillmode": "overlay",
              "size": 10,
              "solidity": 0.2
             }
            },
            "type": "bar"
           }
          ],
          "barpolar": [
           {
            "marker": {
             "line": {
              "color": "#E5ECF6",
              "width": 0.5
             },
             "pattern": {
              "fillmode": "overlay",
              "size": 10,
              "solidity": 0.2
             }
            },
            "type": "barpolar"
           }
          ],
          "carpet": [
           {
            "aaxis": {
             "endlinecolor": "#2a3f5f",
             "gridcolor": "white",
             "linecolor": "white",
             "minorgridcolor": "white",
             "startlinecolor": "#2a3f5f"
            },
            "baxis": {
             "endlinecolor": "#2a3f5f",
             "gridcolor": "white",
             "linecolor": "white",
             "minorgridcolor": "white",
             "startlinecolor": "#2a3f5f"
            },
            "type": "carpet"
           }
          ],
          "choropleth": [
           {
            "colorbar": {
             "outlinewidth": 0,
             "ticks": ""
            },
            "type": "choropleth"
           }
          ],
          "contour": [
           {
            "colorbar": {
             "outlinewidth": 0,
             "ticks": ""
            },
            "colorscale": [
             [
              0,
              "#0d0887"
             ],
             [
              0.1111111111111111,
              "#46039f"
             ],
             [
              0.2222222222222222,
              "#7201a8"
             ],
             [
              0.3333333333333333,
              "#9c179e"
             ],
             [
              0.4444444444444444,
              "#bd3786"
             ],
             [
              0.5555555555555556,
              "#d8576b"
             ],
             [
              0.6666666666666666,
              "#ed7953"
             ],
             [
              0.7777777777777778,
              "#fb9f3a"
             ],
             [
              0.8888888888888888,
              "#fdca26"
             ],
             [
              1,
              "#f0f921"
             ]
            ],
            "type": "contour"
           }
          ],
          "contourcarpet": [
           {
            "colorbar": {
             "outlinewidth": 0,
             "ticks": ""
            },
            "type": "contourcarpet"
           }
          ],
          "heatmap": [
           {
            "colorbar": {
             "outlinewidth": 0,
             "ticks": ""
            },
            "colorscale": [
             [
              0,
              "#0d0887"
             ],
             [
              0.1111111111111111,
              "#46039f"
             ],
             [
              0.2222222222222222,
              "#7201a8"
             ],
             [
              0.3333333333333333,
              "#9c179e"
             ],
             [
              0.4444444444444444,
              "#bd3786"
             ],
             [
              0.5555555555555556,
              "#d8576b"
             ],
             [
              0.6666666666666666,
              "#ed7953"
             ],
             [
              0.7777777777777778,
              "#fb9f3a"
             ],
             [
              0.8888888888888888,
              "#fdca26"
             ],
             [
              1,
              "#f0f921"
             ]
            ],
            "type": "heatmap"
           }
          ],
          "heatmapgl": [
           {
            "colorbar": {
             "outlinewidth": 0,
             "ticks": ""
            },
            "colorscale": [
             [
              0,
              "#0d0887"
             ],
             [
              0.1111111111111111,
              "#46039f"
             ],
             [
              0.2222222222222222,
              "#7201a8"
             ],
             [
              0.3333333333333333,
              "#9c179e"
             ],
             [
              0.4444444444444444,
              "#bd3786"
             ],
             [
              0.5555555555555556,
              "#d8576b"
             ],
             [
              0.6666666666666666,
              "#ed7953"
             ],
             [
              0.7777777777777778,
              "#fb9f3a"
             ],
             [
              0.8888888888888888,
              "#fdca26"
             ],
             [
              1,
              "#f0f921"
             ]
            ],
            "type": "heatmapgl"
           }
          ],
          "histogram": [
           {
            "marker": {
             "pattern": {
              "fillmode": "overlay",
              "size": 10,
              "solidity": 0.2
             }
            },
            "type": "histogram"
           }
          ],
          "histogram2d": [
           {
            "colorbar": {
             "outlinewidth": 0,
             "ticks": ""
            },
            "colorscale": [
             [
              0,
              "#0d0887"
             ],
             [
              0.1111111111111111,
              "#46039f"
             ],
             [
              0.2222222222222222,
              "#7201a8"
             ],
             [
              0.3333333333333333,
              "#9c179e"
             ],
             [
              0.4444444444444444,
              "#bd3786"
             ],
             [
              0.5555555555555556,
              "#d8576b"
             ],
             [
              0.6666666666666666,
              "#ed7953"
             ],
             [
              0.7777777777777778,
              "#fb9f3a"
             ],
             [
              0.8888888888888888,
              "#fdca26"
             ],
             [
              1,
              "#f0f921"
             ]
            ],
            "type": "histogram2d"
           }
          ],
          "histogram2dcontour": [
           {
            "colorbar": {
             "outlinewidth": 0,
             "ticks": ""
            },
            "colorscale": [
             [
              0,
              "#0d0887"
             ],
             [
              0.1111111111111111,
              "#46039f"
             ],
             [
              0.2222222222222222,
              "#7201a8"
             ],
             [
              0.3333333333333333,
              "#9c179e"
             ],
             [
              0.4444444444444444,
              "#bd3786"
             ],
             [
              0.5555555555555556,
              "#d8576b"
             ],
             [
              0.6666666666666666,
              "#ed7953"
             ],
             [
              0.7777777777777778,
              "#fb9f3a"
             ],
             [
              0.8888888888888888,
              "#fdca26"
             ],
             [
              1,
              "#f0f921"
             ]
            ],
            "type": "histogram2dcontour"
           }
          ],
          "mesh3d": [
           {
            "colorbar": {
             "outlinewidth": 0,
             "ticks": ""
            },
            "type": "mesh3d"
           }
          ],
          "parcoords": [
           {
            "line": {
             "colorbar": {
              "outlinewidth": 0,
              "ticks": ""
             }
            },
            "type": "parcoords"
           }
          ],
          "pie": [
           {
            "automargin": true,
            "type": "pie"
           }
          ],
          "scatter": [
           {
            "fillpattern": {
             "fillmode": "overlay",
             "size": 10,
             "solidity": 0.2
            },
            "type": "scatter"
           }
          ],
          "scatter3d": [
           {
            "line": {
             "colorbar": {
              "outlinewidth": 0,
              "ticks": ""
             }
            },
            "marker": {
             "colorbar": {
              "outlinewidth": 0,
              "ticks": ""
             }
            },
            "type": "scatter3d"
           }
          ],
          "scattercarpet": [
           {
            "marker": {
             "colorbar": {
              "outlinewidth": 0,
              "ticks": ""
             }
            },
            "type": "scattercarpet"
           }
          ],
          "scattergeo": [
           {
            "marker": {
             "colorbar": {
              "outlinewidth": 0,
              "ticks": ""
             }
            },
            "type": "scattergeo"
           }
          ],
          "scattergl": [
           {
            "marker": {
             "colorbar": {
              "outlinewidth": 0,
              "ticks": ""
             }
            },
            "type": "scattergl"
           }
          ],
          "scattermapbox": [
           {
            "marker": {
             "colorbar": {
              "outlinewidth": 0,
              "ticks": ""
             }
            },
            "type": "scattermapbox"
           }
          ],
          "scatterpolar": [
           {
            "marker": {
             "colorbar": {
              "outlinewidth": 0,
              "ticks": ""
             }
            },
            "type": "scatterpolar"
           }
          ],
          "scatterpolargl": [
           {
            "marker": {
             "colorbar": {
              "outlinewidth": 0,
              "ticks": ""
             }
            },
            "type": "scatterpolargl"
           }
          ],
          "scatterternary": [
           {
            "marker": {
             "colorbar": {
              "outlinewidth": 0,
              "ticks": ""
             }
            },
            "type": "scatterternary"
           }
          ],
          "surface": [
           {
            "colorbar": {
             "outlinewidth": 0,
             "ticks": ""
            },
            "colorscale": [
             [
              0,
              "#0d0887"
             ],
             [
              0.1111111111111111,
              "#46039f"
             ],
             [
              0.2222222222222222,
              "#7201a8"
             ],
             [
              0.3333333333333333,
              "#9c179e"
             ],
             [
              0.4444444444444444,
              "#bd3786"
             ],
             [
              0.5555555555555556,
              "#d8576b"
             ],
             [
              0.6666666666666666,
              "#ed7953"
             ],
             [
              0.7777777777777778,
              "#fb9f3a"
             ],
             [
              0.8888888888888888,
              "#fdca26"
             ],
             [
              1,
              "#f0f921"
             ]
            ],
            "type": "surface"
           }
          ],
          "table": [
           {
            "cells": {
             "fill": {
              "color": "#EBF0F8"
             },
             "line": {
              "color": "white"
             }
            },
            "header": {
             "fill": {
              "color": "#C8D4E3"
             },
             "line": {
              "color": "white"
             }
            },
            "type": "table"
           }
          ]
         },
         "layout": {
          "annotationdefaults": {
           "arrowcolor": "#2a3f5f",
           "arrowhead": 0,
           "arrowwidth": 1
          },
          "autotypenumbers": "strict",
          "coloraxis": {
           "colorbar": {
            "outlinewidth": 0,
            "ticks": ""
           }
          },
          "colorscale": {
           "diverging": [
            [
             0,
             "#8e0152"
            ],
            [
             0.1,
             "#c51b7d"
            ],
            [
             0.2,
             "#de77ae"
            ],
            [
             0.3,
             "#f1b6da"
            ],
            [
             0.4,
             "#fde0ef"
            ],
            [
             0.5,
             "#f7f7f7"
            ],
            [
             0.6,
             "#e6f5d0"
            ],
            [
             0.7,
             "#b8e186"
            ],
            [
             0.8,
             "#7fbc41"
            ],
            [
             0.9,
             "#4d9221"
            ],
            [
             1,
             "#276419"
            ]
           ],
           "sequential": [
            [
             0,
             "#0d0887"
            ],
            [
             0.1111111111111111,
             "#46039f"
            ],
            [
             0.2222222222222222,
             "#7201a8"
            ],
            [
             0.3333333333333333,
             "#9c179e"
            ],
            [
             0.4444444444444444,
             "#bd3786"
            ],
            [
             0.5555555555555556,
             "#d8576b"
            ],
            [
             0.6666666666666666,
             "#ed7953"
            ],
            [
             0.7777777777777778,
             "#fb9f3a"
            ],
            [
             0.8888888888888888,
             "#fdca26"
            ],
            [
             1,
             "#f0f921"
            ]
           ],
           "sequentialminus": [
            [
             0,
             "#0d0887"
            ],
            [
             0.1111111111111111,
             "#46039f"
            ],
            [
             0.2222222222222222,
             "#7201a8"
            ],
            [
             0.3333333333333333,
             "#9c179e"
            ],
            [
             0.4444444444444444,
             "#bd3786"
            ],
            [
             0.5555555555555556,
             "#d8576b"
            ],
            [
             0.6666666666666666,
             "#ed7953"
            ],
            [
             0.7777777777777778,
             "#fb9f3a"
            ],
            [
             0.8888888888888888,
             "#fdca26"
            ],
            [
             1,
             "#f0f921"
            ]
           ]
          },
          "colorway": [
           "#636efa",
           "#EF553B",
           "#00cc96",
           "#ab63fa",
           "#FFA15A",
           "#19d3f3",
           "#FF6692",
           "#B6E880",
           "#FF97FF",
           "#FECB52"
          ],
          "font": {
           "color": "#2a3f5f"
          },
          "geo": {
           "bgcolor": "white",
           "lakecolor": "white",
           "landcolor": "#E5ECF6",
           "showlakes": true,
           "showland": true,
           "subunitcolor": "white"
          },
          "hoverlabel": {
           "align": "left"
          },
          "hovermode": "closest",
          "mapbox": {
           "style": "light"
          },
          "paper_bgcolor": "white",
          "plot_bgcolor": "#E5ECF6",
          "polar": {
           "angularaxis": {
            "gridcolor": "white",
            "linecolor": "white",
            "ticks": ""
           },
           "bgcolor": "#E5ECF6",
           "radialaxis": {
            "gridcolor": "white",
            "linecolor": "white",
            "ticks": ""
           }
          },
          "scene": {
           "xaxis": {
            "backgroundcolor": "#E5ECF6",
            "gridcolor": "white",
            "gridwidth": 2,
            "linecolor": "white",
            "showbackground": true,
            "ticks": "",
            "zerolinecolor": "white"
           },
           "yaxis": {
            "backgroundcolor": "#E5ECF6",
            "gridcolor": "white",
            "gridwidth": 2,
            "linecolor": "white",
            "showbackground": true,
            "ticks": "",
            "zerolinecolor": "white"
           },
           "zaxis": {
            "backgroundcolor": "#E5ECF6",
            "gridcolor": "white",
            "gridwidth": 2,
            "linecolor": "white",
            "showbackground": true,
            "ticks": "",
            "zerolinecolor": "white"
           }
          },
          "shapedefaults": {
           "line": {
            "color": "#2a3f5f"
           }
          },
          "ternary": {
           "aaxis": {
            "gridcolor": "white",
            "linecolor": "white",
            "ticks": ""
           },
           "baxis": {
            "gridcolor": "white",
            "linecolor": "white",
            "ticks": ""
           },
           "bgcolor": "#E5ECF6",
           "caxis": {
            "gridcolor": "white",
            "linecolor": "white",
            "ticks": ""
           }
          },
          "title": {
           "x": 0.05
          },
          "xaxis": {
           "automargin": true,
           "gridcolor": "white",
           "linecolor": "white",
           "ticks": "",
           "title": {
            "standoff": 15
           },
           "zerolinecolor": "white",
           "zerolinewidth": 2
          },
          "yaxis": {
           "automargin": true,
           "gridcolor": "white",
           "linecolor": "white",
           "ticks": "",
           "title": {
            "standoff": 15
           },
           "zerolinecolor": "white",
           "zerolinewidth": 2
          }
         }
        },
        "width": 800,
        "xaxis": {
         "visible": false
        },
        "yaxis": {
         "visible": false
        }
       }
      },
      "text/html": [
       "<div>                            <div id=\"43f24aab-9ac7-4e2f-8762-264764eefc55\" class=\"plotly-graph-div\" style=\"height:600px; width:800px;\"></div>            <script type=\"text/javascript\">                require([\"plotly\"], function(Plotly) {                    window.PLOTLYENV=window.PLOTLYENV || {};                                    if (document.getElementById(\"43f24aab-9ac7-4e2f-8762-264764eefc55\")) {                    Plotly.newPlot(                        \"43f24aab-9ac7-4e2f-8762-264764eefc55\",                        [{\"fill\":\"toself\",\"fillcolor\":\"rgba(68, 1, 84, 0.3)\",\"line\":{\"width\":0},\"marker\":{\"color\":\"#440154\",\"colorscale\":[[0.0,\"#440154\"],[0.1111111111111111,\"#482878\"],[0.2222222222222222,\"#3e4989\"],[0.3333333333333333,\"#31688e\"],[0.4444444444444444,\"#26828e\"],[0.5555555555555556,\"#1f9e89\"],[0.6666666666666666,\"#35b779\"],[0.7777777777777778,\"#6ece58\"],[0.8888888888888888,\"#b5de2b\"],[1.0,\"#fde725\"]],\"opacity\":0.6,\"size\":8},\"name\":\"Multimodal\",\"showlegend\":true,\"x\":[-1.1707534,-1.4334842,-1.4269538,-1.2985338,-1.2593504,-0.78661287],\"y\":[7.576105,7.5233054,6.987292,4.797785,4.887674,6.9869795],\"type\":\"scatter\"},{\"fill\":\"toself\",\"fillcolor\":\"rgba(72, 40, 120, 0.3)\",\"line\":{\"width\":0},\"marker\":{\"color\":\"#482878\",\"colorscale\":[[0.0,\"#440154\"],[0.1111111111111111,\"#482878\"],[0.2222222222222222,\"#3e4989\"],[0.3333333333333333,\"#31688e\"],[0.4444444444444444,\"#26828e\"],[0.5555555555555556,\"#1f9e89\"],[0.6666666666666666,\"#35b779\"],[0.7777777777777778,\"#6ece58\"],[0.8888888888888888,\"#b5de2b\"],[1.0,\"#fde725\"]],\"opacity\":0.6,\"size\":8},\"name\":\"Design\",\"showlegend\":true,\"x\":[1.2531121,1.0539855,2.8191772,2.944018],\"y\":[10.0248375,7.723679,8.759546,8.88026],\"type\":\"scatter\"},{\"fill\":\"toself\",\"fillcolor\":\"rgba(62, 73, 137, 0.3)\",\"line\":{\"width\":0},\"marker\":{\"color\":\"#3e4989\",\"colorscale\":[[0.0,\"#440154\"],[0.1111111111111111,\"#482878\"],[0.2222222222222222,\"#3e4989\"],[0.3333333333333333,\"#31688e\"],[0.4444444444444444,\"#26828e\"],[0.5555555555555556,\"#1f9e89\"],[0.6666666666666666,\"#35b779\"],[0.7777777777777778,\"#6ece58\"],[0.8888888888888888,\"#b5de2b\"],[1.0,\"#fde725\"]],\"opacity\":0.6,\"size\":8},\"name\":\"Sequence\",\"showlegend\":true,\"x\":[-3.8556151,-3.1904,-1.4420861,-1.5652305,-1.7008975,-2.737165,-3.4527783,-3.6238298],\"y\":[8.459863,7.864284,10.494037,11.015995,11.072735,10.761885,9.688199,9.325861],\"type\":\"scatter\"},{\"fill\":\"toself\",\"fillcolor\":\"rgba(49, 104, 142, 0.3)\",\"line\":{\"width\":0},\"marker\":{\"color\":\"#31688e\",\"colorscale\":[[0.0,\"#440154\"],[0.1111111111111111,\"#482878\"],[0.2222222222222222,\"#3e4989\"],[0.3333333333333333,\"#31688e\"],[0.4444444444444444,\"#26828e\"],[0.5555555555555556,\"#1f9e89\"],[0.6666666666666666,\"#35b779\"],[0.7777777777777778,\"#6ece58\"],[0.8888888888888888,\"#b5de2b\"],[1.0,\"#fde725\"]],\"opacity\":0.6,\"size\":8},\"name\":\"Knowledge\",\"showlegend\":true,\"x\":[-4.523468,-2.7107117,-2.9683242,-4.4611306],\"y\":[6.034984,3.2388694,6.060826,6.057616],\"type\":\"scatter\"},{\"fill\":\"toself\",\"fillcolor\":\"rgba(38, 130, 142, 0.3)\",\"line\":{\"width\":0},\"marker\":{\"color\":\"#26828e\",\"colorscale\":[[0.0,\"#440154\"],[0.1111111111111111,\"#482878\"],[0.2222222222222222,\"#3e4989\"],[0.3333333333333333,\"#31688e\"],[0.4444444444444444,\"#26828e\"],[0.5555555555555556,\"#1f9e89\"],[0.6666666666666666,\"#35b779\"],[0.7777777777777778,\"#6ece58\"],[0.8888888888888888,\"#b5de2b\"],[1.0,\"#fde725\"]],\"opacity\":0.6,\"size\":8},\"name\":\"Structure\",\"showlegend\":true,\"x\":[-2.055616,-0.12774958,-0.27606928,-0.95853937],\"y\":[8.072952,7.784362,8.767154,9.711851],\"type\":\"scatter\"},{\"fill\":\"toself\",\"fillcolor\":\"rgba(31, 158, 137, 0.3)\",\"line\":{\"width\":0},\"marker\":{\"color\":\"#1f9e89\",\"colorscale\":[[0.0,\"#440154\"],[0.1111111111111111,\"#482878\"],[0.2222222222222222,\"#3e4989\"],[0.3333333333333333,\"#31688e\"],[0.4444444444444444,\"#26828e\"],[0.5555555555555556,\"#1f9e89\"],[0.6666666666666666,\"#35b779\"],[0.7777777777777778,\"#6ece58\"],[0.8888888888888888,\"#b5de2b\"],[1.0,\"#fde725\"]],\"opacity\":0.6,\"size\":8},\"name\":\"Function\",\"showlegend\":true,\"x\":[2.5092726,2.6289308,2.469463,2.1950476,1.9360031,1.1204438,0.51855314,0.46904555,0.4054325,1.465676],\"y\":[4.6147175,5.687547,5.967321,6.3966384,6.319093,6.0391726,5.3736453,5.285562,3.8340933,3.9254944],\"type\":\"scatter\"},{\"hoverinfo\":\"text\",\"marker\":{\"color\":[\"#26828e\",\"#31688e\",\"#3e4989\",\"#3e4989\",\"#482878\",\"#482878\",\"#26828e\",\"#440154\",\"#440154\",\"#440154\",\"#26828e\",\"#3e4989\",\"#3e4989\",\"#3e4989\",\"#3e4989\",\"#3e4989\",\"#3e4989\",\"#3e4989\",\"#3e4989\",\"#3e4989\",\"#31688e\",\"#31688e\",\"#482878\",\"#482878\",\"#440154\",\"#440154\",\"#440154\",\"#440154\",\"#440154\",\"#440154\",\"#440154\",\"#31688e\",\"#482878\",\"#482878\",\"#482878\",\"#482878\",\"#1f9e89\",\"#1f9e89\",\"#1f9e89\",\"#1f9e89\",\"#1f9e89\",\"#1f9e89\",\"#1f9e89\",\"#1f9e89\",\"#1f9e89\",\"#1f9e89\",\"#1f9e89\",\"#1f9e89\",\"#1f9e89\",\"#1f9e89\",\"#1f9e89\",\"#26828e\",\"#26828e\",\"#31688e\",\"#31688e\",\"#31688e\",\"#31688e\"],\"colorscale\":[[0.0,\"#440154\"],[0.1111111111111111,\"#482878\"],[0.2222222222222222,\"#3e4989\"],[0.3333333333333333,\"#31688e\"],[0.4444444444444444,\"#26828e\"],[0.5555555555555556,\"#1f9e89\"],[0.6666666666666666,\"#35b779\"],[0.7777777777777778,\"#6ece58\"],[0.8888888888888888,\"#b5de2b\"],[1.0,\"#fde725\"]],\"opacity\":0.6,\"size\":8},\"mode\":\"markers+text\",\"showlegend\":false,\"text\":[\"AlphaFold2\",\"BioRxiv\",\"Blast\",\"ClustalW\",\"Diffab\",\"Diffab\",\"ESMFold\",\"Evolla\",\"Evolla\",\"Evolla\",\"FoldSeek\",\"HMMSearch\",\"HHAlgin\",\"HHBlits\",\"HHFilter\",\"HHMake\",\"HHSearch\",\"MMseqs\",\"MMseqs\",\"MMseqs\",\"Pfam\",\"Pfam\",\"Pinal\",\"ProteinMPNN\",\"ProTrek\",\"ProTrek\",\"ProTrek\",\"ProTrek\",\"ProTrek\",\"ProTrek\",\"ProTrek\",\"PubMed\",\"RFDiffusion\",\"RFDiffusion\",\"RFDiffusion\",\"RFDiffusion\",\"SaProt\",\"SaProt\",\"SaProt\",\"SaProt\",\"SaProt\",\"SaProt\",\"SaProt\",\"SaProt\",\"SaProt\",\"SaProt\",\"SaProt\",\"SaProt\",\"SaProt\",\"SaProt\",\"SaProt\",\"TMAlign\",\"Umol\",\"UniProt\",\"UniProt\",\"UniProt\",\"wikipedia\"],\"textfont\":{\"size\":12},\"textposition\":\"bottom center\",\"x\":[-0.35139978,-2.7530882,-3.1904,-3.8556151,1.275111,1.2531121,-0.27606928,-1.2985338,-1.2593504,-1.2687817,-2.055616,-2.737165,-1.4420861,-2.003756,-1.5652305,-1.7008975,-2.4686606,-3.6238298,-3.6061788,-3.4527783,-4.523468,-4.4611306,1.210064,1.0539855,-0.78661287,-1.2194806,-1.2123295,-1.4334842,-1.1707534,-1.4269538,-1.1319988,-2.7107117,2.6939137,2.8191772,2.944018,2.6903772,0.9047369,2.469463,2.1950476,2.6289308,0.4054325,0.7657924,0.46904555,2.159284,1.9360031,0.51855314,1.465676,2.059532,1.6597649,1.1204438,2.5092726,-0.95853937,-0.12774958,-3.018966,-2.9683242,-3.0582716,-3.0101168],\"y\":[8.733906,3.3187864,7.864284,8.459863,10.006726,10.0248375,8.767154,4.797785,4.887674,4.929757,8.072952,10.761885,10.494037,10.258907,11.015995,11.072735,10.709001,9.325861,9.338874,9.688199,6.034984,6.057616,7.821067,7.723679,6.9869795,7.50549,6.6191783,7.5233054,7.576105,6.987292,6.487445,3.2388694,8.90603,8.759546,8.88026,8.874845,4.640468,5.967321,6.3966384,5.687547,3.8340933,4.8161697,5.285562,5.9375896,6.319093,5.3736453,3.9254944,4.8534083,5.104453,6.0391726,4.6147175,9.711851,7.784362,6.0602117,6.060826,5.9873543,3.7146215],\"type\":\"scatter\"}],                        {\"template\":{\"data\":{\"histogram2dcontour\":[{\"type\":\"histogram2dcontour\",\"colorbar\":{\"outlinewidth\":0,\"ticks\":\"\"},\"colorscale\":[[0.0,\"#0d0887\"],[0.1111111111111111,\"#46039f\"],[0.2222222222222222,\"#7201a8\"],[0.3333333333333333,\"#9c179e\"],[0.4444444444444444,\"#bd3786\"],[0.5555555555555556,\"#d8576b\"],[0.6666666666666666,\"#ed7953\"],[0.7777777777777778,\"#fb9f3a\"],[0.8888888888888888,\"#fdca26\"],[1.0,\"#f0f921\"]]}],\"choropleth\":[{\"type\":\"choropleth\",\"colorbar\":{\"outlinewidth\":0,\"ticks\":\"\"}}],\"histogram2d\":[{\"type\":\"histogram2d\",\"colorbar\":{\"outlinewidth\":0,\"ticks\":\"\"},\"colorscale\":[[0.0,\"#0d0887\"],[0.1111111111111111,\"#46039f\"],[0.2222222222222222,\"#7201a8\"],[0.3333333333333333,\"#9c179e\"],[0.4444444444444444,\"#bd3786\"],[0.5555555555555556,\"#d8576b\"],[0.6666666666666666,\"#ed7953\"],[0.7777777777777778,\"#fb9f3a\"],[0.8888888888888888,\"#fdca26\"],[1.0,\"#f0f921\"]]}],\"heatmap\":[{\"type\":\"heatmap\",\"colorbar\":{\"outlinewidth\":0,\"ticks\":\"\"},\"colorscale\":[[0.0,\"#0d0887\"],[0.1111111111111111,\"#46039f\"],[0.2222222222222222,\"#7201a8\"],[0.3333333333333333,\"#9c179e\"],[0.4444444444444444,\"#bd3786\"],[0.5555555555555556,\"#d8576b\"],[0.6666666666666666,\"#ed7953\"],[0.7777777777777778,\"#fb9f3a\"],[0.8888888888888888,\"#fdca26\"],[1.0,\"#f0f921\"]]}],\"heatmapgl\":[{\"type\":\"heatmapgl\",\"colorbar\":{\"outlinewidth\":0,\"ticks\":\"\"},\"colorscale\":[[0.0,\"#0d0887\"],[0.1111111111111111,\"#46039f\"],[0.2222222222222222,\"#7201a8\"],[0.3333333333333333,\"#9c179e\"],[0.4444444444444444,\"#bd3786\"],[0.5555555555555556,\"#d8576b\"],[0.6666666666666666,\"#ed7953\"],[0.7777777777777778,\"#fb9f3a\"],[0.8888888888888888,\"#fdca26\"],[1.0,\"#f0f921\"]]}],\"contourcarpet\":[{\"type\":\"contourcarpet\",\"colorbar\":{\"outlinewidth\":0,\"ticks\":\"\"}}],\"contour\":[{\"type\":\"contour\",\"colorbar\":{\"outlinewidth\":0,\"ticks\":\"\"},\"colorscale\":[[0.0,\"#0d0887\"],[0.1111111111111111,\"#46039f\"],[0.2222222222222222,\"#7201a8\"],[0.3333333333333333,\"#9c179e\"],[0.4444444444444444,\"#bd3786\"],[0.5555555555555556,\"#d8576b\"],[0.6666666666666666,\"#ed7953\"],[0.7777777777777778,\"#fb9f3a\"],[0.8888888888888888,\"#fdca26\"],[1.0,\"#f0f921\"]]}],\"surface\":[{\"type\":\"surface\",\"colorbar\":{\"outlinewidth\":0,\"ticks\":\"\"},\"colorscale\":[[0.0,\"#0d0887\"],[0.1111111111111111,\"#46039f\"],[0.2222222222222222,\"#7201a8\"],[0.3333333333333333,\"#9c179e\"],[0.4444444444444444,\"#bd3786\"],[0.5555555555555556,\"#d8576b\"],[0.6666666666666666,\"#ed7953\"],[0.7777777777777778,\"#fb9f3a\"],[0.8888888888888888,\"#fdca26\"],[1.0,\"#f0f921\"]]}],\"mesh3d\":[{\"type\":\"mesh3d\",\"colorbar\":{\"outlinewidth\":0,\"ticks\":\"\"}}],\"scatter\":[{\"fillpattern\":{\"fillmode\":\"overlay\",\"size\":10,\"solidity\":0.2},\"type\":\"scatter\"}],\"parcoords\":[{\"type\":\"parcoords\",\"line\":{\"colorbar\":{\"outlinewidth\":0,\"ticks\":\"\"}}}],\"scatterpolargl\":[{\"type\":\"scatterpolargl\",\"marker\":{\"colorbar\":{\"outlinewidth\":0,\"ticks\":\"\"}}}],\"bar\":[{\"error_x\":{\"color\":\"#2a3f5f\"},\"error_y\":{\"color\":\"#2a3f5f\"},\"marker\":{\"line\":{\"color\":\"#E5ECF6\",\"width\":0.5},\"pattern\":{\"fillmode\":\"overlay\",\"size\":10,\"solidity\":0.2}},\"type\":\"bar\"}],\"scattergeo\":[{\"type\":\"scattergeo\",\"marker\":{\"colorbar\":{\"outlinewidth\":0,\"ticks\":\"\"}}}],\"scatterpolar\":[{\"type\":\"scatterpolar\",\"marker\":{\"colorbar\":{\"outlinewidth\":0,\"ticks\":\"\"}}}],\"histogram\":[{\"marker\":{\"pattern\":{\"fillmode\":\"overlay\",\"size\":10,\"solidity\":0.2}},\"type\":\"histogram\"}],\"scattergl\":[{\"type\":\"scattergl\",\"marker\":{\"colorbar\":{\"outlinewidth\":0,\"ticks\":\"\"}}}],\"scatter3d\":[{\"type\":\"scatter3d\",\"line\":{\"colorbar\":{\"outlinewidth\":0,\"ticks\":\"\"}},\"marker\":{\"colorbar\":{\"outlinewidth\":0,\"ticks\":\"\"}}}],\"scattermapbox\":[{\"type\":\"scattermapbox\",\"marker\":{\"colorbar\":{\"outlinewidth\":0,\"ticks\":\"\"}}}],\"scatterternary\":[{\"type\":\"scatterternary\",\"marker\":{\"colorbar\":{\"outlinewidth\":0,\"ticks\":\"\"}}}],\"scattercarpet\":[{\"type\":\"scattercarpet\",\"marker\":{\"colorbar\":{\"outlinewidth\":0,\"ticks\":\"\"}}}],\"carpet\":[{\"aaxis\":{\"endlinecolor\":\"#2a3f5f\",\"gridcolor\":\"white\",\"linecolor\":\"white\",\"minorgridcolor\":\"white\",\"startlinecolor\":\"#2a3f5f\"},\"baxis\":{\"endlinecolor\":\"#2a3f5f\",\"gridcolor\":\"white\",\"linecolor\":\"white\",\"minorgridcolor\":\"white\",\"startlinecolor\":\"#2a3f5f\"},\"type\":\"carpet\"}],\"table\":[{\"cells\":{\"fill\":{\"color\":\"#EBF0F8\"},\"line\":{\"color\":\"white\"}},\"header\":{\"fill\":{\"color\":\"#C8D4E3\"},\"line\":{\"color\":\"white\"}},\"type\":\"table\"}],\"barpolar\":[{\"marker\":{\"line\":{\"color\":\"#E5ECF6\",\"width\":0.5},\"pattern\":{\"fillmode\":\"overlay\",\"size\":10,\"solidity\":0.2}},\"type\":\"barpolar\"}],\"pie\":[{\"automargin\":true,\"type\":\"pie\"}]},\"layout\":{\"autotypenumbers\":\"strict\",\"colorway\":[\"#636efa\",\"#EF553B\",\"#00cc96\",\"#ab63fa\",\"#FFA15A\",\"#19d3f3\",\"#FF6692\",\"#B6E880\",\"#FF97FF\",\"#FECB52\"],\"font\":{\"color\":\"#2a3f5f\"},\"hovermode\":\"closest\",\"hoverlabel\":{\"align\":\"left\"},\"paper_bgcolor\":\"white\",\"plot_bgcolor\":\"#E5ECF6\",\"polar\":{\"bgcolor\":\"#E5ECF6\",\"angularaxis\":{\"gridcolor\":\"white\",\"linecolor\":\"white\",\"ticks\":\"\"},\"radialaxis\":{\"gridcolor\":\"white\",\"linecolor\":\"white\",\"ticks\":\"\"}},\"ternary\":{\"bgcolor\":\"#E5ECF6\",\"aaxis\":{\"gridcolor\":\"white\",\"linecolor\":\"white\",\"ticks\":\"\"},\"baxis\":{\"gridcolor\":\"white\",\"linecolor\":\"white\",\"ticks\":\"\"},\"caxis\":{\"gridcolor\":\"white\",\"linecolor\":\"white\",\"ticks\":\"\"}},\"coloraxis\":{\"colorbar\":{\"outlinewidth\":0,\"ticks\":\"\"}},\"colorscale\":{\"sequential\":[[0.0,\"#0d0887\"],[0.1111111111111111,\"#46039f\"],[0.2222222222222222,\"#7201a8\"],[0.3333333333333333,\"#9c179e\"],[0.4444444444444444,\"#bd3786\"],[0.5555555555555556,\"#d8576b\"],[0.6666666666666666,\"#ed7953\"],[0.7777777777777778,\"#fb9f3a\"],[0.8888888888888888,\"#fdca26\"],[1.0,\"#f0f921\"]],\"sequentialminus\":[[0.0,\"#0d0887\"],[0.1111111111111111,\"#46039f\"],[0.2222222222222222,\"#7201a8\"],[0.3333333333333333,\"#9c179e\"],[0.4444444444444444,\"#bd3786\"],[0.5555555555555556,\"#d8576b\"],[0.6666666666666666,\"#ed7953\"],[0.7777777777777778,\"#fb9f3a\"],[0.8888888888888888,\"#fdca26\"],[1.0,\"#f0f921\"]],\"diverging\":[[0,\"#8e0152\"],[0.1,\"#c51b7d\"],[0.2,\"#de77ae\"],[0.3,\"#f1b6da\"],[0.4,\"#fde0ef\"],[0.5,\"#f7f7f7\"],[0.6,\"#e6f5d0\"],[0.7,\"#b8e186\"],[0.8,\"#7fbc41\"],[0.9,\"#4d9221\"],[1,\"#276419\"]]},\"xaxis\":{\"gridcolor\":\"white\",\"linecolor\":\"white\",\"ticks\":\"\",\"title\":{\"standoff\":15},\"zerolinecolor\":\"white\",\"automargin\":true,\"zerolinewidth\":2},\"yaxis\":{\"gridcolor\":\"white\",\"linecolor\":\"white\",\"ticks\":\"\",\"title\":{\"standoff\":15},\"zerolinecolor\":\"white\",\"automargin\":true,\"zerolinewidth\":2},\"scene\":{\"xaxis\":{\"backgroundcolor\":\"#E5ECF6\",\"gridcolor\":\"white\",\"linecolor\":\"white\",\"showbackground\":true,\"ticks\":\"\",\"zerolinecolor\":\"white\",\"gridwidth\":2},\"yaxis\":{\"backgroundcolor\":\"#E5ECF6\",\"gridcolor\":\"white\",\"linecolor\":\"white\",\"showbackground\":true,\"ticks\":\"\",\"zerolinecolor\":\"white\",\"gridwidth\":2},\"zaxis\":{\"backgroundcolor\":\"#E5ECF6\",\"gridcolor\":\"white\",\"linecolor\":\"white\",\"showbackground\":true,\"ticks\":\"\",\"zerolinecolor\":\"white\",\"gridwidth\":2}},\"shapedefaults\":{\"line\":{\"color\":\"#2a3f5f\"}},\"annotationdefaults\":{\"arrowcolor\":\"#2a3f5f\",\"arrowhead\":0,\"arrowwidth\":1},\"geo\":{\"bgcolor\":\"white\",\"landcolor\":\"#E5ECF6\",\"subunitcolor\":\"white\",\"showland\":true,\"showlakes\":true,\"lakecolor\":\"white\"},\"title\":{\"x\":0.05},\"mapbox\":{\"style\":\"light\"}}},\"xaxis\":{\"visible\":false},\"yaxis\":{\"visible\":false},\"plot_bgcolor\":\"rgba(0, 0, 0, 0)\",\"paper_bgcolor\":\"rgba(0, 0, 0, 0)\",\"autosize\":true,\"height\":600,\"width\":800},                        {\"responsive\": true}                    ).then(function(){\n",
       "                            \n",
       "var gd = document.getElementById('43f24aab-9ac7-4e2f-8762-264764eefc55');\n",
       "var x = new MutationObserver(function (mutations, observer) {{\n",
       "        var display = window.getComputedStyle(gd).display;\n",
       "        if (!display || display === 'none') {{\n",
       "            console.log([gd, 'removed!']);\n",
       "            Plotly.purge(gd);\n",
       "            observer.disconnect();\n",
       "        }}\n",
       "}});\n",
       "\n",
       "// Listen for the removal of the full notebook cells\n",
       "var notebookContainer = gd.closest('#notebook-container');\n",
       "if (notebookContainer) {{\n",
       "    x.observe(notebookContainer, {childList: true});\n",
       "}}\n",
       "\n",
       "// Listen for the clearing of the current output cell\n",
       "var outputEl = gd.closest('.output');\n",
       "if (outputEl) {{\n",
       "    x.observe(outputEl, {childList: true});\n",
       "}}\n",
       "\n",
       "                        })                };                });            </script>        </div>"
      ]
     },
     "metadata": {},
     "output_type": "display_data"
    }
   ],
   "source": [
    "import numpy as np\n",
    "import plotly.graph_objects as go\n",
    "import plotly.express as px\n",
    "from scipy.spatial import ConvexHull\n",
    "\n",
    "# 假设 tensor_2d 是点的坐标，groups 是点的分组\n",
    "points = tensor_2d\n",
    "categories = groups  # 这包含 'Search', 'Design', 等类别标签\n",
    "\n",
    "# 创建一个类别到索引的映射\n",
    "unique_categories = list(set(categories))\n",
    "category_to_idx = {category: idx for idx, category in enumerate(unique_categories)}\n",
    "\n",
    "# 初始化 Plotly 图形\n",
    "fig = go.Figure()\n",
    "\n",
    "# 获取类别的颜色\n",
    "color_scale = px.colors.sequential.Viridis  # 选择一个颜色调色板\n",
    "\n",
    "# 遍历每个类别\n",
    "for category in unique_categories:\n",
    "    # 获取属于该类别的点\n",
    "    category_points = points[np.array(categories) == category]\n",
    "\n",
    "    if len(category_points) == 2:\n",
    "        # 如果类别只有两个点，绘制一条连接它们的线\n",
    "        category_idx = category_to_idx[category]\n",
    "        color = color_scale[category_idx % len(color_scale)]\n",
    "\n",
    "        # 绘制连接两点的线\n",
    "        fig.add_trace(go.Scatter(\n",
    "            x=category_points[:, 0], y=category_points[:, 1],\n",
    "            mode='lines+markers',  # 线和点\n",
    "            marker=dict(size=8, color=color, opacity=0.6),\n",
    "            name=category,  # 添加类别标签\n",
    "            showlegend=True,  # 显示图例\n",
    "        ))\n",
    "        continue  # 跳过后续的凸包计算\n",
    "\n",
    "    if len(category_points) < 3:\n",
    "        # 对于没有凸包的类别且点数少于3个，可以直接添加到图例\n",
    "        category_idx = category_to_idx[category]\n",
    "        color = color_scale[category_idx % len(color_scale)]\n",
    "\n",
    "        # 添加没有凸包的点到图例\n",
    "        fig.add_trace(go.Scatter(\n",
    "            x=category_points[:, 0], y=category_points[:, 1],\n",
    "            mode='markers',  # 只显示点\n",
    "            marker=dict(size=8, color=color, opacity=0.6),\n",
    "            name=category,  # 添加类别标签\n",
    "            showlegend=True,  # 显示图例\n",
    "        ))\n",
    "        continue  # 跳过没有凸包的点的凸包计算\n",
    "\n",
    "    # 计算该类别点的凸包\n",
    "    hull = ConvexHull(category_points)\n",
    "    hull_points = category_points[hull.vertices]\n",
    "\n",
    "    # 使用 category_to_idx 获取类别的数值索引\n",
    "    category_idx = category_to_idx[category]\n",
    "    \n",
    "    # 使用颜色调色板选择颜色\n",
    "    color = color_scale[category_idx % len(color_scale)]\n",
    "    \n",
    "    fill_color = f\"rgba{tuple(px.colors.hex_to_rgb(color)) + (0.3,)}\"  # 更低的透明度\n",
    "\n",
    "    # 创建该类别的光滑闭合图形\n",
    "    # 创建该类别的光滑闭合图形，但不绘制边界点\n",
    "    fig.add_trace(go.Scatter(\n",
    "        x=hull_points[:, 0], y=hull_points[:, 1],\n",
    "        fill='toself',\n",
    "        fillcolor=fill_color,  # 使用选定的颜色\n",
    "        line=dict(width=0),  # 不绘制边界线\n",
    "        showlegend=True,  # 显示图例\n",
    "        name=category,  # 添加类别标签\n",
    "        marker=dict(size=8, color=color, colorscale='Viridis', opacity=0.6), # 确保填充颜色统一\n",
    "    ))\n",
    "\n",
    "# 将每个点的类别转换为数值索引\n",
    "numeric_colors = [category_to_idx[category] for category in categories]\n",
    "\n",
    "# 添加点的散点图，并且隐藏图例\n",
    "fig.add_trace(go.Scatter(\n",
    "    x=points[:, 0], y=points[:, 1],\n",
    "    mode='markers+text',\n",
    "    marker=dict(\n",
    "        size=8,\n",
    "        color=[color_scale[category_to_idx[category] % len(color_scale)] for category in categories],  # 统一颜色映射\n",
    "        colorscale='Viridis',\n",
    "        opacity=0.6\n",
    "    ),\n",
    "    text=short_names,\n",
    "    textposition='bottom center',\n",
    "    textfont=dict(size=12),\n",
    "    hoverinfo='text',\n",
    "    showlegend=False\n",
    "))\n",
    "\n",
    "# 去掉轴和背景，并调整图像的纵横比\n",
    "fig.update_layout(\n",
    "    xaxis_visible=False,\n",
    "    yaxis_visible=False,\n",
    "    plot_bgcolor='rgba(0, 0, 0, 0)',  # 去掉背景颜色\n",
    "    paper_bgcolor='rgba(0, 0, 0, 0)',  # 去掉纸张背景颜色\n",
    "    autosize=True,  # 自动调整大小\n",
    "    height=600,  # 增大高度\n",
    "    width=800,   # 减小宽度\n",
    ")\n",
    "\n",
    "# 让x轴从右往左\n",
    "# fig.update_xaxes(autorange='reversed')\n",
    "\n",
    "# 显示图形\n",
    "fig.show()\n",
    "\n",
    "# 保存图形到svg\n",
    "fig.write_image(\"output.svg\")\n"
   ]
  }
 ],
 "metadata": {
  "kernelspec": {
   "display_name": "agent",
   "language": "python",
   "name": "python3"
  },
  "language_info": {
   "codemirror_mode": {
    "name": "ipython",
    "version": 3
   },
   "file_extension": ".py",
   "mimetype": "text/x-python",
   "name": "python",
   "nbconvert_exporter": "python",
   "pygments_lexer": "ipython3",
   "version": "3.10.0"
  }
 },
 "nbformat": 4,
 "nbformat_minor": 2
}
