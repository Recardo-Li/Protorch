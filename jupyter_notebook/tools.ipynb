{
 "cells": [
  {
   "cell_type": "code",
   "execution_count": 1,
   "id": "7430e1ac",
   "metadata": {},
   "outputs": [],
   "source": [
    "%load_ext autoreload\n",
    "%autoreload 2\n",
    "\n",
    "import sys\n",
    "sys.path.append(\"/root/ProtAgent\")\n",
    "import os\n",
    "import yaml"
   ]
  },
  {
   "cell_type": "code",
   "execution_count": 2,
   "id": "72eeb66b",
   "metadata": {},
   "outputs": [
    {
     "name": "stderr",
     "output_type": "stream",
     "text": [
      "/home/public/miniconda3/envs/protagent_backbone/lib/python3.10/site-packages/tqdm/auto.py:21: TqdmWarning: IProgress not found. Please update jupyter and ipywidgets. See https://ipywidgets.readthedocs.io/en/stable/user_install.html\n",
      "  from .autonotebook import tqdm as notebook_tqdm\n"
     ]
    }
   ],
   "source": [
    "from agent.tools.tool_manager import ToolManager"
   ]
  },
  {
   "cell_type": "code",
   "execution_count": 3,
   "id": "daba6d50",
   "metadata": {},
   "outputs": [],
   "source": [
    "tool_manager = ToolManager(enable_quick_run=False)"
   ]
  },
  {
   "cell_type": "code",
   "execution_count": 4,
   "id": "c1cafc0c",
   "metadata": {},
   "outputs": [
    {
     "data": {
      "text/plain": [
       "dict_keys(['alphafold2', 'blast', 'clustalw', 'chat', 'deepab', 'diffab_design', 'diffab_optimize', 'esmfold', 'fasta2seq', 'foldseek', 'get_pdb', 'hmmsearch', 'hhalign', 'hhblits', 'hhfilter', 'hhmake', 'hhsearch', 'interproscan', 'mmseqs_cluster', 'mmseqs_group', 'mmseqs_search', 'mmseqs_msa', 'pdb2aaseq', 'pfam_entry', 'pfam_match', 'pinal', 'proteinmpnn', 'protrek_protein2protein', 'protrek_protein2structure', 'protrek_protein2text', 'protrek_structure2protein', 'protrek_structure2structure', 'protrek_structure2text', 'protrek_text2protein', 'protrek_text2structure', 'pubmed', 'rfdiffusion_binder_design', 'rfdiffusion_motif_scaffolding', 'rfdiffusion_partial_diffusion', 'rfdiffusion', 'saprot_tuned_inference_classification', 'saprot_tuned_inference_regression', 'saprot_tuned_inference_token_classification', 'saprot_mutation_bypos', 'saprot_mutation_byinfo', 'saprot_tune_classification', 'saprot_tune_pair_classification', 'saprot_tune_regression', 'saprot_tune_token_classification', 'seq2fasta', 'tmalign', 'umol', 'uniprot_fetch_byid', 'uniprot_query'])"
      ]
     },
     "execution_count": 4,
     "metadata": {},
     "output_type": "execute_result"
    }
   ],
   "source": [
    "tool_manager.tools.keys()"
   ]
  },
  {
   "cell_type": "code",
   "execution_count": 5,
   "id": "17cf91fb",
   "metadata": {},
   "outputs": [],
   "source": [
    "toolname = \"esmfold\"\n",
    "\n",
    "input_args = {\n",
    "    \"protein_sequence\": \"AAAAAAA\",\n",
    "}"
   ]
  },
  {
   "cell_type": "code",
   "execution_count": 6,
   "id": "61e2e9f8",
   "metadata": {},
   "outputs": [
    {
     "name": "stdout",
     "output_type": "stream",
     "text": [
      "Running log: \n",
      "Some weights of EsmForProteinFolding were not initialized from the model checkpoint at /root/ProtAgent/modelhub/esmfold_v1 and are newly initialized: ['esm.contact_head.regression.bias', 'esm.contact_head.regression.weight']\n",
      "You should probably TRAIN this model on a down-stream task to be able to use it for predictions and inference.\n",
      "\n",
      "\n",
      "Results: \n",
      "{'save_path': 'esmfold/20250624_0741/esmfold_prediction.pdb', 'avg_plddt': 63.328857142857146}\n"
     ]
    }
   ],
   "source": [
    "for obs in tool_manager.call(toolname, input_args):\n",
    "    from IPython import display\n",
    "    display.clear_output(wait=True)\n",
    "    print(obs)"
   ]
  }
 ],
 "metadata": {
  "kernelspec": {
   "display_name": "protagent_backbone",
   "language": "python",
   "name": "python3"
  },
  "language_info": {
   "codemirror_mode": {
    "name": "ipython",
    "version": 3
   },
   "file_extension": ".py",
   "mimetype": "text/x-python",
   "name": "python",
   "nbconvert_exporter": "python",
   "pygments_lexer": "ipython3",
   "version": "3.10.0"
  }
 },
 "nbformat": 4,
 "nbformat_minor": 5
}
