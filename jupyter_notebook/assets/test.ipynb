{
 "cells": [
  {
   "cell_type": "code",
   "execution_count": 1,
   "id": "initial_id",
   "metadata": {
    "ExecuteTime": {
     "end_time": "2025-04-07T06:08:02.820590Z",
     "start_time": "2025-04-07T06:07:58.984138200Z"
    },
    "collapsed": true
   },
   "outputs": [
    {
     "name": "stderr",
     "output_type": "stream",
     "text": [
      "/home/public/miniconda3/envs/protagent_backbone/lib/python3.10/site-packages/tqdm/auto.py:21: TqdmWarning: IProgress not found. Please update jupyter and ipywidgets. See https://ipywidgets.readthedocs.io/en/stable/user_install.html\n",
      "  from .autonotebook import tqdm as notebook_tqdm\n"
     ]
    }
   ],
   "source": [
    "%load_ext autoreload\n",
    "%autoreload 2\n",
    "\n",
    "import sys\n",
    "sys.path.append(\"/root/ProtAgent\")\n",
    "import os\n",
    "import yaml\n",
    "import json\n",
    "\n",
    "import json_repair\n",
    "import pandas as pd\n",
    "from agent.tools.tool_manager import ToolManager\n",
    "from agent.agent.sujin_multi_agent_backbone import MultiAgentBackbone\n",
    "from agent.agent.sujin_multi_agent_api.evaluator import ResponseEvaluatorAPI"
   ]
  },
  {
   "cell_type": "code",
   "execution_count": 2,
   "id": "583dfa6d",
   "metadata": {},
   "outputs": [],
   "source": [
    "import pandas as pd\n",
    "from agent.tools.tool_manager import ToolManager\n",
    "from agent.agent.sujin_multi_agent_backbone import MultiAgentBackbone\n",
    "from agent.agent.sujin_multi_agent_api.evaluator import ResponseEvaluatorAPI"
   ]
  },
  {
   "cell_type": "code",
   "execution_count": 3,
   "id": "92804069",
   "metadata": {},
   "outputs": [],
   "source": [
    "tool_manager = ToolManager(enable_quick_run=False)\n",
    "tool_manager.set_out_dir(\"/home/public/ProtAgent/examples\")"
   ]
  },
  {
   "cell_type": "code",
   "execution_count": 4,
   "id": "7d84d4ee95ff218c",
   "metadata": {
    "ExecuteTime": {
     "end_time": "2025-04-07T06:08:32.840497800Z",
     "start_time": "2025-04-07T06:08:03.690542600Z"
    },
    "collapsed": false
   },
   "outputs": [],
   "source": [
    "backbone = MultiAgentBackbone(model_name=\"qwen-turbo\", tool_manager=tool_manager)"
   ]
  },
  {
   "cell_type": "code",
   "execution_count": 5,
   "id": "90b6c4c2",
   "metadata": {},
   "outputs": [],
   "source": [
    "query = \"scaffold the residues index 10-30 of pdb id 1xiw chain A\""
   ]
  },
  {
   "cell_type": "code",
   "execution_count": 8,
   "id": "7a20cd1eefe1f46c",
   "metadata": {
    "collapsed": false
   },
   "outputs": [
    {
     "name": "stdout",
     "output_type": "stream",
     "text": [
      "{\n",
      "    \"sender\": \"planner\",\n",
      "    \"content\": {\n",
      "        \"user_request\": \"scaffold the residues index 10-30 of pdb id 1xiw chain A\",\n",
      "        \"analysis\": \"The user wants to scaffold residues 10-30 of chain A from the protein structure with PDB ID 1xiw. This requires a tool capable of motif scaffolding based on a given PDB structure.\",\n",
      "        \"step_1\": {\n",
      "            \"tool\": \"get_pdb\",\n",
      "            \"reason\": \"Retrieve the PDB file for the given PDB ID 1xiw to ensure we have the correct structure for scaffolding.\"\n",
      "        },\n",
      "        \"step_2\": {\n",
      "            \"tool\": \"rfdiffusion_motif_scaffolding\",\n",
      "            \"reason\": \"Use the RFDiffusion Motif Scaffolding tool to scaffold the specified residues (10-30) of chain A from the retrieved PDB structure.\"\n",
      "        },\n",
      "        \"step_3\": {\n",
      "            \"tool\": \"chat\",\n",
      "            \"reason\": \"Inform the user about the completion of the scaffolding process and provide the results or next steps.\"\n",
      "        }\n",
      "    }\n",
      "}\n",
      "{\n",
      "    \"sender\": \"plan_optimizer\",\n",
      "    \"content\": {\n",
      "        \"user_request\": \"scaffold the residues index 10-30 of pdb id 1xiw chain A\",\n",
      "        \"analysis\": \"The user wants to scaffold residues 10-30 of chain A from the protein structure with PDB ID 1xiw. This requires a tool capable of motif scaffolding based on a given PDB structure.\",\n",
      "        \"step_1\": {\n",
      "            \"tool\": \"get_pdb\",\n",
      "            \"reason\": \"Retrieve the PDB file for the given PDB ID 1xiw to ensure we have the correct structure for scaffolding.\"\n",
      "        },\n",
      "        \"step_2\": {\n",
      "            \"tool\": \"rfdiffusion_motif_scaffolding\",\n",
      "            \"reason\": \"Use the RFDiffusion Motif Scaffolding tool to scaffold the specified residues (10-30) of chain A from the retrieved PDB structure.\"\n",
      "        },\n",
      "        \"step_3\": {\n",
      "            \"tool\": \"chat\",\n",
      "            \"reason\": \"Inform the user about the completion of the scaffolding process and provide the results or next steps.\"\n",
      "        }\n",
      "    }\n",
      "}\n",
      "{\n",
      "    \"sender\": \"tool_executor\",\n",
      "    \"content\": {\n",
      "        \"current_step\": \"step_1\",\n",
      "        \"tool_name\": \"get_pdb\",\n",
      "        \"analysis\": \"The required parameter 'pdb_id' is present in the user request and can be extracted directly from the context.\",\n",
      "        \"tool_arg\": {\n",
      "            \"pdb_id\": \"1xiw\"\n",
      "        },\n",
      "        \"running_log\": \"Running log: \\nDownload starting at: 2025-06-06 11:37:51\\nSuccessfully downloaded PDB file: 1xiw\\nFile saved at: 1xiw.cif\\nDownload completed at: 2025-06-06 11:37:55\\nTotal time taken: 4.017567\\n\\n\\nResults: \\n{'pdb_file': '1xiw.cif', 'duration': '4.017567\\\\n'}\",\n",
      "        \"results\": {\n",
      "            \"pdb_file\": \"1xiw.cif\",\n",
      "            \"duration\": \"4.017567\\n\"\n",
      "        },\n",
      "        \"status\": \"success\"\n",
      "    }\n",
      "}\n"
     ]
    },
    {
     "ename": "RuntimeError",
     "evalue": "No active exception to reraise",
     "output_type": "error",
     "traceback": [
      "\u001b[0;31m---------------------------------------------------------------------------\u001b[0m",
      "\u001b[0;31mRuntimeError\u001b[0m                              Traceback (most recent call last)",
      "Cell \u001b[0;32mIn[8], line 14\u001b[0m\n\u001b[1;32m     12\u001b[0m         running_log \u001b[38;5;241m=\u001b[39m msg\u001b[38;5;241m.\u001b[39mget(\u001b[38;5;124m\"\u001b[39m\u001b[38;5;124mcontent\u001b[39m\u001b[38;5;124m\"\u001b[39m, {})\u001b[38;5;241m.\u001b[39mget(\u001b[38;5;124m\"\u001b[39m\u001b[38;5;124mrunning_log\u001b[39m\u001b[38;5;124m\"\u001b[39m, \u001b[38;5;124m\"\u001b[39m\u001b[38;5;124m\"\u001b[39m)\n\u001b[1;32m     13\u001b[0m         \u001b[38;5;28;01mif\u001b[39;00m running_log \u001b[38;5;129;01mand\u001b[39;00m \u001b[38;5;124m\"\u001b[39m\u001b[38;5;124mrf\u001b[39m\u001b[38;5;124m\"\u001b[39m \u001b[38;5;129;01min\u001b[39;00m tool_name:\n\u001b[0;32m---> 14\u001b[0m             \u001b[38;5;28;01mraise\u001b[39;00m\n\u001b[1;32m     15\u001b[0m \u001b[38;5;28mprint\u001b[39m(json\u001b[38;5;241m.\u001b[39mdumps(msg, indent\u001b[38;5;241m=\u001b[39m\u001b[38;5;241m4\u001b[39m))\n",
      "\u001b[0;31mRuntimeError\u001b[0m: No active exception to reraise"
     ]
    }
   ],
   "source": [
    "for response in backbone.stream_chat(query):\n",
    "    from IPython import display\n",
    "    display.clear_output(wait=True)\n",
    "    \n",
    "    for msg in json_repair.loads(response.content):\n",
    "        if isinstance(msg, str):\n",
    "            msg = json_repair.loads(msg)\n",
    "        \n",
    "        if isinstance(msg, dict):\n",
    "            if msg.get(\"sender\") == \"tool_executor\":\n",
    "                tool_name = msg.get(\"content\", {}).get(\"tool_name\", \"\")\n",
    "                running_log = msg.get(\"content\", {}).get(\"running_log\", \"\")\n",
    "                if running_log and \"rf\" in tool_name:\n",
    "                    raise\n",
    "        print(json.dumps(msg, indent=4))\n",
    "\n",
    "\n"
   ]
  },
  {
   "cell_type": "code",
   "execution_count": 25,
   "id": "e4406ccb",
   "metadata": {},
   "outputs": [
    {
     "name": "stdout",
     "output_type": "stream",
     "text": [
      "{'contigs': '10/A10-30/10', 'protein_structure': '1xiw.cif', 'chains': 'A'}\n"
     ]
    }
   ],
   "source": [
    "tool_args = backbone.tool_executor.tool_arg\n",
    "print(tool_args)"
   ]
  },
  {
   "cell_type": "code",
   "execution_count": 29,
   "id": "387fe39f",
   "metadata": {},
   "outputs": [
    {
     "data": {
      "text/plain": [
       "'rfdiffusion_motif_scaffolding'"
      ]
     },
     "execution_count": 29,
     "metadata": {},
     "output_type": "execute_result"
    }
   ],
   "source": [
    "tool_name"
   ]
  },
  {
   "cell_type": "code",
   "execution_count": 1,
   "id": "cd473527",
   "metadata": {},
   "outputs": [],
   "source": [
    "tool_name = 'rfdiffusion_motif_scaffolding'\n",
    "tool_args = {'contigs': '10/A10-30/10', 'protein_structure': '1xiw.cif', 'chains': 'A'}"
   ]
  },
  {
   "cell_type": "code",
   "execution_count": 2,
   "id": "3a502082",
   "metadata": {},
   "outputs": [
    {
     "name": "stderr",
     "output_type": "stream",
     "text": [
      "/home/public/miniconda3/envs/protagent_backbone/lib/python3.10/site-packages/tqdm/auto.py:21: TqdmWarning: IProgress not found. Please update jupyter and ipywidgets. See https://ipywidgets.readthedocs.io/en/stable/user_install.html\n",
      "  from .autonotebook import tqdm as notebook_tqdm\n"
     ]
    }
   ],
   "source": [
    "import sys\n",
    "sys.path.append(\"/root/ProtAgent\")\n",
    "from agent.tools.tool_manager import ToolManager\n",
    "\n",
    "tool_manager = ToolManager(enable_quick_run=False)\n",
    "tool_manager.set_out_dir(\"/home/public/ProtAgent/examples\")"
   ]
  },
  {
   "cell_type": "code",
   "execution_count": 3,
   "id": "7f3c00f9",
   "metadata": {},
   "outputs": [],
   "source": [
    "tool = tool_manager.tools[tool_name]"
   ]
  },
  {
   "cell_type": "code",
   "execution_count": 6,
   "id": "cfaae5c7",
   "metadata": {},
   "outputs": [],
   "source": [
    "from agent.tools.rfdiffusion.motif_caller import RFMotifCaller\n",
    "\n",
    "tool = RFMotifCaller(\"/home/public/ProtAgent/examples\")"
   ]
  },
  {
   "cell_type": "code",
   "execution_count": 5,
   "id": "41927272",
   "metadata": {},
   "outputs": [
    {
     "name": "stdout",
     "output_type": "stream",
     "text": [
      "tool_arg: {'contigs': '10/A10-30/10', 'protein_structure': '1xiw.cif', 'chains': 'A'}\n",
      "checking results: {}\n",
      "activating RFExecutor\n",
      "Initializing RFExecutor\n",
      "Received parameters: rf_root=/root/ProtAgent/modelhub/RFdiffusion, path=/home/public/ProtAgent/examples/rfdiffusion/20250606_1210, python=/home/public/miniconda3/envs/SE3nv/bin/python, iterations=50, symmetry=None, order=1, hotspot=None, chains=A, num_designs=1\n",
      "ready to run RFExecutor\n",
      "Received contigs: 10/A10-30/10\n",
      "Received PDB: /home/public/ProtAgent/examples/1xiw.cif\n"
     ]
    },
    {
     "name": "stderr",
     "output_type": "stream",
     "text": [
      "Process Process-111:\n",
      "Traceback (most recent call last):\n",
      "  File \"/home/public/miniconda3/envs/protagent_backbone/lib/python3.10/multiprocessing/process.py\", line 315, in _bootstrap\n",
      "    self.run()\n",
      "  File \"/home/public/miniconda3/envs/protagent_backbone/lib/python3.10/multiprocessing/process.py\", line 108, in run\n",
      "    self._target(*self._args, **self._kwargs)\n",
      "  File \"/root/ProtAgent/agent/tools/base_tool.py\", line 147, in run\n",
      "    raise e\n",
      "  File \"/root/ProtAgent/agent/tools/base_tool.py\", line 144, in run\n",
      "    results = self(**tool_arg)\n",
      "  File \"/root/ProtAgent/agent/tools/rfdiffusion/motif_caller.py\", line 50, in __call__\n",
      "    executor.run_diffusion(contigs, protein_structure, self.log_path)\n",
      "  File \"/root/ProtAgent/agent/tools/rfdiffusion/runrf.py\", line 532, in run_diffusion\n",
      "    parsed_pdb = parse_pdb(pdb_filename)\n",
      "  File \"/root/ProtAgent/agent/tools/rfdiffusion/runrf.py\", line 254, in parse_pdb\n",
      "    return parse_pdb_lines(lines, **kwargs)\n",
      "  File \"/root/ProtAgent/agent/tools/rfdiffusion/runrf.py\", line 279, in parse_pdb_lines\n",
      "    int(l[22:26]),\n",
      "ValueError: invalid literal for int() with base 10: 'L A '\n"
     ]
    },
    {
     "name": "stdout",
     "output_type": "stream",
     "text": [
      "Running log: \n",
      "No log file\n",
      "\n",
      "\n",
      "Running log: \n",
      "No log file\n",
      "\n",
      "\n",
      "Running log: \n",
      "No log file\n",
      "\n",
      "\n",
      "Running log: \n",
      "No log file\n",
      "\n",
      "\n",
      "Running log: \n",
      "No log file\n",
      "\n",
      "\n",
      "Running log: \n",
      "No log file\n",
      "\n",
      "\n",
      "Running log: \n",
      "No log file\n",
      "\n",
      "\n",
      "Running log: \n",
      "No log file\n",
      "\n",
      "\n",
      "Running log: \n",
      "No log file\n",
      "\n",
      "\n",
      "Running log: \n",
      "No log file\n",
      "\n",
      "\n",
      "Running log: \n",
      "No log file\n",
      "\n",
      "\n",
      "Running log: \n",
      "No log file\n",
      "\n",
      "\n",
      "Running log: \n",
      "No log file\n",
      "\n",
      "\n",
      "Running log: \n",
      "No log file\n",
      "\n",
      "\n",
      "Running log: \n",
      "No log file\n",
      "\n",
      "\n",
      "Running log: \n",
      "No log file\n",
      "\n",
      "\n",
      "Running log: \n",
      "No log file\n",
      "\n",
      "\n",
      "Running log: \n",
      "No log file\n",
      "\n",
      "\n",
      "Running log: \n",
      "No log file\n",
      "\n",
      "\n",
      "Running log: \n",
      "No log file\n",
      "\n",
      "\n",
      "Running log: \n",
      "No log file\n",
      "\n",
      "\n",
      "Running log: \n",
      "No log file\n",
      "\n",
      "\n",
      "Running log: \n",
      "No log file\n",
      "\n",
      "\n",
      "Running log: \n",
      "No log file\n",
      "\n",
      "\n",
      "Running log: \n",
      "No log file\n",
      "\n",
      "\n",
      "Running log: \n",
      "No log file\n",
      "\n",
      "\n",
      "Running log: \n",
      "No log file\n",
      "\n",
      "\n",
      "Running log: \n",
      "No log file\n",
      "\n",
      "\n",
      "Running log: \n",
      "No log file\n",
      "\n",
      "\n",
      "Running log: \n",
      "No log file\n",
      "\n",
      "\n",
      "Running log: \n",
      "No log file\n",
      "\n",
      "\n",
      "Running log: \n",
      "No log file\n",
      "\n",
      "\n",
      "Running log: \n",
      "No log file\n",
      "\n",
      "\n",
      "Running log: \n",
      "No log file\n",
      "\n",
      "\n",
      "Running log: \n",
      "No log file\n",
      "\n",
      "\n",
      "Running log: \n",
      "No log file\n",
      "\n",
      "\n",
      "Running log: \n",
      "No log file\n",
      "\n",
      "\n",
      "Running log: \n",
      "No log file\n",
      "\n",
      "\n",
      "Running log: \n",
      "No log file\n",
      "\n",
      "\n",
      "Running log: \n",
      "No log file\n",
      "\n",
      "\n",
      "Running log: \n",
      "No log file\n",
      "\n",
      "\n",
      "Running log: \n",
      "No log file\n",
      "\n",
      "\n",
      "Running log: \n",
      "No log file\n",
      "\n",
      "\n",
      "Running log: \n",
      "No log file\n",
      "\n",
      "\n",
      "Running log: \n",
      "No log file\n",
      "\n",
      "\n",
      "Running log: \n",
      "No log file\n",
      "\n",
      "\n",
      "Running log: \n",
      "No log file\n",
      "\n",
      "\n",
      "Running log: \n",
      "No log file\n",
      "\n",
      "\n",
      "Running log: \n",
      "No log file\n",
      "\n",
      "\n",
      "Running log: \n",
      "No log file\n",
      "\n",
      "\n",
      "Running log: \n",
      "No log file\n",
      "\n",
      "\n",
      "Running log: \n",
      "No log file\n",
      "\n",
      "\n",
      "Running log: \n",
      "No log file\n",
      "\n",
      "\n",
      "Running log: \n",
      "No log file\n",
      "\n",
      "\n",
      "Running log: \n",
      "No log file\n",
      "\n",
      "\n"
     ]
    },
    {
     "ename": "KeyboardInterrupt",
     "evalue": "",
     "output_type": "error",
     "traceback": [
      "\u001b[0;31m---------------------------------------------------------------------------\u001b[0m",
      "\u001b[0;31mKeyboardInterrupt\u001b[0m                         Traceback (most recent call last)",
      "Cell \u001b[0;32mIn[5], line 1\u001b[0m\n\u001b[0;32m----> 1\u001b[0m \u001b[38;5;28;01mfor\u001b[39;00m obs \u001b[38;5;129;01min\u001b[39;00m tool\u001b[38;5;241m.\u001b[39mmp_run(\u001b[38;5;241m*\u001b[39m\u001b[38;5;241m*\u001b[39mtool_args):\n\u001b[1;32m      2\u001b[0m     \u001b[38;5;66;03m# from IPython import display\u001b[39;00m\n\u001b[1;32m      3\u001b[0m     \u001b[38;5;66;03m# display.clear_output(wait=True)\u001b[39;00m\n\u001b[1;32m      4\u001b[0m     \u001b[38;5;28mprint\u001b[39m(obs)\n",
      "File \u001b[0;32m~/ProtAgent/agent/tools/base_tool.py:209\u001b[0m, in \u001b[0;36mBaseTool.mp_run\u001b[0;34m(self, *args, **kwargs)\u001b[0m\n\u001b[1;32m    206\u001b[0m     obs \u001b[38;5;241m=\u001b[39m \u001b[38;5;124m\"\u001b[39m\u001b[38;5;124mRunning log: \u001b[39m\u001b[38;5;130;01m\\n\u001b[39;00m\u001b[38;5;124m\"\u001b[39m \\\n\u001b[1;32m    207\u001b[0m           \u001b[38;5;124mf\u001b[39m\u001b[38;5;124m\"\u001b[39m\u001b[38;5;132;01m{\u001b[39;00mlog\u001b[38;5;132;01m}\u001b[39;00m\u001b[38;5;130;01m\\n\u001b[39;00m\u001b[38;5;130;01m\\n\u001b[39;00m\u001b[38;5;124m\"\u001b[39m\n\u001b[1;32m    208\u001b[0m     \u001b[38;5;28;01myield\u001b[39;00m obs\n\u001b[0;32m--> 209\u001b[0m     \u001b[43mtime\u001b[49m\u001b[38;5;241;43m.\u001b[39;49m\u001b[43msleep\u001b[49m\u001b[43m(\u001b[49m\u001b[38;5;241;43m1\u001b[39;49m\u001b[43m)\u001b[49m\n\u001b[1;32m    211\u001b[0m \u001b[38;5;66;03m# Read the final log file when the process is done\u001b[39;00m\n\u001b[1;32m    212\u001b[0m \u001b[38;5;28;01mif\u001b[39;00m os\u001b[38;5;241m.\u001b[39mpath\u001b[38;5;241m.\u001b[39mexists(\u001b[38;5;28mself\u001b[39m\u001b[38;5;241m.\u001b[39mlog_path):\n",
      "\u001b[0;31mKeyboardInterrupt\u001b[0m: "
     ]
    }
   ],
   "source": [
    "for obs in tool.mp_run(**tool_args):\n",
    "    # from IPython import display\n",
    "    # display.clear_output(wait=True)\n",
    "    print(obs)"
   ]
  },
  {
   "cell_type": "code",
   "execution_count": 11,
   "id": "d1733ae6",
   "metadata": {},
   "outputs": [
    {
     "data": {
      "text/plain": [
       "'rfdiffusion_motif_scaffolding'"
      ]
     },
     "execution_count": 11,
     "metadata": {},
     "output_type": "execute_result"
    }
   ],
   "source": [
    "backbone.tool_executor.tool_name"
   ]
  },
  {
   "cell_type": "code",
   "execution_count": 9,
   "id": "58402742",
   "metadata": {},
   "outputs": [
    {
     "data": {
      "text/plain": [
       "{'sender': 'tool_executor',\n",
       " 'content': {'current_step': 'step_2',\n",
       "  'tool_name': 'rfdiffusion_motif_scaffolding',\n",
       "  'analysis': \"The required parameter 'contigs' can be derived from the user request 'residues index 10-30'. The 'protein_structure' parameter can be obtained from the previous step where the PDB file was downloaded. The 'chains' parameter is specified as 'A' in the user request.\",\n",
       "  'tool_arg': {'contigs': '10/A10-30/10',\n",
       "   'protein_structure': '1xiw.cif',\n",
       "   'chains': 'A'},\n",
       "  'running_log': 'Running log: \\nNo log file\\n\\nResults: \\n{\\'error\\': \"invalid literal for int() with base 10: \\'L A \\'\"}'}}"
      ]
     },
     "execution_count": 9,
     "metadata": {},
     "output_type": "execute_result"
    }
   ],
   "source": [
    "msg"
   ]
  },
  {
   "cell_type": "code",
   "execution_count": 7,
   "id": "fb5bed7b",
   "metadata": {},
   "outputs": [
    {
     "data": {
      "text/plain": [
       "[{'sender': 'plan_optimizer',\n",
       "  'content': {'error': 'can only concatenate str (not \"NoneType\") to str'}},\n",
       " {'sender': 'plan_optimizer', 'content': {'error': \"'user_request'\"}},\n",
       " {'sender': 'plan_optimizer',\n",
       "  'content': {'error': 'can only concatenate str (not \"NoneType\") to str'}},\n",
       " {'sender': 'plan_optimizer', 'content': {'error': \"'user_request'\"}},\n",
       " {'sender': 'plan_optimizer',\n",
       "  'content': {'error': 'can only concatenate str (not \"NoneType\") to str'}},\n",
       " {'sender': 'plan_optimizer', 'content': {'error': \"'user_request'\"}},\n",
       " {'sender': 'plan_optimizer',\n",
       "  'content': {'error': 'can only concatenate str (not \"NoneType\") to str'}},\n",
       " {'sender': 'plan_optimizer', 'content': {'error': \"'user_request'\"}},\n",
       " {'sender': 'plan_optimizer',\n",
       "  'content': {'error': 'can only concatenate str (not \"NoneType\") to str'}},\n",
       " {'sender': 'plan_optimizer', 'content': {'error': \"'user_request'\"}}]"
      ]
     },
     "execution_count": 7,
     "metadata": {},
     "output_type": "execute_result"
    }
   ],
   "source": [
    "json_repair.loads(response.content)\n"
   ]
  },
  {
   "cell_type": "code",
   "execution_count": null,
   "id": "b3e68748",
   "metadata": {},
   "outputs": [],
   "source": [
    "tool_manager = ToolManager(enable_quick_run=False)\n",
    "tool_manager.set_out_dir(\"/home/public/ProtAgent/examples\")"
   ]
  },
  {
   "cell_type": "code",
   "execution_count": 8,
   "id": "602a38c4",
   "metadata": {},
   "outputs": [],
   "source": [
    "from agent.agent.sujin_multi_agent_api.query_parser import QueryParserAPI\n",
    "\n",
    "\n",
    "\n",
    "query_parser = QueryParserAPI(tool_manager=tool_manager, model_name=\"claude-sonnet-4-20250514\")\n",
    "\n",
    "query = \"describe the function of this protein?MLGYKCLHWNNLIDLPPLKDPETFSLPSSIPHWPPGQGFGSGTINLGKLQVIKITDFEFIWRYRSTEKKKNISFYKPKGLLPKDFHCLGHYCQSDSHPLRGYVLAARDLVDSLEQVEKPALVEPVDFTLVWSSNDSAENECSSKSECGYFWLPQPPEGYRSIGFVVTKTSVKPELNEVRCVRADLTDICEPHNVIVTAVSESLGVPLFIWRTRPSDRGMWGKGVSAGTFFCRTRLVAAREDLGIGIACLKNLDLSLHAMPNVDQIQALIQHYGPTLVFHPGETYLPSSVSWFFKNGAVLCEKGNPIEEPIDENGSNLPQGGSNDKQFWIDLPCDDQQRDFVKRGNLESSKLYIHIKPALGGTFTDLVFWIFCPFNGPATLKLGLVDISLISIGQHVCDWEHFTLRISNFSGELYSIYLSQHSGGEWIEAYDLEIIPGSNKAVVYSSKHGHASFPRAGTYLQGSTMLGIGIRNDTARSELLVDSSSRYEIIAAEYLSGNSVLAEPPWLQYMREWGPKVVYDSREEIERLVNRFPRTVRVSLATVLRKLPVELSGEEGPTGPKEKNNWYGDERC\""
   ]
  },
  {
   "cell_type": "code",
   "execution_count": 11,
   "id": "541e96cd",
   "metadata": {},
   "outputs": [
    {
     "name": "stdout",
     "output_type": "stream",
     "text": [
      "\n",
      "\n",
      "<QueryParser>\n",
      "{\n",
      "<QueryParser>\n",
      "{\n",
      "    \"sender\": \"query_parser\",\n",
      "<QueryParser>\n",
      "{\n",
      "    \"sender\": \"query_parser\",\n",
      "    \"content\": {\n",
      "        \"AA\n",
      "<QueryParser>\n",
      "{\n",
      "    \"sender\": \"query_parser\",\n",
      "    \"content\": {\n",
      "        \"AA_SEQUENCE\": [\"\n",
      "<QueryParser>\n",
      "{\n",
      "    \"sender\": \"query_parser\",\n",
      "    \"content\": {\n",
      "        \"AA_SEQUENCE\": [\"MLGYKCL\n",
      "<QueryParser>\n",
      "{\n",
      "    \"sender\": \"query_parser\",\n",
      "    \"content\": {\n",
      "        \"AA_SEQUENCE\": [\"MLGYKCLHWNNLIDLPPLKDP\n",
      "<QueryParser>\n",
      "{\n",
      "    \"sender\": \"query_parser\",\n",
      "    \"content\": {\n",
      "        \"AA_SEQUENCE\": [\"MLGYKCLHWNNLIDLPPLKDPETFSLPSSIPHWPPGQ\n",
      "<QueryParser>\n",
      "{\n",
      "    \"sender\": \"query_parser\",\n",
      "    \"content\": {\n",
      "        \"AA_SEQUENCE\": [\"MLGYKCLHWNNLIDLPPLKDPETFSLPSSIPHWPPGQGFGSGTINLGKLQV\n",
      "<QueryParser>\n",
      "{\n",
      "    \"sender\": \"query_parser\",\n",
      "    \"content\": {\n",
      "        \"AA_SEQUENCE\": [\"MLGYKCLHWNNLIDLPPLKDPETFSLPSSIPHWPPGQGFGSGTINLGKLQVIKITDFEFIWRYRSTEKKKN\n",
      "<QueryParser>\n",
      "{\n",
      "    \"sender\": \"query_parser\",\n",
      "    \"content\": {\n",
      "        \"AA_SEQUENCE\": [\"MLGYKCLHWNNLIDLPPLKDPETFSLPSSIPHWPPGQGFGSGTINLGKLQVIKITDFEFIWRYRSTEKKKNISFYKPKGLLPKDFH\n",
      "<QueryParser>\n",
      "{\n",
      "    \"sender\": \"query_parser\",\n",
      "    \"content\": {\n",
      "        \"AA_SEQUENCE\": [\"MLGYKCLHWNNLIDLPPLKDPETFSLPSSIPHWPPGQGFGSGTINLGKLQVIKITDFEFIWRYRSTEKKKNISFYKPKGLLPKDFHCLGHYCQSDSHPLRGYVLA\n",
      "<QueryParser>\n",
      "{\n",
      "    \"sender\": \"query_parser\",\n",
      "    \"content\": {\n",
      "        \"AA_SEQUENCE\": [\"MLGYKCLHWNNLIDLPPLKDPETFSLPSSIPHWPPGQGFGSGTINLGKLQVIKITDFEFIWRYRSTEKKKNISFYKPKGLLPKDFHCLGHYCQSDSHPLRGYVLAARDLVDSLEQVEKPALV\n",
      "<QueryParser>\n",
      "{\n",
      "    \"sender\": \"query_parser\",\n",
      "    \"content\": {\n",
      "        \"AA_SEQUENCE\": [\"MLGYKCLHWNNLIDLPPLKDPETFSLPSSIPHWPPGQGFGSGTINLGKLQVIKITDFEFIWRYRSTEKKKNISFYKPKGLLPKDFHCLGHYCQSDSHPLRGYVLAARDLVDSLEQVEKPALVEPVDFTLVWSSNDS\n",
      "<QueryParser>\n",
      "{\n",
      "    \"sender\": \"query_parser\",\n",
      "    \"content\": {\n",
      "        \"AA_SEQUENCE\": [\"MLGYKCLHWNNLIDLPPLKDPETFSLPSSIPHWPPGQGFGSGTINLGKLQVIKITDFEFIWRYRSTEKKKNISFYKPKGLLPKDFHCLGHYCQSDSHPLRGYVLAARDLVDSLEQVEKPALVEPVDFTLVWSSNDSAENECSSKSECGYFWL\n",
      "<QueryParser>\n",
      "{\n",
      "    \"sender\": \"query_parser\",\n",
      "    \"content\": {\n",
      "        \"AA_SEQUENCE\": [\"MLGYKCLHWNNLIDLPPLKDPETFSLPSSIPHWPPGQGFGSGTINLGKLQVIKITDFEFIWRYRSTEKKKNISFYKPKGLLPKDFHCLGHYCQSDSHPLRGYVLAARDLVDSLEQVEKPALVEPVDFTLVWSSNDSAENECSSKSECGYFWLPQPPEGYRSIGFVVT\n",
      "<QueryParser>\n",
      "{\n",
      "    \"sender\": \"query_parser\",\n",
      "    \"content\": {\n",
      "        \"AA_SEQUENCE\": [\"MLGYKCLHWNNLIDLPPLKDPETFSLPSSIPHWPPGQGFGSGTINLGKLQVIKITDFEFIWRYRSTEKKKNISFYKPKGLLPKDFHCLGHYCQSDSHPLRGYVLAARDLVDSLEQVEKPALVEPVDFTLVWSSNDSAENECSSKSECGYFWLPQPPEGYRSIGFVVTKTSVKPELNEVRCVRADLT\n",
      "<QueryParser>\n",
      "{\n",
      "    \"sender\": \"query_parser\",\n",
      "    \"content\": {\n",
      "        \"AA_SEQUENCE\": [\"MLGYKCLHWNNLIDLPPLKDPETFSLPSSIPHWPPGQGFGSGTINLGKLQVIKITDFEFIWRYRSTEKKKNISFYKPKGLLPKDFHCLGHYCQSDSHPLRGYVLAARDLVDSLEQVEKPALVEPVDFTLVWSSNDSAENECSSKSECGYFWLPQPPEGYRSIGFVVTKTSVKPELNEVRCVRADLTDICEPHNVIVTAVSESLG\n",
      "<QueryParser>\n",
      "{\n",
      "    \"sender\": \"query_parser\",\n",
      "    \"content\": {\n",
      "        \"AA_SEQUENCE\": [\"MLGYKCLHWNNLIDLPPLKDPETFSLPSSIPHWPPGQGFGSGTINLGKLQVIKITDFEFIWRYRSTEKKKNISFYKPKGLLPKDFHCLGHYCQSDSHPLRGYVLAARDLVDSLEQVEKPALVEPVDFTLVWSSNDSAENECSSKSECGYFWLPQPPEGYRSIGFVVTKTSVKPELNEVRCVRADLTDICEPHNVIVTAVSESLGVPLFIWRTRPSDRGM\n",
      "<QueryParser>\n",
      "{\n",
      "    \"sender\": \"query_parser\",\n",
      "    \"content\": {\n",
      "        \"AA_SEQUENCE\": [\"MLGYKCLHWNNLIDLPPLKDPETFSLPSSIPHWPPGQGFGSGTINLGKLQVIKITDFEFIWRYRSTEKKKNISFYKPKGLLPKDFHCLGHYCQSDSHPLRGYVLAARDLVDSLEQVEKPALVEPVDFTLVWSSNDSAENECSSKSECGYFWLPQPPEGYRSIGFVVTKTSVKPELNEVRCVRADLTDICEPHNVIVTAVSESLGVPLFIWRTRPSDRGMWGKGVSAGTFFCRT\n",
      "<QueryParser>\n",
      "{\n",
      "    \"sender\": \"query_parser\",\n",
      "    \"content\": {\n",
      "        \"AA_SEQUENCE\": [\"MLGYKCLHWNNLIDLPPLKDPETFSLPSSIPHWPPGQGFGSGTINLGKLQVIKITDFEFIWRYRSTEKKKNISFYKPKGLLPKDFHCLGHYCQSDSHPLRGYVLAARDLVDSLEQVEKPALVEPVDFTLVWSSNDSAENECSSKSECGYFWLPQPPEGYRSIGFVVTKTSVKPELNEVRCVRADLTDICEPHNVIVTAVSESLGVPLFIWRTRPSDRGMWGKGVSAGTFFCRTRLVAAREDLGIGIACLKNLD\n",
      "<QueryParser>\n",
      "{\n",
      "    \"sender\": \"query_parser\",\n",
      "    \"content\": {\n",
      "        \"AA_SEQUENCE\": [\"MLGYKCLHWNNLIDLPPLKDPETFSLPSSIPHWPPGQGFGSGTINLGKLQVIKITDFEFIWRYRSTEKKKNISFYKPKGLLPKDFHCLGHYCQSDSHPLRGYVLAARDLVDSLEQVEKPALVEPVDFTLVWSSNDSAENECSSKSECGYFWLPQPPEGYRSIGFVVTKTSVKPELNEVRCVRADLTDICEPHNVIVTAVSESLGVPLFIWRTRPSDRGMWGKGVSAGTFFCRTRLVAAREDLGIGIACLKNLDLSLHAMPNVDQIQAL\n",
      "<QueryParser>\n",
      "{\n",
      "    \"sender\": \"query_parser\",\n",
      "    \"content\": {\n",
      "        \"AA_SEQUENCE\": [\"MLGYKCLHWNNLIDLPPLKDPETFSLPSSIPHWPPGQGFGSGTINLGKLQVIKITDFEFIWRYRSTEKKKNISFYKPKGLLPKDFHCLGHYCQSDSHPLRGYVLAARDLVDSLEQVEKPALVEPVDFTLVWSSNDSAENECSSKSECGYFWLPQPPEGYRSIGFVVTKTSVKPELNEVRCVRADLTDICEPHNVIVTAVSESLGVPLFIWRTRPSDRGMWGKGVSAGTFFCRTRLVAAREDLGIGIACLKNLDLSLHAMPNVDQIQALIQHYGPTLVFHPGET\n",
      "<QueryParser>\n",
      "{\n",
      "    \"sender\": \"query_parser\",\n",
      "    \"content\": {\n",
      "        \"AA_SEQUENCE\": [\"MLGYKCLHWNNLIDLPPLKDPETFSLPSSIPHWPPGQGFGSGTINLGKLQVIKITDFEFIWRYRSTEKKKNISFYKPKGLLPKDFHCLGHYCQSDSHPLRGYVLAARDLVDSLEQVEKPALVEPVDFTLVWSSNDSAENECSSKSECGYFWLPQPPEGYRSIGFVVTKTSVKPELNEVRCVRADLTDICEPHNVIVTAVSESLGVPLFIWRTRPSDRGMWGKGVSAGTFFCRTRLVAAREDLGIGIACLKNLDLSLHAMPNVDQIQALIQHYGPTLVFHPGETYLPSSVSWFFKNGAVLC\n",
      "<QueryParser>\n",
      "{\n",
      "    \"sender\": \"query_parser\",\n",
      "    \"content\": {\n",
      "        \"AA_SEQUENCE\": [\"MLGYKCLHWNNLIDLPPLKDPETFSLPSSIPHWPPGQGFGSGTINLGKLQVIKITDFEFIWRYRSTEKKKNISFYKPKGLLPKDFHCLGHYCQSDSHPLRGYVLAARDLVDSLEQVEKPALVEPVDFTLVWSSNDSAENECSSKSECGYFWLPQPPEGYRSIGFVVTKTSVKPELNEVRCVRADLTDICEPHNVIVTAVSESLGVPLFIWRTRPSDRGMWGKGVSAGTFFCRTRLVAAREDLGIGIACLKNLDLSLHAMPNVDQIQALIQHYGPTLVFHPGETYLPSSVSWFFKNGAVLCEKGNPIEEPIDENGSNLP\n",
      "<QueryParser>\n",
      "{\n",
      "    \"sender\": \"query_parser\",\n",
      "    \"content\": {\n",
      "        \"AA_SEQUENCE\": [\"MLGYKCLHWNNLIDLPPLKDPETFSLPSSIPHWPPGQGFGSGTINLGKLQVIKITDFEFIWRYRSTEKKKNISFYKPKGLLPKDFHCLGHYCQSDSHPLRGYVLAARDLVDSLEQVEKPALVEPVDFTLVWSSNDSAENECSSKSECGYFWLPQPPEGYRSIGFVVTKTSVKPELNEVRCVRADLTDICEPHNVIVTAVSESLGVPLFIWRTRPSDRGMWGKGVSAGTFFCRTRLVAAREDLGIGIACLKNLDLSLHAMPNVDQIQALIQHYGPTLVFHPGETYLPSSVSWFFKNGAVLCEKGNPIEEPIDENGSNLPQGGSNDKQFWIDLPC\n",
      "<QueryParser>\n",
      "{\n",
      "    \"sender\": \"query_parser\",\n",
      "    \"content\": {\n",
      "        \"AA_SEQUENCE\": [\"MLGYKCLHWNNLIDLPPLKDPETFSLPSSIPHWPPGQGFGSGTINLGKLQVIKITDFEFIWRYRSTEKKKNISFYKPKGLLPKDFHCLGHYCQSDSHPLRGYVLAARDLVDSLEQVEKPALVEPVDFTLVWSSNDSAENECSSKSECGYFWLPQPPEGYRSIGFVVTKTSVKPELNEVRCVRADLTDICEPHNVIVTAVSESLGVPLFIWRTRPSDRGMWGKGVSAGTFFCRTRLVAAREDLGIGIACLKNLDLSLHAMPNVDQIQALIQHYGPTLVFHPGETYLPSSVSWFFKNGAVLCEKGNPIEEPIDENGSNLPQGGSNDKQFWIDLPCDDQQRDFVKRGNLESSK\n",
      "<QueryParser>\n",
      "{\n",
      "    \"sender\": \"query_parser\",\n",
      "    \"content\": {\n",
      "        \"AA_SEQUENCE\": [\"MLGYKCLHWNNLIDLPPLKDPETFSLPSSIPHWPPGQGFGSGTINLGKLQVIKITDFEFIWRYRSTEKKKNISFYKPKGLLPKDFHCLGHYCQSDSHPLRGYVLAARDLVDSLEQVEKPALVEPVDFTLVWSSNDSAENECSSKSECGYFWLPQPPEGYRSIGFVVTKTSVKPELNEVRCVRADLTDICEPHNVIVTAVSESLGVPLFIWRTRPSDRGMWGKGVSAGTFFCRTRLVAAREDLGIGIACLKNLDLSLHAMPNVDQIQALIQHYGPTLVFHPGETYLPSSVSWFFKNGAVLCEKGNPIEEPIDENGSNLPQGGSNDKQFWIDLPCDDQQRDFVKRGNLESSKLYIHIKPALGGTFTDLV\n",
      "<QueryParser>\n",
      "{\n",
      "    \"sender\": \"query_parser\",\n",
      "    \"content\": {\n",
      "        \"AA_SEQUENCE\": [\"MLGYKCLHWNNLIDLPPLKDPETFSLPSSIPHWPPGQGFGSGTINLGKLQVIKITDFEFIWRYRSTEKKKNISFYKPKGLLPKDFHCLGHYCQSDSHPLRGYVLAARDLVDSLEQVEKPALVEPVDFTLVWSSNDSAENECSSKSECGYFWLPQPPEGYRSIGFVVTKTSVKPELNEVRCVRADLTDICEPHNVIVTAVSESLGVPLFIWRTRPSDRGMWGKGVSAGTFFCRTRLVAAREDLGIGIACLKNLDLSLHAMPNVDQIQALIQHYGPTLVFHPGETYLPSSVSWFFKNGAVLCEKGNPIEEPIDENGSNLPQGGSNDKQFWIDLPCDDQQRDFVKRGNLESSKLYIHIKPALGGTFTDLVFWIFCPFNGPATLKL\n",
      "<QueryParser>\n",
      "{\n",
      "    \"sender\": \"query_parser\",\n",
      "    \"content\": {\n",
      "        \"AA_SEQUENCE\": [\"MLGYKCLHWNNLIDLPPLKDPETFSLPSSIPHWPPGQGFGSGTINLGKLQVIKITDFEFIWRYRSTEKKKNISFYKPKGLLPKDFHCLGHYCQSDSHPLRGYVLAARDLVDSLEQVEKPALVEPVDFTLVWSSNDSAENECSSKSECGYFWLPQPPEGYRSIGFVVTKTSVKPELNEVRCVRADLTDICEPHNVIVTAVSESLGVPLFIWRTRPSDRGMWGKGVSAGTFFCRTRLVAAREDLGIGIACLKNLDLSLHAMPNVDQIQALIQHYGPTLVFHPGETYLPSSVSWFFKNGAVLCEKGNPIEEPIDENGSNLPQGGSNDKQFWIDLPCDDQQRDFVKRGNLESSKLYIHIKPALGGTFTDLVFWIFCPFNGPATLKLGLVDISLISIGQHVCD\n",
      "<QueryParser>\n",
      "{\n",
      "    \"sender\": \"query_parser\",\n",
      "    \"content\": {\n",
      "        \"AA_SEQUENCE\": [\"MLGYKCLHWNNLIDLPPLKDPETFSLPSSIPHWPPGQGFGSGTINLGKLQVIKITDFEFIWRYRSTEKKKNISFYKPKGLLPKDFHCLGHYCQSDSHPLRGYVLAARDLVDSLEQVEKPALVEPVDFTLVWSSNDSAENECSSKSECGYFWLPQPPEGYRSIGFVVTKTSVKPELNEVRCVRADLTDICEPHNVIVTAVSESLGVPLFIWRTRPSDRGMWGKGVSAGTFFCRTRLVAAREDLGIGIACLKNLDLSLHAMPNVDQIQALIQHYGPTLVFHPGETYLPSSVSWFFKNGAVLCEKGNPIEEPIDENGSNLPQGGSNDKQFWIDLPCDDQQRDFVKRGNLESSKLYIHIKPALGGTFTDLVFWIFCPFNGPATLKLGLVDISLISIGQHVCDWEHFTLRISNFSGELYSI\n",
      "<QueryParser>\n",
      "{\n",
      "    \"sender\": \"query_parser\",\n",
      "    \"content\": {\n",
      "        \"AA_SEQUENCE\": [\"MLGYKCLHWNNLIDLPPLKDPETFSLPSSIPHWPPGQGFGSGTINLGKLQVIKITDFEFIWRYRSTEKKKNISFYKPKGLLPKDFHCLGHYCQSDSHPLRGYVLAARDLVDSLEQVEKPALVEPVDFTLVWSSNDSAENECSSKSECGYFWLPQPPEGYRSIGFVVTKTSVKPELNEVRCVRADLTDICEPHNVIVTAVSESLGVPLFIWRTRPSDRGMWGKGVSAGTFFCRTRLVAAREDLGIGIACLKNLDLSLHAMPNVDQIQALIQHYGPTLVFHPGETYLPSSVSWFFKNGAVLCEKGNPIEEPIDENGSNLPQGGSNDKQFWIDLPCDDQQRDFVKRGNLESSKLYIHIKPALGGTFTDLVFWIFCPFNGPATLKLGLVDISLISIGQHVCDWEHFTLRISNFSGELYSIYLSQHSGGEWIEAYDL\n",
      "<QueryParser>\n",
      "{\n",
      "    \"sender\": \"query_parser\",\n",
      "    \"content\": {\n",
      "        \"AA_SEQUENCE\": [\"MLGYKCLHWNNLIDLPPLKDPETFSLPSSIPHWPPGQGFGSGTINLGKLQVIKITDFEFIWRYRSTEKKKNISFYKPKGLLPKDFHCLGHYCQSDSHPLRGYVLAARDLVDSLEQVEKPALVEPVDFTLVWSSNDSAENECSSKSECGYFWLPQPPEGYRSIGFVVTKTSVKPELNEVRCVRADLTDICEPHNVIVTAVSESLGVPLFIWRTRPSDRGMWGKGVSAGTFFCRTRLVAAREDLGIGIACLKNLDLSLHAMPNVDQIQALIQHYGPTLVFHPGETYLPSSVSWFFKNGAVLCEKGNPIEEPIDENGSNLPQGGSNDKQFWIDLPCDDQQRDFVKRGNLESSKLYIHIKPALGGTFTDLVFWIFCPFNGPATLKLGLVDISLISIGQHVCDWEHFTLRISNFSGELYSIYLSQHSGGEWIEAYDLEIIPGSNK\n",
      "<QueryParser>\n",
      "{\n",
      "    \"sender\": \"query_parser\",\n",
      "    \"content\": {\n",
      "        \"AA_SEQUENCE\": [\"MLGYKCLHWNNLIDLPPLKDPETFSLPSSIPHWPPGQGFGSGTINLGKLQVIKITDFEFIWRYRSTEKKKNISFYKPKGLLPKDFHCLGHYCQSDSHPLRGYVLAARDLVDSLEQVEKPALVEPVDFTLVWSSNDSAENECSSKSECGYFWLPQPPEGYRSIGFVVTKTSVKPELNEVRCVRADLTDICEPHNVIVTAVSESLGVPLFIWRTRPSDRGMWGKGVSAGTFFCRTRLVAAREDLGIGIACLKNLDLSLHAMPNVDQIQALIQHYGPTLVFHPGETYLPSSVSWFFKNGAVLCEKGNPIEEPIDENGSNLPQGGSNDKQFWIDLPCDDQQRDFVKRGNLESSKLYIHIKPALGGTFTDLVFWIFCPFNGPATLKLGLVDISLISIGQHVCDWEHFTLRISNFSGELYSIYLSQHSGGEWIEAYDLEIIPGSNKAVVYSSKHGHASFPRAGT\n",
      "<QueryParser>\n",
      "{\n",
      "    \"sender\": \"query_parser\",\n",
      "    \"content\": {\n",
      "        \"AA_SEQUENCE\": [\"MLGYKCLHWNNLIDLPPLKDPETFSLPSSIPHWPPGQGFGSGTINLGKLQVIKITDFEFIWRYRSTEKKKNISFYKPKGLLPKDFHCLGHYCQSDSHPLRGYVLAARDLVDSLEQVEKPALVEPVDFTLVWSSNDSAENECSSKSECGYFWLPQPPEGYRSIGFVVTKTSVKPELNEVRCVRADLTDICEPHNVIVTAVSESLGVPLFIWRTRPSDRGMWGKGVSAGTFFCRTRLVAAREDLGIGIACLKNLDLSLHAMPNVDQIQALIQHYGPTLVFHPGETYLPSSVSWFFKNGAVLCEKGNPIEEPIDENGSNLPQGGSNDKQFWIDLPCDDQQRDFVKRGNLESSKLYIHIKPALGGTFTDLVFWIFCPFNGPATLKLGLVDISLISIGQHVCDWEHFTLRISNFSGELYSIYLSQHSGGEWIEAYDLEIIPGSNKAVVYSSKHGHASFPRAGTYLQGSTMLGIGIRNDTARS\n",
      "<QueryParser>\n",
      "{\n",
      "    \"sender\": \"query_parser\",\n",
      "    \"content\": {\n",
      "        \"AA_SEQUENCE\": [\"MLGYKCLHWNNLIDLPPLKDPETFSLPSSIPHWPPGQGFGSGTINLGKLQVIKITDFEFIWRYRSTEKKKNISFYKPKGLLPKDFHCLGHYCQSDSHPLRGYVLAARDLVDSLEQVEKPALVEPVDFTLVWSSNDSAENECSSKSECGYFWLPQPPEGYRSIGFVVTKTSVKPELNEVRCVRADLTDICEPHNVIVTAVSESLGVPLFIWRTRPSDRGMWGKGVSAGTFFCRTRLVAAREDLGIGIACLKNLDLSLHAMPNVDQIQALIQHYGPTLVFHPGETYLPSSVSWFFKNGAVLCEKGNPIEEPIDENGSNLPQGGSNDKQFWIDLPCDDQQRDFVKRGNLESSKLYIHIKPALGGTFTDLVFWIFCPFNGPATLKLGLVDISLISIGQHVCDWEHFTLRISNFSGELYSIYLSQHSGGEWIEAYDLEIIPGSNKAVVYSSKHGHASFPRAGTYLQGSTMLGIGIRNDTARSELLVDSSSRYEIIAAEYLS\n",
      "<QueryParser>\n",
      "{\n",
      "    \"sender\": \"query_parser\",\n",
      "    \"content\": {\n",
      "        \"AA_SEQUENCE\": [\"MLGYKCLHWNNLIDLPPLKDPETFSLPSSIPHWPPGQGFGSGTINLGKLQVIKITDFEFIWRYRSTEKKKNISFYKPKGLLPKDFHCLGHYCQSDSHPLRGYVLAARDLVDSLEQVEKPALVEPVDFTLVWSSNDSAENECSSKSECGYFWLPQPPEGYRSIGFVVTKTSVKPELNEVRCVRADLTDICEPHNVIVTAVSESLGVPLFIWRTRPSDRGMWGKGVSAGTFFCRTRLVAAREDLGIGIACLKNLDLSLHAMPNVDQIQALIQHYGPTLVFHPGETYLPSSVSWFFKNGAVLCEKGNPIEEPIDENGSNLPQGGSNDKQFWIDLPCDDQQRDFVKRGNLESSKLYIHIKPALGGTFTDLVFWIFCPFNGPATLKLGLVDISLISIGQHVCDWEHFTLRISNFSGELYSIYLSQHSGGEWIEAYDLEIIPGSNKAVVYSSKHGHASFPRAGTYLQGSTMLGIGIRNDTARSELLVDSSSRYEIIAAEYLSGNSVLAEPPW\n",
      "<QueryParser>\n",
      "{\n",
      "    \"sender\": \"query_parser\",\n",
      "    \"content\": {\n",
      "        \"AA_SEQUENCE\": [\"MLGYKCLHWNNLIDLPPLKDPETFSLPSSIPHWPPGQGFGSGTINLGKLQVIKITDFEFIWRYRSTEKKKNISFYKPKGLLPKDFHCLGHYCQSDSHPLRGYVLAARDLVDSLEQVEKPALVEPVDFTLVWSSNDSAENECSSKSECGYFWLPQPPEGYRSIGFVVTKTSVKPELNEVRCVRADLTDICEPHNVIVTAVSESLGVPLFIWRTRPSDRGMWGKGVSAGTFFCRTRLVAAREDLGIGIACLKNLDLSLHAMPNVDQIQALIQHYGPTLVFHPGETYLPSSVSWFFKNGAVLCEKGNPIEEPIDENGSNLPQGGSNDKQFWIDLPCDDQQRDFVKRGNLESSKLYIHIKPALGGTFTDLVFWIFCPFNGPATLKLGLVDISLISIGQHVCDWEHFTLRISNFSGELYSIYLSQHSGGEWIEAYDLEIIPGSNKAVVYSSKHGHASFPRAGTYLQGSTMLGIGIRNDTARSELLVDSSSRYEIIAAEYLSGNSVLAEPPWLQYMREWGPKVVY\n",
      "<QueryParser>\n",
      "{\n",
      "    \"sender\": \"query_parser\",\n",
      "    \"content\": {\n",
      "        \"AA_SEQUENCE\": [\"MLGYKCLHWNNLIDLPPLKDPETFSLPSSIPHWPPGQGFGSGTINLGKLQVIKITDFEFIWRYRSTEKKKNISFYKPKGLLPKDFHCLGHYCQSDSHPLRGYVLAARDLVDSLEQVEKPALVEPVDFTLVWSSNDSAENECSSKSECGYFWLPQPPEGYRSIGFVVTKTSVKPELNEVRCVRADLTDICEPHNVIVTAVSESLGVPLFIWRTRPSDRGMWGKGVSAGTFFCRTRLVAAREDLGIGIACLKNLDLSLHAMPNVDQIQALIQHYGPTLVFHPGETYLPSSVSWFFKNGAVLCEKGNPIEEPIDENGSNLPQGGSNDKQFWIDLPCDDQQRDFVKRGNLESSKLYIHIKPALGGTFTDLVFWIFCPFNGPATLKLGLVDISLISIGQHVCDWEHFTLRISNFSGELYSIYLSQHSGGEWIEAYDLEIIPGSNKAVVYSSKHGHASFPRAGTYLQGSTMLGIGIRNDTARSELLVDSSSRYEIIAAEYLSGNSVLAEPPWLQYMREWGPKVVYDSREEIERLVNRFPRT\n",
      "<QueryParser>\n",
      "{\n",
      "    \"sender\": \"query_parser\",\n",
      "    \"content\": {\n",
      "        \"AA_SEQUENCE\": [\"MLGYKCLHWNNLIDLPPLKDPETFSLPSSIPHWPPGQGFGSGTINLGKLQVIKITDFEFIWRYRSTEKKKNISFYKPKGLLPKDFHCLGHYCQSDSHPLRGYVLAARDLVDSLEQVEKPALVEPVDFTLVWSSNDSAENECSSKSECGYFWLPQPPEGYRSIGFVVTKTSVKPELNEVRCVRADLTDICEPHNVIVTAVSESLGVPLFIWRTRPSDRGMWGKGVSAGTFFCRTRLVAAREDLGIGIACLKNLDLSLHAMPNVDQIQALIQHYGPTLVFHPGETYLPSSVSWFFKNGAVLCEKGNPIEEPIDENGSNLPQGGSNDKQFWIDLPCDDQQRDFVKRGNLESSKLYIHIKPALGGTFTDLVFWIFCPFNGPATLKLGLVDISLISIGQHVCDWEHFTLRISNFSGELYSIYLSQHSGGEWIEAYDLEIIPGSNKAVVYSSKHGHASFPRAGTYLQGSTMLGIGIRNDTARSELLVDSSSRYEIIAAEYLSGNSVLAEPPWLQYMREWGPKVVYDSREEIERLVNRFPRTVRVSLATVL\n",
      "<QueryParser>\n",
      "{\n",
      "    \"sender\": \"query_parser\",\n",
      "    \"content\": {\n",
      "        \"AA_SEQUENCE\": [\"MLGYKCLHWNNLIDLPPLKDPETFSLPSSIPHWPPGQGFGSGTINLGKLQVIKITDFEFIWRYRSTEKKKNISFYKPKGLLPKDFHCLGHYCQSDSHPLRGYVLAARDLVDSLEQVEKPALVEPVDFTLVWSSNDSAENECSSKSECGYFWLPQPPEGYRSIGFVVTKTSVKPELNEVRCVRADLTDICEPHNVIVTAVSESLGVPLFIWRTRPSDRGMWGKGVSAGTFFCRTRLVAAREDLGIGIACLKNLDLSLHAMPNVDQIQALIQHYGPTLVFHPGETYLPSSVSWFFKNGAVLCEKGNPIEEPIDENGSNLPQGGSNDKQFWIDLPCDDQQRDFVKRGNLESSKLYIHIKPALGGTFTDLVFWIFCPFNGPATLKLGLVDISLISIGQHVCDWEHFTLRISNFSGELYSIYLSQHSGGEWIEAYDLEIIPGSNKAVVYSSKHGHASFPRAGTYLQGSTMLGIGIRNDTARSELLVDSSSRYEIIAAEYLSGNSVLAEPPWLQYMREWGPKVVYDSREEIERLVNRFPRTVRVSLATVLRKLPVELSGEEGPTGP\n",
      "<QueryParser>\n",
      "{\n",
      "    \"sender\": \"query_parser\",\n",
      "    \"content\": {\n",
      "        \"AA_SEQUENCE\": [\"MLGYKCLHWNNLIDLPPLKDPETFSLPSSIPHWPPGQGFGSGTINLGKLQVIKITDFEFIWRYRSTEKKKNISFYKPKGLLPKDFHCLGHYCQSDSHPLRGYVLAARDLVDSLEQVEKPALVEPVDFTLVWSSNDSAENECSSKSECGYFWLPQPPEGYRSIGFVVTKTSVKPELNEVRCVRADLTDICEPHNVIVTAVSESLGVPLFIWRTRPSDRGMWGKGVSAGTFFCRTRLVAAREDLGIGIACLKNLDLSLHAMPNVDQIQALIQHYGPTLVFHPGETYLPSSVSWFFKNGAVLCEKGNPIEEPIDENGSNLPQGGSNDKQFWIDLPCDDQQRDFVKRGNLESSKLYIHIKPALGGTFTDLVFWIFCPFNGPATLKLGLVDISLISIGQHVCDWEHFTLRISNFSGELYSIYLSQHSGGEWIEAYDLEIIPGSNKAVVYSSKHGHASFPRAGTYLQGSTMLGIGIRNDTARSELLVDSSSRYEIIAAEYLSGNSVLAEPPWLQYMREWGPKVVYDSREEIERLVNRFPRTVRVSLATVLRKLPVELSGEEGPTGPKEKNNWYG\n",
      "<QueryParser>\n",
      "{\n",
      "    \"sender\": \"query_parser\",\n",
      "    \"content\": {\n",
      "        \"AA_SEQUENCE\": [\"MLGYKCLHWNNLIDLPPLKDPETFSLPSSIPHWPPGQGFGSGTINLGKLQVIKITDFEFIWRYRSTEKKKNISFYKPKGLLPKDFHCLGHYCQSDSHPLRGYVLAARDLVDSLEQVEKPALVEPVDFTLVWSSNDSAENECSSKSECGYFWLPQPPEGYRSIGFVVTKTSVKPELNEVRCVRADLTDICEPHNVIVTAVSESLGVPLFIWRTRPSDRGMWGKGVSAGTFFCRTRLVAAREDLGIGIACLKNLDLSLHAMPNVDQIQALIQHYGPTLVFHPGETYLPSSVSWFFKNGAVLCEKGNPIEEPIDENGSNLPQGGSNDKQFWIDLPCDDQQRDFVKRGNLESSKLYIHIKPALGGTFTDLVFWIFCPFNGPATLKLGLVDISLISIGQHVCDWEHFTLRISNFSGELYSIYLSQHSGGEWIEAYDLEIIPGSNKAVVYSSKHGHASFPRAGTYLQGSTMLGIGIRNDTARSELLVDSSSRYEIIAAEYLSGNSVLAEPPWLQYMREWGPKVVYDSREEIERLVNRFPRTVRVSLATVLRKLPVELSGEEGPTGPKEKNNWYGDERC\"],\n",
      "        \n",
      "<QueryParser>\n",
      "{\n",
      "    \"sender\": \"query_parser\",\n",
      "    \"content\": {\n",
      "        \"AA_SEQUENCE\": [\"MLGYKCLHWNNLIDLPPLKDPETFSLPSSIPHWPPGQGFGSGTINLGKLQVIKITDFEFIWRYRSTEKKKNISFYKPKGLLPKDFHCLGHYCQSDSHPLRGYVLAARDLVDSLEQVEKPALVEPVDFTLVWSSNDSAENECSSKSECGYFWLPQPPEGYRSIGFVVTKTSVKPELNEVRCVRADLTDICEPHNVIVTAVSESLGVPLFIWRTRPSDRGMWGKGVSAGTFFCRTRLVAAREDLGIGIACLKNLDLSLHAMPNVDQIQALIQHYGPTLVFHPGETYLPSSVSWFFKNGAVLCEKGNPIEEPIDENGSNLPQGGSNDKQFWIDLPCDDQQRDFVKRGNLESSKLYIHIKPALGGTFTDLVFWIFCPFNGPATLKLGLVDISLISIGQHVCDWEHFTLRISNFSGELYSIYLSQHSGGEWIEAYDLEIIPGSNKAVVYSSKHGHASFPRAGTYLQGSTMLGIGIRNDTARSELLVDSSSRYEIIAAEYLSGNSVLAEPPWLQYMREWGPKVVYDSREEIERLVNRFPRTVRVSLATVLRKLPVELSGEEGPTGPKEKNNWYGDERC\"],\n",
      "        \"QUESTION\": [\"\n",
      "<QueryParser>\n",
      "{\n",
      "    \"sender\": \"query_parser\",\n",
      "    \"content\": {\n",
      "        \"AA_SEQUENCE\": [\"MLGYKCLHWNNLIDLPPLKDPETFSLPSSIPHWPPGQGFGSGTINLGKLQVIKITDFEFIWRYRSTEKKKNISFYKPKGLLPKDFHCLGHYCQSDSHPLRGYVLAARDLVDSLEQVEKPALVEPVDFTLVWSSNDSAENECSSKSECGYFWLPQPPEGYRSIGFVVTKTSVKPELNEVRCVRADLTDICEPHNVIVTAVSESLGVPLFIWRTRPSDRGMWGKGVSAGTFFCRTRLVAAREDLGIGIACLKNLDLSLHAMPNVDQIQALIQHYGPTLVFHPGETYLPSSVSWFFKNGAVLCEKGNPIEEPIDENGSNLPQGGSNDKQFWIDLPCDDQQRDFVKRGNLESSKLYIHIKPALGGTFTDLVFWIFCPFNGPATLKLGLVDISLISIGQHVCDWEHFTLRISNFSGELYSIYLSQHSGGEWIEAYDLEIIPGSNKAVVYSSKHGHASFPRAGTYLQGSTMLGIGIRNDTARSELLVDSSSRYEIIAAEYLSGNSVLAEPPWLQYMREWGPKVVYDSREEIERLVNRFPRTVRVSLATVLRKLPVELSGEEGPTGPKEKNNWYGDERC\"],\n",
      "        \"QUESTION\": [\"describe the function of this\n",
      "<QueryParser>\n",
      "{\n",
      "    \"sender\": \"query_parser\",\n",
      "    \"content\": {\n",
      "        \"AA_SEQUENCE\": [\"MLGYKCLHWNNLIDLPPLKDPETFSLPSSIPHWPPGQGFGSGTINLGKLQVIKITDFEFIWRYRSTEKKKNISFYKPKGLLPKDFHCLGHYCQSDSHPLRGYVLAARDLVDSLEQVEKPALVEPVDFTLVWSSNDSAENECSSKSECGYFWLPQPPEGYRSIGFVVTKTSVKPELNEVRCVRADLTDICEPHNVIVTAVSESLGVPLFIWRTRPSDRGMWGKGVSAGTFFCRTRLVAAREDLGIGIACLKNLDLSLHAMPNVDQIQALIQHYGPTLVFHPGETYLPSSVSWFFKNGAVLCEKGNPIEEPIDENGSNLPQGGSNDKQFWIDLPCDDQQRDFVKRGNLESSKLYIHIKPALGGTFTDLVFWIFCPFNGPATLKLGLVDISLISIGQHVCDWEHFTLRISNFSGELYSIYLSQHSGGEWIEAYDLEIIPGSNKAVVYSSKHGHASFPRAGTYLQGSTMLGIGIRNDTARSELLVDSSSRYEIIAAEYLSGNSVLAEPPWLQYMREWGPKVVYDSREEIERLVNRFPRTVRVSLATVLRKLPVELSGEEGPTGPKEKNNWYGDERC\"],\n",
      "        \"QUESTION\": [\"describe the function of this protein\"],\n",
      "        \"\n",
      "<QueryParser>\n",
      "{\n",
      "    \"sender\": \"query_parser\",\n",
      "    \"content\": {\n",
      "        \"AA_SEQUENCE\": [\"MLGYKCLHWNNLIDLPPLKDPETFSLPSSIPHWPPGQGFGSGTINLGKLQVIKITDFEFIWRYRSTEKKKNISFYKPKGLLPKDFHCLGHYCQSDSHPLRGYVLAARDLVDSLEQVEKPALVEPVDFTLVWSSNDSAENECSSKSECGYFWLPQPPEGYRSIGFVVTKTSVKPELNEVRCVRADLTDICEPHNVIVTAVSESLGVPLFIWRTRPSDRGMWGKGVSAGTFFCRTRLVAAREDLGIGIACLKNLDLSLHAMPNVDQIQALIQHYGPTLVFHPGETYLPSSVSWFFKNGAVLCEKGNPIEEPIDENGSNLPQGGSNDKQFWIDLPCDDQQRDFVKRGNLESSKLYIHIKPALGGTFTDLVFWIFCPFNGPATLKLGLVDISLISIGQHVCDWEHFTLRISNFSGELYSIYLSQHSGGEWIEAYDLEIIPGSNKAVVYSSKHGHASFPRAGTYLQGSTMLGIGIRNDTARSELLVDSSSRYEIIAAEYLSGNSVLAEPPWLQYMREWGPKVVYDSREEIERLVNRFPRTVRVSLATVLRKLPVELSGEEGPTGPKEKNNWYGDERC\"],\n",
      "        \"QUESTION\": [\"describe the function of this protein\"],\n",
      "        \"TEXT\": [\"function\",\n",
      "<QueryParser>\n",
      "{\n",
      "    \"sender\": \"query_parser\",\n",
      "    \"content\": {\n",
      "        \"AA_SEQUENCE\": [\"MLGYKCLHWNNLIDLPPLKDPETFSLPSSIPHWPPGQGFGSGTINLGKLQVIKITDFEFIWRYRSTEKKKNISFYKPKGLLPKDFHCLGHYCQSDSHPLRGYVLAARDLVDSLEQVEKPALVEPVDFTLVWSSNDSAENECSSKSECGYFWLPQPPEGYRSIGFVVTKTSVKPELNEVRCVRADLTDICEPHNVIVTAVSESLGVPLFIWRTRPSDRGMWGKGVSAGTFFCRTRLVAAREDLGIGIACLKNLDLSLHAMPNVDQIQALIQHYGPTLVFHPGETYLPSSVSWFFKNGAVLCEKGNPIEEPIDENGSNLPQGGSNDKQFWIDLPCDDQQRDFVKRGNLESSKLYIHIKPALGGTFTDLVFWIFCPFNGPATLKLGLVDISLISIGQHVCDWEHFTLRISNFSGELYSIYLSQHSGGEWIEAYDLEIIPGSNKAVVYSSKHGHASFPRAGTYLQGSTMLGIGIRNDTARSELLVDSSSRYEIIAAEYLSGNSVLAEPPWLQYMREWGPKVVYDSREEIERLVNRFPRTVRVSLATVLRKLPVELSGEEGPTGPKEKNNWYGDERC\"],\n",
      "        \"QUESTION\": [\"describe the function of this protein\"],\n",
      "        \"TEXT\": [\"function\", \"protein function\"]\n",
      "    }\n",
      "}\n",
      "<QueryParser>\n",
      "{\n",
      "    \"sender\": \"query_parser\",\n",
      "    \"content\": {\n",
      "        \"AA_SEQUENCE\": [\"MLGYKCLHWNNLIDLPPLKDPETFSLPSSIPHWPPGQGFGSGTINLGKLQVIKITDFEFIWRYRSTEKKKNISFYKPKGLLPKDFHCLGHYCQSDSHPLRGYVLAARDLVDSLEQVEKPALVEPVDFTLVWSSNDSAENECSSKSECGYFWLPQPPEGYRSIGFVVTKTSVKPELNEVRCVRADLTDICEPHNVIVTAVSESLGVPLFIWRTRPSDRGMWGKGVSAGTFFCRTRLVAAREDLGIGIACLKNLDLSLHAMPNVDQIQALIQHYGPTLVFHPGETYLPSSVSWFFKNGAVLCEKGNPIEEPIDENGSNLPQGGSNDKQFWIDLPCDDQQRDFVKRGNLESSKLYIHIKPALGGTFTDLVFWIFCPFNGPATLKLGLVDISLISIGQHVCDWEHFTLRISNFSGELYSIYLSQHSGGEWIEAYDLEIIPGSNKAVVYSSKHGHASFPRAGTYLQGSTMLGIGIRNDTARSELLVDSSSRYEIIAAEYLSGNSVLAEPPWLQYMREWGPKVVYDSREEIERLVNRFPRTVRVSLATVLRKLPVELSGEEGPTGPKEKNNWYGDERC\"],\n",
      "        \"QUESTION\": [\"describe the function of this protein\"],\n",
      "        \"TEXT\": [\"function\", \"protein function\"]\n",
      "    }\n",
      "}\n",
      "</QueryParser>\n",
      "<QueryParser>\n",
      "{\n",
      "    \"sender\": \"query_parser\",\n",
      "    \"content\": {\n",
      "        \"AA_SEQUENCE\": [\"MLGYKCLHWNNLIDLPPLKDPETFSLPSSIPHWPPGQGFGSGTINLGKLQVIKITDFEFIWRYRSTEKKKNISFYKPKGLLPKDFHCLGHYCQSDSHPLRGYVLAARDLVDSLEQVEKPALVEPVDFTLVWSSNDSAENECSSKSECGYFWLPQPPEGYRSIGFVVTKTSVKPELNEVRCVRADLTDICEPHNVIVTAVSESLGVPLFIWRTRPSDRGMWGKGVSAGTFFCRTRLVAAREDLGIGIACLKNLDLSLHAMPNVDQIQALIQHYGPTLVFHPGETYLPSSVSWFFKNGAVLCEKGNPIEEPIDENGSNLPQGGSNDKQFWIDLPCDDQQRDFVKRGNLESSKLYIHIKPALGGTFTDLVFWIFCPFNGPATLKLGLVDISLISIGQHVCDWEHFTLRISNFSGELYSIYLSQHSGGEWIEAYDLEIIPGSNKAVVYSSKHGHASFPRAGTYLQGSTMLGIGIRNDTARSELLVDSSSRYEIIAAEYLSGNSVLAEPPWLQYMREWGPKVVYDSREEIERLVNRFPRTVRVSLATVLRKLPVELSGEEGPTGPKEKNNWYGDERC\"],\n",
      "        \"QUESTION\": [\"describe the function of this protein\"],\n",
      "        \"TEXT\": [\"function\", \"protein function\"]\n",
      "    }\n",
      "}\n",
      "</QueryParser>\n",
      "\n",
      "{\n",
      "    \"sender\": \"query_parser\",\n",
      "    \"content\": {\n",
      "        \"AA_SEQUENCE\": [\"MLGYKCLHWNNLIDLPPLKDPETFSLPSSIPHWPPGQGFGSGTINLGKLQVIKITDFEFIWRYRSTEKKKNISFYKPKGLLPKDFHCLGHYCQSDSHPLRGYVLAARDLVDSLEQVEKPALVEPVDFTLVWSSNDSAENECSSKSECGYFWLPQPPEGYRSIGFVVTKTSVKPELNEVRCVRADLTDICEPHNVIVTAVSESLGVPLFIWRTRPSDRGMWGKGVSAGTFFCRTRLVAAREDLGIGIACLKNLDLSLHAMPNVDQIQALIQHYGPTLVFHPGETYLPSSVSWFFKNGAVLCEKGNPIEEPIDENGSNLPQGGSNDKQFWIDLPCDDQQRDFVKRGNLESSKLYIHIKPALGGTFTDLVFWIFCPFNGPATLKLGLVDISLISIGQHVCDWEHFTLRISNFSGELYSIYLSQHSGGEWIEAYDLEIIPGSNKAVVYSSKHGHASFPRAGTYLQGSTMLGIGIRNDTARSELLVDSSSRYEIIAAEYLSGNSVLAEPPWLQYMREWGPKVVYDSREEIERLVNRFPRTVRVSLATVLRKLPVELSGEEGPTGPKEKNNWYGDERC\"],\n",
      "        \"QUESTION\": [\"describe the function of this protein\"],\n",
      "        \"TEXT\": [\"function\", \"protein function\"]\n",
      "    }\n",
      "}\n",
      "\n"
     ]
    }
   ],
   "source": [
    "for response in query_parser.stream_chat(query):\n",
    "    \n",
    "    print(response.content)"
   ]
  },
  {
   "cell_type": "code",
   "execution_count": null,
   "id": "63d908b8",
   "metadata": {},
   "outputs": [
    {
     "data": {
      "text/plain": [
       "{'sender': 'query_parser',\n",
       " 'content': {'QUESTION': ['describe the function of this protein?'],\n",
       "  'AA_SEQUENCE': ['MLGYKCLHWNNLIDLPPLKDPETFSLPSSIPHWPPGQGFGSGTINLGKLQVIKITDFEFIWRYRSTEKKKNISFYKPKGLLPKDFHCLGHYCQSDSHPLRGYVLAARDLVDSLEQVEKPALVEPVDFTLVWSSNDSAENECSSKSECGYFWLPQPPEGYRSIGFVVTKTSVKPELNEVRCVRADLTDICEPHNVIVTAVSESLGVPLFIWRTRPSDRGMWGKGVSAGTFFCRTRLVAAREDLGIGIACLKNLDLSLHAMPNVDQIQALIQHYGPTLVFHPGETYLPSSVSWFFKNGAVLCEKGNPIEEPIDENGSNLPQGGSNDKQFWIDLPCDDQQRDFVKRGNLESSKLYIHIKPALGGTFTDLVFWIFCPFNGPATLKLGLVDISLISIGQHVCDWEHFTLRISNFSGELYSIYLSQHSGGEWIEAYDLEIIPGSNKAVVYSSKHGHASFPRAGTYLQGSTMLGIGIRNDTARSELLVDSSSRYEIIAAEYLSGNSVLAEPPWLQYMREWGPKVVYDSREEIERLVNRFPRTVRVSLATVLRKLPVELSGEEGPTGPKEKNNWYGDERC']}}"
      ]
     },
     "execution_count": 11,
     "metadata": {},
     "output_type": "execute_result"
    }
   ],
   "source": [
    "json_repair.loads(response.content)"
   ]
  },
  {
   "cell_type": "code",
   "execution_count": null,
   "id": "d51b7367",
   "metadata": {},
   "outputs": [
    {
     "ename": "ValueError",
     "evalue": "Model \"deepseek-v3\" is not available.",
     "output_type": "error",
     "traceback": [
      "\u001b[0;31m---------------------------------------------------------------------------\u001b[0m",
      "\u001b[0;31mValueError\u001b[0m                                Traceback (most recent call last)",
      "Cell \u001b[0;32mIn[42], line 5\u001b[0m\n\u001b[1;32m      1\u001b[0m \u001b[38;5;28;01mfrom\u001b[39;00m\u001b[38;5;250m \u001b[39m\u001b[38;5;21;01magent\u001b[39;00m\u001b[38;5;21;01m.\u001b[39;00m\u001b[38;5;21;01magent\u001b[39;00m\u001b[38;5;21;01m.\u001b[39;00m\u001b[38;5;21;01msujin_multi_agent_api\u001b[39;00m\u001b[38;5;21;01m.\u001b[39;00m\u001b[38;5;21;01mnew_planner\u001b[39;00m\u001b[38;5;250m \u001b[39m\u001b[38;5;28;01mimport\u001b[39;00m NewPlannerAPI\n\u001b[0;32m----> 5\u001b[0m new_planner \u001b[38;5;241m=\u001b[39m \u001b[43mNewPlannerAPI\u001b[49m\u001b[43m(\u001b[49m\u001b[43mtool_manager\u001b[49m\u001b[38;5;241;43m=\u001b[39;49m\u001b[43mtool_manager\u001b[49m\u001b[43m,\u001b[49m\u001b[43m \u001b[49m\u001b[43mmodel_name\u001b[49m\u001b[38;5;241;43m=\u001b[39;49m\u001b[38;5;124;43m\"\u001b[39;49m\u001b[38;5;124;43mdeepseek-v3\u001b[39;49m\u001b[38;5;124;43m\"\u001b[39;49m\u001b[43m)\u001b[49m\n",
      "File \u001b[0;32m~/ProtAgent/agent/agent/sujin_multi_agent_api/new_planner.py:79\u001b[0m, in \u001b[0;36mNewPlannerAPI.__init__\u001b[0;34m(self, **kwargs)\u001b[0m\n\u001b[1;32m     78\u001b[0m \u001b[38;5;28;01mdef\u001b[39;00m\u001b[38;5;250m \u001b[39m\u001b[38;5;21m__init__\u001b[39m(\u001b[38;5;28mself\u001b[39m, \u001b[38;5;241m*\u001b[39m\u001b[38;5;241m*\u001b[39mkwargs):\n\u001b[0;32m---> 79\u001b[0m     \u001b[38;5;28mself\u001b[39m\u001b[38;5;241m.\u001b[39mquery_parser \u001b[38;5;241m=\u001b[39m \u001b[43mQueryParserAPI\u001b[49m\u001b[43m(\u001b[49m\u001b[38;5;241;43m*\u001b[39;49m\u001b[38;5;241;43m*\u001b[39;49m\u001b[43mkwargs\u001b[49m\u001b[43m)\u001b[49m\n\u001b[1;32m     80\u001b[0m     \u001b[38;5;28msuper\u001b[39m()\u001b[38;5;241m.\u001b[39m\u001b[38;5;21m__init__\u001b[39m(\u001b[38;5;241m*\u001b[39m\u001b[38;5;241m*\u001b[39mkwargs)\n",
      "File \u001b[0;32m~/ProtAgent/agent/agent/sujin_multi_agent_api/query_parser.py:54\u001b[0m, in \u001b[0;36mQueryParserAPI.__init__\u001b[0;34m(self, **kwargs)\u001b[0m\n\u001b[1;32m     53\u001b[0m \u001b[38;5;28;01mdef\u001b[39;00m\u001b[38;5;250m \u001b[39m\u001b[38;5;21m__init__\u001b[39m(\u001b[38;5;28mself\u001b[39m, \u001b[38;5;241m*\u001b[39m\u001b[38;5;241m*\u001b[39mkwargs):\n\u001b[0;32m---> 54\u001b[0m     \u001b[38;5;28;43msuper\u001b[39;49m\u001b[43m(\u001b[49m\u001b[43m)\u001b[49m\u001b[38;5;241;43m.\u001b[39;49m\u001b[38;5;21;43m__init__\u001b[39;49m\u001b[43m(\u001b[49m\u001b[38;5;241;43m*\u001b[39;49m\u001b[38;5;241;43m*\u001b[39;49m\u001b[43mkwargs\u001b[49m\u001b[43m)\u001b[49m\n",
      "File \u001b[0;32m~/ProtAgent/agent/agent/sujin_multi_agent_api/base_agent.py:12\u001b[0m, in \u001b[0;36mBaseAPI.__init__\u001b[0;34m(self, model_name, tool_manager)\u001b[0m\n\u001b[1;32m      6\u001b[0m \u001b[38;5;28;01mdef\u001b[39;00m\u001b[38;5;250m \u001b[39m\u001b[38;5;21m__init__\u001b[39m(\u001b[38;5;28mself\u001b[39m, model_name: \u001b[38;5;28mstr\u001b[39m, tool_manager: ToolManager \u001b[38;5;241m=\u001b[39m \u001b[38;5;28;01mNone\u001b[39;00m):\n\u001b[1;32m      7\u001b[0m \u001b[38;5;250m    \u001b[39m\u001b[38;5;124;03m\"\"\"\u001b[39;00m\n\u001b[1;32m      8\u001b[0m \u001b[38;5;124;03m    Args:\u001b[39;00m\n\u001b[1;32m      9\u001b[0m \u001b[38;5;124;03m        model_name: The name of the api model\u001b[39;00m\n\u001b[1;32m     10\u001b[0m \u001b[38;5;124;03m        tool_manager: The tool manager instance\u001b[39;00m\n\u001b[1;32m     11\u001b[0m \u001b[38;5;124;03m    \"\"\"\u001b[39;00m\n\u001b[0;32m---> 12\u001b[0m     \u001b[38;5;28mself\u001b[39m\u001b[38;5;241m.\u001b[39mclient \u001b[38;5;241m=\u001b[39m \u001b[43mOpenAIClient\u001b[49m\u001b[43m(\u001b[49m\u001b[43mmodel_name\u001b[49m\u001b[43m)\u001b[49m\n\u001b[1;32m     13\u001b[0m     \u001b[38;5;28mself\u001b[39m\u001b[38;5;241m.\u001b[39mtool_manager \u001b[38;5;241m=\u001b[39m tool_manager\n",
      "File \u001b[0;32m~/ProtAgent/agent/llm/api/client.py:17\u001b[0m, in \u001b[0;36mOpenAIClient.__init__\u001b[0;34m(self, model_name)\u001b[0m\n\u001b[1;32m     15\u001b[0m \u001b[38;5;28;01mdef\u001b[39;00m\u001b[38;5;250m \u001b[39m\u001b[38;5;21m__init__\u001b[39m(\u001b[38;5;28mself\u001b[39m, model_name: \u001b[38;5;28mstr\u001b[39m):\n\u001b[1;32m     16\u001b[0m     \u001b[38;5;28;01mif\u001b[39;00m model_name \u001b[38;5;129;01mnot\u001b[39;00m \u001b[38;5;129;01min\u001b[39;00m models:\n\u001b[0;32m---> 17\u001b[0m         \u001b[38;5;28;01mraise\u001b[39;00m \u001b[38;5;167;01mValueError\u001b[39;00m(\u001b[38;5;124mf\u001b[39m\u001b[38;5;124m\"\"\"\u001b[39m\u001b[38;5;124mModel \u001b[39m\u001b[38;5;124m\"\u001b[39m\u001b[38;5;132;01m{\u001b[39;00mmodel_name\u001b[38;5;132;01m}\u001b[39;00m\u001b[38;5;124m\"\u001b[39m\u001b[38;5;124m is not available.\u001b[39m\u001b[38;5;124m\"\"\"\u001b[39m)\n\u001b[1;32m     19\u001b[0m     \u001b[38;5;28mself\u001b[39m\u001b[38;5;241m.\u001b[39mclient \u001b[38;5;241m=\u001b[39m OpenAI(\u001b[38;5;241m*\u001b[39m\u001b[38;5;241m*\u001b[39mmodels[model_name])\n\u001b[1;32m     20\u001b[0m     \u001b[38;5;28mself\u001b[39m\u001b[38;5;241m.\u001b[39mmodel \u001b[38;5;241m=\u001b[39m model_name\n",
      "\u001b[0;31mValueError\u001b[0m: Model \"deepseek-v3\" is not available."
     ]
    }
   ],
   "source": [
    "from agent.agent.sujin_multi_agent_api.new_planner import NewPlannerAPI\n",
    "\n",
    "\n",
    "\n",
    "new_planner = NewPlannerAPI(tool_manager=tool_manager, model_name=\"deepseek-v3\")\n",
    "\n"
   ]
  },
  {
   "cell_type": "code",
   "execution_count": null,
   "id": "7dd0d36f",
   "metadata": {},
   "outputs": [
    {
     "name": "stdout",
     "output_type": "stream",
     "text": [
      "{\n",
      "    \"sender\": \"plan_optimizer\",\n",
      "    \"content\": {\n",
      "        \"error\": \"can only concatenate str (not \\\"NoneType\\\") to str\"\n",
      "    }\n",
      "}\n"
     ]
    }
   ],
   "source": [
    "query = \"Design a PETase\"\n",
    "message_pool = []\n",
    "\n",
    "for response in new_planner.stream_chat(query, message_pool=message_pool):\n",
    "    from IPython import display\n",
    "    display.clear_output(wait=True)\n",
    "    \n",
    "    print(response.content)"
   ]
  },
  {
   "cell_type": "code",
   "execution_count": null,
   "id": "d86258ff",
   "metadata": {},
   "outputs": [
    {
     "data": {
      "text/plain": [
       "{'sender': 'plan_optimizer',\n",
       " 'content': {'error': \"local variable 'wrong_dict' referenced before assignment\"}}"
      ]
     },
     "execution_count": 14,
     "metadata": {},
     "output_type": "execute_result"
    }
   ],
   "source": [
    "json_repair.loads(response.content)"
   ]
  },
  {
   "cell_type": "code",
   "execution_count": null,
   "id": "b67cb1be",
   "metadata": {},
   "outputs": [
    {
     "data": {
      "text/plain": [
       "{'sender': 'plan_optimizer',\n",
       " 'content': {'error': \"local variable 'wrong_dict' referenced before assignment\"}}"
      ]
     },
     "execution_count": 15,
     "metadata": {},
     "output_type": "execute_result"
    }
   ],
   "source": [
    "json_repair.loads(response.content)"
   ]
  },
  {
   "cell_type": "code",
   "execution_count": null,
   "id": "73d4a718",
   "metadata": {},
   "outputs": [
    {
     "data": {
      "text/plain": [
       "{'sender': 'plan_optimizer',\n",
       " 'content': {'error': \"local variable 'wrong_dict' referenced before assignment\"}}"
      ]
     },
     "execution_count": 16,
     "metadata": {},
     "output_type": "execute_result"
    }
   ],
   "source": [
    "json_repair.loads(response.content)"
   ]
  },
  {
   "cell_type": "code",
   "execution_count": 14,
   "id": "316a301f",
   "metadata": {},
   "outputs": [],
   "source": [
    "evaluator = ResponseEvaluatorAPI(tool_manager=tool_manager, model_name=\"qwen-turbo\")"
   ]
  },
  {
   "cell_type": "code",
   "execution_count": 26,
   "id": "52488885",
   "metadata": {},
   "outputs": [
    {
     "data": {
      "text/plain": [
       "\"The protein sequences in 'example_1.fasta' have been successfully annotated with functional information. The annotation process included predicting protein families, domains, and functional sites using InterProScan. The detailed results are stored in the 'hmm_file' directory: interproscan/20250401_1726/. If you need further assistance or specific details, please let me know.\""
      ]
     },
     "execution_count": 26,
     "metadata": {},
     "output_type": "execute_result"
    }
   ],
   "source": [
    "with open(\"/root/ProtAgent/batch_test/output/0523_sujin_qwen-turbo_3_3/result_002.json\", \"r\") as f:\n",
    "    data = json.load(f)\n",
    "\n",
    "user_request = data.get(\"query\", \"\")\n",
    "if data.get(\"status\") == \"passed\":\n",
    "    message_pool = data.get(\"messages\", [])\n",
    "    for msg in message_pool:\n",
    "        if isinstance(msg, str):\n",
    "            msg = json_repair.loads(msg)\n",
    "        if msg.get(\"sender\") == \"responder\":\n",
    "            response_str = msg.get(\"content\", \"\")\n",
    "\n",
    "response_str"
   ]
  },
  {
   "cell_type": "code",
   "execution_count": 27,
   "id": "da3d1040",
   "metadata": {},
   "outputs": [
    {
     "data": {
      "text/plain": [
       "\"Annotate the protein sequences in the file 'example_1.fasta' with functional information, including protein family, domain, and functional site predictions.\""
      ]
     },
     "execution_count": 27,
     "metadata": {},
     "output_type": "execute_result"
    }
   ],
   "source": [
    "user_request"
   ]
  },
  {
   "cell_type": "code",
   "execution_count": 37,
   "id": "4e49a3db",
   "metadata": {},
   "outputs": [
    {
     "name": "stdout",
     "output_type": "stream",
     "text": [
      "<Evaluator>\n",
      "{\n",
      "    \"sender\": \"evaluator\",\n",
      "    \"content\": {\n",
      "        \"analysis\": \"The user requested that the protein sequences in 'example_1.fasta' be annotated with functional information, specifically including protein family, domain, and functional site predictions. The response indicates that the annotation process was completed successfully and mentions that the predictions were made using InterProScan. It also states that the results are stored in a specified directory. This response aligns well with the user's request as it confirms the completion of the task and provides a location for the detailed results. Therefore, the response meets the user's request.\",\n",
      "        \"decision\": \"Yes\"\n",
      "    }\n",
      "}\n",
      "</Evaluator>\n"
     ]
    }
   ],
   "source": [
    "\n",
    "for response in evaluator.stream_chat(user_request, response=response_str):\n",
    "    from IPython import display\n",
    "    display.clear_output(wait=True)\n",
    "    \n",
    "    print(response.content)\n",
    "    "
   ]
  },
  {
   "cell_type": "code",
   "execution_count": 41,
   "id": "6aec4998",
   "metadata": {},
   "outputs": [],
   "source": [
    "response_json = json_repair.loads(response.content.split('<Evaluator>')[1])"
   ]
  },
  {
   "cell_type": "code",
   "execution_count": 42,
   "id": "406f451a",
   "metadata": {},
   "outputs": [
    {
     "data": {
      "text/plain": [
       "{'sender': 'evaluator',\n",
       " 'content': {'analysis': \"The user requested that the protein sequences in 'example_1.fasta' be annotated with functional information, specifically including protein family, domain, and functional site predictions. The response indicates that the annotation process was completed successfully and mentions that the predictions were made using InterProScan. It also states that the results are stored in a specified directory. This response aligns well with the user's request as it confirms the completion of the task and provides a location for the detailed results. Therefore, the response meets the user's request.\",\n",
       "  'decision': 'Yes'}}"
      ]
     },
     "execution_count": 42,
     "metadata": {},
     "output_type": "execute_result"
    }
   ],
   "source": [
    "response_json"
   ]
  }
 ],
 "metadata": {
  "kernelspec": {
   "display_name": "protagent_backbone",
   "language": "python",
   "name": "python3"
  },
  "language_info": {
   "codemirror_mode": {
    "name": "ipython",
    "version": 3
   },
   "file_extension": ".py",
   "mimetype": "text/x-python",
   "name": "python",
   "nbconvert_exporter": "python",
   "pygments_lexer": "ipython3",
   "version": "3.10.0"
  }
 },
 "nbformat": 4,
 "nbformat_minor": 5
}
