{
 "cells": [
  {
   "cell_type": "code",
   "execution_count": 1,
   "metadata": {},
   "outputs": [],
   "source": [
    "%load_ext autoreload\n",
    "%autoreload 2"
   ]
  },
  {
   "cell_type": "code",
   "execution_count": 2,
   "metadata": {},
   "outputs": [],
   "source": [
    "!cd /root/ProtAgent"
   ]
  },
  {
   "cell_type": "code",
   "execution_count": 3,
   "metadata": {},
   "outputs": [
    {
     "name": "stdout",
     "output_type": "stream",
     "text": [
      "/root/ProtAgent\n"
     ]
    }
   ],
   "source": [
    "import os\n",
    "os.chdir(\"/root/ProtAgent\")\n",
    "print(os.getcwd())  # 输出当前工作目录\n"
   ]
  },
  {
   "cell_type": "code",
   "execution_count": 4,
   "metadata": {},
   "outputs": [
    {
     "name": "stderr",
     "output_type": "stream",
     "text": [
      "/home/public/miniconda3/envs/agent/lib/python3.10/site-packages/lightning_fabric/__init__.py:41: Deprecated call to `pkg_resources.declare_namespace('lightning_fabric')`.\n",
      "Implementing implicit namespace packages (as specified in PEP 420) is preferred to `pkg_resources.declare_namespace`. See https://setuptools.pypa.io/en/latest/references/keywords.html#keyword-namespace-packages\n",
      "/home/public/miniconda3/envs/agent/lib/python3.10/site-packages/pytorch_lightning/__init__.py:37: Deprecated call to `pkg_resources.declare_namespace('pytorch_lightning')`.\n",
      "Implementing implicit namespace packages (as specified in PEP 420) is preferred to `pkg_resources.declare_namespace`. See https://setuptools.pypa.io/en/latest/references/keywords.html#keyword-namespace-packages\n",
      "/home/public/miniconda3/envs/agent/lib/python3.10/site-packages/wandb/analytics/sentry.py:90: SentryHubDeprecationWarning: `sentry_sdk.Hub` is deprecated and will be removed in a future major release. Please consult our 1.x to 2.x migration guide for details on how to migrate `Hub` usage to the new API: https://docs.sentry.io/platforms/python/migration/1.x-to-2.x\n",
      "  self.hub = sentry_sdk.Hub(client)\n"
     ]
    },
    {
     "name": "stdout",
     "output_type": "stream",
     "text": [
      "Building corpus...\n",
      "Building embedder...\n",
      "Building corpus embeddings with embedder...\n",
      "No lr_scheduler_kwargs provided. The default learning rate is 0.\n",
      "No optimizer_kwargs provided. The default optimizer is AdamW.\n"
     ]
    },
    {
     "data": {
      "application/vnd.jupyter.widget-view+json": {
       "model_id": "16466429bb1c4012b1acd657fa215ec9",
       "version_major": 2,
       "version_minor": 0
      },
      "text/plain": [
       "Loading checkpoint shards:   0%|          | 0/4 [00:00<?, ?it/s]"
      ]
     },
     "metadata": {},
     "output_type": "display_data"
    },
    {
     "name": "stderr",
     "output_type": "stream",
     "text": [
      "/home/public/miniconda3/envs/agent/lib/python3.10/site-packages/guidance/models/transformers/_transformers.py:150: UserWarning: Could not build_byte tokens from the tokenizer by encoding token strings: Round-trip encoding of tokens [Ð¾Ð] failed! Got [1482, 5809]\n",
      "  warnings.warn(\n",
      "/home/public/miniconda3/envs/agent/lib/python3.10/site-packages/guidance/chat.py:80: UserWarning: Chat template {% set loop_messages = messages %}{% for message in loop_messages %}{% set content = '<|start_header_id|>' + message['role'] + '<|end_header_id|>\n",
      "\n",
      "'+ message['content'] | trim + '<|eot_id|>' %}{% if loop.index0 == 0 %}{% set content = bos_token + content %}{% endif %}{{ content }}{% endfor %}{{ '<|start_header_id|>assistant<|end_header_id|>\n",
      "\n",
      "' }} was unable to be loaded directly into guidance.\n",
      "                        Defaulting to the ChatML format which may not be optimal for the selected model. \n",
      "                        For best results, create and pass in a `guidance.ChatTemplate` subclass for your model.\n",
      "  warnings.warn(\n",
      "/home/public/miniconda3/envs/agent/lib/python3.10/site-packages/gradio/routes.py:1215: DeprecationWarning: \n",
      "        on_event is deprecated, use lifespan event handlers instead.\n",
      "\n",
      "        Read more about it in the\n",
      "        [FastAPI docs for Lifespan Events](https://fastapi.tiangolo.com/advanced/events/).\n",
      "        \n",
      "  @app.on_event(\"startup\")\n",
      "/home/public/miniconda3/envs/agent/lib/python3.10/site-packages/fastapi/applications.py:4495: DeprecationWarning: \n",
      "        on_event is deprecated, use lifespan event handlers instead.\n",
      "\n",
      "        Read more about it in the\n",
      "        [FastAPI docs for Lifespan Events](https://fastapi.tiangolo.com/advanced/events/).\n",
      "        \n",
      "  return self.router.on_event(event_type)\n"
     ]
    },
    {
     "name": "stdout",
     "output_type": "stream",
     "text": [
      "Running on local URL:  http://127.0.0.1:7860\n",
      "\n",
      "To create a public link, set `share=True` in `launch()`.\n"
     ]
    },
    {
     "data": {
      "text/html": [
       "<div><iframe src=\"http://127.0.0.1:7860/\" width=\"100%\" height=\"500\" allow=\"autoplay; camera; microphone; clipboard-read; clipboard-write;\" frameborder=\"0\" allowfullscreen></iframe></div>"
      ],
      "text/plain": [
       "<IPython.core.display.HTML object>"
      ]
     },
     "metadata": {},
     "output_type": "display_data"
    },
    {
     "name": "stderr",
     "output_type": "stream",
     "text": [
      "/home/public/miniconda3/envs/agent/lib/python3.10/site-packages/starlette/templating.py:161: DeprecationWarning: The `name` is not the first parameter anymore. The first parameter should be the `Request` instance.\n",
      "Replace `TemplateResponse(name, {\"request\": request})` by `TemplateResponse(request, name)`.\n",
      "  warnings.warn(\n"
     ]
    },
    {
     "name": "stdout",
     "output_type": "stream",
     "text": [
      "Retrieving...\n"
     ]
    },
    {
     "name": "stderr",
     "output_type": "stream",
     "text": [
      "/home/public/miniconda3/envs/agent/lib/python3.10/site-packages/guidance/models/_model.py:842: UserWarning: Self-consistency check in _cleanup_tokens() failed.\n",
      "\n",
      "                        This is not a fatal issue, but if there are subsequent\n",
      "                        generation problems, please include this warning in\n",
      "                        your bug report.\n",
      "  warnings.warn(msg)\n",
      "We detected that you are passing `past_key_values` as a tuple and this is deprecated and will be removed in v4.43. Please use an appropriate `Cache` class (https://huggingface.co/docs/transformers/v4.41.3/en/internal/generation_utils#transformers.Cache)\n",
      "Traceback (most recent call last):\n",
      "  File \"/home/public/miniconda3/envs/agent/lib/python3.10/site-packages/gradio/queueing.py\", line 575, in process_events\n",
      "    response = await route_utils.call_process_api(\n",
      "  File \"/home/public/miniconda3/envs/agent/lib/python3.10/site-packages/gradio/route_utils.py\", line 322, in call_process_api\n",
      "    output = await app.get_blocks().process_api(\n",
      "  File \"/home/public/miniconda3/envs/agent/lib/python3.10/site-packages/gradio/blocks.py\", line 1935, in process_api\n",
      "    result = await self.call_function(\n",
      "  File \"/home/public/miniconda3/envs/agent/lib/python3.10/site-packages/gradio/blocks.py\", line 1532, in call_function\n",
      "    prediction = await utils.async_iteration(iterator)\n",
      "  File \"/home/public/miniconda3/envs/agent/lib/python3.10/site-packages/gradio/utils.py\", line 671, in async_iteration\n",
      "    return await iterator.__anext__()\n",
      "  File \"/home/public/miniconda3/envs/agent/lib/python3.10/site-packages/gradio/utils.py\", line 664, in __anext__\n",
      "    return await anyio.to_thread.run_sync(\n",
      "  File \"/home/public/miniconda3/envs/agent/lib/python3.10/site-packages/anyio/to_thread.py\", line 56, in run_sync\n",
      "    return await get_async_backend().run_sync_in_worker_thread(\n",
      "  File \"/home/public/miniconda3/envs/agent/lib/python3.10/site-packages/anyio/_backends/_asyncio.py\", line 2177, in run_sync_in_worker_thread\n",
      "    return await future\n",
      "  File \"/home/public/miniconda3/envs/agent/lib/python3.10/site-packages/anyio/_backends/_asyncio.py\", line 859, in run\n",
      "    result = context.run(func, *args)\n",
      "  File \"/home/public/miniconda3/envs/agent/lib/python3.10/site-packages/gradio/utils.py\", line 647, in run_sync_iterator_async\n",
      "    return next(iterator)\n",
      "  File \"/home/public/miniconda3/envs/agent/lib/python3.10/site-packages/gradio/utils.py\", line 809, in gen_wrapper\n",
      "    response = next(iterator)\n",
      "  File \"/root/ProtAgent/demo/modules/chatbot.py\", line 110, in conversation\n",
      "    for agent_return in lm:\n",
      "  File \"/root/ProtAgent/agent/agent/protein_react_guidance.py\", line 222, in stream_chat\n",
      "    self.response['action_input'] = str(standard_action_input)\n",
      "  File \"/home/public/miniconda3/envs/agent/lib/python3.10/site-packages/guidance/models/_model.py\", line 1186, in __setitem__\n",
      "    raise Exception(\n",
      "Exception: Model objects are immutable so you can't use __setitem__! Consider using the .set(key, value) method instead to create a new updated model object.\n"
     ]
    }
   ],
   "source": [
    "import sys\n",
    "sys.path.append(\".\")\n",
    "\n",
    "import gradio as gr\n",
    "import time\n",
    "\n",
    "from demo.modules.chatbot import build_chatbox\n",
    "\n",
    "\n",
    "CSS = \\\n",
    "\"\"\"\n",
    ".gradio-container {background-color: #99CCCC}\n",
    "#chatbot {\n",
    "    flex-grow: 1 !important;\n",
    "    overflow: auto !important;\n",
    "} \n",
    "#col { height: calc(100vh - 60px - 16px) !important; }\n",
    "\"\"\"\n",
    "\n",
    "from gradio.themes import *\n",
    "with gr.Blocks(theme=Soft(), css=CSS, fill_width=True) as demo:\n",
    "    with gr.Row():\n",
    "        build_chatbox()\n",
    "        \n",
    "        \n",
    "if __name__ == '__main__':\n",
    "    demo.launch()\n",
    " "
   ]
  }
 ],
 "metadata": {
  "kernelspec": {
   "display_name": "agent",
   "language": "python",
   "name": "python3"
  },
  "language_info": {
   "codemirror_mode": {
    "name": "ipython",
    "version": 3
   },
   "file_extension": ".py",
   "mimetype": "text/x-python",
   "name": "python",
   "nbconvert_exporter": "python",
   "pygments_lexer": "ipython3",
   "version": "3.10.0"
  }
 },
 "nbformat": 4,
 "nbformat_minor": 2
}
