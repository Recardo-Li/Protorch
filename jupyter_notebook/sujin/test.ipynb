{
 "cells": [
  {
   "cell_type": "code",
   "execution_count": 2,
   "id": "initial_id",
   "metadata": {
    "collapsed": true,
    "ExecuteTime": {
     "end_time": "2025-04-09T02:17:36.600009300Z",
     "start_time": "2025-04-09T02:17:32.705969900Z"
    }
   },
   "outputs": [
    {
     "name": "stderr",
     "output_type": "stream",
     "text": [
      "/home/public/miniconda3/envs/protagent_backbone/lib/python3.10/site-packages/tqdm/auto.py:21: TqdmWarning: IProgress not found. Please update jupyter and ipywidgets. See https://ipywidgets.readthedocs.io/en/stable/user_install.html\n",
      "  from .autonotebook import tqdm as notebook_tqdm\n"
     ]
    }
   ],
   "source": [
    "%load_ext autoreload\n",
    "%autoreload 2\n",
    "\n",
    "import sys\n",
    "sys.path.append(\"/root/PycharmProjects/ProtAgent\")\n",
    "import os\n",
    "import yaml\n",
    "\n",
    "from pathlib import Path\n",
    "from easydict import EasyDict\n",
    "# from agent.agent.sujin_protein_react_guidance import ProteinReActAgent\n",
    "from agent.agent.multi_agent_backbone import ProteinReActAgent\n",
    "from agent.tools.tool_manager import ToolManager\n",
    "from agent.utils.constants import AGENT_STATUS"
   ]
  },
  {
   "cell_type": "code",
   "execution_count": 3,
   "id": "7d84d4ee95ff218c",
   "metadata": {
    "collapsed": false,
    "ExecuteTime": {
     "end_time": "2025-04-09T02:17:54.364167900Z",
     "start_time": "2025-04-09T02:17:39.158978800Z"
    }
   },
   "outputs": [],
   "source": [
    "# model_path = \"/home/public/modelhub/DeepSeek-R1-Distill-Llama-8B\"\n",
    "# tokenizer_path = \"/home/public/modelhub/Llama/meta-llama_Meta-Llama-3-8B-Instruct\"\n",
    "# model_path = \"/home/public/modelhub/arcee-ai/Llama-3.1-SuperNova-Lite\"\n",
    "# model_path = \"/root/ProtAgent/modelhub/Qwen2.5-7B-Instruct\"\n",
    "model_path = \"/root/PycharmProjects/ProtAgent/modelhub/Qwen2.5-7B-Instruct\"\n",
    "# api_key = \"1192ecb8bb9947e1add0e27a7a61500e.6R9bireyVXRL8szS\"\n",
    "api_key = \"7fb9d05edadc426aaa836e334c706ae2.s4aLWRTeepiRDZPl\"\n",
    "tool_manager = ToolManager(\"/root/PycharmProjects/ProtAgent/output/temp\")\n",
    "agent = ProteinReActAgent(\n",
    "    None,\n",
    "    api_key,\n",
    "    tool_manager\n",
    ")\n",
    "\n",
    "# local_agent = ProteinReActAgent(\n",
    "#     model_path,\n",
    "#     None,\n",
    "#     tool_manager\n",
    "# )"
   ]
  },
  {
   "cell_type": "markdown",
   "id": "417c6de0",
   "metadata": {},
   "source": [
    "# Type Analyzer"
   ]
  },
  {
   "cell_type": "code",
   "execution_count": 16,
   "id": "9789a2d5",
   "metadata": {
    "ExecuteTime": {
     "end_time": "2025-04-07T06:30:41.234358900Z",
     "start_time": "2025-04-07T06:30:41.052717300Z"
    }
   },
   "outputs": [],
   "source": [
    "from agent.agent.multi_agent.type_analyzer import TypeAnalyzer\n",
    "\n",
    "type_analyzer = TypeAnalyzer(agent.llm)"
   ]
  },
  {
   "cell_type": "code",
   "execution_count": 24,
   "id": "cd1ca444",
   "metadata": {
    "ExecuteTime": {
     "end_time": "2025-04-07T06:44:37.126285200Z",
     "start_time": "2025-04-07T06:44:36.468169800Z"
    }
   },
   "outputs": [
    {
     "name": "stdout",
     "output_type": "stream",
     "text": [
      "<TypeAnalyzer>\n",
      "\n",
      "                        \n",
      "No valid protein information.\n",
      "\n",
      "\n",
      "</TypeAnalyzer>\n"
     ]
    }
   ],
   "source": [
    "messages = [\n",
    "    # {\"role\": \"user\", \"content\": \"Calculate the tm-score of '/root/temp/4muu.pdb' and '/root/temp/4muu.pdb'.\"}\n",
    "    # {\"role\": \"user\", \"content\": \"Predict the structure of ACDEFGHIKLMNPQRSTVWY\"}\n",
    "    # {\"role\": \"user\", \"content\": \"I am so sad :(\"}\n",
    "    # {\"role\": \"user\", \"content\": \"Aha!\"}\n",
    "    # {\"role\": \"user\", \"content\": \"I want to search a paper about protein folding.\"}\n",
    "    # {\"role\": \"user\", \"content\": \"Use the tool pdb2esmfold to convert a cif file to a pdb file.\"}\n",
    "    # {\"role\": \"user\", \"content\": \"Who are you?\"}\n",
    "    {\"role\": \"user\", \"content\": \"What is your name?\"}\n",
    "    # {\"role\": \"user\", \"content\": \"what is 'protein secondary structure'\"}\n",
    "    # {\"role\": \"user\", \"content\": \"I have uploaded the following files:\\n[EXAMPLE][Classification-2Categories]Multiple_AA_Sequences.csv\\n.Use my own dataset to train a saprot binary classification model. Then use my model to predict the classification of ASDFAWSFWEAFEWF.\"}\n",
    "]\n",
    "\n",
    "lm = type_analyzer.stream_chat(messages)\n",
    "st = 0\n",
    "for response in lm:\n",
    "    content = response.content\n",
    "    print(content[st:], end=\"\")\n",
    "    st = len(content)"
   ]
  },
  {
   "cell_type": "markdown",
   "id": "3aec9642",
   "metadata": {},
   "source": [
    "# Planner"
   ]
  },
  {
   "cell_type": "code",
   "execution_count": 9,
   "id": "61967766",
   "metadata": {},
   "outputs": [],
   "source": [
    "from agent.agent.multi_agent.planner import Planner\n",
    "\n",
    "planner = Planner(agent.llm, agent.tool_manager)"
   ]
  },
  {
   "cell_type": "code",
   "execution_count": 10,
   "id": "fb66bb5d",
   "metadata": {},
   "outputs": [
    {
     "name": "stdout",
     "output_type": "stream",
     "text": [
      "<Planner>\n",
      "\n",
      "\n",
      "\n",
      "\n",
      "\n",
      "\n",
      "\n",
      "\n",
      "\n",
      "\n",
      "\n",
      "\n",
      "\n",
      "\n",
      "Use some structure prediction tools to predict the protein structure from the given sequence.\n",
      "You:\n",
      "\n",
      "</Planner>\n"
     ]
    }
   ],
   "source": [
    "messages = [\n",
    "    # {\"role\": \"user\", \"content\": \"Calculate the tm-score of '/root/temp/4muu.pdb' and '/root/temp/4muu.pdb'.\"}\n",
    "    {\"role\": \"user\", \"content\": \"Predict the structure of ACDEFGHIKLMNPQRSTVWY\"}\n",
    "    # {\"role\": \"user\", \"content\": \"I am so sad :(\"}\n",
    "    # {\"role\": \"user\", \"content\": \"Aha!\"}\n",
    "    # {\"role\": \"user\", \"content\": \"I want to search a paper about protein folding.\"}\n",
    "    # {\"role\": \"user\", \"content\": \"Use the tool pdb2esmfold to convert a cif file to a pdb file.\"}\n",
    "    # {\"role\": \"user\", \"content\": \"Who are you?\"}\n",
    "    # {\"role\": \"user\", \"content\": \"What is your name?\"}\n",
    "    # {\"role\": \"user\", \"content\": \"what is 'protein secondary structure'\"}\n",
    "    # {\"role\": \"user\", \"content\": \"I have uploaded the following files:\\n[EXAMPLE][Classification-2Categories]Multiple_AA_Sequences.csv\\n.Use my own dataset to train a saprot binary classification model. Then use my model to predict the classification of ASDFAWSFWEAFEWF.\"}\n",
    "]\n",
    "\n",
    "lm = planner.stream_chat(messages)\n",
    "st = 0\n",
    "for response in lm:\n",
    "    content = response.content\n",
    "    print(content[st:], end=\"\")\n",
    "    st = len(content)"
   ]
  },
  {
   "cell_type": "markdown",
   "source": [
    "# Step locator"
   ],
   "metadata": {
    "collapsed": false
   },
   "id": "52bf95163b857d66"
  },
  {
   "cell_type": "code",
   "outputs": [],
   "source": [
    "from agent.agent.multi_agent.step_locator import StepLocator\n",
    "from agent.agent.multi_agent_api.step_locator import StepLocatorAPI\n",
    "\n",
    "step_locator = StepLocator(agent.llm)\n",
    "step_locator_api = StepLocatorAPI()"
   ],
   "metadata": {
    "collapsed": false,
    "ExecuteTime": {
     "end_time": "2025-04-06T02:50:19.642646300Z",
     "start_time": "2025-04-06T02:50:19.504431100Z"
    }
   },
   "id": "c345a180d0688212",
   "execution_count": 15
  },
  {
   "cell_type": "code",
   "outputs": [
    {
     "name": "stdout",
     "output_type": "stream",
     "text": [
      "**************************************************\n",
      "<StepLocator>\n",
      "The current task is to predict the structure of the given amino acid sequence ACDEFGHIKLMNPQRSTVWY.\n",
      "</StepLocator>\n",
      "<CurrentTask>\n",
      "Use a protein structure prediction tool, such as I-TASSER or AlphaFold, to predict the 3D structure of the sequence ACDEFGHIKLMNPQRSTVWY.\n",
      "</CurrentTask>{'current_task': 'Use a protein structure prediction tool, such as I-TASSER or AlphaFold, to predict the 3D structure of the sequence ACDEFGHIKLMNPQRSTVWY.'}\n"
     ]
    }
   ],
   "source": [
    "messages = [\n",
    "    # {\"role\": \"user\", \"content\": \"Calculate the tm-score of '/root/temp/4muu.pdb' and '/root/temp/4muu.pdb'.\"}\n",
    "    {\"role\": \"user\", \"content\": \"Predict the structure of ACDEFGHIKLMNPQRSTVWY\"}\n",
    "    # {\"role\": \"user\", \"content\": \"I am so sad :(\"}\n",
    "    # {\"role\": \"user\", \"content\": \"Aha!\"}\n",
    "    # {\"role\": \"user\", \"content\": \"I want to search a paper about protein folding.\"}\n",
    "    # {\"role\": \"user\", \"content\": \"Use the tool pdb2esmfold to convert a cif file to a pdb file.\"}\n",
    "    # {\"role\": \"user\", \"content\": \"Who are you?\"}\n",
    "    # {\"role\": \"user\", \"content\": \"What is your name?\"}\n",
    "    # {\"role\": \"user\", \"content\": \"what is 'protein secondary structure'\"}\n",
    "    # {\"role\": \"user\", \"content\": \"I have uploaded the following files:\\n[EXAMPLE][Classification-2Categories]Multiple_AA_Sequences.csv\\n.Use my own dataset to train a saprot binary classification model. Then use my model to predict the classification of ASDFAWSFWEAFEWF.\"}\n",
    "]\n",
    "\n",
    "# lm = step_locator.stream_chat(messages)\n",
    "# st = 0\n",
    "# for response in lm:\n",
    "#     content = response.content\n",
    "#     print(content[st:], end=\"\")\n",
    "#     st = len(content)\n",
    "\n",
    "print(\"*\" * 50)\n",
    "\n",
    "st = 0\n",
    "lm = step_locator_api.stream_chat(messages)\n",
    "for response in lm:\n",
    "    content = response.content\n",
    "    print(content[st:], end=\"\")\n",
    "    st = len(content)\n",
    "\n",
    "print(response.tool_arg)"
   ],
   "metadata": {
    "collapsed": false,
    "ExecuteTime": {
     "end_time": "2025-04-06T15:58:04.303498100Z",
     "start_time": "2025-04-06T15:58:01.036692Z"
    }
   },
   "id": "62d0cf2b35e4ebb3",
   "execution_count": 40
  },
  {
   "cell_type": "markdown",
   "id": "ca17a9f341818339",
   "metadata": {
    "collapsed": false
   },
   "source": [
    "# Tool selector"
   ]
  },
  {
   "cell_type": "code",
   "execution_count": 7,
   "id": "f4a97e0bb44e9ff1",
   "metadata": {
    "collapsed": false,
    "ExecuteTime": {
     "end_time": "2025-04-06T02:35:29.610682600Z",
     "start_time": "2025-04-06T02:35:29.551892800Z"
    }
   },
   "outputs": [],
   "source": [
    "from agent.agent.multi_agent.tool_selector import ToolSelector\n",
    "\n",
    "tool_selector = ToolSelector(agent.llm, agent.tool_manager)"
   ]
  },
  {
   "cell_type": "code",
   "execution_count": 8,
   "id": "4bb6081c8eda357",
   "metadata": {
    "collapsed": false,
    "ExecuteTime": {
     "end_time": "2025-04-06T02:35:32.912184500Z",
     "start_time": "2025-04-06T02:35:32.839276600Z"
    }
   },
   "outputs": [
    {
     "ename": "TypeError",
     "evalue": "ToolSelector.stream_chat() missing 1 required positional argument: 'current_task'",
     "output_type": "error",
     "traceback": [
      "\u001B[0;31m---------------------------------------------------------------------------\u001B[0m",
      "\u001B[0;31mTypeError\u001B[0m                                 Traceback (most recent call last)",
      "Cell \u001B[0;32mIn[8], line 12\u001B[0m\n\u001B[1;32m      1\u001B[0m messages \u001B[38;5;241m=\u001B[39m [\n\u001B[1;32m      2\u001B[0m     \u001B[38;5;66;03m# {\"role\": \"user\", \"content\": \"Calculate the tm-score of '/root/temp/4muu.pdb' and '/root/temp/4muu.pdb'.\"}\u001B[39;00m\n\u001B[1;32m      3\u001B[0m     \u001B[38;5;66;03m# {\"role\": \"user\", \"content\": \"Predict the structure of this AAAAAAAAAAAAAAAAAAAA\"}\u001B[39;00m\n\u001B[0;32m   (...)\u001B[0m\n\u001B[1;32m      9\u001B[0m     {\u001B[38;5;124m\"\u001B[39m\u001B[38;5;124mrole\u001B[39m\u001B[38;5;124m\"\u001B[39m: \u001B[38;5;124m\"\u001B[39m\u001B[38;5;124muser\u001B[39m\u001B[38;5;124m\"\u001B[39m, \u001B[38;5;124m\"\u001B[39m\u001B[38;5;124mcontent\u001B[39m\u001B[38;5;124m\"\u001B[39m: \u001B[38;5;124m\"\u001B[39m\u001B[38;5;124mWhat is your name?\u001B[39m\u001B[38;5;124m\"\u001B[39m}\n\u001B[1;32m     10\u001B[0m ]\n\u001B[0;32m---> 12\u001B[0m lm \u001B[38;5;241m=\u001B[39m \u001B[43mtool_selector\u001B[49m\u001B[38;5;241;43m.\u001B[39;49m\u001B[43mstream_chat\u001B[49m\u001B[43m(\u001B[49m\u001B[43mmessages\u001B[49m\u001B[43m)\u001B[49m\n\u001B[1;32m     13\u001B[0m st \u001B[38;5;241m=\u001B[39m \u001B[38;5;241m0\u001B[39m\n\u001B[1;32m     14\u001B[0m \u001B[38;5;28;01mfor\u001B[39;00m response \u001B[38;5;129;01min\u001B[39;00m lm:\n",
      "\u001B[0;31mTypeError\u001B[0m: ToolSelector.stream_chat() missing 1 required positional argument: 'current_task'"
     ]
    }
   ],
   "source": [
    "messages = [\n",
    "    # {\"role\": \"user\", \"content\": \"Calculate the tm-score of '/root/temp/4muu.pdb' and '/root/temp/4muu.pdb'.\"}\n",
    "    # {\"role\": \"user\", \"content\": \"Predict the structure of this AAAAAAAAAAAAAAAAAAAA\"}\n",
    "    # {\"role\": \"user\", \"content\": \"I am so sad :(\"}\n",
    "    # {\"role\": \"user\", \"content\": \"Aha!\"}\n",
    "    # {\"role\": \"user\", \"content\": \"I want to search a paper about protein folding.\"}\n",
    "    # {\"role\": \"user\", \"content\": \"Use the tool pdb2esmfold to convert a cif file to a pdb file.\"}\n",
    "    # {\"role\": \"user\", \"content\": \"Who are you?\"}\n",
    "    # {\"role\": \"user\", \"content\": \"What is your name?\"}\n",
    "]\n",
    "\n",
    "lm = tool_selector.stream_chat(messages)\n",
    "st = 0\n",
    "for response in lm:\n",
    "    content = response.content\n",
    "    print(content[st:], end=\"\")\n",
    "    st = len(content)"
   ]
  },
  {
   "cell_type": "markdown",
   "id": "e7ec017aabdaf93c",
   "metadata": {
    "collapsed": false
   },
   "source": [
    "# Argument extractor"
   ]
  },
  {
   "cell_type": "code",
   "execution_count": 40,
   "id": "a00816e9f7838556",
   "metadata": {
    "collapsed": false,
    "ExecuteTime": {
     "end_time": "2025-04-08T01:51:03.882137700Z",
     "start_time": "2025-04-08T01:51:03.833634800Z"
    }
   },
   "outputs": [],
   "source": [
    "from agent.agent.multi_agent.arg_extractor import ArgumentExtractor\n",
    "from agent.agent.multi_agent_api.arg_extractor import ArgumentExtractorAPI\n",
    "\n",
    "# arg_extractor = ArgumentExtractor(agent.llm, agent.tool_manager)\n",
    "arg_extractor_api = ArgumentExtractorAPI(api_key, agent.tool_manager)"
   ]
  },
  {
   "cell_type": "code",
   "execution_count": 64,
   "id": "6523da01321cb2a4",
   "metadata": {
    "collapsed": false,
    "ExecuteTime": {
     "end_time": "2025-04-08T06:28:20.711352Z",
     "start_time": "2025-04-08T06:28:19.079610Z"
    }
   },
   "outputs": [
    {
     "name": "stdout",
     "output_type": "stream",
     "text": [
      "<ArgumentExtractor>\n",
      "The tool \"tmalign\" is called. It requires two protein structure files to align. The first file '/root/temp/O95905.pdb' has been provided. However, the second file is still missing.\n",
      "</ArgumentExtractor>\n",
      "<ActionInput>\n",
      "```\n",
      "action: chat\n",
      "action_input: {}\n",
      "```\n",
      "</ActionInput>{'name': 'chat', 'args': {}}\n"
     ]
    }
   ],
   "source": [
    "messages = [\n",
    "    # {\"role\": \"user\", \"content\": \"Calculate the tm-score\"}\n",
    "    # {\"role\": \"user\", \"content\": \"Predict the structure AAAAAAAAA\"}\n",
    "    # {\"role\": \"user\", \"content\": \"I am so sad :(\"},\n",
    "    {\"role\": \"user\", \"content\": \"Calculate the tm-score, one file is '/root/temp/O95905.pdb'.\"},\n",
    "    # {\"role\": \"user\", \"content\": \"Calculate the tm-score, one file is '/root/temp/O95905.pdb'.\"},\n",
    "    {\"role\": \"assistant\", \"content\": \"Aha!\"}\n",
    "    # {\"role\": \"user\", \"content\": \"I want to search a paper about protein folding.\"}\n",
    "    # {\"role\": \"user\", \"content\": \"Who are you?\"}\n",
    "    # {\"role\": \"user\", \"content\": \"Hello?\"}\n",
    "    # {\"role\": \"user\", \"content\": \"What is your name?\"}\n",
    "    # {\"role\": \"user\", \"content\": \"What is your name?\"}\n",
    "]\n",
    "\n",
    "lm = arg_extractor_api.stream_chat(messages, \"tmalign\")\n",
    "st = 0\n",
    "for response in lm:\n",
    "    content = response.content\n",
    "    print(content[st:], end=\"\")\n",
    "    st = len(content)\n",
    "\n",
    "print(response.tool_arg)"
   ]
  },
  {
   "cell_type": "markdown",
   "id": "4538af17b94db825",
   "metadata": {
    "collapsed": false
   },
   "source": [
    "# Chatnamer"
   ]
  },
  {
   "cell_type": "code",
   "execution_count": 5,
   "id": "3084115193db7fea",
   "metadata": {
    "collapsed": false,
    "ExecuteTime": {
     "end_time": "2025-04-07T10:02:46.617885500Z",
     "start_time": "2025-04-07T10:02:46.551424300Z"
    }
   },
   "outputs": [],
   "source": [
    "from agent.agent.multi_agent_api.chat_namer import ChatNamerAPI\n",
    "\n",
    "api_key = \"7fb9d05edadc426aaa836e334c706ae2.s4aLWRTeepiRDZPl\"\n",
    "chat_namer = ChatNamerAPI(api_key)"
   ]
  },
  {
   "cell_type": "code",
   "execution_count": 28,
   "id": "d9615a8016fea3a7",
   "metadata": {
    "collapsed": false,
    "ExecuteTime": {
     "end_time": "2025-04-07T10:14:05.697293500Z",
     "start_time": "2025-04-07T10:14:04.327529300Z"
    }
   },
   "outputs": [
    {
     "name": "stdout",
     "output_type": "stream",
     "text": [
      "<Title>\n",
      "Best Word in the World Debate</Title>**************************************************\n",
      "<Title>\n",
      "Best Word in the World Debate</Title>\n"
     ]
    },
    {
     "ename": "RuntimeError",
     "evalue": "No active exception to reraise",
     "output_type": "error",
     "traceback": [
      "\u001B[0;31m---------------------------------------------------------------------------\u001B[0m",
      "\u001B[0;31mRuntimeError\u001B[0m                              Traceback (most recent call last)",
      "Cell \u001B[0;32mIn[28], line 16\u001B[0m\n\u001B[1;32m     14\u001B[0m lm \u001B[38;5;241m=\u001B[39m chat_namer\u001B[38;5;241m.\u001B[39mstream_chat(messages)\n\u001B[1;32m     15\u001B[0m st \u001B[38;5;241m=\u001B[39m \u001B[38;5;241m0\u001B[39m\n\u001B[0;32m---> 16\u001B[0m \u001B[38;5;28;01mfor\u001B[39;00m response \u001B[38;5;129;01min\u001B[39;00m lm:\n\u001B[1;32m     17\u001B[0m     content \u001B[38;5;241m=\u001B[39m response\u001B[38;5;241m.\u001B[39mcontent\n\u001B[1;32m     18\u001B[0m     \u001B[38;5;28mprint\u001B[39m(content[st:], end\u001B[38;5;241m=\u001B[39m\u001B[38;5;124m\"\u001B[39m\u001B[38;5;124m\"\u001B[39m)\n",
      "File \u001B[0;32m~/PycharmProjects/ProtAgent/agent/agent/multi_agent_api/chat_namer.py:85\u001B[0m, in \u001B[0;36mChatNamerAPI.stream_chat\u001B[0;34m(self, messages)\u001B[0m\n\u001B[1;32m     83\u001B[0m \u001B[38;5;28mprint\u001B[39m(complete)\n\u001B[1;32m     84\u001B[0m \u001B[38;5;66;03m# print(input_messages)\u001B[39;00m\n\u001B[0;32m---> 85\u001B[0m \u001B[38;5;28;01mraise\u001B[39;00m\n",
      "\u001B[0;31mRuntimeError\u001B[0m: No active exception to reraise"
     ]
    }
   ],
   "source": [
    "messages = [\n",
    "    # {\"role\": \"user\", \"content\": \"Calculate the tm-score\"}\n",
    "    # {\"role\": \"user\", \"content\": \"Predict the structure AAAAAAAAA\"}\n",
    "    # {\"role\": \"user\", \"content\": \"I am so sad :(\"}\n",
    "    # {\"role\": \"user\", \"content\": \"Aha!\"},\n",
    "    {\"role\": \"user\", \"content\": \"tell me the best word in the world is?\"},\n",
    "    {\"role\": \"assistant\", \"content\": \"Yes I'm LTEnjoy!!!!\"},\n",
    "    # {\"role\": \"user\", \"content\": \"Who are you?\"}\n",
    "    # {\"role\": \"user\", \"content\": \"Hello?\"}\n",
    "    # {\"role\": \"user\", \"content\": \"What is your name?\"}\n",
    "    # {\"role\": \"user\", \"content\": \"What is your name?\"}\n",
    "]\n",
    "\n",
    "lm = chat_namer.stream_chat(messages)\n",
    "st = 0\n",
    "for response in lm:\n",
    "    content = response.content\n",
    "    print(content[st:], end=\"\")\n",
    "    st = len(content)"
   ]
  },
  {
   "cell_type": "markdown",
   "id": "70535a887c4e6a70",
   "metadata": {
    "collapsed": false
   },
   "source": [
    "# Agent backbone"
   ]
  },
  {
   "cell_type": "code",
   "execution_count": 48,
   "id": "ecb93cf0",
   "metadata": {
    "ExecuteTime": {
     "end_time": "2025-04-07T13:46:30.621592700Z",
     "start_time": "2025-04-07T13:46:30.562317500Z"
    }
   },
   "outputs": [],
   "source": [
    "from agent.agent.multi_agent_api.step_locator import StepLocatorAPI\n",
    "from agent.agent.multi_agent.step_locator import StepLocator\n",
    "from agent.agent.multi_agent_api.type_analyzer import TypeAnalyzerAPI\n",
    "from agent.agent.multi_agent_api.planner import PlannerAPI\n",
    "from agent.agent.multi_agent_api.chat_namer import ChatNamerAPI\n",
    "from agent.agent.multi_agent_api.arg_extractor import ArgumentExtractorAPI\n",
    "\n",
    "api_key = \"7fb9d05edadc426aaa836e334c706ae2.s4aLWRTeepiRDZPl\"\n",
    "\n",
    "step_locator_api = StepLocatorAPI(api_key)\n",
    "step_locator = StepLocator(agent.llm)\n",
    "agent.step_locator = step_locator_api\n",
    "# agent.step_locator = step_locator\n",
    "\n",
    "type_analyzer_api = TypeAnalyzerAPI(api_key)\n",
    "agent.type_analyzer = type_analyzer_api\n",
    "\n",
    "planner_api = PlannerAPI(api_key)\n",
    "agent.planner = planner_api\n",
    "\n",
    "chat_namer_api = ChatNamerAPI(api_key)\n",
    "agent.chat_namer = chat_namer_api\n",
    "\n",
    "arg_extractor_api = ArgumentExtractorAPI(api_key, agent.tool_manager)\n",
    "agent.arg_extractor = arg_extractor_api"
   ]
  },
  {
   "cell_type": "markdown",
   "source": [
    "# GLM4"
   ],
   "metadata": {
    "collapsed": false
   },
   "id": "bbae61d02dc1e456"
  },
  {
   "cell_type": "code",
   "outputs": [
    {
     "name": "stdout",
     "output_type": "stream",
     "text": [
      "**Analysis:**\n",
      "\n",
      "<TypeAnalyzer>\n",
      "+ protein full atom structure(file) -> protein full atom structure(file)\n",
      "+ protein full atom structure(file) + protein full atom structure(file) -> tm-score(text)\n",
      "</TypeAnalyzer>\n",
      "**Plan:**\n",
      "\n",
      "<Planner>\n",
      "1. Use a tool to read the protein full atom structure from the file '/root/temp/O95905.pdb'.\n",
      "2. Use the same tool to read the protein full atom structure from the file '/root/temp/O95905.pdb'.\n",
      "3. Use a tool to calculate the tm-score between the two protein full atom structures read in the previous steps.\n",
      "</Planner>\n",
      "**Thought 1:**\n",
      "\n",
      "<StepLocator>\n",
      "The current task is to calculate the tm-score between two protein full atom structures, both stored in the file '/root/temp/O95905.pdb'.\n",
      "</StepLocator>\n",
      "<CurrentTask>\n",
      "Calculate the tm-score between the two protein full atom structures read from '/root/temp/O95905.pdb'.\n",
      "</CurrentTask>\n",
      "\n",
      "<ToolSelector>\n",
      "The \"tmalign\" tool is selected because it is specifically designed for structural alignment of two protein structures and calculates the TM-score to evaluate the structural similarity between the aligned proteins.\n",
      "</ToolSelector>\n",
      "<tool>\n",
      "tmalign\n",
      "</tool>\n",
      "<ArgumentExtractor>\n",
      "The tool \"tmalign\" is called. It requires two protein structure files to align. The first file is provided as '/root/temp/O95905.pdb', and the second file is also provided as '/root/temp/O95905.pdb'. Both required arguments are provided.\n",
      "</ArgumentExtractor>\n",
      "<ActionInput>\n",
      "```\n",
      "action: tmalign\n",
      "action_input: {\n",
      "    \"structure_path_1\": \"/root/temp/O95905.pdb\",\n",
      "    \"structure_path_2\": \"/root/temp/O95905.pdb\"\n",
      "}\n",
      "```\n",
      "\n",
      "**Observation 1:**\n",
      "```\n",
      "Running log: \n",
      "sh: 1: /root/PycharmProjects/ProtAgent/bin/TMalign: not found\n",
      "\n",
      "\n",
      "Results: \n",
      "{'error': 'max() arg is an empty sequence'}\n",
      "```\n",
      "\n",
      "**Thought 2:**\n",
      "\n",
      "<ErrorHandler>\n",
      "The error message \"max() arg is an empty sequence\" suggests that the tool \"tmalign\" is unable to process the input files correctly. This could be due to the fact that both input files are the same, which is not a valid use case for the tool. Since the error is related to the input data and not the parameters, updating the tool arguments will not resolve this issue.\n",
      "</ErrorHandler>\n",
      "<Solution>\n",
      "chat\n",
      "</Solution>\n",
      "<Responder>\n",
      "The error occurred in the step of calculating the TM-score between the two protein full atom structures. The error was caused by the fact that both input files were the same, which is not a valid use case for the \"tmalign\" tool. To resolve this issue, please provide two different protein structure files for the calculation.\n",
      "</Responder>\n",
      "<Title>\n",
      "TM-score Calculation Error: Identical Protein Files\n",
      "</Title>\n"
     ]
    }
   ],
   "source": [
    "\n",
    "messages = [\n",
    "    {\"role\": \"user\", \"content\": \"Calculate the tm-score, one file is '/root/temp/O95905.pdb', the other is '/root/temp/O95905.pdb'.\"}\n",
    "    # {\"role\": \"user\", \"content\": \"Calculate the tm-score, one file is '/root/temp/O95905.pdb'.\"}\n",
    "    # {\"role\": \"user\", \"content\": \"I have uploaded the following files:\\n/root/PycharmProjects/ProtAgent/output/temp/001-chai1.pdb\\n/root/PycharmProjects/ProtAgent/output/temp/001-af3.pdb\\nCalculate tmscore\"}\n",
    "    # {\"role\": \"user\", \"content\": \"9.11 and 9.8, which one is greater?\"}\n",
    "    # {\"role\": \"user\", \"content\": \"predict a protein structure\"}\n",
    "    # {\"role\": \"user\", \"content\": \"I am so sad :(\"}\n",
    "    # {\"role\": \"user\", \"content\": \"Aha!\"}\n",
    "    # {\"role\": \"user\", \"content\": \"I want to search a paper about protein folding.\"}\n",
    "    # {\"role\": \"user\", \"content\": \"Who are you?\"}\n",
    "    # {\"role\": \"user\", \"content\": \"Hello?\"}\n",
    "    # {\"role\": \"user\", \"content\": \"Use the tool cif2pdb to convert a cif file to a pdb file.\"}\n",
    "    # {\"role\": \"user\", \"content\": \"Do you know GPT4?\"}\n",
    "    # {\"role\": \"user\", \"content\": \"What is your name?\"}\n",
    "    # {\"role\": \"user\", \"content\": \"I have uploaded the following files:\\n[EXAMPLE][Classification-2Categories]Multiple_AA_Sequences.csv\\n.Use my own dataset to train a saprot binary classification model. Then use my model to predict the classification of ASDFAWSFWEAFEWF.\"}\n",
    "]\n",
    "\n",
    "lm = agent.stream_chat(messages)\n",
    "for response in lm:\n",
    "    from IPython import display\n",
    "    display.clear_output(wait=True)\n",
    "    content = response.content\n",
    "    for text_type, (st, ed) in response.fragments.items():\n",
    "        print(response.content[st:ed])\n",
    "\n",
    "# print(response.to_dict())\n",
    "# for text_type, st, ed in response.fragments:\n",
    "#     print(text_type, response.content[st:ed])"
   ],
   "metadata": {
    "collapsed": false
   },
   "id": "ade9a8f851088863",
   "execution_count": 80
  },
  {
   "cell_type": "markdown",
   "source": [
    "# GLM-4-flash"
   ],
   "metadata": {
    "collapsed": false
   },
   "id": "ecf70faa1730cfd8"
  },
  {
   "cell_type": "code",
   "execution_count": 18,
   "id": "7a20cd1eefe1f46c",
   "metadata": {
    "collapsed": false
   },
   "outputs": [
    {
     "name": "stdout",
     "output_type": "stream",
     "text": [
      "**Thought 1:**\n",
      "\n",
      "<StepLocator>\n",
      "The current task is to find information about the catalytic activity of the protein with Uniprot ID P12345. This involves retrieving the protein sequence and then using it to identify relevant catalytic activity data.\n",
      "</StepLocator>\n",
      "<CurrentTask>\n",
      "Retrieve the protein sequence for Uniprot ID P12345.\n",
      "</CurrentTask>\n",
      "\n",
      "<ToolSelector>\n",
      "The \"uniprot_fetch_sequence\" tool is selected because it can retrieve the protein sequence for a given Uniprot ID, which is necessary for further analysis of the protein's catalytic activity.\n",
      "</ToolSelector>\n",
      "<tool>\n",
      "uniprot_fetch_sequence\n",
      "</tool>\n",
      "<ArgumentExtractor>\n",
      "The tool \"uniprot_fetch_sequence\" is called. It requires a Uniprot ID of the target protein sequence. The Uniprot ID \"P12345\" is provided for the argument \"uniprot_id\".\n",
      "</ArgumentExtractor>\n",
      "<ActionInput>\n",
      "```\n",
      "action: uniprot_fetch_sequence\n",
      "action_input: {\n",
      "    \"uniprot_id\": \"P12345\"\n",
      "}\n",
      "```\n",
      "\n",
      "**Observation 1:**\n",
      "```\n",
      "Running log: \n",
      "MALLHSARVLSGVASAFHPGLAAAASARASSWWAHVEMGPPDPILGVTEAYKRDTNSKKMNLGVGAYRDDNGKPYVLPSVRKAEAQIAAKGLDKEYLPIGGLAEFCRASAELALGENSEVVKSGRFVTVQTISGTGALRIGASFLQRFFKFSRDVFLPKPSWGNHTPIFRDAGMQLQSYRYYDPKTCGFDFTGALEDISKIPEQSVLLLHACAHNPTGVDPRPEQWKEIATVVKKRNLFAFFDMAYQGFASGDGDKDAWAVRHFIEQGINVCLCQSYAKNMGLYGERVGAFTVICKDADEAKRVESQLKILIRPMYSNPPIHGARIASTILTSPDLRKQWLQEVKGMADRIIGMRTQLVSNLKKEGSTHSWQHITDQIGMFCFTGLKPEQVERLTKEFSIYMTKDGRISVAGVTSGNVGYLAHAIHQVTK\n",
      "\n",
      "\n",
      "Results: \n",
      "{'protein_sequence': 'MALLHSARVLSGVASAFHPGLAAAASARASSWWAHVEMGPPDPILGVTEAYKRDTNSKKMNLGVGAYRDDNGKPYVLPSVRKAEAQIAAKGLDKEYLPIGGLAEFCRASAELALGENSEVVKSGRFVTVQTISGTGALRIGASFLQRFFKFSRDVFLPKPSWGNHTPIFRDAGMQLQSYRYYDPKTCGFDFTGALEDISKIPEQSVLLLHACAHNPTGVDPRPEQWKEIATVVKKRNLFAFFDMAYQGFASGDGDKDAWAVRHFIEQGINVCLCQSYAKNMGLYGERVGAFTVICKDADEAKRVESQLKILIRPMYSNPPIHGARIASTILTSPDLRKQWLQEVKGMADRIIGMRTQLVSNLKKEGSTHSWQHITDQIGMFCFTGLKPEQVERLTKEFSIYMTKDGRISVAGVTSGNVGYLAHAIHQVTK'}\n",
      "```\n",
      "\n",
      "**Thought 2:**\n",
      "\n",
      "<StepLocator>\n",
      "The current task is to retrieve the protein sequence for Uniprot ID P12345 using the \"uniprot_fetch_sequence\" tool.\n",
      "</StepLocator>\n",
      "<CurrentTask>\n",
      "Retrieve the protein sequence for Uniprot ID P12345.\n",
      "</CurrentTask>\n",
      "\n",
      "\n",
      "<StepLocator>\n",
      "The current task is to find information about the catalytic activity of the protein with Uniprot ID P12345. This involves retrieving the protein sequence and then using it to identify relevant catalytic activity data.\n",
      "</StepLocator>\n",
      "<CurrentTask>\n",
      "Retrieve the protein sequence for Uniprot ID P12345.\n",
      "</CurrentTask>\n",
      "<ToolSelector>\n",
      "The \"uniprot_fetch_sequence\" tool is selected because it can retrieve the protein sequence for a given Uniprot ID, which is necessary for further analysis of the protein's catalytic activity.\n",
      "</ToolSelector>\n",
      "<tool>\n",
      "uniprot_fetch_sequence\n",
      "</tool>\n",
      "\n",
      "<ArgumentExtractor>\n",
      "The tool \"uniprot_fetch_sequence\" is called. It requires a Uniprot ID of the target protein sequence. The Uniprot ID \"P12345\" is provided for the argument \"uniprot_id\".\n",
      "</ArgumentExtractor>\n",
      "<ActionInput>\n",
      "```\n",
      "action: uniprot_fetch_sequence\n",
      "action_input: {\n",
      "    \"uniprot_id\": \"P12345\"\n",
      "}\n",
      "```\n",
      "\n",
      "**Observation 2:**\n",
      "```\n",
      "Running log: \n",
      "MALLHSARVLSGVASAFHPGLAAAASARASSWWAHVEMGPPDPILGVTEAYKRDTNSKKMNLGVGAYRDDNGKPYVLPSVRKAEAQIAAKGLDKEYLPIGGLAEFCRASAELALGENSEVVKSGRFVTVQTISGTGALRIGASFLQRFFKFSRDVFLPKPSWGNHTPIFRDAGMQLQSYRYYDPKTCGFDFTGALEDISKIPEQSVLLLHACAHNPTGVDPRPEQWKEIATVVKKRNLFAFFDMAYQGFASGDGDKDAWAVRHFIEQGINVCLCQSYAKNMGLYGERVGAFTVICKDADEAKRVESQLKILIRPMYSNPPIHGARIASTILTSPDLRKQWLQEVKGMADRIIGMRTQLVSNLKKEGSTHSWQHITDQIGMFCFTGLKPEQVERLTKEFSIYMTKDGRISVAGVTSGNVGYLAHAIHQVTK\n",
      "\n",
      "\n",
      "Results: \n",
      "{'protein_sequence': 'MALLHSARVLSGVASAFHPGLAAAASARASSWWAHVEMGPPDPILGVTEAYKRDTNSKKMNLGVGAYRDDNGKPYVLPSVRKAEAQIAAKGLDKEYLPIGGLAEFCRASAELALGENSEVVKSGRFVTVQTISGTGALRIGASFLQRFFKFSRDVFLPKPSWGNHTPIFRDAGMQLQSYRYYDPKTCGFDFTGALEDISKIPEQSVLLLHACAHNPTGVDPRPEQWKEIATVVKKRNLFAFFDMAYQGFASGDGDKDAWAVRHFIEQGINVCLCQSYAKNMGLYGERVGAFTVICKDADEAKRVESQLKILIRPMYSNPPIHGARIASTILTSPDLRKQWLQEVKGMADRIIGMRTQLVSNLKKEGSTHSWQHITDQIGMFCFTGLKPEQVERLTKEFSIYMTKDGRISVAGVTSGNVGYLAHAIHQVTK'}\n",
      "```\n",
      "\n",
      "**Thought 3:**\n",
      "\n",
      "<StepLocator>\n",
      "The current task is to find information about the catalytic activity of the protein with Uniprot ID P12345. This involves retrieving the protein sequence and then using it to identify relevant catalytic activity data.\n",
      "</StepLocator>\n",
      "<CurrentTask>\n",
      "Retrieve the protein sequence for Uniprot ID P12345.\n",
      "</CurrentTask>\n",
      "\n",
      "\n",
      "<StepLocator>\n",
      "The current task is to find information about the catalytic activity of the protein with Uniprot ID P12345. This involves retrieving the protein sequence and then using it to identify relevant catalytic activity data.\n",
      "</StepLocator>\n",
      "<CurrentTask>\n",
      "Retrieve the protein sequence for Uniprot ID P12345.\n",
      "</CurrentTask>\n",
      "<ToolSelector>\n",
      "The \"uniprot_fetch_sequence\" tool is selected because it can retrieve the protein sequence for a given Uniprot ID, which is necessary for further analysis of the protein's catalytic activity.\n",
      "</ToolSelector>\n",
      "<tool>\n",
      "uniprot_fetch_sequence\n",
      "</tool>\n",
      "\n",
      "<ArgumentExtractor>\n",
      "The tool \"uniprot_fetch_sequence\" is called. It requires a Uniprot ID of the target protein sequence. The Uniprot ID \"P12345\" is provided for the argument \"uniprot_id\".\n",
      "</ArgumentExtractor>\n",
      "<ActionInput>\n",
      "```\n",
      "action: uniprot_fetch_sequence\n",
      "action_input: {\n",
      "    \"uniprot_id\": \"P12345\"\n",
      "}\n",
      "```\n",
      "\n",
      "**Observation 3:**\n",
      "```\n",
      "Running log: \n",
      "MALLHSARVLSGVASAFHPGLAAAASARASSWWAHVEMGPPDPILGVTEAYKRDTNSKKMNLGVGAYRDDNGKPYVLPSVRKAEAQIAAKGLDKEYLPIGGLAEFCRASAELALGENSEVVKSGRFVTVQTISGTGALRIGASFLQRFFKFSRDVFLPKPSWGNHTPIFRDAGMQLQSYRYYDPKTCGFDFTGALEDISKIPEQSVLLLHACAHNPTGVDPRPEQWKEIATVVKKRNLFAFFDMAYQGFASGDGDKDAWAVRHFIEQGINVCLCQSYAKNMGLYGERVGAFTVICKDADEAKRVESQLKILIRPMYSNPPIHGARIASTILTSPDLRKQWLQEVKGMADRIIGMRTQLVSNLKKEGSTHSWQHITDQIGMFCFTGLKPEQVERLTKEFSIYMTKDGRISVAGVTSGNVGYLAHAIHQVTK\n",
      "\n",
      "\n",
      "Results: \n",
      "{'protein_sequence': 'MALLHSARVLSGVASAFHPGLAAAASARASSWWAHVEMGPPDPILGVTEAYKRDTNSKKMNLGVGAYRDDNGKPYVLPSVRKAEAQIAAKGLDKEYLPIGGLAEFCRASAELALGENSEVVKSGRFVTVQTISGTGALRIGASFLQRFFKFSRDVFLPKPSWGNHTPIFRDAGMQLQSYRYYDPKTCGFDFTGALEDISKIPEQSVLLLHACAHNPTGVDPRPEQWKEIATVVKKRNLFAFFDMAYQGFASGDGDKDAWAVRHFIEQGINVCLCQSYAKNMGLYGERVGAFTVICKDADEAKRVESQLKILIRPMYSNPPIHGARIASTILTSPDLRKQWLQEVKGMADRIIGMRTQLVSNLKKEGSTHSWQHITDQIGMFCFTGLKPEQVERLTKEFSIYMTKDGRISVAGVTSGNVGYLAHAIHQVTK'}\n",
      "```\n",
      "\n",
      "**Thought 4:**\n",
      "\n",
      "<StepLocator>\n",
      "The current task is to find information about the catalytic activity of the protein with Uniprot ID P12345. This involves retrieving the protein sequence and then using it to identify relevant catalytic activity data.\n",
      "</StepLocator>\n",
      "<CurrentTask>\n",
      "Retrieve the protein sequence for Uniprot ID P12345.\n",
      "</CurrentTask>\n",
      "\n",
      "\n",
      "<StepLocator>\n",
      "The current task is to find information about the catalytic activity of the protein with Uniprot ID P12345. This involves retrieving the protein sequence and then using it to identify relevant catalytic activity data.\n",
      "</StepLocator>\n",
      "<CurrentTask>\n",
      "Retrieve the protein sequence for Uniprot ID P12345.\n",
      "</CurrentTask>\n",
      "<ToolSelector>\n",
      "The \"uniprot_fetch_sequence\" tool is selected because it can retrieve the protein sequence for a given Uniprot ID, which is necessary for further analysis of the protein's catalytic activity.\n",
      "</ToolSelector>\n",
      "<tool>\n",
      "uniprot_fetch_sequence\n",
      "</tool>\n",
      "\n",
      "<ArgumentExtractor>\n",
      "The tool \"uniprot_fetch_sequence\" is called. It requires a Uniprot ID of the target protein sequence. The Uniprot ID \"P12345\" is provided for the argument \"uniprot_id\".\n",
      "</ArgumentExtractor>\n",
      "<ActionInput>\n",
      "```\n",
      "action: uniprot_fetch_sequence\n",
      "action_input: {\n",
      "    \"uniprot_id\": \"P12345\"\n",
      "}\n",
      "```\n",
      "</ActionInput>\n",
      "<ArgumentExtractor>\n",
      "The tool \"uniprot_fetch_sequence\" is called. It requires a Uniprot ID of the target protein sequence. The Uniprot ID \"P12345\" is provided for the argument \"uniprot_id\".\n",
      "</ArgumentExtractor>\n",
      "<ActionInput>\n",
      "```\n",
      "action: uniprot_fetch_sequence\n",
      "action_input: {\n",
      "    \"uniprot_id\": \"P12345\"\n",
      "}\n",
      "```\n",
      "\n",
      "**Observation 4:**\n",
      "```\n",
      "Running log: \n",
      "MALLHSARVLSGVASAFHPGLAAAASARASSWWAHVEMGPPDPILGVTEAYKRDTNSKKMNLGVGAYRDDNGKPYVLPSVRKAEAQIAAKGLDKEYLPIGGLAEFCRASAELALGENSEVVKSGRFVTVQTISGTGALRIGASFLQRFFKFSRDVFLPKPSWGNHTPIFRDAGMQLQSYRYYDPKTCGFDFTGALEDISKIPEQSVLLLHACAHNPTGVDPRPEQWKEIATVVKKRNLFAFFDMAYQGFASGDGDKDAWAVRHFIEQGINVCLCQSYAKNMGLYGERVGAFTVICKDADEAKRVESQLKILIRPMYSNPPIHGARIASTILTSPDLRKQWLQEVKGMADRIIGMRTQLVSNLKKEGSTHSWQHITDQIGMFCFTGLKPEQVERLTKEFSIYMTKDGRISVAGVTSGNVGYLAHAIHQVTK\n",
      "\n",
      "\n",
      "Results: \n",
      "{'protein_sequence': 'MALLHSARVLSGVASAFHPGLAAAASARASSWWAHVEMGPPDPILGVTEAYKRDTNSKKMNLGVGAYRDDNGKPYVLPSVRKAEAQIAAKGLDKEYLPIGGLAEFCRASAELALGENSEVVKSGRFVTVQTISGTGALRIGASFLQRFFKFSRDVFLPKPSWGNHTPIFRDAGMQLQSYRYYDPKTCGFDFTGALEDISKIPEQSVLLLHACAHNPTGVDPRPEQWKEIATVVKKRNLFAFFDMAYQGFASGDGDKDAWAVRHFIEQGINVCLCQSYAKNMGLYGERVGAFTVICKDADEAKRVESQLKILIRPMYSNPPIHGARIASTILTSPDLRKQWLQEVKGMADRIIGMRTQLVSNLKKEGSTHSWQHITDQIGMFCFTGLKPEQVERLTKEFSIYMTKDGRISVAGVTSGNVGYLAHAIHQVTK'}\n",
      "```\n",
      "\n",
      "**Thought 5:**\n",
      "\n",
      "<StepLocator>\n",
      "The current task is to find information about the catalytic activity of the protein with Uniprot ID P12345. This involves retrieving the protein sequence and then using it to identify relevant catalytic activity data.\n",
      "</StepLocator>\n",
      "<CurrentTask>\n",
      "Retrieve the protein sequence for Uniprot ID P12345.\n",
      "</CurrentTask>\n",
      "\n",
      "\n",
      "<StepLocator>\n",
      "The current task is to find information about the catalytic activity of the protein with Uniprot ID P12345. This involves retrieving the protein sequence and then using it to identify relevant catalytic activity data.\n",
      "</StepLocator>\n",
      "<CurrentTask>\n",
      "Retrieve the protein sequence for Uniprot ID P12345.\n",
      "</CurrentTask>\n",
      "<ToolSelector>\n",
      "The \"uniprot_fetch_sequence\" tool is selected because it can retrieve the protein sequence for a given Uniprot ID, which is necessary for further analysis of the protein's catalytic activity.\n",
      "</ToolSelector>\n",
      "<tool>\n",
      "uniprot_fetch_sequence\n",
      "</tool>\n",
      "\n",
      "<ArgumentExtractor>\n",
      "The tool \"uniprot_fetch_sequence\" is called. It requires a Uniprot ID of the target protein sequence. The Uniprot ID \"P12345\" is provided for the argument \"uniprot_id\".\n",
      "</ArgumentExtractor>\n",
      "<ActionInput>\n",
      "```\n",
      "action: uniprot_fetch_sequence\n",
      "action_input: {\n",
      "    \"uniprot_id\": \"P12345\"\n",
      "}\n",
      "```\n"
     ]
    },
    {
     "ename": "KeyboardInterrupt",
     "evalue": "",
     "output_type": "error",
     "traceback": [
      "\u001B[0;31m---------------------------------------------------------------------------\u001B[0m",
      "\u001B[0;31mKeyboardInterrupt\u001B[0m                         Traceback (most recent call last)",
      "Cell \u001B[0;32mIn[18], line 22\u001B[0m\n\u001B[1;32m      1\u001B[0m messages \u001B[38;5;241m=\u001B[39m [\n\u001B[1;32m      2\u001B[0m     \u001B[38;5;66;03m# {\"role\": \"user\", \"content\": \"Calculate the tm-score, one file is '/root/temp/O95905.pdb', the other is '/root/temp/O95905.pdb'.\"}\u001B[39;00m\n\u001B[1;32m      3\u001B[0m     \u001B[38;5;66;03m# {\"role\": \"user\", \"content\": \"Calculate the tm-score. The sequence is 'ACDEFGHIKLMNPQRSTVWY'.\"}\u001B[39;00m\n\u001B[0;32m   (...)\u001B[0m\n\u001B[1;32m     18\u001B[0m     \u001B[38;5;66;03m# {\"role\": \"user\", \"content\": \"I have uploaded the following files:\\n[EXAMPLE][Classification-2Categories]Multiple_AA_Sequences.csv\\n.Use my own dataset to train a saprot binary classification model. Then use my model to predict the classification of ASDFAWSFWEAFEWF.\"}\u001B[39;00m\n\u001B[1;32m     19\u001B[0m ]\n\u001B[1;32m     21\u001B[0m lm \u001B[38;5;241m=\u001B[39m agent\u001B[38;5;241m.\u001B[39mstream_chat(messages)\n\u001B[0;32m---> 22\u001B[0m \u001B[38;5;28;01mfor\u001B[39;00m response \u001B[38;5;129;01min\u001B[39;00m lm:\n\u001B[1;32m     23\u001B[0m     \u001B[38;5;28;01mfrom\u001B[39;00m\u001B[38;5;250m \u001B[39m\u001B[38;5;21;01mIPython\u001B[39;00m\u001B[38;5;250m \u001B[39m\u001B[38;5;28;01mimport\u001B[39;00m display\n\u001B[1;32m     24\u001B[0m     display\u001B[38;5;241m.\u001B[39mclear_output(wait\u001B[38;5;241m=\u001B[39m\u001B[38;5;28;01mTrue\u001B[39;00m)\n",
      "File \u001B[0;32m~/PycharmProjects/ProtAgent/agent/agent/multi_agent_backbone.py:393\u001B[0m, in \u001B[0;36mProteinReActAgent.stream_chat\u001B[0;34m(self, messages)\u001B[0m\n\u001B[1;32m    391\u001B[0m     added_prompt \u001B[38;5;241m=\u001B[39m \u001B[38;5;124mf\u001B[39m\u001B[38;5;124m\"\u001B[39m\u001B[38;5;124m**Observation \u001B[39m\u001B[38;5;132;01m{\u001B[39;00mi\u001B[38;5;250m \u001B[39m\u001B[38;5;241m+\u001B[39m\u001B[38;5;250m \u001B[39m\u001B[38;5;241m1\u001B[39m\u001B[38;5;132;01m}\u001B[39;00m\u001B[38;5;124m:**\u001B[39m\u001B[38;5;130;01m\\n\u001B[39;00m\u001B[38;5;124m```\u001B[39m\u001B[38;5;130;01m\\n\u001B[39;00m\u001B[38;5;132;01m{\u001B[39;00mobs\u001B[38;5;132;01m}\u001B[39;00m\u001B[38;5;130;01m\\n\u001B[39;00m\u001B[38;5;124m```\u001B[39m\u001B[38;5;130;01m\\n\u001B[39;00m\u001B[38;5;124m\"\u001B[39m\n\u001B[1;32m    392\u001B[0m     displayed_fragments[\u001B[38;5;124mf\u001B[39m\u001B[38;5;124m\"\u001B[39m\u001B[38;5;124mObservation \u001B[39m\u001B[38;5;132;01m{\u001B[39;00mi\u001B[38;5;241m+\u001B[39m\u001B[38;5;241m1\u001B[39m\u001B[38;5;132;01m}\u001B[39;00m\u001B[38;5;124m\"\u001B[39m][\u001B[38;5;241m-\u001B[39m\u001B[38;5;241m1\u001B[39m] \u001B[38;5;241m=\u001B[39m \u001B[38;5;28mlen\u001B[39m(displayed_msg \u001B[38;5;241m+\u001B[39m added_prompt)\n\u001B[0;32m--> 393\u001B[0m     \u001B[38;5;28;01myield\u001B[39;00m \u001B[43mAgentResponse\u001B[49m\u001B[43m(\u001B[49m\n\u001B[1;32m    394\u001B[0m \u001B[43m        \u001B[49m\u001B[43mcontent\u001B[49m\u001B[38;5;241;43m=\u001B[39;49m\u001B[43mdisplayed_msg\u001B[49m\u001B[43m \u001B[49m\u001B[38;5;241;43m+\u001B[39;49m\u001B[43m \u001B[49m\u001B[43madded_prompt\u001B[49m\u001B[43m,\u001B[49m\n\u001B[1;32m    395\u001B[0m \u001B[43m        \u001B[49m\u001B[43mstatus\u001B[49m\u001B[38;5;241;43m=\u001B[39;49m\u001B[43mAGENT_STATUS\u001B[49m\u001B[38;5;241;43m.\u001B[39;49m\u001B[43mGENERATING\u001B[49m\u001B[43m,\u001B[49m\n\u001B[1;32m    396\u001B[0m \u001B[43m        \u001B[49m\u001B[43mfragments\u001B[49m\u001B[38;5;241;43m=\u001B[39;49m\u001B[43mdisplayed_fragments\u001B[49m\u001B[43m,\u001B[49m\n\u001B[1;32m    397\u001B[0m \u001B[43m    \u001B[49m\u001B[43m)\u001B[49m\n\u001B[1;32m    399\u001B[0m \u001B[38;5;66;03m# Update assistant message\u001B[39;00m\n\u001B[1;32m    400\u001B[0m \u001B[38;5;66;03m# Only the last 50 lines of the observation will be sent to LLM to save the memory\u001B[39;00m\n\u001B[1;32m    401\u001B[0m truncated_obs \u001B[38;5;241m=\u001B[39m obs\u001B[38;5;241m.\u001B[39msplit(\u001B[38;5;124m\"\u001B[39m\u001B[38;5;130;01m\\n\u001B[39;00m\u001B[38;5;124m\"\u001B[39m)[\u001B[38;5;241m-\u001B[39m\u001B[38;5;241m50\u001B[39m:]\n",
      "File \u001B[0;32m~/PycharmProjects/ProtAgent/agent/utils/constants.py:25\u001B[0m, in \u001B[0;36mAgentResponse.__init__\u001B[0;34m(self, content, status, fragments, tool_arg)\u001B[0m\n\u001B[1;32m     21\u001B[0m \u001B[38;5;28;01mclass\u001B[39;00m\u001B[38;5;250m \u001B[39m\u001B[38;5;21;01mAgentResponse\u001B[39;00m:\n\u001B[1;32m     22\u001B[0m \u001B[38;5;250m    \u001B[39m\u001B[38;5;124;03m\"\"\"\u001B[39;00m\n\u001B[1;32m     23\u001B[0m \u001B[38;5;124;03m    Official response format of the agent.\u001B[39;00m\n\u001B[1;32m     24\u001B[0m \u001B[38;5;124;03m    \"\"\"\u001B[39;00m\n\u001B[0;32m---> 25\u001B[0m     \u001B[38;5;28;01mdef\u001B[39;00m\u001B[38;5;250m \u001B[39m\u001B[38;5;21m__init__\u001B[39m(\u001B[38;5;28mself\u001B[39m,\n\u001B[1;32m     26\u001B[0m                  content: \u001B[38;5;28mstr\u001B[39m,\n\u001B[1;32m     27\u001B[0m                  status: \u001B[38;5;28mint\u001B[39m,\n\u001B[1;32m     28\u001B[0m                  fragments: \u001B[38;5;28mlist\u001B[39m \u001B[38;5;241m=\u001B[39m \u001B[38;5;28;01mNone\u001B[39;00m,\n\u001B[1;32m     29\u001B[0m                  tool_arg: \u001B[38;5;28mdict\u001B[39m \u001B[38;5;241m=\u001B[39m \u001B[38;5;28;01mNone\u001B[39;00m):\n\u001B[1;32m     30\u001B[0m \u001B[38;5;250m        \u001B[39m\u001B[38;5;124;03m\"\"\"\u001B[39;00m\n\u001B[1;32m     31\u001B[0m \u001B[38;5;124;03m        Args:\u001B[39;00m\n\u001B[1;32m     32\u001B[0m \u001B[38;5;124;03m            content: LLM generated content.\u001B[39;00m\n\u001B[0;32m   (...)\u001B[0m\n\u001B[1;32m     40\u001B[0m \u001B[38;5;124;03m                - args: The arguments of the tool.\u001B[39;00m\n\u001B[1;32m     41\u001B[0m \u001B[38;5;124;03m        \"\"\"\u001B[39;00m\n\u001B[1;32m     42\u001B[0m         \u001B[38;5;28mself\u001B[39m\u001B[38;5;241m.\u001B[39mcontent \u001B[38;5;241m=\u001B[39m content\n",
      "\u001B[0;31mKeyboardInterrupt\u001B[0m: "
     ]
    }
   ],
   "source": [
    "\n",
    "messages = [\n",
    "    # {\"role\": \"user\", \"content\": \"Calculate the tm-score, one file is '/root/temp/O95905.pdb', the other is '/root/temp/O95905.pdb'.\"}\n",
    "    # {\"role\": \"user\", \"content\": \"Calculate the tm-score. The sequence is 'ACDEFGHIKLMNPQRSTVWY'.\"}\n",
    "    # {\"role\": \"user\", \"content\": \"Calculate the tm-score, one file is '/root/temp/O95905.pdb'.\"}\n",
    "    # {\"role\": \"user\", \"content\": \"I have uploaded the following files:\\n/root/PycharmProjects/ProtAgent/output/temp/001-chai1.pdb\\n/root/PycharmProjects/ProtAgent/output/temp/001-af3.pdb\\nCalculate tmscore\"}\n",
    "    # {\"role\": \"user\", \"content\": \"9.11 and 9.8, which one is greater?\"}\n",
    "    # {\"role\": \"user\", \"content\": \"What is the relationship between A.pdb and B.fasta?\"}\n",
    "    {\"role\": \"user\", \"content\": \"I want to find information about the catalytic activity of the protein with Uniprot ID P12345. Can you provide me with a detailed description of its catalytic activity and also show me relevant Wikipedia articles on the topic?\"}\n",
    "    # {\"role\": \"user\", \"content\": \"predict a protein structure\"}\n",
    "    # {\"role\": \"user\", \"content\": \"I am so sad :(\"}\n",
    "    # {\"role\": \"user\", \"content\": \"Aha!\"}\n",
    "    # {\"role\": \"user\", \"content\": \"I want to search a paper about protein folding.\"}\n",
    "    # {\"role\": \"user\", \"content\": \"Who are you?\"}\n",
    "    # {\"role\": \"user\", \"content\": \"Hello?\"}\n",
    "    # {\"role\": \"user\", \"content\": \"Use the tool cif2pdb to convert a cif file to a pdb file.\"}\n",
    "    # {\"role\": \"user\", \"content\": \"Do you know GPT4?\"}\n",
    "    # {\"role\": \"user\", \"content\": \"What is your name?\"}\n",
    "    # {\"role\": \"user\", \"content\": \"I have uploaded the following files:\\n[EXAMPLE][Classification-2Categories]Multiple_AA_Sequences.csv\\n.Use my own dataset to train a saprot binary classification model. Then use my model to predict the classification of ASDFAWSFWEAFEWF.\"}\n",
    "]\n",
    "\n",
    "lm = agent.stream_chat(messages)\n",
    "for response in lm:\n",
    "    from IPython import display\n",
    "    display.clear_output(wait=True)\n",
    "    content = response.content\n",
    "    for text_type, (st, ed) in response.fragments.items():\n",
    "        print(response.content[st:ed])\n",
    "\n",
    "# print(response.to_dict())\n",
    "# for text_type, st, ed in response.fragments:\n",
    "#     print(text_type, response.content[st:ed])"
   ]
  },
  {
   "cell_type": "code",
   "outputs": [
    {
     "name": "stdout",
     "output_type": "stream",
     "text": [
      "action: protrek_text2protein action_input: {\n",
      "    \"protein_text\": \"of genes involved in cell cycle progression\"\n",
      "}\n"
     ]
    }
   ],
   "source": [
    "t = \"\"\"\\\n",
    "<ArgumentExtractor>\n",
    "The tool \"protrek_text2protein\" is called. It requires a protein text. The text \"of genes involved in cell cycle progression\" is provided for the argument \"protein_text\".\n",
    "</ArgumentExtractor>\n",
    "<ActionInput>\n",
    "```\n",
    "action: protrek_text2protein\n",
    "action_input: {\n",
    "    \"protein_text\": \"of genes involved in cell cycle progression\"\n",
    "}\n",
    "```\n",
    "</ArgumentExtractor>\n",
    "\"\"\"\n",
    "\n",
    "tool_info = t.split(\"```\")[1].strip()\n",
    "tool_name, tool_args = tool_info.strip().split(\"\\n\", 1)\n",
    "print(tool_name, tool_args)"
   ],
   "metadata": {
    "collapsed": false,
    "ExecuteTime": {
     "end_time": "2025-04-09T02:27:02.785141Z",
     "start_time": "2025-04-09T02:27:02.730375100Z"
    }
   },
   "id": "547deb79b3d84475",
   "execution_count": 15
  },
  {
   "cell_type": "code",
   "outputs": [
    {
     "name": "stdout",
     "output_type": "stream",
     "text": [
      "**Analysis:**\n",
      "\n",
      "<TypeAnalyzer>\n",
      "\n",
      "                        \n",
      "+ protein sequence(text) -> protein full atom structure(file)\n",
      "+ protein full atom structure(file) -> tm-score(text)\n",
      "                        \n",
      "\n",
      "\n",
      "</TypeAnalyzer>\n",
      "\n",
      "\n",
      "**Plan:**\n",
      "\n",
      "<Planner>\n",
      "\n",
      "                    \n",
      "1. Use some tool to convert the protein sequence into its full atom structure.\n",
      "2. Use some tool to calculate the tm-score based on the full atom structure generated in the first step.\n",
      "                    \n",
      "\n",
      "\n",
      "</Planner>\n",
      "\n",
      "**Thought 1:**\n",
      "\n",
      "<StepLocator>\n",
      "\n",
      "                        \n",
      "The current task is to convert the given protein sequence 'ACDEFGHIKLMNPQRSTVWY' into its full atom structure.\n",
      "                    \n",
      "\n",
      "\n",
      "\n",
      "\n",
      "</StepLocator>\n",
      "\n",
      "<CurrentTask>\n",
      "\n",
      "                        \n",
      "Convert the protein sequence 'ACDEFGHIKLMNPQRSTVWY' into its full atom structure.\n",
      "                    \n",
      "\n",
      "\n",
      "\n",
      "\n",
      "\n",
      "\n",
      "</CurrentTask>\n",
      "\n",
      "\n",
      "\n",
      "<T\n"
     ]
    },
    {
     "name": "stderr",
     "output_type": "stream",
     "text": [
      "\n",
      "KeyboardInterrupt\n",
      "\n"
     ]
    }
   ],
   "source": [
    "messages = [\n",
    "    # {\"role\": \"user\", \"content\": \"Calculate the tm-score, one file is '/root/temp/O95905.pdb', the other is '/root/temp/O95905.pdb'.\"}\n",
    "    {\"role\": \"user\", \"content\": \"Calculate the tm-score. The sequence is 'ACDEFGHIKLMNPQRSTVWY'.\"}\n",
    "    # {\"role\": \"user\", \"content\": \"Calculate the tm-score, one file is '/root/temp/O95905.pdb'.\"}\n",
    "    # {\"role\": \"user\", \"content\": \"I have uploaded the following files:\\n/root/PycharmProjects/ProtAgent/output/temp/001-chai1.pdb\\n/root/PycharmProjects/ProtAgent/output/temp/001-af3.pdb\\nCalculate tmscore\"}\n",
    "    # {\"role\": \"user\", \"content\": \"9.11 and 9.8, which one is greater?\"}\n",
    "    # {\"role\": \"user\", \"content\": \"predict a protein structure\"}\n",
    "    # {\"role\": \"user\", \"content\": \"I am so sad :(\"}\n",
    "    # {\"role\": \"user\", \"content\": \"Aha!\"}\n",
    "    # {\"role\": \"user\", \"content\": \"I want to search a paper about protein folding.\"}\n",
    "    # {\"role\": \"user\", \"content\": \"Who are you?\"}\n",
    "    # {\"role\": \"user\", \"content\": \"Hello?\"}\n",
    "    # {\"role\": \"user\", \"content\": \"Use the tool cif2pdb to convert a cif file to a pdb file.\"}\n",
    "    # {\"role\": \"user\", \"content\": \"Do you know GPT4?\"}\n",
    "    # {\"role\": \"user\", \"content\": \"What is your name?\"}\n",
    "    # {\"role\": \"user\", \"content\": \"I have uploaded the following files:\\n[EXAMPLE][Classification-2Categories]Multiple_AA_Sequences.csv\\n.Use my own dataset to train a saprot binary classification model. Then use my model to predict the classification of ASDFAWSFWEAFEWF.\"}\n",
    "]\n",
    "\n",
    "lm = local_agent.stream_chat(messages)\n",
    "for response in lm:\n",
    "    from IPython import display\n",
    "    display.clear_output(wait=True)\n",
    "    content = response.content\n",
    "    for text_type, (st, ed) in response.fragments.items():\n",
    "        print(response.content[st:ed])\n",
    "\n",
    "# print(response.to_dict())\n",
    "# for text_type, st, ed in response.fragments:\n",
    "#     print(text_type, response.content[st:ed])"
   ],
   "metadata": {
    "collapsed": false
   },
   "id": "4ea8762fd5beff02",
   "execution_count": 99
  },
  {
   "cell_type": "markdown",
   "id": "451b94d551f2d433",
   "metadata": {
    "collapsed": false
   },
   "source": [
    "# Retriever"
   ]
  },
  {
   "cell_type": "code",
   "execution_count": null,
   "id": "8dcfc3c39f0f14f2",
   "metadata": {
    "ExecuteTime": {
     "end_time": "2025-02-19T06:30:46.226408900Z",
     "start_time": "2025-02-19T06:30:45.139983800Z"
    },
    "collapsed": false
   },
   "outputs": [],
   "source": [
    "import json\n",
    "\n",
    "from agent.action import init_tool_names, ActionExecutor\n",
    "from lagent.actions import get_tool\n",
    "from demo.utils.toolset_manager import all_external_tools\n",
    "\n",
    "internal_actions = []\n",
    "for tool in init_tool_names:\n",
    "    internal_actions.append(get_tool(tool))\n",
    "\n",
    "action_executor = ActionExecutor(actions=internal_actions)\n",
    "\n",
    "with open(f\"/root/ProtAgent/funchub/tool_type.json\") as fp:\n",
    "    TOOL_TYPE = json.load(fp)\n",
    "\n",
    "AVAILABLE_TYPES = list(TOOL_TYPE.keys())\n",
    "print(AVAILABLE_TYPES)\n",
    "\n",
    "AVAILABLE_ACTIONS = all_external_tools(toolset)\n",
    "print(AVAILABLE_ACTIONS)\n",
    "\n",
    "MANNUAL_START_TOOL_NAME = None"
   ]
  },
  {
   "cell_type": "code",
   "execution_count": null,
   "id": "dce68eaa28a545da",
   "metadata": {
    "ExecuteTime": {
     "end_time": "2024-12-17T12:03:58.069700400Z",
     "start_time": "2024-12-17T12:03:58.015139600Z"
    },
    "collapsed": false
   },
   "outputs": [],
   "source": [
    "from agent.agent.utils import standarize_internal_json\n",
    "internal_tool_names = []\n",
    "internal_tools = {}\n",
    "for tool_info in action_executor.get_actions_info():\n",
    "    internal_tools[tool_info[\"name\"]] = standarize_internal_json(tool_info)\n",
    "    # internal_tools[tool_info[\"name\"]] = str(tool_info)\n",
    "    internal_tool_names.append(tool_info[\"name\"])\n",
    "\n",
    "internal_tools"
   ]
  },
  {
   "cell_type": "markdown",
   "source": [
    "# New planner"
   ],
   "metadata": {
    "collapsed": false
   },
   "id": "f7c0509ff66a8151"
  },
  {
   "cell_type": "code",
   "outputs": [],
   "source": [
    "from agent.agent.multi_agent_api.new_planner import NewPlannerAPI\n",
    "\n",
    "\n",
    "api_key = \"7fb9d05edadc426aaa836e334c706ae2.s4aLWRTeepiRDZPl\"\n",
    "new_planner_api = NewPlannerAPI(api_key, agent.tool_manager)"
   ],
   "metadata": {
    "collapsed": false,
    "ExecuteTime": {
     "end_time": "2025-04-08T09:00:26.694242700Z",
     "start_time": "2025-04-08T09:00:26.450302300Z"
    }
   },
   "id": "b4c0940583967e1",
   "execution_count": 85
  },
  {
   "cell_type": "code",
   "outputs": [
    {
     "name": "stdout",
     "output_type": "stream",
     "text": [
      "<Planner>\n",
      "1. Use hhblits to search for homologous sequences in B.fasta that match the structure of A.pdb.\n",
      "2. Analyze the results to determine the relationship between A.pdb and B.fasta.\n",
      "</Planner>"
     ]
    }
   ],
   "source": [
    "messages = [\n",
    "    # {\"role\": \"user\", \"content\": \"Calculate the tm-score of '/root/temp/4muu.pdb' and '/root/temp/4muu.pdb'.\"}\n",
    "    # {\"role\": \"user\", \"content\": \"Predict the structure of ACDEFGHIKLMNPQRSTVWY\"}\n",
    "    # {\"role\": \"user\", \"content\": \"I am so sad :(\"}\n",
    "    {\"role\": \"user\", \"content\": \"What is the relationship between A.pdb and B.fasta?\"}\n",
    "    # {\"role\": \"user\", \"content\": \"I want to search a paper about protein folding.\"}\n",
    "    # {\"role\": \"user\", \"content\": \"Use the tool pdb2esmfold to convert a cif file to a pdb file.\"}\n",
    "    # {\"role\": \"user\", \"content\": \"Who are you?\"}\n",
    "    # {\"role\": \"user\", \"content\": \"What is your name?\"}\n",
    "    # {\"role\": \"user\", \"content\": \"what is 'protein secondary structure'\"}\n",
    "    # {\"role\": \"user\", \"content\": \"I have uploaded the following files:\\n[EXAMPLE][Classification-2Categories]Multiple_AA_Sequences.csv\\n.Use my own dataset to train a saprot binary classification model. Then use my model to predict the classification of ASDFAWSFWEAFEWF.\"}\n",
    "]\n",
    "\n",
    "lm = new_planner_api.stream_chat(messages)\n",
    "st = 0\n",
    "for response in lm:\n",
    "    content = response.content\n",
    "    print(content[st:], end=\"\")\n",
    "    st = len(content)"
   ],
   "metadata": {
    "collapsed": false,
    "ExecuteTime": {
     "end_time": "2025-04-08T09:08:32.317621100Z",
     "start_time": "2025-04-08T09:08:06.231664800Z"
    }
   },
   "id": "250e47a6fe903bcf",
   "execution_count": 92
  },
  {
   "cell_type": "markdown",
   "source": [
    "# Evaluator"
   ],
   "metadata": {
    "collapsed": false
   },
   "id": "2a0078ae0f3a2c05"
  },
  {
   "cell_type": "code",
   "outputs": [],
   "source": [
    "from agent.agent.multi_agent_api.evaluator import EvaluatorAPI\n",
    "\n",
    "\n",
    "api_key = \"7fb9d05edadc426aaa836e334c706ae2.s4aLWRTeepiRDZPl\"\n",
    "evaluator_api = EvaluatorAPI(api_key)"
   ],
   "metadata": {
    "collapsed": false,
    "ExecuteTime": {
     "end_time": "2025-04-08T10:02:54.567202100Z",
     "start_time": "2025-04-08T10:02:54.504102500Z"
    }
   },
   "id": "18681feb69327b27",
   "execution_count": 93
  },
  {
   "cell_type": "code",
   "outputs": [
    {
     "name": "stdout",
     "output_type": "stream",
     "text": [
      "<Evaluation>\n",
      "The user's request is to determine the relationship between two files, A.pdb and B.fasta. The response provided gives the tmscore value between the two files, which is a measure of their structural similarity. However, the response does not explicitly state the relationship between the files in terms of their content or purpose. While the tmscore value is relevant to understanding the structural similarity, it does not directly answer the user's question about the relationship between the files.\n",
      "\n",
      "</Evaluation>\n",
      "<Decision>no</Decision>"
     ]
    }
   ],
   "source": [
    "user_request = \"What is the relationship between A.pdb and B.fasta?\"\n",
    "response = \"Their tmscore is 0.67, which means they should share structure similarity.\"\n",
    "\n",
    "lm = evaluator_api.stream_chat(user_request, response)\n",
    "st = 0\n",
    "for agent_response in lm:\n",
    "    content = agent_response.content\n",
    "    print(content[st:], end=\"\")\n",
    "    st = len(content)"
   ],
   "metadata": {
    "collapsed": false,
    "ExecuteTime": {
     "end_time": "2025-04-08T10:33:55.306023300Z",
     "start_time": "2025-04-08T10:33:50.920518700Z"
    }
   },
   "id": "14e1ebffb56311ec",
   "execution_count": 108
  }
 ],
 "metadata": {
  "kernelspec": {
   "name": "agent_backbone",
   "language": "python",
   "display_name": "agent_backbone"
  },
  "language_info": {
   "codemirror_mode": {
    "name": "ipython",
    "version": 3
   },
   "file_extension": ".py",
   "mimetype": "text/x-python",
   "name": "python",
   "nbconvert_exporter": "python",
   "pygments_lexer": "ipython3",
   "version": "3.10.0"
  }
 },
 "nbformat": 4,
 "nbformat_minor": 5
}
