{
 "cells": [
  {
   "cell_type": "code",
   "execution_count": 2,
   "id": "initial_id",
   "metadata": {
    "ExecuteTime": {
     "end_time": "2025-06-13T07:29:36.101260800Z",
     "start_time": "2025-06-13T07:29:32.249239600Z"
    },
    "collapsed": true
   },
   "outputs": [
    {
     "name": "stderr",
     "output_type": "stream",
     "text": [
      "/home/public/miniconda3/envs/protagent_backbone/lib/python3.10/site-packages/tqdm/auto.py:21: TqdmWarning: IProgress not found. Please update jupyter and ipywidgets. See https://ipywidgets.readthedocs.io/en/stable/user_install.html\n",
      "  from .autonotebook import tqdm as notebook_tqdm\n"
     ]
    }
   ],
   "source": [
    "%load_ext autoreload\n",
    "%autoreload 2\n",
    "\n",
    "import sys\n",
    "sys.path.append(\"/root/PycharmProjects/ProtAgent\")\n",
    "import os\n",
    "import yaml\n",
    "import random\n",
    "import json\n",
    "\n",
    "from agent.utils.others import setup_seed\n",
    "from agent.tools.tool_manager import ToolManager\n",
    "from openai import OpenAI\n",
    "from tqdm import tqdm\n",
    "from agent.agent.multi_agent_backbone import ProteinReActAgent"
   ]
  },
  {
   "cell_type": "markdown",
   "id": "52e38bc2b3e4592b",
   "metadata": {
    "collapsed": false
   },
   "source": [
    "# Load all available tools"
   ]
  },
  {
   "cell_type": "code",
   "execution_count": 238,
   "id": "77e2405ebdbed675",
   "metadata": {
    "ExecuteTime": {
     "end_time": "2025-04-09T09:21:35.320237Z",
     "start_time": "2025-04-09T09:21:34.961650900Z"
    },
    "collapsed": false
   },
   "outputs": [
    {
     "name": "stdout",
     "output_type": "stream",
     "text": [
      "saprot_task 'detailed_type'\n"
     ]
    }
   ],
   "source": [
    "tool_dir = \"/root/PycharmProjects/ProtAgent/agent/tools\"\n",
    "tools = {}\n",
    "input_type2tool = {}\n",
    "output_type2tool = {}\n",
    "\n",
    "exclude_list = [\n",
    "    \"protrek_text2text\"\n",
    "]\n",
    "\n",
    "for dir_name in os.listdir(tool_dir):\n",
    "    dir_path = os.path.join(tool_dir, dir_name)\n",
    "    \n",
    "    # Load a tool\n",
    "    if os.path.isdir(dir_path) and os.path.exists(os.path.join(dir_path, \"config.yaml\")):\n",
    "        config_path = os.path.join(dir_path, \"config.yaml\")\n",
    "        with open(config_path, \"r\") as f:\n",
    "            config = yaml.safe_load(f)\n",
    "            \n",
    "            # Load tool document\n",
    "            docs = config[\"document\"]\n",
    "            if isinstance(docs, dict):\n",
    "                docs = [docs]\n",
    "            \n",
    "            for tool_doc in docs:\n",
    "                if tool_doc[\"tool_name\"] in exclude_list:\n",
    "                    continue\n",
    "                \n",
    "                try:\n",
    "                    # Record input types\n",
    "                    input_type_cnt = {}\n",
    "                    input_types = []\n",
    "                    for param in tool_doc[\"required_parameters\"]:\n",
    "                        detailed_type = param[\"detailed_type\"]\n",
    "                        # Count the number of the same type\n",
    "                        input_type_cnt[detailed_type] = input_type_cnt.get(detailed_type, 0) + 1\n",
    "                        input_types.append(f\"{detailed_type}_{input_type_cnt[detailed_type]}\")\n",
    "                        \n",
    "                    # Record output types    \n",
    "                    output_type_cnt = {}\n",
    "                    output_types = []\n",
    "                    for param in tool_doc[\"return_values\"]:\n",
    "                        detailed_type = param[\"detailed_type\"]\n",
    "                        # Count the number of the same type\n",
    "                        output_type_cnt[detailed_type] = output_type_cnt.get(detailed_type, 0) + 1\n",
    "                        output_types.append(f\"{detailed_type}_{output_type_cnt[detailed_type]}\")\n",
    "                    \n",
    "                    tools[tool_doc[\"tool_name\"]] = {\n",
    "                        \"input_types\": input_types,\n",
    "                        \"output_types\": output_types,\n",
    "                        \"description\": tool_doc[\"tool_description\"],\n",
    "                    }\n",
    "                    \n",
    "                    for input_type in input_types:\n",
    "                        if input_type not in input_type2tool:\n",
    "                            input_type2tool[input_type] = []\n",
    "                        input_type2tool[input_type].append(tool_doc[\"tool_name\"])\n",
    "                    \n",
    "                    for output_type in output_types:\n",
    "                        if output_type not in output_type2tool:\n",
    "                            output_type2tool[output_type] = []\n",
    "                        output_type2tool[output_type].append(tool_doc[\"tool_name\"])\n",
    "                \n",
    "                except Exception as e:\n",
    "                    print(dir_name, e)\n",
    "                    pass"
   ]
  },
  {
   "cell_type": "code",
   "execution_count": 338,
   "id": "daf62d360893984c",
   "metadata": {
    "ExecuteTime": {
     "end_time": "2025-04-09T10:18:58.717364800Z",
     "start_time": "2025-04-09T10:18:58.658542300Z"
    },
    "collapsed": false
   },
   "outputs": [
    {
     "name": "stdout",
     "output_type": "stream",
     "text": [
      "{'input_types': ['AA_SEQUENCE_1', 'MUTATION_INFO_1'], 'output_types': ['MUTATION_SCORE_1'], 'description': 'Predicts the mutational effect score of a given specific mutation on a wild type sequence.'}\n",
      "{'input_types': ['FASTA_PATH_1', 'FASTA_PATH_2'], 'output_types': ['AA_SEQUENCE_1'], 'description': \"HMMER's hmm_search tool is used to search for sequence homologs of a query protein domain model within a sequence database. It utilizes Hidden Markov Models (HMMs) for identifying domains and sequences with similar structural and functional motifs.\"}\n"
     ]
    }
   ],
   "source": [
    "print(tools[\"saprot_mutation_byinfo\"])\n",
    "print(tools[\"hmmsearch\"])"
   ]
  },
  {
   "cell_type": "code",
   "execution_count": 339,
   "id": "cd4aacd7d1d86f80",
   "metadata": {
    "ExecuteTime": {
     "end_time": "2025-04-09T11:23:47.006713Z",
     "start_time": "2025-04-09T11:23:46.903035500Z"
    },
    "collapsed": false
   },
   "outputs": [
    {
     "name": "stdout",
     "output_type": "stream",
     "text": [
      "dict_keys(['A3M_PATH_1', 'FASTA_PATH_1', 'AA_SEQUENCE_1', 'FULL_STRUCTURE_PATH_1', 'FOLDSEEK_SEQUENCE_1', 'TEXT_1', 'RFDIFFUSION_CONTIGS_1', 'SAPROT_ADAPTOR_1', 'MUTATION_INFO_1', 'AA_SEQUENCE_2', 'LABEL_NUM_1', 'ADAPTOR_DIRECTORY_1', 'FULL_STRUCTURE_PATH_2', 'SMILES_1', 'FASTA_PATH_2', 'PDB_ID_1', 'HMM_PATH_1', 'TRAINING_DATASET_1', 'UNIPROT_ID_1', 'PFAM_ID_1', 'UNIPROT_SUBSECTION_1', 'QUESTION_1'])\n"
     ]
    }
   ],
   "source": [
    "print(input_type2tool.keys())\n",
    "type2case = {\n",
    "    \"A3M_PATH_1\": \"example_1.a3m\",\n",
    "    \"FASTA_PATH_1\": \"example_1.fasta\",\n",
    "    \"FASTA_PATH_2\": \"example_2.fasta\",\n",
    "    \"AA_SEQUENCE_1\": \"MSATAEQNARNPKGKGGFARTVSQRKRKRLFLIGGALAVLAVAVGLMLTAFNQDIRFFRTPADLTEQDMTSGARFRLGGLVEEGSVSRTGSELRFTVTDTIKTVKVVFEGIPPDLFREGQGVVAEGRFGSDGLFRADNVLAKHDENYVPKDLADSLKKKGVWEGK\",\n",
    "    \"AA_SEQUENCE_2\": \"MITLDWEKANGLITTVVQDATTKQVLMVAYMNQESLAKTMATGETWFWSRSRKTLWHKGATSGNIQTVKTIAVDCDADTLLVTVDPAGPACHTGHISCFYRHYPEGKDLT\",\n",
    "    \"FULL_STRUCTURE_PATH_1\": \"example_1.pdb\",\n",
    "    \"FULL_STRUCTURE_PATH_2\": \"example_2.pdb\",\n",
    "    \"FOLDSEEK_SEQUENCE_1\": \"dddddddddddddddpdpppvcppvnvvvvvvvvvvvvvvvvvvvvvvvvvvqdpqdedeqvrddpcqqpvqhkhkykafwappqwdddpqkiwtwghnppgiaieieghdappqddhrfikifiaghdpvrhtygdhidtdddpddddvvnvvvcvvvvndpdd\",\n",
    "    \"TEXT_1\": \"Catalyzes the hydrolysis of cutin, a polyester that forms the structure of plant cuticle.\",\n",
    "    \"RFDIFFUSION_CONTIGS_1\": \"A:50\",\n",
    "    \"MUTATION_INFO_1\": \"A123B:C124D\",\n",
    "    \"SMILES_1\": \"CC(=O)OC1=C(C(=C(C=C1)C(=O)O)C(=O)O)C(=O)O\",\n",
    "    \"PDB_ID_1\": \"1A2B\",\n",
    "    \"HMM_PATH_1\": \"example.hmm\",\n",
    "    \"UNIPROT_ID_1\": \"P05067\",\n",
    "    \"PFAM_ID_1\": \"PF00085\",\n",
    "    \"UNIPROT_SUBSECTION_1\": \"Function\",\n",
    "    'QUESTION_1': \"What is the function of the protein?\",\n",
    "}"
   ]
  },
  {
   "cell_type": "code",
   "execution_count": 1304,
   "id": "58bb5e963d47e1cf",
   "metadata": {
    "ExecuteTime": {
     "end_time": "2025-04-16T12:37:49.051045700Z",
     "start_time": "2025-04-16T12:37:48.998540700Z"
    },
    "collapsed": false
   },
   "outputs": [
    {
     "data": {
      "text/plain": [
       "False"
      ]
     },
     "execution_count": 1304,
     "metadata": {},
     "output_type": "execute_result"
    }
   ],
   "source": [
    "\"value.pdbci\".endswith((\".pdb\", \".cif\"))"
   ]
  },
  {
   "cell_type": "code",
   "execution_count": 437,
   "id": "ba5bee611b50092b",
   "metadata": {
    "ExecuteTime": {
     "end_time": "2025-04-12T07:54:38.773938200Z",
     "start_time": "2025-04-12T07:54:38.666694400Z"
    },
    "collapsed": false
   },
   "outputs": [
    {
     "name": "stdout",
     "output_type": "stream",
     "text": [
      "dict_keys(['A3M_PATH_1', 'FASTA_PATH_1', 'AA_SEQUENCE_1', 'FULL_STRUCTURE_PATH_1', 'FOLDSEEK_SEQUENCE_1', 'TEXT_1', 'RFDIFFUSION_CONTIGS_1', 'SAPROT_ADAPTOR_1', 'MUTATION_INFO_1', 'AA_SEQUENCE_2', 'LABEL_NUM_1', 'ADAPTOR_DIRECTORY_1', 'FULL_STRUCTURE_PATH_2', 'SMILES_1', 'FASTA_PATH_2', 'PDB_ID_1', 'HMM_PATH_1', 'TRAINING_DATASET_1', 'UNIPROT_ID_1', 'PFAM_ID_1', 'UNIPROT_SUBSECTION_1', 'QUESTION_1'])\n",
      "dict_keys(['HMM_PATH_1', 'AA_SEQUENCE_LIST_1', 'SEQUENCE_COUNT_1', 'FASTA_PATH_1', 'FULL_STRUCTURE_PATH_1', 'CHAIN_ID_1', 'AA_SEQUENCE_1', 'CHAIN_COUNT_1', 'UNIPROT_ID_1', 'PROTEIN_LENGTH_1', 'SEQUENCE_IDENTITY_1', 'PROTREK_SCORE_1', 'FOLDSEEK_SEQUENCE_1', 'TEXT_1', 'ALN_PATH_1', 'XML_PATH_1', 'CLASSIFICATION_RESULT_1', 'MUTATION_SCORE_1', 'REGRESSION_RESULT_1', 'TOKEN_CLASSIFICATION_RESULT_1', 'MPNN_CSV_PATH_1', 'TEXT_2', 'URL_1', 'DIRECTORY_1', 'TMSCORE_1', 'DATE_1', 'DOI_1', 'A3M_PATH_1', 'HHR_PATH_1', 'MMSEQS_ID_PATH_1', 'ADAPTOR_DIRECTORY_1', 'LABEL_NUM_1', 'PINAL_CSV_PATH_1'])\n",
      "['saprot_mutation_byinfo']\n"
     ]
    }
   ],
   "source": [
    "print(input_type2tool.keys())\n",
    "print(output_type2tool.keys())\n",
    "print(input_type2tool[\"MUTATION_INFO_1\"])"
   ]
  },
  {
   "cell_type": "markdown",
   "id": "984cd67f5849b74e",
   "metadata": {
    "collapsed": false
   },
   "source": [
    "# Sample tool calling trajectories"
   ]
  },
  {
   "cell_type": "code",
   "execution_count": 322,
   "id": "b77aaf1d316c77ff",
   "metadata": {
    "ExecuteTime": {
     "end_time": "2025-04-09T10:06:05.086616800Z",
     "start_time": "2025-04-09T10:06:05.036566400Z"
    },
    "collapsed": false
   },
   "outputs": [
    {
     "name": "stdout",
     "output_type": "stream",
     "text": [
      "{'hmmsearch -> saprot_mutation_byinfo': {'tool_chain': ['hmmsearch', 'saprot_mutation_byinfo'], 'required_inputs': {'MUTATION_INFO_1', 'FASTA_PATH_2', 'FASTA_PATH_1'}}, 'pinal': {'tool_chain': ['pinal'], 'required_inputs': {'TEXT_1'}}, 'saprot_mutation_byinfo': {'tool_chain': ['saprot_mutation_byinfo'], 'required_inputs': {'MUTATION_INFO_1', 'AA_SEQUENCE_1'}}, 'uniprot_fetch_subsection -> biorxiv -> pinal': {'tool_chain': ['uniprot_fetch_subsection', 'biorxiv', 'pinal'], 'required_inputs': {'UNIPROT_ID_1', 'UNIPROT_SUBSECTION_1'}}, 'seq2fasta -> clustalw': {'tool_chain': ['seq2fasta', 'clustalw'], 'required_inputs': {'AA_SEQUENCE_1'}}, 'hhblits -> hhmake -> hhsearch': {'tool_chain': ['hhblits', 'hhmake', 'hhsearch'], 'required_inputs': {'AA_SEQUENCE_1'}}, 'pfam_entry -> biorxiv -> wikipedia -> pinal': {'tool_chain': ['pfam_entry', 'biorxiv', 'wikipedia', 'pinal'], 'required_inputs': {'PFAM_ID_1'}}, 'rfdiffusion_binder_design -> diffab_optimize': {'tool_chain': ['rfdiffusion_binder_design', 'diffab_optimize'], 'required_inputs': {'RFDIFFUSION_CONTIGS_1', 'FULL_STRUCTURE_PATH_1'}}, 'hhfilter -> hhmake -> hhsearch': {'tool_chain': ['hhfilter', 'hhmake', 'hhsearch'], 'required_inputs': {'A3M_PATH_1'}}, 'uniprot_fetch_sequence -> protrek_protein2text -> protrek_text2protein -> alphafold2': {'tool_chain': ['uniprot_fetch_sequence', 'protrek_protein2text', 'protrek_text2protein', 'alphafold2'], 'required_inputs': {'UNIPROT_ID_1'}}}\n"
     ]
    }
   ],
   "source": [
    "setup_seed(20000812)\n",
    "\n",
    "# Decide the number of steps\n",
    "step = 4\n",
    "num = 10\n",
    "cases = {}\n",
    "\n",
    "while len(cases) < num:\n",
    "    # Randomly sample the initial tool\n",
    "    init_tool = random.choice(list(tools.keys()))\n",
    "    \n",
    "    tool_chain = [init_tool]\n",
    "    # Inputs that the user has to provide\n",
    "    required_inputs = set(tools[init_tool][\"input_types\"])\n",
    "    # Inputs that later steps can obtain\n",
    "    available_inputs = required_inputs.union(set(tools[init_tool][\"output_types\"]))\n",
    "    \n",
    "    for i in range(step-1):\n",
    "        # Obtain available tools for the next step\n",
    "        output_types = tools[tool_chain[-1]][\"output_types\"]\n",
    "        next_tools = []\n",
    "        for output_type in output_types:\n",
    "            if output_type in input_type2tool:\n",
    "                next_tools.extend(input_type2tool[output_type])\n",
    "        \n",
    "        # If no next tool is available, break the loop\n",
    "        if next_tools == []:\n",
    "            break\n",
    "        \n",
    "        # Randomly sample the next tool (can be the same as the previous one)\n",
    "        while True:\n",
    "            next_tool = random.choice(next_tools)\n",
    "            if next_tool not in tool_chain:\n",
    "                break\n",
    "        tool_chain.append(next_tool)\n",
    "        \n",
    "        # Update the required inputs and available inputs\n",
    "        new_required_inputs = set(tools[next_tool][\"input_types\"]) - available_inputs\n",
    "        required_inputs = required_inputs.union(new_required_inputs)\n",
    "        available_inputs = available_inputs.union(set(tools[next_tool][\"output_types\"]))\n",
    "    \n",
    "    # If some required inputs are not provided, skip this tool chain\n",
    "    if required_inputs - type2case.keys() != set():\n",
    "        continue\n",
    "    \n",
    "    else:\n",
    "        tool_order = \" -> \".join(tool_chain)\n",
    "        cases[tool_order] = {\n",
    "            \"tool_chain\": tool_chain,\n",
    "            \"required_inputs\": required_inputs,\n",
    "        }\n",
    "\n",
    "\n",
    "print(cases)"
   ]
  },
  {
   "cell_type": "markdown",
   "id": "c1cbc51f5a2b0af0",
   "metadata": {
    "collapsed": false
   },
   "source": [
    "# Generate user query"
   ]
  },
  {
   "cell_type": "code",
   "execution_count": 3,
   "id": "ef466042521e123d",
   "metadata": {
    "ExecuteTime": {
     "end_time": "2025-06-13T07:29:49.604378100Z",
     "start_time": "2025-06-13T07:29:38.645483200Z"
    },
    "collapsed": false
   },
   "outputs": [],
   "source": [
    "tool_manager = ToolManager(enable_quick_run=True)\n",
    "tool_manager.set_out_dir(\"/home/public/ProtAgent/examples\")"
   ]
  },
  {
   "cell_type": "code",
   "execution_count": 196,
   "id": "6b07876fa5f7e798",
   "metadata": {
    "ExecuteTime": {
     "end_time": "2025-04-18T06:56:47.388675200Z",
     "start_time": "2025-04-18T06:56:47.326813700Z"
    },
    "collapsed": false
   },
   "outputs": [
    {
     "data": {
      "text/plain": [
       "[['fasta2seq']]"
      ]
     },
     "execution_count": 196,
     "metadata": {},
     "output_type": "execute_result"
    }
   ],
   "source": [
    "# Record how can a input type be converted to another type by a tool\n",
    "transfer_matrix = {}\n",
    "for tool_name, obj in tool_manager.tools.items():\n",
    "    doc = obj.config.document\n",
    "    input_types = set([param[\"detailed_type\"] for param in doc.required_parameters])\n",
    "    output_types = set([param[\"detailed_type\"] for param in doc.return_values])\n",
    "    \n",
    "    if len(input_types) == 1:\n",
    "        input_type = input_types.pop()\n",
    "        # Each output type can be generated given the input type and the tool\n",
    "        if input_type not in transfer_matrix:\n",
    "            transfer_matrix[input_type] = {output_type: [tool_name] for output_type in output_types}\n",
    "        \n",
    "        else:\n",
    "            for output_type in output_types:\n",
    "                transfer_matrix[input_type][output_type] = transfer_matrix[input_type].get(output_type, []) + [tool_name]\n",
    "    \n",
    "\n",
    "def find_path(input_type: str, output_type: str, exclusive: set = None) -> list:\n",
    "    \"\"\"\n",
    "    Find the shortest paths from input_type to output_type in the transfer matrix.\n",
    "    Args:\n",
    "        input_type: Input type\n",
    "        output_type: Output type\n",
    "\n",
    "    Returns:\n",
    "        A list of tool chains that can convert the input_type to output_type.\n",
    "    \"\"\"\n",
    "    assert input_type != output_type, f\"input type and output type are the same: {input_type}\"\n",
    "    \n",
    "    if input_type not in transfer_matrix:\n",
    "        return []\n",
    "    \n",
    "    # If the input type can be converted to the output type directly\n",
    "    if output_type in transfer_matrix[input_type]:\n",
    "        return [[tool] for tool in transfer_matrix[input_type][output_type]]\n",
    "    \n",
    "    else:\n",
    "        if exclusive is None:\n",
    "            exclusive = set()\n",
    "        new_exclusive = exclusive.union({input_type})\n",
    "        \n",
    "        shortest_paths = []\n",
    "        for available_output_type, tools in transfer_matrix[input_type].items():\n",
    "            # If the output type is not in the exclusive list\n",
    "            if available_output_type not in new_exclusive:\n",
    "                # If the output type can be converted to the target output type\n",
    "                paths = find_path(available_output_type, output_type, new_exclusive)\n",
    "                if paths != []:\n",
    "                    paths = [[tool] + path for tool in tools for path in paths]\n",
    "                    shortest_paths.extend(paths)\n",
    "        \n",
    "        if shortest_paths:\n",
    "            # Filter the paths to keep the shortest ones\n",
    "            min_length = min([len(path) for path in shortest_paths])\n",
    "            shortest_paths = [path for path in shortest_paths if len(path) == min_length]\n",
    "        \n",
    "        return shortest_paths\n",
    "\n",
    "\n",
    "find_path(\"FASTA_PATH\", \"AA_SEQUENCE_LIST\")"
   ]
  },
  {
   "cell_type": "code",
   "execution_count": 195,
   "id": "d0855c8dec3a563c",
   "metadata": {
    "ExecuteTime": {
     "end_time": "2025-04-18T06:55:31.541074Z",
     "start_time": "2025-04-18T06:55:31.491545100Z"
    },
    "collapsed": false
   },
   "outputs": [
    {
     "data": {
      "text/plain": [
       "{'category_name': 'sequence_operator',\n",
       " 'tool_name': 'fasta2seq',\n",
       " 'tool_description': 'This tool converts a FASTA file into a list of protein sequences.',\n",
       " 'required_parameters': [{'name': 'fasta_file',\n",
       "   'type': 'PATH',\n",
       "   'detailed_type': 'FASTA_PATH',\n",
       "   'description': 'The FASTA file containing the protein sequences to be converted.'}],\n",
       " 'optional_parameters': [],\n",
       " 'return_values': [{'name': 'protein_sequences',\n",
       "   'type': 'LIST',\n",
       "   'detailed_type': 'AA_SEQUENCE_LIST',\n",
       "   'description': 'A list of protein sequences extracted from the FASTA file.'},\n",
       "  {'name': 'count',\n",
       "   'type': 'INTEGER',\n",
       "   'detailed_type': 'SEQUENCE_COUNT',\n",
       "   'description': 'The number of protein sequences extracted from the FASTA file.'}]}"
      ]
     },
     "execution_count": 195,
     "metadata": {},
     "output_type": "execute_result"
    }
   ],
   "source": [
    "tool_manager.tools[\"fasta2seq\"].config.document"
   ]
  },
  {
   "cell_type": "code",
   "execution_count": 332,
   "id": "e48be967a2f879c4",
   "metadata": {
    "ExecuteTime": {
     "end_time": "2025-04-09T10:12:16.698890500Z",
     "start_time": "2025-04-09T10:12:16.656120900Z"
    },
    "collapsed": false
   },
   "outputs": [],
   "source": [
    "def generate_query(tool_chain: list, required_inputs: set) -> str:\n",
    "    prompt = \"\"\"\\\n",
    "    You are a helpful AI assistant. Your task is to generate a reasonable user query based on a given tool chain so that this query could be answered after the tool chain is executed successfully.\n",
    "    \n",
    "    The description of each tool is provided below:\n",
    "    PUT_TOOL_DESCRIPTION_HERE\n",
    "    \n",
    "    The order of the tools is provided below:\n",
    "    PUT_TOOL_ORDER_HERE\n",
    "    \n",
    "    The inputs you should provide are:\n",
    "    PUT_TOOL_INPUT_HERE\n",
    "    \n",
    "    You have to generate a query like a normal user. The query should be a natural language question or command that reflect what the user wants to do, usually regarding a real-world scenario. The query should be clear and concise. The query should contain the inputs you provided, not the keys but only the values. And you should not directly mention the tool names in your query.\n",
    "    \n",
    "    Example:\n",
    "    1. Predict the structure of the sequence \"AEGIKL\", and the calculate the tmscore between this structure and \"/example.pdb\".\n",
    "    \n",
    "    2. Can you fetch the 3D structural data for the protein with UniProt ID P05067 and then align it with the structure in \"/example_2.cif\" to determine the TM-score?\n",
    "    \n",
    "    Now, please generate a user query based on the above information. Directly output the generated query.\n",
    "    \"\"\"\n",
    "    tool_desc = tool_manager.brief_documents(tool_chain)\n",
    "    \n",
    "    tool_order = \" -> \".join(tool_chain)\n",
    "    user_input =  \"\\n\".join([f\"{key}: '{type2case[key]}'\" for key in required_inputs])\n",
    "    prompt = prompt.replace(\"PUT_TOOL_DESCRIPTION_HERE\", tool_desc).replace(\"PUT_TOOL_ORDER_HERE\", tool_order).replace(\"PUT_TOOL_INPUT_HERE\", user_input)\n",
    "    \n",
    "    client = OpenAI(\n",
    "        api_key=\"1192ecb8bb9947e1add0e27a7a61500e.6R9bireyVXRL8szS\",\n",
    "        base_url=\"https://open.bigmodel.cn/api/paas/v4/\"\n",
    "    )\n",
    "    \n",
    "    response = client.chat.completions.create(\n",
    "        model=\"glm-4\",  \n",
    "        messages=[\n",
    "            {\"role\": \"user\", \"content\": prompt},\n",
    "        ],\n",
    "        temperature=0\n",
    "    )\n",
    "    \n",
    "    return response.choices[0].message.content"
   ]
  },
  {
   "cell_type": "code",
   "execution_count": 340,
   "id": "adab06714aee26f5",
   "metadata": {
    "ExecuteTime": {
     "end_time": "2025-04-09T11:24:35.235679200Z",
     "start_time": "2025-04-09T11:23:56.258292700Z"
    },
    "collapsed": false
   },
   "outputs": [
    {
     "name": "stderr",
     "output_type": "stream",
     "text": [
      "100%|██████████████████████████████████████████████████████████████████████████████████████████████████████████████████████████████████████████████████████████████████████████████████████████████████████████████████████████████████████████| 10/10 [00:38<00:00,  3.89s/it]\n"
     ]
    }
   ],
   "source": [
    "for key, case_dict in tqdm(cases.items()):\n",
    "    query = generate_query(case_dict[\"tool_chain\"], case_dict[\"required_inputs\"])\n",
    "    cases[key][\"query\"] = query"
   ]
  },
  {
   "cell_type": "code",
   "execution_count": 342,
   "id": "215b8b72aee4bcce",
   "metadata": {
    "ExecuteTime": {
     "end_time": "2025-04-09T11:24:47.671329300Z",
     "start_time": "2025-04-09T11:24:47.621727900Z"
    },
    "collapsed": false
   },
   "outputs": [
    {
     "name": "stderr",
     "output_type": "stream",
     "text": [
      "100%|███████████████████████████████████████████████████████████████████████████████████████████████████████████████████████████████████████████████████████████████████████████████████████████████████████████████████████████████████████| 10/10 [00:00<00:00, 89813.79it/s]\n"
     ]
    }
   ],
   "source": [
    "save_path = \"/home/public/ProtAgent/agent_testset.tsv\"\n",
    "with open(save_path, \"w\") as f:\n",
    "    f.write(\"tool_chain\\trequired_inputs\\tquery\\n\")\n",
    "    for key, case_dict in tqdm(cases.items()):\n",
    "        f.write(f\"{key}\\t{case_dict['required_inputs']}\\t{case_dict['query']}\\n\")"
   ]
  },
  {
   "cell_type": "markdown",
   "id": "be620ac1e984118",
   "metadata": {
    "collapsed": false
   },
   "source": [
    "# Evaluation"
   ]
  },
  {
   "cell_type": "code",
   "execution_count": 344,
   "id": "ceed24cc1ec0e754",
   "metadata": {
    "ExecuteTime": {
     "end_time": "2025-04-09T11:27:11.400092900Z",
     "start_time": "2025-04-09T11:26:36.797862900Z"
    },
    "collapsed": false
   },
   "outputs": [],
   "source": [
    "model_path = \"/root/PycharmProjects/ProtAgent/modelhub/Qwen2.5-7B-Instruct\"\n",
    "# api_key = \"1192ecb8bb9947e1add0e27a7a61500e.6R9bireyVXRL8szS\"\n",
    "api_key = \"7fb9d05edadc426aaa836e334c706ae2.s4aLWRTeepiRDZPl\"\n",
    "tool_manager = ToolManager(\"/root/PycharmProjects/ProtAgent/output/temp\")\n",
    "agent = ProteinReActAgent(\n",
    "    None,\n",
    "    api_key,\n",
    "    tool_manager\n",
    ")"
   ]
  },
  {
   "cell_type": "code",
   "execution_count": 345,
   "id": "c57a3304177c1329",
   "metadata": {
    "ExecuteTime": {
     "end_time": "2025-04-09T11:27:13.944116900Z",
     "start_time": "2025-04-09T11:27:13.894340500Z"
    },
    "collapsed": false
   },
   "outputs": [],
   "source": [
    "agent.tool_manager.set_out_dir(\"/home/public/ProtAgent/examples\")"
   ]
  },
  {
   "cell_type": "code",
   "execution_count": 411,
   "id": "203bfd5e1d45cd",
   "metadata": {
    "collapsed": false
   },
   "outputs": [
    {
     "name": "stdout",
     "output_type": "stream",
     "text": [
      "Predict the homologous protein domains in the sequence database provided in 'example_1.fasta', and then estimate the mutational effect score of the mutation 'A123B:C124D' on the wild type sequence from 'example_2.fasta'.\n",
      "**Analysis:**\n",
      "\n",
      "<TypeAnalyzer>\n",
      "+ protein sequence(text) -> homologous protein domains(text)\n",
      "+ mutation description(text) -> mutational effect score(text)\n",
      "</TypeAnalyzer>\n",
      "**Plan:**\n",
      "\n",
      "<Planner>\n",
      "1. Use a sequence analysis tool to identify homologous protein domains in the sequence database provided in 'example_1.fasta'.\n",
      "2. Use the identified homologous protein domains as input to estimate the mutational effect score of the mutation 'A123B:C124D' on the wild type sequence from 'example_2.fasta'.\n",
      "3. Provide the mutational effect score as the output of the workflow.\n",
      "</Planner>\n",
      "**Thought 1:**\n",
      "\n",
      "<StepLocator>\n",
      "The current task is to use a sequence analysis tool to identify homologous\n"
     ]
    },
    {
     "name": "stderr",
     "output_type": "stream",
     "text": [
      "\n",
      "KeyboardInterrupt\n",
      "\n"
     ]
    }
   ],
   "source": [
    "for case, case_dict in cases.items():\n",
    "    query = case_dict[\"query\"]\n",
    "    \n",
    "    messages = [\n",
    "        {\"role\": \"user\", \"content\": query}\n",
    "    ]\n",
    "\n",
    "    lm = agent.stream_chat(messages)\n",
    "    for response in lm:\n",
    "        from IPython import display\n",
    "        display.clear_output(wait=True)\n",
    "        content = response.content\n",
    "        print(query)\n",
    "        for text_type, (st, ed) in response.fragments.items():\n",
    "            print(response.content[st:ed])\n",
    "    break"
   ]
  },
  {
   "cell_type": "markdown",
   "id": "c55a268134d8dbcc",
   "metadata": {
    "collapsed": false
   },
   "source": [
    "# Query parser"
   ]
  },
  {
   "cell_type": "code",
   "execution_count": 335,
   "id": "95cc13a10cf7268c",
   "metadata": {
    "ExecuteTime": {
     "end_time": "2025-04-21T08:24:49.063573600Z",
     "start_time": "2025-04-21T08:24:49.009866800Z"
    },
    "collapsed": false
   },
   "outputs": [],
   "source": [
    "from agent.agent.multi_agent_api.query_parser import QueryParserAPI\n",
    "\n",
    "query_parser = QueryParserAPI(model_name=\"qwen-turbo\", tool_manager=tool_manager)"
   ]
  },
  {
   "cell_type": "code",
   "execution_count": 336,
   "id": "41271ad0c4cae6fa",
   "metadata": {
    "ExecuteTime": {
     "end_time": "2025-04-21T08:24:51.278159800Z",
     "start_time": "2025-04-21T08:24:49.514822100Z"
    },
    "collapsed": false
   },
   "outputs": [
    {
     "name": "stdout",
     "output_type": "stream",
     "text": [
      "<QueryParser>\n",
      "{\n",
      "    \"TEXT\": [\"hydrolysis of cutin\"],\n",
      "    \"AA_SEQUENCE\": []\n",
      "}\n",
      "</QueryParser><QueryParser>\n",
      "{\n",
      "    \"TEXT\": [\"hydrolysis of cutin\"]\n",
      "}\n",
      "</QueryParser>"
     ]
    }
   ],
   "source": [
    "request = \"\"\"\\\n",
    "Find and align protein sequences that catalyze the hydrolysis of cutin, and filter the results to remove redundancy, focusing on diversity and sequence coverage.\n",
    "\"\"\"\n",
    "\n",
    "lm = query_parser.stream_chat(request)\n",
    "st = 0\n",
    "for response in lm:\n",
    "    content = response.content\n",
    "    print(content[st:], end=\"\")\n",
    "    st = len(content)"
   ]
  },
  {
   "cell_type": "markdown",
   "id": "b17b442a0fd9fbd5",
   "metadata": {
    "collapsed": false
   },
   "source": [
    "# Planner"
   ]
  },
  {
   "cell_type": "code",
   "execution_count": 6,
   "id": "2e73cabf5ce26d05",
   "metadata": {
    "ExecuteTime": {
     "end_time": "2025-06-13T07:33:02.908098600Z",
     "start_time": "2025-06-13T07:33:02.112801500Z"
    },
    "collapsed": false
   },
   "outputs": [],
   "source": [
    "from agent.agent.sujin_multi_agent_api.new_planner import NewPlannerAPI\n",
    "from agent.utils.constants import AGENT_STATUS, AgentResponse\n",
    "\n",
    "new_planner = NewPlannerAPI(model_name=\"qwen-turbo\", tool_manager=tool_manager)"
   ]
  },
  {
   "cell_type": "code",
   "execution_count": 21,
   "id": "306d40378d6bb7d4",
   "metadata": {
    "collapsed": false
   },
   "outputs": [
    {
     "name": "stdout",
     "output_type": "stream",
     "text": [
      "\n",
      "{\n",
      "    \"sender\": \"planner\",\n",
      "    \"content\": {\n",
      "        \"user_request\": \"I have a sequence, predict its structure for me\",\n",
      "        \"analysis\": \"The user wants to predict the structure of a protein based on its sequence. We will use the ESMFold tool to predict the 3D structure of the protein since it is suitable for proteins lacking homologous sequence information.\",\n",
      "        \"step_1\": {\n",
      "            \"tool\": \"esmfold\",\n",
      "            \"reason\": \"ESMFold is a powerful tool for predicting the 3D structure of proteins directly from their amino acid sequences.\"\n",
      "        },\n",
      "        \"step_2\": {\n",
      "            \"tool\": \"chat\",\n",
      "            \"reason\": \"After predicting the structure using ESMFold, we will communicate the results to the user.\"\n",
      "        }\n",
      "    }\n",
      "}\n"
     ]
    }
   ],
   "source": [
    "# query = \"What can you tell me about the protein with this Foldseek structure sequence: 'dddddddddddddddpdpppvcppvnvvvvvvvvvvvvvvvvvvvvvvvvvvqdpqdedeqvrddpcqqpvqhkhkykafwappqwdddpqkiwtwghnppgiaieieghdappqddhrfikifiaghdpvrhtygdhidtdddpddddvvnvvvcvvvvndpdd'?\"\n",
    "# query = \"Calculate TMscore\"\n",
    "# query = \"Find the 3D structure of the protein with the given amino acid sequence 'MSATAEQNARNPKGKGGFARTVSQRKRKRLFLIGGALAVLAVAVGLMLTAFNQDIRFFRTPADLTEQDMTSGARFRLGGLVEEGSVSRTGSELRFTVTDTIKTVKVVFEGIPPDLFREGQGVVAEGRFGSDGLFRADNVLAKHDENYVPKDLADSLKKKGVWEGK', then identify similar structures, match it to a Pfam entry, and provide any relevant research articles on this protein family.\"\n",
    "query = \"I have a sequence, predict its structure for me\"\n",
    "# query = \"I have uploaded the following files: \\\"\\\"example_1.pdb`` ``example_2.pdb`` compute tmscore\"\n",
    "\n",
    "lm = new_planner.stream_chat(query, message_pool=[])\n",
    "# lm = new_planner.stream_chat(query, prev_plan=prev_plan, feedback=feedback)\n",
    "for response in lm:\n",
    "    from IPython import display\n",
    "    display.clear_output(wait=True)\n",
    "    \n",
    "    print(response.content, end=\"\")"
   ]
  },
  {
   "cell_type": "code",
   "execution_count": 41,
   "id": "d80a593744701b78",
   "metadata": {
    "ExecuteTime": {
     "end_time": "2025-04-17T07:55:46.874392100Z",
     "start_time": "2025-04-17T07:55:46.805897500Z"
    },
    "collapsed": false
   },
   "outputs": [
    {
     "ename": "TypeError",
     "evalue": "ToolExecutorAPI.__init__() takes 1 positional argument but 3 were given",
     "output_type": "error",
     "traceback": [
      "\u001b[0;31m---------------------------------------------------------------------------\u001b[0m",
      "\u001b[0;31mTypeError\u001b[0m                                 Traceback (most recent call last)",
      "Cell \u001b[0;32mIn[41], line 42\u001b[0m\n\u001b[1;32m     39\u001b[0m \u001b[38;5;28;01mfrom\u001b[39;00m\u001b[38;5;250m \u001b[39m\u001b[38;5;21;01magent\u001b[39;00m\u001b[38;5;21;01m.\u001b[39;00m\u001b[38;5;21;01mutils\u001b[39;00m\u001b[38;5;21;01m.\u001b[39;00m\u001b[38;5;21;01mconstants\u001b[39;00m\u001b[38;5;250m \u001b[39m\u001b[38;5;28;01mimport\u001b[39;00m AGENT_STATUS, AgentResponse\n\u001b[1;32m     41\u001b[0m api_key \u001b[38;5;241m=\u001b[39m \u001b[38;5;124m\"\u001b[39m\u001b[38;5;124m896b80950544431e8c583e03781bd14a.v2sd48fGT009KSo6\u001b[39m\u001b[38;5;124m\"\u001b[39m\n\u001b[0;32m---> 42\u001b[0m tool_executor \u001b[38;5;241m=\u001b[39m \u001b[43mToolExecutorAPI\u001b[49m\u001b[43m(\u001b[49m\u001b[43mapi_key\u001b[49m\u001b[43m,\u001b[49m\u001b[43m \u001b[49m\u001b[43mtool_manager\u001b[49m\u001b[43m,\u001b[49m\u001b[43m \u001b[49m\u001b[43mmodel\u001b[49m\u001b[38;5;241;43m=\u001b[39;49m\u001b[38;5;124;43m\"\u001b[39;49m\u001b[38;5;124;43mglm-4-flash\u001b[39;49m\u001b[38;5;124;43m\"\u001b[39;49m\u001b[43m)\u001b[49m\n",
      "\u001b[0;31mTypeError\u001b[0m: ToolExecutorAPI.__init__() takes 1 positional argument but 3 were given"
     ]
    }
   ],
   "source": [
    "plan = {\n",
    "    \"user_request\": \"Calculate tmscore. One is 'a.pdb'\",\n",
    "    \"analysis\": \"The user wants to calculate the TM-score, which is a measure of structural similarity between two protein structures. This requires aligning the two structures and then calculating the TM-score.\",\n",
    "    \"1\": {\n",
    "        \"tool\": \"tmalign\",\n",
    "        \"goal\": \"Align two protein structures and calculate the TM-score.\"\n",
    "    }\n",
    "}\n",
    "\n",
    "from agent.agent.sujin_multi_agent_api.tool_executor import ToolExecutorAPI\n",
    "from agent.utils.constants import AGENT_STATUS, AgentResponse\n",
    "\n",
    "api_key = \"896b80950544431e8c583e03781bd14a.v2sd48fGT009KSo6\"\n",
    "tool_executor = ToolExecutorAPI(api_key, tool_manager, model=\"glm-4-flash\")"
   ]
  },
  {
   "cell_type": "code",
   "execution_count": 217,
   "id": "ebbb5b5d31767a96",
   "metadata": {
    "ExecuteTime": {
     "end_time": "2025-04-18T08:33:16.633747100Z",
     "start_time": "2025-04-18T08:33:16.051193400Z"
    },
    "collapsed": false
   },
   "outputs": [
    {
     "ename": "NameError",
     "evalue": "name 'tool_executor' is not defined",
     "output_type": "error",
     "traceback": [
      "\u001b[0;31m---------------------------------------------------------------------------\u001b[0m",
      "\u001b[0;31mNameError\u001b[0m                                 Traceback (most recent call last)",
      "Cell \u001b[0;32mIn[217], line 1\u001b[0m\n\u001b[0;32m----> 1\u001b[0m lm \u001b[38;5;241m=\u001b[39m \u001b[43mtool_executor\u001b[49m\u001b[38;5;241m.\u001b[39mstream_chat(plan)\n\u001b[1;32m      2\u001b[0m st \u001b[38;5;241m=\u001b[39m \u001b[38;5;241m0\u001b[39m\n\u001b[1;32m      3\u001b[0m \u001b[38;5;28;01mfor\u001b[39;00m response \u001b[38;5;129;01min\u001b[39;00m lm:\n",
      "\u001b[0;31mNameError\u001b[0m: name 'tool_executor' is not defined"
     ]
    }
   ],
   "source": [
    "lm = tool_executor.stream_chat(plan)\n",
    "st = 0\n",
    "for response in lm:\n",
    "    content = response.content\n",
    "    print(content[st:], end=\"\")\n",
    "    st = len(content)"
   ]
  },
  {
   "cell_type": "markdown",
   "id": "844b5a0182dfb5e5",
   "metadata": {
    "collapsed": false
   },
   "source": [
    "# Plan optimizer"
   ]
  },
  {
   "cell_type": "code",
   "execution_count": 24,
   "id": "3c853d07ad1e40f5",
   "metadata": {
    "ExecuteTime": {
     "end_time": "2025-06-13T07:49:37.892905300Z",
     "start_time": "2025-06-13T07:49:37.756047800Z"
    },
    "collapsed": false
   },
   "outputs": [],
   "source": [
    "from agent.agent.sujin_multi_agent_api.plan_optimizer import PlanOptimizerAPI\n",
    "\n",
    "plan_optimizer = PlanOptimizerAPI(model_name=\"qwen-turbo\", tool_manager=tool_manager)"
   ]
  },
  {
   "cell_type": "code",
   "execution_count": 51,
   "id": "21c582134f2567e",
   "metadata": {
    "ExecuteTime": {
     "end_time": "2025-06-13T08:15:08.048405300Z",
     "start_time": "2025-06-13T08:15:06.021280Z"
    },
    "collapsed": false
   },
   "outputs": [
    {
     "name": "stdout",
     "output_type": "stream",
     "text": [
      "type_dict {'AA_SEQUENCE': [], 'FULL_STRUCTURE_PATH': []}\n",
      "true_dict {}\n",
      "wrong_dict {}\n"
     ]
    }
   ],
   "source": [
    "plan = {\n",
    "    \"sender\": \"planner\",\n",
    "    \"content\": {\n",
    "        \"user_request\": \"I have a sequence, predict its structure for me\",\n",
    "        \"analysis\": \"The user wants to predict the structure of a protein based on its sequence. We will use the ESMFold tool to predict the 3D structure of the protein since it is suitable for proteins lacking homologous sequence information.\",\n",
    "        \"step_1\": {\n",
    "            \"tool\": \"esmfold\",\n",
    "            \"reason\": \"ESMFold is a powerful tool for predicting the 3D structure of proteins directly from their amino acid sequences.\"\n",
    "        },\n",
    "        \"step_2\": {\n",
    "            \"tool\": \"chat\",\n",
    "            \"reason\": \"After predicting the structure using ESMFold, we will communicate the results to the user.\"\n",
    "        }\n",
    "    }\n",
    "}\n",
    "\n",
    "\n",
    "lm = plan_optimizer.stream_chat(plan[\"content\"])\n",
    "st = 0\n",
    "for response in lm:\n",
    "    # from IPython import display\n",
    "    # display.clear_output(wait=True)\n",
    "    # \n",
    "    # print(response.content, end=\"\")\n",
    "    pass"
   ]
  },
  {
   "cell_type": "code",
   "execution_count": 119,
   "id": "c58cc607ccd13829",
   "metadata": {
    "ExecuteTime": {
     "end_time": "2025-04-17T15:09:39.318024800Z",
     "start_time": "2025-04-17T15:09:39.217823400Z"
    },
    "collapsed": false
   },
   "outputs": [
    {
     "name": "stdout",
     "output_type": "stream",
     "text": [
      "{\n",
      "   \"sender\": \"plan_evaluator\",\n",
      "   \"content\": {\n",
      "        \"analysis\": This plan is invalid. The tool pfam_match requires the following input types: {'UNIPROT_ID'}, but the available input types are: {'QUESTION', 'AA_SEQUENCE', 'FULL_STRUCTURE_PATH'}. Missing types: {'UNIPROT_ID'}. To call the tool, you should call other tools that return the missing types {'UNIPROT_ID'}.,\n",
      "        \"accept\": no,\n",
      "   }\n",
      "}\n"
     ]
    }
   ],
   "source": [
    "print(response.content)"
   ]
  },
  {
   "cell_type": "markdown",
   "id": "404918711b569e7e",
   "metadata": {
    "collapsed": false
   },
   "source": [
    "# Argument Extractor"
   ]
  },
  {
   "cell_type": "code",
   "execution_count": 1113,
   "id": "b457978ba5ad390f",
   "metadata": {
    "ExecuteTime": {
     "end_time": "2025-04-15T15:32:31.180139100Z",
     "start_time": "2025-04-15T15:32:31.109105200Z"
    },
    "collapsed": false
   },
   "outputs": [],
   "source": [
    "from agent.agent.sujin_multi_agent_api.arg_extractor import ArgumentExtractorAPI\n",
    "from agent.utils.constants import AGENT_STATUS, AgentResponse\n",
    "\n",
    "# Zhipu AI\n",
    "api_key = \"896b80950544431e8c583e03781bd14a.v2sd48fGT009KSo6\"\n",
    "# Qwen\n",
    "api_key = \"sk-ad8e7bbdc1b344efbcdb1e48bab78b84\"\n",
    "arg_extractor = ArgumentExtractorAPI(api_key, tool_manager, model=\"qwen-turbo\")"
   ]
  },
  {
   "cell_type": "code",
   "execution_count": 1114,
   "id": "466760ce4d82a86b",
   "metadata": {
    "ExecuteTime": {
     "end_time": "2025-04-15T15:32:34.649252800Z",
     "start_time": "2025-04-15T15:32:31.577070600Z"
    },
    "collapsed": false
   },
   "outputs": [
    {
     "name": "stdout",
     "output_type": "stream",
     "text": [
      "<ArgumentExtractor>\n",
      "{\n",
      "    \"sender\": \"argument_extractor\",\n",
      "    \"content\": {\n",
      "        \"current_step\": \"step_2\",\n",
      "        \"tool_name\": \"foldseek\",\n",
      "        \"analysis\": \"The user request mentions the protein 6Z4G, which is the target protein structure. The 'foldseek' tool requires the PDB file path as an argument to extract the foldseek sequence. The PDB file for the protein 6Z4G has already been retrieved and saved at /home/public/ProtAgent/examples/6Z4G.pdb. Therefore, the path to this PDB file should be provided as an argument for the 'foldseek' tool. However, there is a persistent permission issue when running the 'foldseek.sh' script. Despite this, the required argument is still present, so it can be extracted.\",\n",
      "        \"tool_arg\": {\n",
      "            \"pdb_path\": \"/home/public/ProtAgent/examples/6Z4G.pdb\"\n",
      "        }\n",
      "    }\n",
      "}\n"
     ]
    }
   ],
   "source": [
    "plan = {\n",
    "        \"user_request\": \"Could you extract the foldseek structural sequence for the protein 6Z4G from the PDB, which is associated with viral entry into host cells?\",\n",
    "        \"analysis\": \"The user wants to extract the foldseek structural sequence for the protein 6Z4G from the PDB. This task requires a tool capable of processing PDB files and extracting the foldseek sequence. The tool 'pdb2aaseq' can extract amino acid sequences from PDB files, and 'foldseek' can generate foldseek sequences from protein structures. Therefore, the first step is to retrieve the PDB file for the protein 6Z4G using the 'get_pdb' tool, and then extract the foldseek sequence using the 'foldseek' tool.\",\n",
    "        \"step_1\": {\n",
    "            \"tool\": \"get_pdb\",\n",
    "            \"reason\": \"Retrieve the PDB file for the protein 6Z4G using the 'get_pdb' tool.\"\n",
    "        },\n",
    "        \"step_2\": {\n",
    "            \"tool\": \"foldseek\",\n",
    "            \"reason\": \"Extract the foldseek structural sequence for the protein 6Z4G from the retrieved PDB file using the 'foldseek' tool.\"\n",
    "        }\n",
    "    }\n",
    "\n",
    "task_id = \"step_2\"\n",
    "lm = arg_extractor.stream_chat(plan, task_id, message_pool)\n",
    "# lm = arg_extractor.stream_chat(plan, task_id, message_pool=message_pool[:-1])\n",
    "st = 0\n",
    "for response in lm:\n",
    "    content = response.content\n",
    "    print(content[st:], end=\"\")\n",
    "    st = len(content)"
   ]
  },
  {
   "cell_type": "markdown",
   "id": "be0fd49f94cc0793",
   "metadata": {
    "collapsed": false
   },
   "source": [
    "# Tool executor"
   ]
  },
  {
   "cell_type": "code",
   "execution_count": 60,
   "id": "66790b1be19c45a1",
   "metadata": {
    "ExecuteTime": {
     "end_time": "2025-05-21T08:34:59.075950700Z",
     "start_time": "2025-05-21T08:34:59.014211700Z"
    },
    "collapsed": false
   },
   "outputs": [],
   "source": [
    "from agent.agent.sujin_multi_agent_api.tool_executor import ToolExecutorAPI\n",
    "from agent.utils.constants import AGENT_STATUS, AgentResponse\n",
    "\n",
    "tool_executor = ToolExecutorAPI(model_name=\"qwen-turbo\", tool_manager=tool_manager)"
   ]
  },
  {
   "cell_type": "code",
   "execution_count": 76,
   "id": "36bd22800e944770",
   "metadata": {
    "collapsed": false
   },
   "outputs": [
    {
     "name": "stdout",
     "output_type": "stream",
     "text": [
      "{\n",
      "    \"sender\": \"tool_executor\",\n",
      "    \"content\": {\n",
      "        \"current_step\": \"step_1\",\n",
      "        \"tool_name\": \"seq2fasta\",\n",
      "        \"analysis\": \"Based on the user request and the analysis provided, the required argument 'protein_sequence' can be extracted directly from the user request.\",\n",
      "        \"tool_arg\": {\n",
      "            \"protein_sequence\": \"AAAAAAAAAAAAAAAAAAAAAAAA\"\n",
      "        },\n",
      "        \"running_log\": \"Running log: \\nNo log file\\n\\nResults: \\n{'error': \\\"module 'posixpath' has no attribute 'makedirs'\\\"}\",\n",
      "        \"results\": {\n",
      "            \"error\": \"module 'posixpath' has no attribute 'makedirs'\"\n",
      "        },\n",
      "        \"status\": \"error\"\n",
      "    }\n",
      "}"
     ]
    }
   ],
   "source": [
    "plan = {\n",
    "\"user_request\":\"Calculate TMscore for two uploaded PDB files: example_1.pdb and example_2.pdb.\",\n",
    "\"analysis\":\"The user wants to calculate the structural similarity between two protein structures using TMscore. The required inputs are the paths to the two PDB files.\",\n",
    "\"step_1\":{\n",
    "\"tool\":\"tmalign\",\n",
    "\"reason\":\"TMAlign is the appropriate tool to calculate the structural similarity between two protein structures using TMscore.\"\n",
    "},\n",
    "\"step_2\":{\n",
    "\"tool\":\"chat\",\n",
    "\"reason\":\"After calculating the TMscore, the result will be communicated to the user.\"\n",
    "}\n",
    "}\n",
    "\n",
    "lm = tool_executor.stream_chat(message_pool[9][\"content\"], \"step_1\", message_pool[:10])\n",
    "for response in lm:\n",
    "    from IPython import display\n",
    "    display.clear_output(wait=True)\n",
    "    \n",
    "    print(response.content, end=\"\")"
   ]
  },
  {
   "cell_type": "code",
   "execution_count": 66,
   "id": "30405c2f860bd0f8",
   "metadata": {
    "ExecuteTime": {
     "end_time": "2025-05-21T08:38:34.119082700Z",
     "start_time": "2025-05-21T08:38:34.018715100Z"
    },
    "collapsed": false
   },
   "outputs": [
    {
     "name": "stdout",
     "output_type": "stream",
     "text": [
      "{\n",
      "    \"sender\": \"tool_executor\",\n",
      "    \"content\": {\n",
      "        \"current_step\": \"step_1\",\n",
      "        \"tool_name\": \"chat\",\n",
      "        \"analysis\": \"Based on the user request and the analysis provided, the required argument 'protein_sequence' can be extracted directly from the user request.\",\n",
      "        \"tool_arg\": {},\n",
      "        \"status\": \"success\"\n",
      "    }\n",
      "}\n"
     ]
    }
   ],
   "source": [
    "print(response.content)"
   ]
  },
  {
   "cell_type": "markdown",
   "id": "cae839b27cc4599a",
   "metadata": {
    "collapsed": false
   },
   "source": [
    "# Responder"
   ]
  },
  {
   "cell_type": "code",
   "execution_count": 791,
   "id": "5157d422740c78d1",
   "metadata": {
    "ExecuteTime": {
     "end_time": "2025-04-14T09:26:39.262100100Z",
     "start_time": "2025-04-14T09:26:39.204867700Z"
    },
    "collapsed": false
   },
   "outputs": [],
   "source": [
    "from agent.agent.sujin_multi_agent_api.responder import ResponderAPI\n",
    "from agent.utils.constants import AGENT_STATUS, AgentResponse\n",
    "\n",
    "api_key = \"896b80950544431e8c583e03781bd14a.v2sd48fGT009KSo6\"\n",
    "responder = ResponderAPI(api_key, model=\"glm-4-flash\")"
   ]
  },
  {
   "cell_type": "code",
   "execution_count": 795,
   "id": "c7904b5c801a02bc",
   "metadata": {
    "ExecuteTime": {
     "end_time": "2025-04-14T09:33:53.774865600Z",
     "start_time": "2025-04-14T09:33:52.053980700Z"
    },
    "collapsed": false
   },
   "outputs": [
    {
     "name": "stdout",
     "output_type": "stream",
     "text": [
      "<Responder>\n",
      "{\n",
      "    \"sender\": \"Planner\",\n",
      "    \"content\": \"Hello there! How can I assist you today?\"\n",
      "}\n",
      "</Responder>"
     ]
    }
   ],
   "source": [
    "query = \"Hello?\"\n",
    "lm = responder.stream_chat(query, message_pool)\n",
    "st = 0\n",
    "for response in lm:\n",
    "    content = response.content\n",
    "    print(content[st:], end=\"\")\n",
    "    st = len(content)"
   ]
  },
  {
   "cell_type": "markdown",
   "id": "8e162eec4bf4c7e9",
   "metadata": {
    "collapsed": false
   },
   "source": [
    "# Plan-execution loop"
   ]
  },
  {
   "cell_type": "code",
   "execution_count": 1343,
   "id": "dbd758aa29f06767",
   "metadata": {
    "ExecuteTime": {
     "end_time": "2025-04-17T01:52:48.958555600Z",
     "start_time": "2025-04-17T01:52:17.834639600Z"
    },
    "collapsed": false
   },
   "outputs": [
    {
     "name": "stdout",
     "output_type": "stream",
     "text": [
      "<Planner>\n",
      "{\n",
      "    \"sender\": \"planner\",\n",
      "    \"content\": {\n",
      "        \"user_request\": \"Please design a novel amino acid sequence that maintains the structure of example_1.pdb except for segment A:50, then create a binder for this modified sequence, and finally, design an antibody that targets the binder.\",\n",
      "        \"analysis\": \"The user wants to modify a specific segment of a given protein structure, design a binder for the modified sequence, and then design an antibody targeting the binder. We will need to use several tools to achieve this step-by-step.\",\n",
      "        \"step_1\": {\n",
      "            \"tool\": \"rfdiffusion_partial_diffusion\",\n",
      "            \"reason\": \"This tool is used to design a novel amino acid sequence that maintains the structure of the given protein except for a specific segment.\"\n",
      "        },\n",
      "        \"step_2\": {\n",
      "            \"tool\": \"rfdiffusion_binder_design\",\n",
      "            \"reason\": \"After modifying the protein structure, we need to design a binder for the modified sequence. This tool is suitable for this task.\"\n",
      "        },\n",
      "        \"step_3\": {\n",
      "            \"tool\": \"diffab_design\",\n",
      "            \"reason\": \"Finally, we need to design an antibody that targets the binder. This tool is capable of designing antibodies based on a given antigen.\"\n",
      "        },\n",
      "        \"step_4\": {\n",
      "            \"tool\": \"chat\",\n",
      "            \"reason\": \"After completing the above steps, we can provide the user with the final results and answer any further questions they might have.\"\n",
      "        }\n",
      "    }\n",
      "}\n",
      "<ToolExecutor>\n",
      "{\n",
      "    \"sender\": \"tool_executor\",\n",
      "    \"content\": {\n",
      "        \"current_step\": \"step_1\",\n",
      "        \"tool_name\": \"rfdiffusion_partial_diffusion\",\n",
      "        \"analysis\": \"Based on the analysis in the plan, we need to use the rfdiffusion_partial_diffusion tool to design a novel amino acid sequence that maintains the structure of example_1.pdb except for segment A:50.\",\n",
      "        \"tool_arg\": {\n",
      "            \"contigs\": \"A:50\",\n",
      "            \"protein_structure\": \"example_1.pdb\"\n",
      "        }\n",
      "    }\n",
      "}\n",
      " \"Running log: \\nRunning log: \\nSuccessfully finished the tool call\\n\\nResults: \\n{'design': 'rfdiffusion/20250402_1536/design_0.pdb'}\\n\\nResults: \\n{'design': 'rfdiffusion/20250402_1536/design_0.pdb'}\"\n",
      "    }\n",
      "}  \"status\": \"success\"\n",
      "    }\n",
      "}\n",
      "<ToolExecutor>\n",
      "{\n",
      "    \"sender\": \"tool_executor\",\n",
      "    \"content\": {\n",
      "        \"current_step\": \"step_2\",\n",
      "        \"tool_name\": \"rfdiffusion_binder_design\",\n",
      "        \"analysis\": \"Based on the analysis in the plan, we need to use the rfdiffusion_binder_design tool to create a binder for the modified sequence obtained from step 1. The required arguments are 'contigs' and 'protein_structure'. From the previous step, we have the modified protein structure 'rfdiffusion/20250402_1536/design_0.pdb'. However, the 'contigs' argument is not provided in the context.\",\n",
      "        \"error\": \"Missing required argument 'contigs'\"\n",
      "    }\n",
      "}\n",
      "<Planner>\n",
      "{\n",
      "    \"sender\": \"planner\",\n",
      "    \"content\": {\n",
      "        \"user_request\": \"Please design a novel amino acid sequence that maintains the structure of example_1.pdb except for segment A:50, then create a binder for this modified sequence, and finally, design an antibody that targets the binder.\",\n",
      "        \"analysis\": \"The user wants to modify a specific segment of a given protein structure, design a binder for the modified sequence, and then design an antibody targeting the binder. Based on the previous plan and feedback, the first step was successfully completed, but the second step encountered an issue due to missing required argument 'contigs'. Therefore, we need to re-plan the second step with the correct 'contigs' argument.\",\n",
      "        \"step_1\": {\n",
      "                \"tool\": \"rfdiffusion_partial_diffusion\",\n",
      "                \"reason\": \"This tool is used to design a novel amino acid sequence that maintains the structure of the given protein except for a specific segment. The previous step has already completed this task successfully.\"\n",
      "            },\n",
      "        \"step_2\": {\n",
      "                \"tool\": \"rfdiffusion_binder_design\",\n",
      "                \"reason\": \"After modifying the protein structure, we need to design a binder for the modified sequence. This tool is suitable for this task, and we will ensure the correct 'contigs' argument is provided.\"\n",
      "            },\n",
      "        \"step_3\": {\n",
      "                \"tool\": \"diffab_design\",\n",
      "                \"reason\": \"Finally, we need to design an antibody that targets the binder. This tool is capable of designing antibodies based on a given antigen.\"\n",
      "            },\n",
      "        \"step_4\": {\n",
      "                \"tool\": \"chat\",\n",
      "                \"reason\": \"After completing the above steps, we can provide the user with the final results and answer any further questions they might have.\"\n",
      "            }\n",
      "    }\n",
      "}\n",
      "<ToolExecutor>\n",
      "{\n",
      "    \"sender\": \"tool_executor\",\n",
      "    \"content\": {\n",
      "        \"current_step\": \"step_1\",\n",
      "        \"tool_name\": \"rfdiffusion_partial_diffusion\",\n",
      "        \"analysis\": \"Based on the analysis in the plan, we need to use the rfdiffusion_partial_diffusion tool to design a novel amino acid sequence that maintains the structure of example_1.pdb except for segment A:50. From the previous step, we have the required arguments 'contigs' and 'protein_structure'.\",\n",
      "        \"tool_arg\": {\n",
      "            \"contigs\": \"A:50\",\n",
      "            \"protein_structure\": \"example_1.pdb\"\n",
      "        }\n",
      "    }\n",
      "}\n",
      " \"Running log: \\nRunning log: \\nSuccessfully finished the tool call\\n\\nResults: \\n{'design': 'rfdiffusion/20250402_1536/design_0.pdb'}\\n\\nResults: \\n{'design': 'rfdiffusion/20250402_1536/design_0.pdb'}\"\n",
      "    }\n",
      "}  \"status\": \"success\"\n",
      "    }\n",
      "}\n",
      "<ToolExecutor>\n",
      "{\n",
      "    \"sender\": \"tool_executor\",\n",
      "    \"content\": {\n",
      "        \"current_step\": \"step_2\",\n",
      "        \"tool_name\": \"rfdiffusion_binder_design\",\n",
      "        \"analysis\": \"Based on the analysis in the plan, we need to use the rfdiffusion_binder_design tool to create a binder for the modified sequence obtained from step 1. The required arguments are 'contigs' and 'protein_structure'. From the previous step, we have the modified protein structure 'rfdiffusion/20250402_1536/design_0.pdb'. We also have the 'contigs' argument from the user request, which is 'A:50'.\",\n",
      "        \"tool_arg\": {\n",
      "            \"contigs\": \"A:50\",\n",
      "            \"protein_structure\": \"rfdiffusion/20250402_1536/design_0.pdb\"\n",
      "        }\n",
      "    }\n",
      "}\n",
      " \"Running log: \\nFile rfdiffusion/20250402_1536/design_0.pdb does not exist.\\n\\nResults: \\n{'error': 'File rfdiffusion/20250402_1536/design_0.pdb does not exist.'}\"\n",
      "    }\n",
      "}  \"status\": \"error\"\n",
      "    }\n",
      "}\n",
      "<ToolExecutor>\n",
      "{\n",
      "    \"sender\": \"tool_executor\",\n",
      "    \"content\": {\n",
      "        \"current_step\": \"step_2\",\n",
      "        \"tool_name\": \"rfdiffusion_binder_design\",\n",
      "        \"analysis\": \"Based on the analysis in the plan, we need to use the rfdiffusion_binder_design tool to create a binder for the modified sequence obtained from step 1. The required arguments are 'contigs' and 'protein_structure'. From the previous step, we have the modified protein structure 'rfdiffusion/20250402_1536/design_0.pdb'. We also have the 'contigs' argument from the user request, which is 'A:50'. However, the file 'rfdiffusion/20250402_1536/design_0.pdb' does not exist, as indicated by the previous execution error.\",\n",
      "        \"error\": \"File rfdiffusion/20250402_1536/design_0.pdb does not exist.\"\n",
      "    }\n",
      "}\n",
      "\n",
      "<Responder>\n",
      "{\n",
      "    \"sender\": \"responder\",\n",
      "    \"content\": \"The novel amino acid sequence has been designed to maintain the structure of example_1.pdb except for segment A:50. However, there was an error in creating the binder for the modified sequence. The file 'rfdiffusion/20250402_1536/design_0.pdb' does not exist, which is required for the binder design. We will need to address this issue before proceeding to the next step.\"\n",
      "}\n",
      "</Responder>"
     ]
    }
   ],
   "source": [
    "query = \"\"\"\\\n",
    "Please design a novel amino acid sequence that maintains the structure of example_1.pdb except for segment A:50, then create a binder for this modified sequence, and finally, design an antibody that targets the binder.\n",
    "\"\"\"\n",
    "\n",
    "message_pool = []\n",
    "task_complete = False\n",
    "# Maximum number of turns for plan generation\n",
    "max_plan_turn = 2\n",
    "# Maximum number of turns for each step\n",
    "max_step_turn = 2 \n",
    "\n",
    "for _ in range(max_plan_turn):\n",
    "    # Assume the task is complete. If any step is not complete, set it to False later.\n",
    "    task_complete = True\n",
    "    \n",
    "    lm = new_planner.stream_chat(query, message_pool)\n",
    "    st = 0\n",
    "    for response in lm:\n",
    "        if response.status == AGENT_STATUS.GENERATING:\n",
    "            content = response.content\n",
    "            print(content[st:], end=\"\")\n",
    "            st = len(content)\n",
    "    \n",
    "    plan = json.loads(response.content)\n",
    "    message_pool.append(plan)\n",
    "    print()\n",
    "    \n",
    "    # Plan evaluation\n",
    "    # lm = plan_evaluator.stream_chat(plan)\n",
    "    # st = 0\n",
    "    # for response in lm:\n",
    "    #     if response.status == AGENT_STATUS.GENERATING:\n",
    "    #         content = response.content\n",
    "    #         print(content[st:], end=\"\")\n",
    "    #         st = len(content)\n",
    "    # \n",
    "    # break\n",
    "    \n",
    "    # Execute the plan\n",
    "    for i in range(len(plan[\"content\"]) - 2):\n",
    "        # task_complete is False means the execution fa\n",
    "        if not task_complete:\n",
    "            break\n",
    "        \n",
    "        task_id = f\"step_{i + 1}\"\n",
    "        # Break the loop when the next tool is a chat tool\n",
    "        if plan[\"content\"][task_id][\"tool\"] == \"chat\":\n",
    "            break\n",
    "        \n",
    "        # Extract arguments and execute the tool\n",
    "        for _ in range(max_step_turn):\n",
    "            lm = tool_executor.stream_chat(plan[\"content\"], task_id, message_pool)\n",
    "            st = 0\n",
    "            for response in lm:\n",
    "                if response.status == AGENT_STATUS.GENERATING:\n",
    "                    content = response.content\n",
    "                    print(content[st:], end=\"\")\n",
    "                    st = len(content)\n",
    "            \n",
    "            exec_dict = json.loads(response.content)\n",
    "            message_pool.append(exec_dict)\n",
    "            print()\n",
    "            \n",
    "            if \"error\" in exec_dict[\"content\"]:\n",
    "                # When error occurs during the argument extraction process, the plan is not valid\n",
    "                step_complete = False\n",
    "                break\n",
    "            \n",
    "            # Tool execution\n",
    "            elif exec_dict[\"content\"][\"status\"] == \"success\":\n",
    "                step_complete = True\n",
    "                break\n",
    "            \n",
    "            else:\n",
    "                # Execution failed. Continue to the next turn\n",
    "                step_complete = False\n",
    "        \n",
    "        # Go back and revise the plan\n",
    "        if not step_complete:\n",
    "            task_complete = False\n",
    "            break\n",
    "    \n",
    "    # Break the loop when the task is complete\n",
    "    if task_complete:\n",
    "        break\n",
    "\n",
    "print()\n",
    "lm = responder.stream_chat(query, message_pool)\n",
    "st = 0\n",
    "for response in lm:\n",
    "    if response.status == AGENT_STATUS.GENERATING:\n",
    "        content = response.content\n",
    "        print(content[st:], end=\"\")\n",
    "        st = len(content)\n",
    "\n",
    "final_response = json.loads(response.content)\n",
    "message_pool.append(final_response)\n",
    "\n",
    "# raise \n",
    "# feedback = json.loads(response.content)\n",
    "# \n",
    "# lm = new_planner.stream_chat(query, plan, feedback)\n",
    "# st = 0\n",
    "# for response in lm:\n",
    "#     if response.status == AGENT_STATUS.GENERATING:\n",
    "#         content = response.content\n",
    "#         print(content[st:], end=\"\")\n",
    "#         st = len(content)"
   ]
  },
  {
   "cell_type": "markdown",
   "id": "b76554e264077bd2",
   "metadata": {
    "collapsed": false
   },
   "source": [
    "# Multi-agent backbone"
   ]
  },
  {
   "cell_type": "code",
   "execution_count": 22,
   "id": "418f455352c379b4",
   "metadata": {
    "ExecuteTime": {
     "end_time": "2025-06-13T07:43:59.023279300Z",
     "start_time": "2025-06-13T07:43:58.926116400Z"
    },
    "collapsed": false
   },
   "outputs": [],
   "source": [
    "from agent.agent.sujin_multi_agent_backbone import MultiAgentBackbone\n",
    "\n",
    "\n",
    "backbone = MultiAgentBackbone(model_name=\"qwen-turbo\", tool_manager=tool_manager)"
   ]
  },
  {
   "cell_type": "code",
   "execution_count": 54,
   "id": "8e2e15dc31ba76ba",
   "metadata": {
    "collapsed": false
   },
   "outputs": [
    {
     "name": "stdout",
     "output_type": "stream",
     "text": [
      "{\n",
      "    \"sender\": \"planner\",\n",
      "    \"content\": {\n",
      "        \"user_request\": \"scaffold the residues index 10-30 of pdb id 1xiw chain A. Also give me the aa sequence and 3D structure of this scaffold.\",\n",
      "        \"analysis\": \"The user wants to scaffold residues 10-30 of chain A from the PDB ID 1xiw. They also require the amino acid sequence and 3D structure of the scaffold. Since the PDB ID is provided, we can directly fetch the structure and sequence from the PDB database.\",\n",
      "        \"step_1\": {\n",
      "            \"tool\": \"get_pdb\",\n",
      "            \"reason\": \"Fetch the PDB file for the given PDB ID 1xiw.\"\n",
      "        },\n",
      "        \"step_2\": {\n",
      "            \"tool\": \"pdb2aaseq\",\n",
      "            \"reason\": \"Extract the amino acid sequence from the fetched PDB file.\"\n",
      "        },\n",
      "        \"step_3\": {\n",
      "            \"tool\": \"rfdiffusion_motif_scaffolding\",\n",
      "            \"reason\": \"Use the RFDiffusion Motif Scaffolding tool to scaffold the residues 10-30 of chain A from the PDB structure.\"\n",
      "        },\n",
      "        \"step_4\": {\n",
      "            \"tool\": \"chat\",\n",
      "            \"reason\": \"Provide the user with the amino acid sequence and 3D structure of the scaffold.\"\n",
      "        }\n",
      "    }\n",
      "}\n",
      "{\n",
      "    \"sender\": \"plan_optimizer\",\n",
      "    \"parsed_inputs\": {\n",
      "        \"RFDIFFUSION_CONTIGS\": [\n",
      "            \"A10-30\"\n",
      "        ],\n",
      "        \"PDB_ID\": [\n",
      "            \"1xiw\"\n",
      "        ]\n",
      "    },\n",
      "    \"content\": {\n",
      "        \"user_request\": \"scaffold the residues index 10-30 of pdb id 1xiw chain A. Also give me the aa sequence and 3D structure of this scaffold.\",\n",
      "        \"analysis\": \"The user wants to scaffold residues 10-30 of chain A from the PDB ID 1xiw. They also require the amino acid sequence and 3D structure of the scaffold. Since the PDB ID is provided, we can directly fetch the structure and sequence from the PDB database.\",\n",
      "        \"step_1\": {\n",
      "            \"tool\": \"get_pdb\",\n",
      "            \"reason\": \"Fetch the PDB file for the given PDB ID 1xiw.\"\n",
      "        },\n",
      "        \"step_2\": {\n",
      "            \"tool\": \"pdb2aaseq\",\n",
      "            \"reason\": \"Extract the amino acid sequence from the fetched PDB file.\"\n",
      "        },\n",
      "        \"step_3\": {\n",
      "            \"tool\": \"rfdiffusion\",\n",
      "            \"reason\": \"To obtain the missing input type {'BACKBONE_STRUCTURE_PATH'} for the tool rfdiffusion_motif_scaffolding\"\n",
      "        },\n",
      "        \"step_4\": {\n",
      "            \"tool\": \"rfdiffusion_motif_scaffolding\",\n",
      "            \"reason\": \"Use the RFDiffusion Motif Scaffolding tool to scaffold the residues 10-30 of chain A from the PDB structure.\"\n",
      "        },\n",
      "        \"step_5\": {\n",
      "            \"tool\": \"chat\",\n",
      "            \"reason\": \"Provide the user with the amino acid sequence and 3D structure of the scaffold.\"\n",
      "        }\n",
      "    }\n",
      "}\n",
      "{\n",
      "    \"sender\": \"tool_executor\",\n",
      "    \"content\": {\n",
      "        \"current_step\": \"step_1\",\n",
      "        \"tool_name\": \"get_pdb\",\n",
      "        \"analysis\": \"The required parameter 'pdb_id' is provided in the user request as '1xiw'.\",\n",
      "        \"tool_arg\": {\n",
      "            \"pdb_id\": \"1xiw\"\n",
      "        },\n",
      "        \"running_log\": \"Running log: \\nDownload starting at: 2025-06-13 08:18:56\\nSuccessfully downloaded PDB file: 1xiw\\nFile saved at: 1xiw.cif\\nDownload completed at: 2025-06-13 08:18:57\\nTotal time taken: 1.423874\\n\\n\\nResults: \\n{'pdb_file': '1xiw.cif', 'duration': '1.423874\\\\n'}\",\n",
      "        \"results\": {\n",
      "            \"pdb_file\": \"1xiw.cif\",\n",
      "            \"duration\": \"1.423874\\n\"\n",
      "        },\n",
      "        \"status\": \"success\"\n",
      "    }\n",
      "}\n",
      "{\n",
      "    \"sender\": \"tool_executor\",\n",
      "    \"content\": {\n",
      "        \"current_step\": \"step_2\",\n",
      "        \"tool_name\": \"pdb2aaseq\",\n",
      "        \"analysis\": \"The required parameter 'pdb_file' is provided in the previous response as '1xiw.cif'.\",\n",
      "        \"tool_arg\": {\n",
      "            \"pdb_file\": \"1xiw.cif\"\n",
      "        },\n",
      "        \"running_log\": \"Running log: \\nExtracted 8 chains from the PDB file.\\n\\nChain ID: A\\nAmino Acid Sequence:\\nGLNTHRPROTYRLYSVALSERILESERGLYTHRTHRVALILELEUTHRCYSPROGLNTYRPROGLYSERGLUILELEUTRPGLNHISASNASPLYSASNILEGLYGLYASPGLUASPASPLYSASNILEGLYSERASPGLUASPHISLEUSERLEULYSGLUPHESERGLULEUGLUGLNSERGLYTYRTYRVALCYSTYRPROARGGLYSERLYSPROGLUASPALAASNPHETYRLEUTYRLEUARGALAARGVALCYSGLUASNCYSMET\\n\\n\\nChain ID: B\\nAmino Acid Sequence:\\nMETLYSILEPROILEGLUGLULEUGLUASPARGVALPHEVALASNCYSASNTHRSERILETHRTRPVALGLUGLYTHRVALGLYTHRLEULEUSERASPILETHRARGLEUASPLEUGLYLYSARGILELEUASPPROARGGLYILETYRARGCYSASNGLUSERTHRVALGLNVALHISTYRARGMETCYSGLNSER\\n\\n\\nChain ID: C\\nAmino Acid Sequence:\\nMETASPILEGLNMETTHRGLNTHRTHRSERSERLEUSERALASERLEUGLYASPARGVALTHRILESERCYSARGALASERGLNASPILEARGASNTYRLEUASNTRPTYRGLNGLNLYSPROASPGLYTHRVALLYSLEULEUILETYRTYRTHRSERARGLEUHISSERGLYVALPROSERLYSPHESERGLYSERGLYSERGLYTHRASPTYRSERLEUTHRILESERASNLEUGLUGLNGLUASPILEALATHRTYRPHECYSGLNGLNGLYASNTHRLEUPROTRPTHRPHEALAGLYGLYTHRLYSLEUGLUILE\\n\\n\\nChain ID: D\\nAmino Acid Sequence:\\nGLUVALGLNLEUGLNGLNSERGLYPROGLULEUVALLYSPROGLYALASERMETLYSILESERCYSLYSALASERGLYTYRSERPHETHRGLYTYRTHRMETASNTRPVALLYSGLNSERHISGLYLYSASNLEUGLUTRPMETGLYLEUILEASNPROTYRLYSGLYVALSERTHRTYRASNGLNLYSPHELYSASPLYSALATHRLEUTHRVALASPLYSSERSERSERTHRALATYRMETGLULEULEUSERLEUTHRSERGLUASPSERALAVALTYRTYRCYSALAARGSERGLYTYRTYRGLYASPSERASPTRPTYRPHEASPVALTRPGLYGLNGLYTHRTHRLEUTHRVALPHESER\\n\\n\\nChain ID: E\\nAmino Acid Sequence:\\nGLNTHRPROTYRLYSVALSERILESERGLYTHRTHRVALILELEUTHRCYSPROGLNTYRPROGLYSERGLUILELEUTRPGLNHISASNASPLYSASNILEGLYGLYASPGLUASPASPLYSASNILEGLYSERASPGLUASPHISLEUSERLEULYSGLUPHESERGLULEUGLUGLNSERGLYTYRTYRVALCYSTYRPROARGGLYSERLYSPROGLUASPALAASNPHETYRLEUTYRLEUARGALAARGVALCYS\\n\\n\\nChain ID: F\\nAmino Acid Sequence:\\nLYSILEPROILEGLUGLULEUGLUASPARGVALPHEVALASNCYSASNTHRSERILETHRTRPVALGLUGLYTHRVALGLYTHRLEULEUSERASPILETHRARGLEUASPLEUGLYLYSARGILELEUASPPROARGGLYILETYRARGCYSASNGLUSERTHRVALGLNVALHISTYRARGMETCYS\\n\\n\\nChain ID: G\\nAmino Acid Sequence:\\nMETASPILEGLNMETTHRGLNTHRTHRSERSERLEUSERALASERLEUGLYASPARGVALTHRILESERCYSARGALASERGLNASPILEARGASNTYRLEUASNTRPTYRGLNGLNLYSPROASPGLYTHRVALLYSLEULEUILETYRTYRTHRSERARGLEUHISSERGLYVALPROSERLYSPHESERGLYSERGLYSERGLYTHRASPTYRSERLEUTHRILESERASNLEUGLUGLNGLUASPILEALATHRTYRPHECYSGLNGLNGLYASNTHRLEUPROTRPTHRPHEALAGLYGLYTHRLYSLEUGLUILE\\n\\n\\nChain ID: H\\nAmino Acid Sequence:\\nGLUVALGLNLEUGLNGLNSERGLYPROGLULEUVALLYSPROGLYALASERMETLYSILESERCYSLYSALASERGLYTYRSERPHETHRGLYTYRTHRMETASNTRPVALLYSGLNSERHISGLYLYSASNLEUGLUTRPMETGLYLEUILEASNPROTYRLYSGLYVALSERTHRTYRASNGLNLYSPHELYSASPLYSALATHRLEUTHRVALASPLYSSERSERSERTHRALATYRMETGLULEULEUSERLEUTHRSERGLUASPSERALAVALTYRTYRCYSALAARGSERGLYTYRTYRGLYASPSERASPTRPTYRPHEASPVALTRPGLYGLNGLYTHRTHRLEUTHRVALPHESER\\n\\n\\n\\nResults: \\n{'chains': [{'id': 'A', 'seq': 'GLNTHRPROTYRLYSVALSERILESERGLYTHRTHRVALILELEUTHRCYSPROGLNTYRPROGLYSERGLUILELEUTRPGLNHISASNASPLYSASNILEGLYGLYASPGLUASPASPLYSASNILEGLYSERASPGLUASPHISLEUSERLEULYSGLUPHESERGLULEUGLUGLNSERGLYTYRTYRVALCYSTYRPROARGGLYSERLYSPROGLUASPALAASNPHETYRLEUTYRLEUARGALAARGVALCYSGLUASNCYSMET'}, {'id': 'B', 'seq': 'GLNTHRPROTYRLYSVALSERILESERGLYTHRTHRVALILELEUTHRCYSPROGLNTYRPROGLYSERGLUILELEUTRPGLNHISASNASPLYSASNILEGLYGLYASPGLUASPASPLYSASNILEGLYSERASPGLUASPHISLEUSERLEULYSGLUPHESERGLULEUGLUGLNSERGLYTYRTYRVALCYSTYRPROARGGLYSERLYSPROGLUASPALAASNPHETYRLEUTYRLEUARGALAARGVALCYSGLUASNCYSMET'}, {'id': 'C', 'seq': 'GLNTHRPROTYRLYSVALSERILESERGLYTHRTHRVALILELEUTHRCYSPROGLNTYRPROGLYSERGLUILELEUTRPGLNHISASNASPLYSASNILEGLYGLYASPGLUASPASPLYSASNILEGLYSERASPGLUASPHISLEUSERLEULYSGLUPHESERGLULEUGLUGLNSERGLYTYRTYRVALCYSTYRPROARGGLYSERLYSPROGLUASPALAASNPHETYRLEUTYRLEUARGALAARGVALCYSGLUASNCYSMET'}, {'id': 'D', 'seq': 'GLNTHRPROTYRLYSVALSERILESERGLYTHRTHRVALILELEUTHRCYSPROGLNTYRPROGLYSERGLUILELEUTRPGLNHISASNASPLYSASNILEGLYGLYASPGLUASPASPLYSASNILEGLYSERASPGLUASPHISLEUSERLEULYSGLUPHESERGLULEUGLUGLNSERGLYTYRTYRVALCYSTYRPROARGGLYSERLYSPROGLUASPALAASNPHETYRLEUTYRLEUARGALAARGVALCYSGLUASNCYSMET'}, {'id': 'E', 'seq': 'GLNTHRPROTYRLYSVALSERILESERGLYTHRTHRVALILELEUTHRCYSPROGLNTYRPROGLYSERGLUILELEUTRPGLNHISASNASPLYSASNILEGLYGLYASPGLUASPASPLYSASNILEGLYSERASPGLUASPHISLEUSERLEULYSGLUPHESERGLULEUGLUGLNSERGLYTYRTYRVALCYSTYRPROARGGLYSERLYSPROGLUASPALAASNPHETYRLEUTYRLEUARGALAARGVALCYSGLUASNCYSMET'}, {'id': 'F', 'seq': 'GLNTHRPROTYRLYSVALSERILESERGLYTHRTHRVALILELEUTHRCYSPROGLNTYRPROGLYSERGLUILELEUTRPGLNHISASNASPLYSASNILEGLYGLYASPGLUASPASPLYSASNILEGLYSERASPGLUASPHISLEUSERLEULYSGLUPHESERGLULEUGLUGLNSERGLYTYRTYRVALCYSTYRPROARGGLYSERLYSPROGLUASPALAASNPHETYRLEUTYRLEUARGALAARGVALCYSGLUASNCYSMET'}, {'id': 'G', 'seq': 'GLNTHRPROTYRLYSVALSERILESERGLYTHRTHRVALILELEUTHRCYSPROGLNTYRPROGLYSERGLUILELEUTRPGLNHISASNASPLYSASNILEGLYGLYASPGLUASPASPLYSASNILEGLYSERASPGLUASPHISLEUSERLEULYSGLUPHESERGLULEUGLUGLNSERGLYTYRTYRVALCYSTYRPROARGGLYSERLYSPROGLUASPALAASNPHETYRLEUTYRLEUARGALAARGVALCYSGLUASNCYSMET'}, {'id': 'H', 'seq': 'GLNTHRPROTYRLYSVALSERILESERGLYTHRTHRVALILELEUTHRCYSPROGLNTYRPROGLYSERGLUILELEUTRPGLNHISASNASPLYSASNILEGLYGLYASPGLUASPASPLYSASNILEGLYSERASPGLUASPHISLEUSERLEULYSGLUPHESERGLULEUGLUGLNSERGLYTYRTYRVALCYSTYRPROARGGLYSERLYSPROGLUASPALAASNPHETYRLEUTYRLEUARGALAARGVALCYSGLUASNCYSMET'}], 'count': 8}\",\n",
      "        \"results\": {\n",
      "            \"chains\": [\n",
      "                {\n",
      "                    \"id\": \"A\",\n",
      "                    \"seq\": \"GLNTHRPROTYRLYSVALSERILESERGLYTHRTHRVALILELEUTHRCYSPROGLNTYRPROGLYSERGLUILELEUTRPGLNHISASNASPLYSASNILEGLYGLYASPGLUASPASPLYSASNILEGLYSERASPGLUASPHISLEUSERLEULYSGLUPHESERGLULEUGLUGLNSERGLYTYRTYRVALCYSTYRPROARGGLYSERLYSPROGLUASPALAASNPHETYRLEUTYRLEUARGALAARGVALCYSGLUASNCYSMET\"\n",
      "                },\n",
      "                {\n",
      "                    \"id\": \"B\",\n",
      "                    \"seq\": \"GLNTHRPROTYRLYSVALSERILESERGLYTHRTHRVALILELEUTHRCYSPROGLNTYRPROGLYSERGLUILELEUTRPGLNHISASNASPLYSASNILEGLYGLYASPGLUASPASPLYSASNILEGLYSERASPGLUASPHISLEUSERLEULYSGLUPHESERGLULEUGLUGLNSERGLYTYRTYRVALCYSTYRPROARGGLYSERLYSPROGLUASPALAASNPHETYRLEUTYRLEUARGALAARGVALCYSGLUASNCYSMET\"\n",
      "                },\n",
      "                {\n",
      "                    \"id\": \"C\",\n",
      "                    \"seq\": \"GLNTHRPROTYRLYSVALSERILESERGLYTHRTHRVALILELEUTHRCYSPROGLNTYRPROGLYSERGLUILELEUTRPGLNHISASNASPLYSASNILEGLYGLYASPGLUASPASPLYSASNILEGLYSERASPGLUASPHISLEUSERLEULYSGLUPHESERGLULEUGLUGLNSERGLYTYRTYRVALCYSTYRPROARGGLYSERLYSPROGLUASPALAASNPHETYRLEUTYRLEUARGALAARGVALCYSGLUASNCYSMET\"\n",
      "                },\n",
      "                {\n",
      "                    \"id\": \"D\",\n",
      "                    \"seq\": \"GLNTHRPROTYRLYSVALSERILESERGLYTHRTHRVALILELEUTHRCYSPROGLNTYRPROGLYSERGLUILELEUTRPGLNHISASNASPLYSASNILEGLYGLYASPGLUASPASPLYSASNILEGLYSERASPGLUASPHISLEUSERLEULYSGLUPHESERGLULEUGLUGLNSERGLYTYRTYRVALCYSTYRPROARGGLYSERLYSPROGLUASPALAASNPHETYRLEUTYRLEUARGALAARGVALCYSGLUASNCYSMET\"\n",
      "                },\n",
      "                {\n",
      "                    \"id\": \"E\",\n",
      "                    \"seq\": \"GLNTHRPROTYRLYSVALSERILESERGLYTHRTHRVALILELEUTHRCYSPROGLNTYRPROGLYSERGLUILELEUTRPGLNHISASNASPLYSASNILEGLYGLYASPGLUASPASPLYSASNILEGLYSERASPGLUASPHISLEUSERLEULYSGLUPHESERGLULEUGLUGLNSERGLYTYRTYRVALCYSTYRPROARGGLYSERLYSPROGLUASPALAASNPHETYRLEUTYRLEUARGALAARGVALCYSGLUASNCYSMET\"\n",
      "                },\n",
      "                {\n",
      "                    \"id\": \"F\",\n",
      "                    \"seq\": \"GLNTHRPROTYRLYSVALSERILESERGLYTHRTHRVALILELEUTHRCYSPROGLNTYRPROGLYSERGLUILELEUTRPGLNHISASNASPLYSASNILEGLYGLYASPGLUASPASPLYSASNILEGLYSERASPGLUASPHISLEUSERLEULYSGLUPHESERGLULEUGLUGLNSERGLYTYRTYRVALCYSTYRPROARGGLYSERLYSPROGLUASPALAASNPHETYRLEUTYRLEUARGALAARGVALCYSGLUASNCYSMET\"\n",
      "                },\n",
      "                {\n",
      "                    \"id\": \"G\",\n",
      "                    \"seq\": \"GLNTHRPROTYRLYSVALSERILESERGLYTHRTHRVALILELEUTHRCYSPROGLNTYRPROGLYSERGLUILELEUTRPGLNHISASNASPLYSASNILEGLYGLYASPGLUASPASPLYSASNILEGLYSERASPGLUASPHISLEUSERLEULYSGLUPHESERGLULEUGLUGLNSERGLYTYRTYRVALCYSTYRPROARGGLYSERLYSPROGLUASPALAASNPHETYRLEUTYRLEUARGALAARGVALCYSGLUASNCYSMET\"\n",
      "                },\n",
      "                {\n",
      "                    \"id\": \"H\",\n",
      "                    \"seq\": \"GLNTHRPROTYRLYSVALSERILESERGLYTHRTHRVALILELEUTHRCYSPROGLNTYRPROGLYSERGLUILELEUTRPGLNHISASNASPLYSASNILEGLYGLYASPGLUASPASPLYSASNILEGLYSERASPGLUASPHISLEUSERLEULYSGLUPHESERGLULEUGLUGLNSERGLYTYRTYRVALCYSTYRPROARGGLYSERLYSPROGLUASPALAASNPHETYRLEUTYRLEUARGALAARGVALCYSGLUASNCYSMET\"\n",
      "                }\n",
      "            ],\n",
      "            \"count\": 8\n",
      "        },\n",
      "        \"status\": \"success\"\n",
      "    }\n",
      "}\n",
      "{\n",
      "    \"sender\": \"tool_executor\",\n",
      "    \"content\": {\n",
      "        \"current_step\": \"step_3\",\n",
      "        \"tool_name\": \"rfdiffusion\",\n",
      "        \"analysis\": \"The required parameter 'contigs' is provided in the parsed inputs as 'A10-30'.\",\n",
      "        \"tool_arg\": {\n",
      "            \"contigs\": \"A10-30\"\n",
      "        },\n",
      "        \"running_log\": \"Running log: \\nSuccessfully finished the tool call\\n\\n\\nResults: \\n{'design': 'rf_design.pdb'}\",\n",
      "        \"results\": {\n",
      "            \"design\": \"rf_design.pdb\"\n",
      "        },\n",
      "        \"status\": \"success\"\n",
      "    }\n",
      "}\n",
      "{\n",
      "    \"sender\": \"tool_executor\",\n",
      "    \"content\": {\n",
      "        \"current_step\": \"step_4\",\n",
      "        \"tool_name\": \"rfdiffusion_motif_scaffolding\",\n",
      "        \"analysis\": \"The required parameter 'contigs' is provided in the parsed inputs as 'A10-30'. The required parameter 'protein_structure' is provided in the previous response as 'rf_design.pdb'.\",\n",
      "        \"tool_arg\": {\n",
      "            \"contigs\": \"A10-30\",\n",
      "            \"protein_structure\": \"rf_design.pdb\"\n",
      "        },\n",
      "        \"running_log\": \"Running log: \\nSuccessfully finished the tool call\\n\\n\\nResults: \\n{'design': 'rf_design.pdb'}\",\n",
      "        \"results\": {\n",
      "            \"design\": \"rf_design.pdb\"\n",
      "        },\n",
      "        \"status\": \"success\"\n",
      "    }\n",
      "}\n",
      "{\n",
      "    \"sender\": \"responder\",\n",
      "    \"content\": \"The scaffolded residues 10-30 of chain A from PDB ID 1xiw have been successfully generated. The amino acid sequence for this scaffold is: GLNTHRPROTYRLYSVALSERILESERGLYTHRTHRVALILELEUTHRCYSPROGLNTYRPROGLYSERGLUILELEUTRPGLNHISASNASPLYSASNILEGLYGLYASPGLUASPASPLYSASNILEGLYSERASPGLUASPHISLEUSERLEULYSGLUPHESERGLULEUGLUGLNSERGLYTYRTYRVALCYSTYRPROARGGLYSERLYSPROGLUASPALAASNPHETYRLEUTYRLEUARGALAARGVALCYSGLUASNCYSMET. The 3D structure of the scaffold is available in the file 'rf_design.pdb'.\",\n",
      "    \"task_complete\": true\n",
      "}\n",
      "{\n",
      "    \"sender\": \"summarizer\",\n",
      "    \"content\": {\n",
      "        \"step_1\": {\n",
      "            \"tool_name\": \"get_pdb\",\n",
      "            \"tool_arg\": {\n",
      "                \"pdb_id\": \"1xiw\"\n",
      "            },\n",
      "            \"results\": {\n",
      "                \"pdb_file\": \"1xiw.cif\",\n",
      "                \"duration\": \"1.423874\\n\"\n",
      "            }\n",
      "        },\n",
      "        \"step_2\": {\n",
      "            \"tool_name\": \"pdb2aaseq\",\n",
      "            \"tool_arg\": {\n",
      "                \"pdb_file\": \"1xiw.cif\"\n",
      "            },\n",
      "            \"results\": {\n",
      "                \"chains\": [\n",
      "                    {\n",
      "                        \"id\": \"A\",\n",
      "                        \"seq\": \"GLNTHRPROTYRLYSVALSERILESERGLYTHRTHRVALILELEUTHRCYSPROGLNTYRPROGLYSERGLUILELEUTRPGLNHISASNASPLYSASNILEGLYGLYASPGLUASPASPLYSASNILEGLYSERASPGLUASPHISLEUSERLEULYSGLUPHESERGLULEUGLUGLNSERGLYTYRTYRVALCYSTYRPROARGGLYSERLYSPROGLUASPALAASNPHETYRLEUTYRLEUARGALAARGVALCYSGLUASNCYSMET\"\n",
      "                    },\n",
      "                    {\n",
      "                        \"id\": \"B\",\n",
      "                        \"seq\": \"GLNTHRPROTYRLYSVALSERILESERGLYTHRTHRVALILELEUTHRCYSPROGLNTYRPROGLYSERGLUILELEUTRPGLNHISASNASPLYSASNILEGLYGLYASPGLUASPASPLYSASNILEGLYSERASPGLUASPHISLEUSERLEULYSGLUPHESERGLULEUGLUGLNSERGLYTYRTYRVALCYSTYRPROARGGLYSERLYSPROGLUASPALAASNPHETYRLEUTYRLEUARGALAARGVALCYSGLUASNCYSMET\"\n",
      "                    },\n",
      "                    {\n",
      "                        \"id\": \"C\",\n",
      "                        \"seq\": \"GLNTHRPROTYRLYSVALSERILESERGLYTHRTHRVALILELEUTHRCYSPROGLNTYRPROGLYSERGLUILELEUTRPGLNHISASNASPLYSASNILEGLYGLYASPGLUASPASPLYSASNILEGLYSERASPGLUASPHISLEUSERLEULYSGLUPHESERGLULEUGLUGLNSERGLYTYRTYRVALCYSTYRPROARGGLYSERLYSPROGLUASPALAASNPHETYRLEUTYRLEUARGALAARGVALCYSGLUASNCYSMET\"\n",
      "                    },\n",
      "                    {\n",
      "                        \"id\": \"D\",\n",
      "                        \"seq\": \"GLNTHRPROTYRLYSVALSERILESERGLYTHRTHRVALILELEUTHRCYSPROGLNTYRPROGLYSERGLUILELEUTRPGLNHISASNASPLYSASNILEGLYGLYASPGLUASPASPLYSASNILEGLYSERASPGLUASPHISLEUSERLEULYSGLUPHESERGLULEUGLUGLNSERGLYTYRTYRVALCYSTYRPROARGGLYSERLYSPROGLUASPALAASNPHETYRLEUTYRLEUARGALAARGVALCYSGLUASNCYSMET\"\n",
      "                    },\n",
      "                    {\n",
      "                        \"id\": \"E\",\n",
      "                        \"seq\": \"GLNTHRPROTYRLYSVALSERILESERGLYTHRTHRVALILELEUTHRCYSPROGLNTYRPROGLYSERGLUILELEUTRPGLNHISASNASPLYSASNILEGLYGLYASPGLUASPASPLYSASNILEGLYSERASPGLUASPHISLEUSERLEULYSGLUPHESERGLULEUGLUGLNSERGLYTYRTYRVALCYSTYRPROARGGLYSERLYSPROGLUASPALAASNPHETYRLEUTYRLEUARGALAARGVALCYSGLUASNCYSMET\"\n",
      "                    },\n",
      "                    {\n",
      "                        \"id\": \"F\",\n",
      "                        \"seq\": \"GLNTHRPROTYRLYSVALSERILESERGLYTHRTHRVALILELEUTHRCYSPROGLNTYRPROGLYSERGLUILELEUTRPGLNHISASNASPLYSASNILEGLYGLYASPGLUASPASPLYSASNILEGLYSERASPGLUASPHISLEUSERLEULYSGLUPHESERGLULEUGLUGLNSERGLYTYRTYRVALCYSTYRPROARGGLYSERLYSPROGLUASPALAASNPHETYRLEUTYRLEUARGALAARGVALCYSGLUASNCYSMET\"\n",
      "                    },\n",
      "                    {\n",
      "                        \"id\": \"G\",\n",
      "                        \"seq\": \"GLNTHRPROTYRLYSVALSERILESERGLYTHRTHRVALILELEUTHRCYSPROGLNTYRPROGLYSERGLUILELEUTRPGLNHISASNASPLYSASNILEGLYGLYASPGLUASPASPLYSASNILEGLYSERASPGLUASPHISLEUSERLEULYSGLUPHESERGLULEUGLUGLNSERGLYTYRTYRVALCYSTYRPROARGGLYSERLYSPROGLUASPALAASNPHETYRLEUTYRLEUARGALAARGVALCYSGLUASNCYSMET\"\n",
      "                    },\n",
      "                    {\n",
      "                        \"id\": \"H\",\n",
      "                        \"seq\": \"GLNTHRPROTYRLYSVALSERILESERGLYTHRTHRVALILELEUTHRCYSPROGLNTYRPROGLYSERGLUILELEUTRPGLNHISASNASPLYSASNILEGLYGLYASPGLUASPASPLYSASNILEGLYSERASPGLUASPHISLEUSERLEULYSGLUPHESERGLULEUGLUGLNSERGLYTYRTYRVALCYSTYRPROARGGLYSERLYSPROGLUASPALAASNPHETYRLEUTYRLEUARGALAARGVALCYSGLUASNCYSMET\"\n",
      "                    }\n",
      "                ],\n",
      "                \"count\": 8\n",
      "            }\n",
      "        },\n",
      "        \"step_3\": {\n",
      "            \"tool_name\": \"rfdiffusion\",\n",
      "            \"tool_arg\": {\n",
      "                \"contigs\": \"A10-30\"\n",
      "            },\n",
      "            \"results\": {\n",
      "                \"design\": \"rf_design.pdb\"\n",
      "            }\n",
      "        },\n",
      "        \"step_4\": {\n",
      "            \"tool_name\": \"rfdiffusion_motif_scaffolding\",\n",
      "            \"tool_arg\": {\n",
      "                \"contigs\": \"A10-30\",\n",
      "                \"protein_structure\": \"rf_design.pdb\"\n",
      "            },\n",
      "            \"results\": {\n",
      "                \"design\": \"rf_design.pdb\"\n",
      "            }\n",
      "        }\n",
      "    }\n",
      "}\n",
      "{\n",
      "    \"sender\": \"namer\",\n",
      "    \"content\": \"Scaffold Residues 10-30 of PDB 1xiw Chain A with AA Sequence and 3D Structure\"\n",
      "}\n"
     ]
    }
   ],
   "source": [
    "tool_manager.set_out_dir(\"/sujin/PycharmProjects/ProtAgent/output/sujin\")\n",
    "# request = \"\"\"\\\n",
    "# I have a sequence, predict its structure for me\n",
    "# \"\"\"\n",
    "\n",
    "request = \"scaffold the residues index 10-30 of pdb id 1xiw chain A. Also give me the aa sequence and 3D structure of this scaffold.\"\n",
    "\n",
    "for response in backbone.stream_chat(request):\n",
    "    from IPython import display\n",
    "    display.clear_output(wait=True)\n",
    "    \n",
    "    for msg in json.loads(response.content):\n",
    "        if isinstance(msg, str):\n",
    "            print(msg)\n",
    "        \n",
    "        else:\n",
    "            print(json.dumps(msg, indent=4))"
   ]
  },
  {
   "cell_type": "code",
   "execution_count": 329,
   "id": "155d2d4929630426",
   "metadata": {
    "ExecuteTime": {
     "end_time": "2025-04-21T07:31:31.830305800Z",
     "start_time": "2025-04-21T07:31:31.745935600Z"
    },
    "collapsed": false
   },
   "outputs": [
    {
     "ename": "JSONDecodeError",
     "evalue": "Extra data: line 16 column 1 (char 1203)",
     "output_type": "error",
     "traceback": [
      "\u001b[0;31m---------------------------------------------------------------------------\u001b[0m",
      "\u001b[0;31mJSONDecodeError\u001b[0m                           Traceback (most recent call last)",
      "Cell \u001b[0;32mIn[329], line 19\u001b[0m\n\u001b[1;32m      1\u001b[0m s \u001b[38;5;241m=\u001b[39m \u001b[38;5;124m\"\"\"\u001b[39m\u001b[38;5;130;01m\\\u001b[39;00m\n\u001b[1;32m      2\u001b[0m \u001b[38;5;124m{\u001b[39m\n\u001b[1;32m      3\u001b[0m \u001b[38;5;124m    \u001b[39m\u001b[38;5;124m\"\u001b[39m\u001b[38;5;124msender\u001b[39m\u001b[38;5;124m\"\u001b[39m\u001b[38;5;124m: \u001b[39m\u001b[38;5;124m\"\u001b[39m\u001b[38;5;124mplanner\u001b[39m\u001b[38;5;124m\"\u001b[39m\u001b[38;5;124m,\u001b[39m\n\u001b[0;32m   (...)\u001b[0m\n\u001b[1;32m     17\u001b[0m \u001b[38;5;124m}\u001b[39m\n\u001b[1;32m     18\u001b[0m \u001b[38;5;124m\"\"\"\u001b[39m\n\u001b[0;32m---> 19\u001b[0m \u001b[43mjson\u001b[49m\u001b[38;5;241;43m.\u001b[39;49m\u001b[43mloads\u001b[49m\u001b[43m(\u001b[49m\u001b[43ms\u001b[49m\u001b[43m)\u001b[49m\n",
      "File \u001b[0;32m/home/public/miniconda3/envs/protagent_backbone/lib/python3.10/json/__init__.py:346\u001b[0m, in \u001b[0;36mloads\u001b[0;34m(s, cls, object_hook, parse_float, parse_int, parse_constant, object_pairs_hook, **kw)\u001b[0m\n\u001b[1;32m    341\u001b[0m     s \u001b[38;5;241m=\u001b[39m s\u001b[38;5;241m.\u001b[39mdecode(detect_encoding(s), \u001b[38;5;124m'\u001b[39m\u001b[38;5;124msurrogatepass\u001b[39m\u001b[38;5;124m'\u001b[39m)\n\u001b[1;32m    343\u001b[0m \u001b[38;5;28;01mif\u001b[39;00m (\u001b[38;5;28mcls\u001b[39m \u001b[38;5;129;01mis\u001b[39;00m \u001b[38;5;28;01mNone\u001b[39;00m \u001b[38;5;129;01mand\u001b[39;00m object_hook \u001b[38;5;129;01mis\u001b[39;00m \u001b[38;5;28;01mNone\u001b[39;00m \u001b[38;5;129;01mand\u001b[39;00m\n\u001b[1;32m    344\u001b[0m         parse_int \u001b[38;5;129;01mis\u001b[39;00m \u001b[38;5;28;01mNone\u001b[39;00m \u001b[38;5;129;01mand\u001b[39;00m parse_float \u001b[38;5;129;01mis\u001b[39;00m \u001b[38;5;28;01mNone\u001b[39;00m \u001b[38;5;129;01mand\u001b[39;00m\n\u001b[1;32m    345\u001b[0m         parse_constant \u001b[38;5;129;01mis\u001b[39;00m \u001b[38;5;28;01mNone\u001b[39;00m \u001b[38;5;129;01mand\u001b[39;00m object_pairs_hook \u001b[38;5;129;01mis\u001b[39;00m \u001b[38;5;28;01mNone\u001b[39;00m \u001b[38;5;129;01mand\u001b[39;00m \u001b[38;5;129;01mnot\u001b[39;00m kw):\n\u001b[0;32m--> 346\u001b[0m     \u001b[38;5;28;01mreturn\u001b[39;00m \u001b[43m_default_decoder\u001b[49m\u001b[38;5;241;43m.\u001b[39;49m\u001b[43mdecode\u001b[49m\u001b[43m(\u001b[49m\u001b[43ms\u001b[49m\u001b[43m)\u001b[49m\n\u001b[1;32m    347\u001b[0m \u001b[38;5;28;01mif\u001b[39;00m \u001b[38;5;28mcls\u001b[39m \u001b[38;5;129;01mis\u001b[39;00m \u001b[38;5;28;01mNone\u001b[39;00m:\n\u001b[1;32m    348\u001b[0m     \u001b[38;5;28mcls\u001b[39m \u001b[38;5;241m=\u001b[39m JSONDecoder\n",
      "File \u001b[0;32m/home/public/miniconda3/envs/protagent_backbone/lib/python3.10/json/decoder.py:340\u001b[0m, in \u001b[0;36mJSONDecoder.decode\u001b[0;34m(self, s, _w)\u001b[0m\n\u001b[1;32m    338\u001b[0m end \u001b[38;5;241m=\u001b[39m _w(s, end)\u001b[38;5;241m.\u001b[39mend()\n\u001b[1;32m    339\u001b[0m \u001b[38;5;28;01mif\u001b[39;00m end \u001b[38;5;241m!=\u001b[39m \u001b[38;5;28mlen\u001b[39m(s):\n\u001b[0;32m--> 340\u001b[0m     \u001b[38;5;28;01mraise\u001b[39;00m JSONDecodeError(\u001b[38;5;124m\"\u001b[39m\u001b[38;5;124mExtra data\u001b[39m\u001b[38;5;124m\"\u001b[39m, s, end)\n\u001b[1;32m    341\u001b[0m \u001b[38;5;28;01mreturn\u001b[39;00m obj\n",
      "\u001b[0;31mJSONDecodeError\u001b[0m: Extra data: line 16 column 1 (char 1203)"
     ]
    }
   ],
   "source": [
    "s = \"\"\"\\\n",
    "{\n",
    "    \"sender\": \"planner\",\n",
    "    \"content\": {\n",
    "        \"user_request\": \"Based on the given protein sequence MSATAEQNARNPKGKGGFARTVSQRKRKRLFLIGGALAVLAVAVGLMLTAFNQDIRFFRTPADLTEQDMTSGARFRLGGLVEEGSVSRTGSELRFTVTDTIKTVKVVFEGIPPDLFREGQGVVAEGRFGSDGLFRADNVLAKHDENYVPKDLADSLKKKGVWEGK, design a novel protein sequence that has similar characteristics but with improved stability.\",\n",
    "        \"analysis\": \"The user wants to design a novel protein sequence based on the given sequence. The goal is to improve the stability of the protein. The user has provided the protein sequence, so we can use it directly. We need to use a protein design tool to generate the novel sequence with improved stability.\",\n",
    "        \"step_1\": {\n",
    "                \"tool\": \"proteinmpnn\",\n",
    "                \"reason\": \"proteinmpnn is a tool that aims to design proteins with specific structures and functions. It can alter or design amino acid sequences to obtain novel proteins with desired properties, such as improved stability.\"\n",
    "            },\n",
    "        \"step_2\": {\n",
    "                \"tool\": \"chat\",\n",
    "                \"reason\": \"After designing the novel protein sequence, we need to communicate the result to the user.\"\n",
    "            }\n",
    "        }\n",
    "    }\n",
    "}\n",
    "\"\"\"\n",
    "json.loads(s)"
   ]
  },
  {
   "cell_type": "code",
   "execution_count": 1209,
   "id": "fd48f487fd2c74c8",
   "metadata": {
    "ExecuteTime": {
     "end_time": "2025-04-16T07:54:05.126830400Z",
     "start_time": "2025-04-16T07:54:05.068761400Z"
    },
    "collapsed": false
   },
   "outputs": [],
   "source": [
    "log_path = \"/sujin/temp/log.txt\"\n",
    "with open(log_path, \"w\") as w:\n",
    "    for msg_dict in message_pool:\n",
    "        w.write(json.dumps(msg_dict, indent=4) + \"\\n\")"
   ]
  },
  {
   "cell_type": "code",
   "execution_count": 977,
   "id": "a74f4cfad2762896",
   "metadata": {
    "ExecuteTime": {
     "end_time": "2025-04-15T03:50:22.288155300Z",
     "start_time": "2025-04-15T03:50:21.829932300Z"
    },
    "collapsed": false
   },
   "outputs": [
    {
     "name": "stdout",
     "output_type": "stream",
     "text": [
      "Running log: \n",
      "Warning! Cannot parse file: /home/public/ProtAgent/examples/asddsa.pdb. Chain number 0.\n",
      "Total CPU time is  0.00 seconds\n",
      "\n",
      "\n",
      "Results: \n",
      "{'error': 'max() arg is an empty sequence'}"
     ]
    }
   ],
   "source": [
    "arg_dict = {\n",
    "    \"current_step\": \"step_1\",\n",
    "    \"tool_name\": \"tmalign\",\n",
    "    \"analysis\": \"The context mentions that the user wants to calculate the TM-score between 'asa.pdb' and 'b.pdb'. These are the two protein structures that need to be aligned using the TMAlign tool. Therefore, the required arguments for the tool are the paths to these PDB files.\",\n",
    "    \"tool_arg\": {\n",
    "        \"structure_path_1\": \"asddsa.pdb\",\n",
    "        \"structure_path_2\": \"b.pdb\"\n",
    "    }\n",
    "}\n",
    "tool_name = arg_dict[\"tool_name\"]\n",
    "tool_arg = arg_dict[\"tool_arg\"]\n",
    "lm = tool_executor.stream_chat(tool_name, tool_arg)\n",
    "st = 0\n",
    "for response in lm:\n",
    "    content = response.content\n",
    "    print(content[st:], end=\"\")\n",
    "    st = len(content)"
   ]
  },
  {
   "cell_type": "code",
   "execution_count": 971,
   "id": "5e4f91bf1d0b5fc3",
   "metadata": {
    "ExecuteTime": {
     "end_time": "2025-04-15T03:49:18.307094100Z",
     "start_time": "2025-04-15T03:49:18.212553100Z"
    },
    "collapsed": false
   },
   "outputs": [
    {
     "name": "stdout",
     "output_type": "stream",
     "text": [
      "{'error': 'max() arg is an empty sequence', 'tmscore': 1.0, 'duration': 0.044183}\n"
     ]
    }
   ],
   "source": [
    "tool = tool_manager.get_tool(\"tmalign\")\n",
    "res = tool.run(\n",
    "    structure_path_1=\"example_1.pdb\",\n",
    "    structure_path_2=\"example_2.pdb\"\n",
    ")\n",
    "print(res)"
   ]
  },
  {
   "cell_type": "markdown",
   "id": "a2307a938ec15845",
   "metadata": {
    "collapsed": false
   },
   "source": [
    "# Response evaluator"
   ]
  },
  {
   "cell_type": "code",
   "execution_count": 4,
   "id": "93cd86f52750750b",
   "metadata": {
    "ExecuteTime": {
     "end_time": "2025-06-13T07:30:00.660850700Z",
     "start_time": "2025-06-13T07:30:00.574942300Z"
    },
    "collapsed": false
   },
   "outputs": [],
   "source": [
    "from agent.agent.sujin_multi_agent_api.evaluator import ResponseEvaluatorAPI\n",
    "from agent.utils.constants import AGENT_STATUS, AgentResponse\n",
    "\n",
    "response_evaluator = ResponseEvaluatorAPI(model_name=\"qwen-turbo\")"
   ]
  },
  {
   "cell_type": "code",
   "execution_count": 5,
   "id": "c63304c40fd47267",
   "metadata": {
    "ExecuteTime": {
     "end_time": "2025-06-13T07:30:08.017784100Z",
     "start_time": "2025-06-13T07:30:02.814527400Z"
    },
    "collapsed": false
   },
   "outputs": [
    {
     "name": "stdout",
     "output_type": "stream",
     "text": [
      "<Evaluator>\n",
      "{\n",
      "    \"sender\": \"evaluator\",\n",
      "    \"content\": {\n",
      "        \"analysis\": \"The user's request involves several specific tasks related to the protein with UniProt ID P05067: finding its Pfam entries, converting a text description to structural information, fetching its 3D structure from UniProt, and aligning it with the structure in 'example_2.pdb' to compute the TM-score. The response provides the Pfam entries for the protein, mentions that structural information was generated via Protrek, states that the actual 3D structure was fetched from UniProt, and reports a TM-score of 0.33552 after alignment with 'example_2.pdb'. This output directly addresses each part of the user's request and provides the requested information in a clear manner. Therefore, the response meets the user's expectations.\",\n",
      "        \"decision\": \"Yes\"\n",
      "    }\n",
      "}\n",
      "</Evaluator>"
     ]
    }
   ],
   "source": [
    "query = \"\"\"\\\n",
    "Using the protein with UniProt ID P05067, I want to first find its Pfam entry, then convert a text description of the protein to structural information, fetch its actual 3D structure from UniProt, and finally align this structure with the one in the file 'example_2.pdb' to obtain the TM-score. Could you perform these steps for me?\n",
    "\"\"\"\n",
    "response = \"The protein with UniProt ID P05067 has the following Pfam entries: Kunitz/Bovine pancreatic trypsin inhibitor domain (PF00014), Amyloid A4 N-terminal heparin-binding (PF02177), Beta-amyloid peptide (beta-APP) (PF03494), Beta-amyloid precursor protein C-terminus (PF10515), Copper-binding of amyloid precursor, CuBD (PF12924), and E2 domain of amyloid precursor protein (PF12925). Using its amino acid sequence, we generated structural information via Protrek. The actual 3D structure was fetched from UniProt and aligned with the structure in 'example_2.pdb' using TM-align, resulting in a TM-score of 0.33552.\"\n",
    "\n",
    "lm = response_evaluator.stream_chat(query, response)\n",
    "st = 0\n",
    "for response in lm:\n",
    "    content = response.content\n",
    "    print(content[st:], end=\"\")\n",
    "    st = len(content)"
   ]
  },
  {
   "cell_type": "markdown",
   "id": "6974c7f56140bf47",
   "metadata": {
    "collapsed": false
   },
   "source": [
    "# Chat namer"
   ]
  },
  {
   "cell_type": "code",
   "execution_count": 7,
   "id": "f94bc3eed4163bd8",
   "metadata": {
    "ExecuteTime": {
     "end_time": "2025-05-28T06:36:50.778695800Z",
     "start_time": "2025-05-28T06:36:50.724309400Z"
    },
    "collapsed": false
   },
   "outputs": [],
   "source": [
    "from agent.agent.sujin_multi_agent_api.chat_namer import ChatNamerAPI\n",
    "from agent.utils.constants import AGENT_STATUS, AgentResponse\n",
    "\n",
    "chat_namer = ChatNamerAPI(model_name=\"glm-4-flash\")"
   ]
  },
  {
   "cell_type": "code",
   "execution_count": 9,
   "id": "8226375026ae84a0",
   "metadata": {
    "ExecuteTime": {
     "end_time": "2025-05-28T06:37:07.977010Z",
     "start_time": "2025-05-28T06:37:02.144680900Z"
    },
    "collapsed": false
   },
   "outputs": [
    {
     "name": "stdout",
     "output_type": "stream",
     "text": [
      "Retrying...\n"
     ]
    },
    {
     "ename": "KeyboardInterrupt",
     "evalue": "",
     "output_type": "error",
     "traceback": [
      "\u001b[0;31m---------------------------------------------------------------------------\u001b[0m",
      "\u001b[0;31mKeyboardInterrupt\u001b[0m                         Traceback (most recent call last)",
      "Cell \u001b[0;32mIn[9], line 10\u001b[0m\n\u001b[1;32m      8\u001b[0m lm \u001b[38;5;241m=\u001b[39m chat_namer\u001b[38;5;241m.\u001b[39mstream_chat(query, response)\n\u001b[1;32m      9\u001b[0m st \u001b[38;5;241m=\u001b[39m \u001b[38;5;241m0\u001b[39m\n\u001b[0;32m---> 10\u001b[0m \u001b[38;5;28;01mfor\u001b[39;00m response \u001b[38;5;129;01min\u001b[39;00m lm:\n\u001b[1;32m     11\u001b[0m     content \u001b[38;5;241m=\u001b[39m response\u001b[38;5;241m.\u001b[39mcontent\n\u001b[1;32m     12\u001b[0m     \u001b[38;5;28mprint\u001b[39m(content[st:], end\u001b[38;5;241m=\u001b[39m\u001b[38;5;124m\"\u001b[39m\u001b[38;5;124m\"\u001b[39m)\n",
      "File \u001b[0;32m~/PycharmProjects/ProtAgent/agent/agent/sujin_multi_agent_api/chat_namer.py:55\u001b[0m, in \u001b[0;36mChatNamerAPI.stream_chat\u001b[0;34m(self, user_request, response)\u001b[0m\n\u001b[1;32m     52\u001b[0m system_prompt \u001b[38;5;241m=\u001b[39m system_prompt\u001b[38;5;241m.\u001b[39mreplace(\u001b[38;5;124m\"\u001b[39m\u001b[38;5;124mPUT_RESPONSE_HERE\u001b[39m\u001b[38;5;124m\"\u001b[39m, response)\n\u001b[1;32m     53\u001b[0m input_messages \u001b[38;5;241m=\u001b[39m [{\u001b[38;5;124m\"\u001b[39m\u001b[38;5;124mrole\u001b[39m\u001b[38;5;124m\"\u001b[39m: \u001b[38;5;124m\"\u001b[39m\u001b[38;5;124muser\u001b[39m\u001b[38;5;124m\"\u001b[39m, \u001b[38;5;124m\"\u001b[39m\u001b[38;5;124mcontent\u001b[39m\u001b[38;5;124m\"\u001b[39m: system_prompt}]\n\u001b[0;32m---> 55\u001b[0m response \u001b[38;5;241m=\u001b[39m \u001b[38;5;28;43mself\u001b[39;49m\u001b[38;5;241;43m.\u001b[39;49m\u001b[43mclient\u001b[49m\u001b[38;5;241;43m.\u001b[39;49m\u001b[43mcall_openai\u001b[49m\u001b[43m(\u001b[49m\n\u001b[1;32m     56\u001b[0m \u001b[43m    \u001b[49m\u001b[43mmessages\u001b[49m\u001b[38;5;241;43m=\u001b[39;49m\u001b[43minput_messages\u001b[49m\u001b[43m,\u001b[49m\n\u001b[1;32m     57\u001b[0m \u001b[43m    \u001b[49m\u001b[43mstream\u001b[49m\u001b[38;5;241;43m=\u001b[39;49m\u001b[38;5;28;43;01mTrue\u001b[39;49;00m\u001b[43m,\u001b[49m\n\u001b[1;32m     58\u001b[0m \u001b[43m    \u001b[49m\u001b[43mtemperature\u001b[49m\u001b[38;5;241;43m=\u001b[39;49m\u001b[38;5;241;43m0.001\u001b[39;49m\u001b[43m,\u001b[49m\n\u001b[1;32m     59\u001b[0m \u001b[43m\u001b[49m\u001b[43m)\u001b[49m\n\u001b[1;32m     61\u001b[0m complete \u001b[38;5;241m=\u001b[39m \u001b[38;5;124m\"\u001b[39m\u001b[38;5;124m\"\u001b[39m\n\u001b[1;32m     62\u001b[0m \u001b[38;5;28;01mfor\u001b[39;00m chunk \u001b[38;5;129;01min\u001b[39;00m response:\n",
      "File \u001b[0;32m/home/public/miniconda3/envs/protagent_backbone/lib/python3.10/site-packages/tenacity/__init__.py:336\u001b[0m, in \u001b[0;36mBaseRetrying.wraps.<locals>.wrapped_f\u001b[0;34m(*args, **kw)\u001b[0m\n\u001b[1;32m    334\u001b[0m copy \u001b[38;5;241m=\u001b[39m \u001b[38;5;28mself\u001b[39m\u001b[38;5;241m.\u001b[39mcopy()\n\u001b[1;32m    335\u001b[0m wrapped_f\u001b[38;5;241m.\u001b[39mstatistics \u001b[38;5;241m=\u001b[39m copy\u001b[38;5;241m.\u001b[39mstatistics  \u001b[38;5;66;03m# type: ignore[attr-defined]\u001b[39;00m\n\u001b[0;32m--> 336\u001b[0m \u001b[38;5;28;01mreturn\u001b[39;00m \u001b[43mcopy\u001b[49m\u001b[43m(\u001b[49m\u001b[43mf\u001b[49m\u001b[43m,\u001b[49m\u001b[43m \u001b[49m\u001b[38;5;241;43m*\u001b[39;49m\u001b[43margs\u001b[49m\u001b[43m,\u001b[49m\u001b[43m \u001b[49m\u001b[38;5;241;43m*\u001b[39;49m\u001b[38;5;241;43m*\u001b[39;49m\u001b[43mkw\u001b[49m\u001b[43m)\u001b[49m\n",
      "File \u001b[0;32m/home/public/miniconda3/envs/protagent_backbone/lib/python3.10/site-packages/tenacity/__init__.py:485\u001b[0m, in \u001b[0;36mRetrying.__call__\u001b[0;34m(self, fn, *args, **kwargs)\u001b[0m\n\u001b[1;32m    483\u001b[0m \u001b[38;5;28;01melif\u001b[39;00m \u001b[38;5;28misinstance\u001b[39m(do, DoSleep):\n\u001b[1;32m    484\u001b[0m     retry_state\u001b[38;5;241m.\u001b[39mprepare_for_next_attempt()\n\u001b[0;32m--> 485\u001b[0m     \u001b[38;5;28;43mself\u001b[39;49m\u001b[38;5;241;43m.\u001b[39;49m\u001b[43msleep\u001b[49m\u001b[43m(\u001b[49m\u001b[43mdo\u001b[49m\u001b[43m)\u001b[49m\n\u001b[1;32m    486\u001b[0m \u001b[38;5;28;01melse\u001b[39;00m:\n\u001b[1;32m    487\u001b[0m     \u001b[38;5;28;01mreturn\u001b[39;00m do\n",
      "File \u001b[0;32m/home/public/miniconda3/envs/protagent_backbone/lib/python3.10/site-packages/tenacity/nap.py:31\u001b[0m, in \u001b[0;36msleep\u001b[0;34m(seconds)\u001b[0m\n\u001b[1;32m     25\u001b[0m \u001b[38;5;28;01mdef\u001b[39;00m\u001b[38;5;250m \u001b[39m\u001b[38;5;21msleep\u001b[39m(seconds: \u001b[38;5;28mfloat\u001b[39m) \u001b[38;5;241m-\u001b[39m\u001b[38;5;241m>\u001b[39m \u001b[38;5;28;01mNone\u001b[39;00m:\n\u001b[1;32m     26\u001b[0m \u001b[38;5;250m    \u001b[39m\u001b[38;5;124;03m\"\"\"\u001b[39;00m\n\u001b[1;32m     27\u001b[0m \u001b[38;5;124;03m    Sleep strategy that delays execution for a given number of seconds.\u001b[39;00m\n\u001b[1;32m     28\u001b[0m \n\u001b[1;32m     29\u001b[0m \u001b[38;5;124;03m    This is the default strategy, and may be mocked out for unit testing.\u001b[39;00m\n\u001b[1;32m     30\u001b[0m \u001b[38;5;124;03m    \"\"\"\u001b[39;00m\n\u001b[0;32m---> 31\u001b[0m     \u001b[43mtime\u001b[49m\u001b[38;5;241;43m.\u001b[39;49m\u001b[43msleep\u001b[49m\u001b[43m(\u001b[49m\u001b[43mseconds\u001b[49m\u001b[43m)\u001b[49m\n",
      "\u001b[0;31mKeyboardInterrupt\u001b[0m: "
     ]
    }
   ],
   "source": [
    "query = \"\"\"\\\n",
    "I have uploaded the following files:\\n\\\"example_1.pdb\\\"\\n\\\"esmfold_predicted_structure.pdb\\\"\\ncompute tmscore\n",
    "\"\"\"\n",
    "response = \"\"\"\\\n",
    "I'm sorry, but I couldn't find specific information about 'ltenjoy'. It might be a less common term or a typo. If you can provide more context, I might be able to help further.\n",
    "\"\"\"\n",
    "\n",
    "lm = chat_namer.stream_chat(query, response)\n",
    "st = 0\n",
    "for response in lm:\n",
    "    content = response.content\n",
    "    print(content[st:], end=\"\")\n",
    "    st = len(content)"
   ]
  },
  {
   "cell_type": "code",
   "execution_count": 49,
   "id": "a7be9dcc91b4a3e4",
   "metadata": {
    "ExecuteTime": {
     "end_time": "2025-05-21T08:05:12.563543900Z",
     "start_time": "2025-05-21T08:05:12.518037900Z"
    },
    "collapsed": false
   },
   "outputs": [
    {
     "name": "stdout",
     "output_type": "stream",
     "text": [
      "{\n",
      "    \"sender\": \"planner\",\n",
      "    \"content\": {\n",
      "        \"user_request\": \"predict the structure of AAAAAAAAAAAAAAAAAAAAAAA\",\n",
      "        \"analysis\": \"The user wants to predict the structure of the given protein sequence. There is no previous chat history provided. The sequence is short and lacks evolutionary information, so tools like AlphaFold2 or ESMFold would be suitable for predicting the structure.\",\n",
      "        \"step_1\": {\n",
      "            \"tool\": \"esmfold\",\n",
      "            \"reason\": \"ESMFold is suitable for predicting the structure of proteins without homologous sequence information, which is ideal for this short sequence.\"\n",
      "        },\n",
      "        \"step_2\": {\n",
      "            \"tool\": \"chat\",\n",
      "            \"reason\": \"After obtaining the predicted structure, inform the user about the result.\"\n",
      "        }\n",
      "    }\n",
      "}\n",
      "{\n",
      "    \"sender\": \"plan_optimizer\",\n",
      "    \"content\": {\n",
      "        \"user_request\": \"predict the structure of AAAAAAAAAAAAAAAAAAAAAAA\",\n",
      "        \"analysis\": \"The user wants to predict the structure of the given protein sequence. There is no previous chat history provided. The sequence is short and lacks evolutionary information, so tools like AlphaFold2 or ESMFold would be suitable for predicting the structure.\",\n",
      "        \"step_1\": {\n",
      "            \"tool\": \"esmfold\",\n",
      "            \"reason\": \"ESMFold is suitable for predicting the structure of proteins without homologous sequence information, which is ideal for this short sequence.\"\n",
      "        },\n",
      "        \"step_2\": {\n",
      "            \"tool\": \"chat\",\n",
      "            \"reason\": \"After obtaining the predicted structure, inform the user about the result.\"\n",
      "        }\n",
      "    }\n",
      "}\n",
      "{\n",
      "    \"sender\": \"tool_executor\",\n",
      "    \"content\": {\n",
      "        \"current_step\": \"step_1\",\n",
      "        \"tool_name\": \"esmfold\",\n",
      "        \"analysis\": \"Based on the user request and the analysis provided, the required argument 'protein_sequence' can be extracted directly from the user request.\",\n",
      "        \"tool_arg\": {\n",
      "            \"protein_sequence\": \"AAAAAAAAAAAAAAAAAAAAAAAA\"\n",
      "        },\n",
      "        \"running_log\": \"Running log: \\nTraceback (most recent call last):\\n  File \\\"/root/PycharmProjects/ProtAgent/agent/tools/esmfold/command.py\\\", line 95, in <module>\\n    main()\\n  File \\\"/root/PycharmProjects/ProtAgent/agent/tools/esmfold/command.py\\\", line 64, in main\\n    tokenizer, model = load_model(args.model_path, args.device)\\n  File \\\"/root/PycharmProjects/ProtAgent/agent/tools/esmfold/command.py\\\", line 15, in load_model\\n    model = EsmForProteinFolding.from_pretrained(model_path, device_map=device)\\n  File \\\"/home/public/miniconda3/envs/protagent_backbone/lib/python3.10/site-packages/transformers/modeling_utils.py\\\", line 3903, in from_pretrained\\n    ) = cls._load_pretrained_model(\\n  File \\\"/home/public/miniconda3/envs/protagent_backbone/lib/python3.10/site-packages/transformers/modeling_utils.py\\\", line 4377, in _load_pretrained_model\\n    new_error_msgs, offload_index, state_dict_index = _load_state_dict_into_meta_model(\\n  File \\\"/home/public/miniconda3/envs/protagent_backbone/lib/python3.10/site-packages/transformers/modeling_utils.py\\\", line 933, in _load_state_dict_into_meta_model\\n    set_module_tensor_to_device(model, param_name, param_device, **set_module_kwargs)\\n  File \\\"/home/public/miniconda3/envs/protagent_backbone/lib/python3.10/site-packages/accelerate/utils/modeling.py\\\", line 330, in set_module_tensor_to_device\\n    new_value = value.to(device)\\ntorch.OutOfMemoryError: CUDA out of memory. Tried to allocate 26.00 MiB. GPU 1 has a total capacity of 31.74 GiB of which 13.12 MiB is free. Process 2594894 has 13.74 GiB memory in use. Process 2612459 has 13.76 GiB memory in use. Process 3469874 has 4.22 GiB memory in use. Of the allocated memory 3.92 GiB is allocated by PyTorch, and 1.98 MiB is reserved by PyTorch but unallocated. If reserved but unallocated memory is large try setting PYTORCH_CUDA_ALLOC_CONF=expandable_segments:True to avoid fragmentation.  See documentation for Memory Management  (https://pytorch.org/docs/stable/notes/cuda.html#environment-variables)\\n\\n\\nResults: \\n{'error': 'Failed to run esmfold'}\",\n",
      "        \"results\": {\n",
      "            \"error\": \"Failed to run esmfold\"\n",
      "        },\n",
      "        \"status\": \"error\"\n",
      "    }\n",
      "}\n",
      "{\n",
      "    \"sender\": \"tool_executor\",\n",
      "    \"content\": {\n",
      "        \"current_step\": \"step_1\",\n",
      "        \"tool_name\": \"esmfold\",\n",
      "        \"analysis\": \"Based on the user request and the analysis provided, the required argument 'protein_sequence' can be extracted directly from the user request. However, the previous execution of the tool failed due to a CUDA out-of-memory error. This suggests that the sequence may be too long for the available GPU memory when using ESMFold. To address this, we will attempt to split the sequence into smaller chunks and run the tool again.\",\n",
      "        \"error\": \"CUDA out-of-memory error due to long sequence\"\n",
      "    }\n",
      "}\n",
      "{\n",
      "    \"sender\": \"planner\",\n",
      "    \"content\": {\n",
      "        \"user_request\": \"predict the structure of AAAAAAAAAAAAAAAAAAAAAAA\",\n",
      "        \"analysis\": \"The user wants to predict the structure of the given protein sequence. Previous attempts with ESMFold failed due to a CUDA out-of-memory error caused by the long sequence. As an alternative, we will attempt to use AlphaFold2, which is capable of handling longer sequences.\",\n",
      "        \"step_1\": {\n",
      "            \"tool\": \"alphafold2\",\n",
      "            \"reason\": \"AlphaFold2 is suitable for predicting the structure of proteins with longer sequences that may exceed the memory limits of ESMFold.\"\n",
      "        },\n",
      "        \"step_2\": {\n",
      "            \"tool\": \"chat\",\n",
      "            \"reason\": \"After obtaining the predicted structure, inform the user about the result.\"\n",
      "        }\n",
      "    }\n",
      "}\n",
      "{\n",
      "    \"sender\": \"plan_optimizer\",\n",
      "    \"content\": {\n",
      "        \"user_request\": \"predict the structure of AAAAAAAAAAAAAAAAAAAAAAA\",\n",
      "        \"analysis\": \"The user wants to predict the structure of the given protein sequence. Previous attempts with ESMFold failed due to a CUDA out-of-memory error caused by the long sequence. As an alternative, we will attempt to use AlphaFold2, which is capable of handling longer sequences.\",\n",
      "        \"step_1\": {\n",
      "            \"tool\": \"alphafold2\",\n",
      "            \"reason\": \"AlphaFold2 is suitable for predicting the structure of proteins with longer sequences that may exceed the memory limits of ESMFold.\"\n",
      "        },\n",
      "        \"step_2\": {\n",
      "            \"tool\": \"chat\",\n",
      "            \"reason\": \"After obtaining the predicted structure, inform the user about the result.\"\n",
      "        }\n",
      "    }\n",
      "}\n",
      "{\n",
      "    \"sender\": \"tool_executor\",\n",
      "    \"content\": {\n",
      "        \"current_step\": \"step_1\",\n",
      "        \"tool_name\": \"alphafold2\",\n",
      "        \"analysis\": \"Based on the user request and the analysis provided, the required argument 'protein_sequence' can be extracted directly from the user request. Additionally, since the sequence is long and lacks evolutionary information, we will use the default 'msa_mode' setting to create the MSA.\",\n",
      "        \"tool_arg\": {\n",
      "            \"protein_sequence\": \"AAAAAAAAAAAAAAAAAAAAAAAA\",\n",
      "            \"msa_mode\": \"mmseqs2_uniref_env\"\n",
      "        },\n",
      "        \"running_log\": \"Running log: \\n\\nEnvironmentNameNotFound: Could not find conda environment: base\\nYou can list all discoverable environments with `conda info --envs`.\\n\\n\\n\\nEnvironmentNameNotFound: Could not find conda environment: colabfold\\n\\nYou can list all discoverable environments with `conda info --envs`.\\n\\n\\n/root/PycharmProjects/ProtAgent/agent/tools/alphafold2/cmd.sh: line 5: $'\\\\r': command not found\\n/root/PycharmProjects/ProtAgent/agent/tools/alphafold2/cmd.sh: line 7: syntax error near unexpected token `$'do\\\\r''\\n/root/PycharmProjects/ProtAgent/agent/tools/alphafold2/cmd.sh: line 7: `do\\n'\\n\\n\\nResults: \\n{'error': 'stat: path should be string, bytes, os.PathLike or integer, not NoneType'}\",\n",
      "        \"results\": {\n",
      "            \"error\": \"stat: path should be string, bytes, os.PathLike or integer, not NoneType\"\n",
      "        },\n",
      "        \"status\": \"error\"\n",
      "    }\n",
      "}\n",
      "{\n",
      "    \"sender\": \"tool_executor\",\n",
      "    \"content\": {\n",
      "        \"current_step\": \"step_1\",\n",
      "        \"tool_name\": \"alphafold2\",\n",
      "        \"analysis\": \"Based on the user request and the analysis provided, the required argument 'protein_sequence' can be extracted directly from the user request. Additionally, since the sequence is long and lacks evolutionary information, we will use the default 'msa_mode' setting to create the MSA. However, there was an error in the previous attempt due to issues with the script environment. We need to ensure the correct environment is set up before running the tool again.\",\n",
      "        \"error\": \"Environment setup issue detected\"\n",
      "    }\n",
      "}\n",
      "{\n",
      "    \"sender\": \"planner\",\n",
      "    \"content\": {\n",
      "        \"user_request\": \"predict the structure of AAAAAAAAAAAAAAAAAAAAAAA\",\n",
      "        \"analysis\": \"The user wants to predict the structure of a given protein sequence. Previous attempts with ESMFold failed due to a CUDA out-of-memory error caused by the long sequence. Subsequently, an attempt with AlphaFold2 also failed due to environment setup issues. Given the sequence is long and lacks evolutionary information, we will attempt to use a different approach by splitting the sequence into smaller chunks and running the prediction again.\",\n",
      "        \"step_1\": {\n",
      "            \"tool\": \"seq2fasta\",\n",
      "            \"reason\": \"Convert the protein sequence into FASTA format to facilitate further processing and tool compatibility.\"\n",
      "        },\n",
      "        \"step_2\": {\n",
      "            \"tool\": \"mmseqs_msa\",\n",
      "            \"reason\": \"Generate a multiple sequence alignment (MSA) for the protein sequence to provide evolutionary information which is crucial for AlphaFold2.\"\n",
      "        },\n",
      "        \"step_3\": {\n",
      "            \"tool\": \"alphafold2\",\n",
      "            \"reason\": \"Attempt to predict the structure of the protein using AlphaFold2 with the generated MSA.\"\n",
      "        },\n",
      "        \"step_4\": {\n",
      "            \"tool\": \"chat\",\n",
      "            \"reason\": \"Inform the user about the result of the structure prediction.\"\n",
      "        }\n",
      "    }\n",
      "}\n",
      "{\n",
      "    \"sender\": \"plan_optimizer\",\n",
      "    \"content\": {\n",
      "        \"user_request\": \"predict the structure of AAAAAAAAAAAAAAAAAAAAAAA\",\n",
      "        \"analysis\": \"The user wants to predict the structure of a given protein sequence. Previous attempts with ESMFold failed due to a CUDA out-of-memory error caused by the long sequence. Subsequently, an attempt with AlphaFold2 also failed due to environment setup issues. Given the sequence is long and lacks evolutionary information, we will attempt to use a different approach by splitting the sequence into smaller chunks and running the prediction again.\",\n",
      "        \"step_1\": {\n",
      "            \"tool\": \"seq2fasta\",\n",
      "            \"reason\": \"Convert the protein sequence into FASTA format to facilitate further processing and tool compatibility.\"\n",
      "        },\n",
      "        \"step_2\": {\n",
      "            \"tool\": \"mmseqs_msa\",\n",
      "            \"reason\": \"Generate a multiple sequence alignment (MSA) for the protein sequence to provide evolutionary information which is crucial for AlphaFold2.\"\n",
      "        },\n",
      "        \"step_3\": {\n",
      "            \"tool\": \"alphafold2\",\n",
      "            \"reason\": \"Attempt to predict the structure of the protein using AlphaFold2 with the generated MSA.\"\n",
      "        },\n",
      "        \"step_4\": {\n",
      "            \"tool\": \"chat\",\n",
      "            \"reason\": \"Inform the user about the result of the structure prediction.\"\n",
      "        }\n",
      "    }\n",
      "}\n",
      "{\n",
      "    \"sender\": \"tool_executor\",\n",
      "    \"content\": {\n",
      "        \"error\": \"Object of type AttributeError is not JSON serializable\"\n",
      "    }\n",
      "}\n",
      "{\n",
      "    \"sender\": \"planner\",\n",
      "    \"content\": {\n",
      "        \"user_request\": \"predict the structure of AAAAAAAAAAAAAAAAAAAAAAA\",\n",
      "        \"analysis\": \"The user wants to predict the structure of the given protein sequence. Previous attempts with ESMFold and AlphaFold2 failed due to CUDA out-of-memory issues and environment setup problems respectively. Since the sequence is long and lacks evolutionary information, we will attempt a new approach by splitting the sequence into smaller chunks and generating a multiple sequence alignment (MSA) for each chunk. Then, we will use AlphaFold2 to predict the structure of each chunk separately and combine the results.\",\n",
      "        \"step_1\": {\n",
      "            \"tool\": \"seq2fasta\",\n",
      "            \"reason\": \"Convert the protein sequence into FASTA format to facilitate further processing and tool compatibility.\"\n",
      "        },\n",
      "        \"step_2\": {\n",
      "            \"tool\": \"mmseqs_msa\",\n",
      "            \"reason\": \"Generate a multiple sequence alignment (MSA) for each chunk of the protein sequence to provide evolutionary information which is crucial for AlphaFold2.\"\n",
      "        },\n",
      "        \"step_3\": {\n",
      "            \"tool\": \"alphafold2\",\n",
      "            \"reason\": \"Attempt to predict the structure of each chunk of the protein using AlphaFold2 with the generated MSA.\"\n",
      "        },\n",
      "        \"step_4\": {\n",
      "            \"tool\": \"chat\",\n",
      "            \"reason\": \"Combine the predicted structures of each chunk and inform the user about the final result of the structure prediction.\"\n",
      "        }\n",
      "    }\n",
      "}\n",
      "{\n",
      "    \"sender\": \"plan_optimizer\",\n",
      "    \"content\": {\n",
      "        \"user_request\": \"predict the structure of AAAAAAAAAAAAAAAAAAAAAAA\",\n",
      "        \"analysis\": \"The user wants to predict the structure of the given protein sequence. Previous attempts with ESMFold and AlphaFold2 failed due to CUDA out-of-memory issues and environment setup problems respectively. Since the sequence is long and lacks evolutionary information, we will attempt a new approach by splitting the sequence into smaller chunks and generating a multiple sequence alignment (MSA) for each chunk. Then, we will use AlphaFold2 to predict the structure of each chunk separately and combine the results.\",\n",
      "        \"step_1\": {\n",
      "            \"tool\": \"seq2fasta\",\n",
      "            \"reason\": \"Convert the protein sequence into FASTA format to facilitate further processing and tool compatibility.\"\n",
      "        },\n",
      "        \"step_2\": {\n",
      "            \"tool\": \"mmseqs_msa\",\n",
      "            \"reason\": \"Generate a multiple sequence alignment (MSA) for each chunk of the protein sequence to provide evolutionary information which is crucial for AlphaFold2.\"\n",
      "        },\n",
      "        \"step_3\": {\n",
      "            \"tool\": \"alphafold2\",\n",
      "            \"reason\": \"Attempt to predict the structure of each chunk of the protein using AlphaFold2 with the generated MSA.\"\n",
      "        },\n",
      "        \"step_4\": {\n",
      "            \"tool\": \"chat\",\n",
      "            \"reason\": \"Combine the predicted structures of each chunk and inform the user about the final result of the structure prediction.\"\n",
      "        }\n",
      "    }\n",
      "}\n",
      "{\n",
      "    \"sender\": \"tool_executor\",\n",
      "    \"content\": {\n",
      "        \"error\": \"Object of type AttributeError is not JSON serializable\"\n",
      "    }\n",
      "}\n",
      "{\n",
      "    \"sender\": \"planner\",\n",
      "    \"content\": {\n",
      "        \"user_request\": \"predict the structure of AAAAAAAAAAAAAAAAAAAAAAA\",\n",
      "        \"analysis\": \"The user wants to predict the structure of the given protein sequence. Previous attempts with ESMFold and AlphaFold2 failed due to CUDA out-of-memory issues and environment setup problems respectively. Since the sequence is long and lacks evolutionary information, we will attempt a new approach by splitting the sequence into smaller chunks and generating a multiple sequence alignment (MSA) for each chunk. Then, we will use AlphaFold2 to predict the structure of each chunk separately and combine the results.\",\n",
      "        \"step_1\": {\n",
      "            \"tool\": \"seq2fasta\",\n",
      "            \"reason\": \"Convert the protein sequence into FASTA format to facilitate further processing and tool compatibility.\"\n",
      "        },\n",
      "        \"step_2\": {\n",
      "            \"tool\": \"mmseqs_msa\",\n",
      "            \"reason\": \"Generate a multiple sequence alignment (MSA) for each chunk of the protein sequence to provide evolutionary information which is crucial for AlphaFold2.\"\n",
      "        },\n",
      "        \"step_3\": {\n",
      "            \"tool\": \"alphafold2\",\n",
      "            \"reason\": \"Attempt to predict the structure of each chunk of the protein using AlphaFold2 with the generated MSA.\"\n",
      "        },\n",
      "        \"step_4\": {\n",
      "            \"tool\": \"chat\",\n",
      "            \"reason\": \"Combine the predicted structures of each chunk and inform the user about the final result of the structure prediction.\"\n",
      "        }\n",
      "    }\n",
      "}\n",
      "{\n",
      "    \"sender\": \"plan_optimizer\",\n",
      "    \"content\": {\n",
      "        \"user_request\": \"predict the structure of AAAAAAAAAAAAAAAAAAAAAAA\",\n",
      "        \"analysis\": \"The user wants to predict the structure of the given protein sequence. Previous attempts with ESMFold and AlphaFold2 failed due to CUDA out-of-memory issues and environment setup problems respectively. Since the sequence is long and lacks evolutionary information, we will attempt a new approach by splitting the sequence into smaller chunks and generating a multiple sequence alignment (MSA) for each chunk. Then, we will use AlphaFold2 to predict the structure of each chunk separately and combine the results.\",\n",
      "        \"step_1\": {\n",
      "            \"tool\": \"seq2fasta\",\n",
      "            \"reason\": \"Convert the protein sequence into FASTA format to facilitate further processing and tool compatibility.\"\n",
      "        },\n",
      "        \"step_2\": {\n",
      "            \"tool\": \"mmseqs_msa\",\n",
      "            \"reason\": \"Generate a multiple sequence alignment (MSA) for each chunk of the protein sequence to provide evolutionary information which is crucial for AlphaFold2.\"\n",
      "        },\n",
      "        \"step_3\": {\n",
      "            \"tool\": \"alphafold2\",\n",
      "            \"reason\": \"Attempt to predict the structure of each chunk of the protein using AlphaFold2 with the generated MSA.\"\n",
      "        },\n",
      "        \"step_4\": {\n",
      "            \"tool\": \"chat\",\n",
      "            \"reason\": \"Combine the predicted structures of each chunk and inform the user about the final result of the structure prediction.\"\n",
      "        }\n",
      "    }\n",
      "}\n",
      "{\n",
      "    \"sender\": \"tool_executor\",\n",
      "    \"content\": {\n",
      "        \"error\": \"Object of type AttributeError is not JSON serializable\"\n",
      "    }\n",
      "}\n",
      "{\n",
      "    \"sender\": \"responder\",\n",
      "    \"content\": \"Predicting the structure of the given protein sequence ('AAAAAAAAAAAAAAAAAAAAAAA') has encountered challenges due to its length and lack of evolutionary information. Initial attempts using ESMFold and AlphaFold2 were unsuccessful because of CUDA memory limitations and environment setup issues, respectively. To address this, we plan to split the sequence into smaller chunks, generate multiple sequence alignments (MSAs) for each chunk, and then use AlphaFold2 to predict the structure of each chunk individually. Once all predictions are completed, we will combine them to provide a comprehensive structural prediction for the entire sequence. Please stay tuned for the final results.\",\n",
      "    \"task_complete\": false\n",
      "}\n",
      "{\n",
      "    \"sender\": \"summarizer\",\n",
      "    \"content\": {\n",
      "        \"step_1\": {\n",
      "            \"error\": \"Object of type AttributeError is not JSON serializable\"\n",
      "        }\n",
      "    }\n",
      "}\n",
      "{\n",
      "    \"sender\": \"namer\",\n",
      "    \"content\": \"Structural Prediction of Long Protein Sequence\"\n",
      "}\n"
     ]
    }
   ],
   "source": [
    "json_path = \"/sujin/PycharmProjects/ProtAgent/output/sujin/chat_history/15.json\"\n",
    "with open(json_path, \"r\") as f:\n",
    "    chat_history = json.load(f)\n",
    "\n",
    "message_pool = json.loads(chat_history[\"messages\"][-1][\"content\"])\n",
    "for msg in message_pool:\n",
    "    if isinstance(msg, str):\n",
    "        print(msg)\n",
    "    \n",
    "    else:\n",
    "        print(json.dumps(msg, indent=4))"
   ]
  },
  {
   "cell_type": "code",
   "execution_count": 57,
   "id": "8be47ef70ea0447a",
   "metadata": {
    "ExecuteTime": {
     "end_time": "2025-05-21T08:34:11.026459200Z",
     "start_time": "2025-05-21T08:34:10.973578900Z"
    },
    "collapsed": false
   },
   "outputs": [
    {
     "data": {
      "text/plain": [
       "[{'sender': 'planner',\n",
       "  'content': {'user_request': 'predict the structure of AAAAAAAAAAAAAAAAAAAAAAA',\n",
       "   'analysis': 'The user wants to predict the structure of the given protein sequence. There is no previous chat history provided. The sequence is short and lacks evolutionary information, so tools like AlphaFold2 or ESMFold would be suitable for predicting the structure.',\n",
       "   'step_1': {'tool': 'esmfold',\n",
       "    'reason': 'ESMFold is suitable for predicting the structure of proteins without homologous sequence information, which is ideal for this short sequence.'},\n",
       "   'step_2': {'tool': 'chat',\n",
       "    'reason': 'After obtaining the predicted structure, inform the user about the result.'}}},\n",
       " {'sender': 'plan_optimizer',\n",
       "  'content': {'user_request': 'predict the structure of AAAAAAAAAAAAAAAAAAAAAAA',\n",
       "   'analysis': 'The user wants to predict the structure of the given protein sequence. There is no previous chat history provided. The sequence is short and lacks evolutionary information, so tools like AlphaFold2 or ESMFold would be suitable for predicting the structure.',\n",
       "   'step_1': {'tool': 'esmfold',\n",
       "    'reason': 'ESMFold is suitable for predicting the structure of proteins without homologous sequence information, which is ideal for this short sequence.'},\n",
       "   'step_2': {'tool': 'chat',\n",
       "    'reason': 'After obtaining the predicted structure, inform the user about the result.'}}},\n",
       " {'sender': 'tool_executor',\n",
       "  'content': {'current_step': 'step_1',\n",
       "   'tool_name': 'esmfold',\n",
       "   'analysis': \"Based on the user request and the analysis provided, the required argument 'protein_sequence' can be extracted directly from the user request.\",\n",
       "   'tool_arg': {'protein_sequence': 'AAAAAAAAAAAAAAAAAAAAAAAA'},\n",
       "   'running_log': 'Running log: \\nTraceback (most recent call last):\\n  File \"/root/PycharmProjects/ProtAgent/agent/tools/esmfold/command.py\", line 95, in <module>\\n    main()\\n  File \"/root/PycharmProjects/ProtAgent/agent/tools/esmfold/command.py\", line 64, in main\\n    tokenizer, model = load_model(args.model_path, args.device)\\n  File \"/root/PycharmProjects/ProtAgent/agent/tools/esmfold/command.py\", line 15, in load_model\\n    model = EsmForProteinFolding.from_pretrained(model_path, device_map=device)\\n  File \"/home/public/miniconda3/envs/protagent_backbone/lib/python3.10/site-packages/transformers/modeling_utils.py\", line 3903, in from_pretrained\\n    ) = cls._load_pretrained_model(\\n  File \"/home/public/miniconda3/envs/protagent_backbone/lib/python3.10/site-packages/transformers/modeling_utils.py\", line 4377, in _load_pretrained_model\\n    new_error_msgs, offload_index, state_dict_index = _load_state_dict_into_meta_model(\\n  File \"/home/public/miniconda3/envs/protagent_backbone/lib/python3.10/site-packages/transformers/modeling_utils.py\", line 933, in _load_state_dict_into_meta_model\\n    set_module_tensor_to_device(model, param_name, param_device, **set_module_kwargs)\\n  File \"/home/public/miniconda3/envs/protagent_backbone/lib/python3.10/site-packages/accelerate/utils/modeling.py\", line 330, in set_module_tensor_to_device\\n    new_value = value.to(device)\\ntorch.OutOfMemoryError: CUDA out of memory. Tried to allocate 26.00 MiB. GPU 1 has a total capacity of 31.74 GiB of which 13.12 MiB is free. Process 2594894 has 13.74 GiB memory in use. Process 2612459 has 13.76 GiB memory in use. Process 3469874 has 4.22 GiB memory in use. Of the allocated memory 3.92 GiB is allocated by PyTorch, and 1.98 MiB is reserved by PyTorch but unallocated. If reserved but unallocated memory is large try setting PYTORCH_CUDA_ALLOC_CONF=expandable_segments:True to avoid fragmentation.  See documentation for Memory Management  (https://pytorch.org/docs/stable/notes/cuda.html#environment-variables)\\n\\n\\nResults: \\n{\\'error\\': \\'Failed to run esmfold\\'}',\n",
       "   'results': {'error': 'Failed to run esmfold'},\n",
       "   'status': 'error'}},\n",
       " {'sender': 'tool_executor',\n",
       "  'content': {'current_step': 'step_1',\n",
       "   'tool_name': 'esmfold',\n",
       "   'analysis': \"Based on the user request and the analysis provided, the required argument 'protein_sequence' can be extracted directly from the user request. However, the previous execution of the tool failed due to a CUDA out-of-memory error. This suggests that the sequence may be too long for the available GPU memory when using ESMFold. To address this, we will attempt to split the sequence into smaller chunks and run the tool again.\",\n",
       "   'error': 'CUDA out-of-memory error due to long sequence'}},\n",
       " {'sender': 'planner',\n",
       "  'content': {'user_request': 'predict the structure of AAAAAAAAAAAAAAAAAAAAAAA',\n",
       "   'analysis': 'The user wants to predict the structure of the given protein sequence. Previous attempts with ESMFold failed due to a CUDA out-of-memory error caused by the long sequence. As an alternative, we will attempt to use AlphaFold2, which is capable of handling longer sequences.',\n",
       "   'step_1': {'tool': 'alphafold2',\n",
       "    'reason': 'AlphaFold2 is suitable for predicting the structure of proteins with longer sequences that may exceed the memory limits of ESMFold.'},\n",
       "   'step_2': {'tool': 'chat',\n",
       "    'reason': 'After obtaining the predicted structure, inform the user about the result.'}}},\n",
       " {'sender': 'plan_optimizer',\n",
       "  'content': {'user_request': 'predict the structure of AAAAAAAAAAAAAAAAAAAAAAA',\n",
       "   'analysis': 'The user wants to predict the structure of the given protein sequence. Previous attempts with ESMFold failed due to a CUDA out-of-memory error caused by the long sequence. As an alternative, we will attempt to use AlphaFold2, which is capable of handling longer sequences.',\n",
       "   'step_1': {'tool': 'alphafold2',\n",
       "    'reason': 'AlphaFold2 is suitable for predicting the structure of proteins with longer sequences that may exceed the memory limits of ESMFold.'},\n",
       "   'step_2': {'tool': 'chat',\n",
       "    'reason': 'After obtaining the predicted structure, inform the user about the result.'}}},\n",
       " {'sender': 'tool_executor',\n",
       "  'content': {'current_step': 'step_1',\n",
       "   'tool_name': 'alphafold2',\n",
       "   'analysis': \"Based on the user request and the analysis provided, the required argument 'protein_sequence' can be extracted directly from the user request. Additionally, since the sequence is long and lacks evolutionary information, we will use the default 'msa_mode' setting to create the MSA.\",\n",
       "   'tool_arg': {'protein_sequence': 'AAAAAAAAAAAAAAAAAAAAAAAA',\n",
       "    'msa_mode': 'mmseqs2_uniref_env'},\n",
       "   'running_log': \"Running log: \\n\\nEnvironmentNameNotFound: Could not find conda environment: base\\nYou can list all discoverable environments with `conda info --envs`.\\n\\n\\n\\nEnvironmentNameNotFound: Could not find conda environment: colabfold\\n\\nYou can list all discoverable environments with `conda info --envs`.\\n\\n\\n/root/PycharmProjects/ProtAgent/agent/tools/alphafold2/cmd.sh: line 5: $'\\\\r': command not found\\n/root/PycharmProjects/ProtAgent/agent/tools/alphafold2/cmd.sh: line 7: syntax error near unexpected token `$'do\\\\r''\\n/root/PycharmProjects/ProtAgent/agent/tools/alphafold2/cmd.sh: line 7: `do\\n'\\n\\n\\nResults: \\n{'error': 'stat: path should be string, bytes, os.PathLike or integer, not NoneType'}\",\n",
       "   'results': {'error': 'stat: path should be string, bytes, os.PathLike or integer, not NoneType'},\n",
       "   'status': 'error'}},\n",
       " {'sender': 'tool_executor',\n",
       "  'content': {'current_step': 'step_1',\n",
       "   'tool_name': 'alphafold2',\n",
       "   'analysis': \"Based on the user request and the analysis provided, the required argument 'protein_sequence' can be extracted directly from the user request. Additionally, since the sequence is long and lacks evolutionary information, we will use the default 'msa_mode' setting to create the MSA. However, there was an error in the previous attempt due to issues with the script environment. We need to ensure the correct environment is set up before running the tool again.\",\n",
       "   'error': 'Environment setup issue detected'}},\n",
       " {'sender': 'planner',\n",
       "  'content': {'user_request': 'predict the structure of AAAAAAAAAAAAAAAAAAAAAAA',\n",
       "   'analysis': 'The user wants to predict the structure of a given protein sequence. Previous attempts with ESMFold failed due to a CUDA out-of-memory error caused by the long sequence. Subsequently, an attempt with AlphaFold2 also failed due to environment setup issues. Given the sequence is long and lacks evolutionary information, we will attempt to use a different approach by splitting the sequence into smaller chunks and running the prediction again.',\n",
       "   'step_1': {'tool': 'seq2fasta',\n",
       "    'reason': 'Convert the protein sequence into FASTA format to facilitate further processing and tool compatibility.'},\n",
       "   'step_2': {'tool': 'mmseqs_msa',\n",
       "    'reason': 'Generate a multiple sequence alignment (MSA) for the protein sequence to provide evolutionary information which is crucial for AlphaFold2.'},\n",
       "   'step_3': {'tool': 'alphafold2',\n",
       "    'reason': 'Attempt to predict the structure of the protein using AlphaFold2 with the generated MSA.'},\n",
       "   'step_4': {'tool': 'chat',\n",
       "    'reason': 'Inform the user about the result of the structure prediction.'}}},\n",
       " {'sender': 'plan_optimizer',\n",
       "  'content': {'user_request': 'predict the structure of AAAAAAAAAAAAAAAAAAAAAAA',\n",
       "   'analysis': 'The user wants to predict the structure of a given protein sequence. Previous attempts with ESMFold failed due to a CUDA out-of-memory error caused by the long sequence. Subsequently, an attempt with AlphaFold2 also failed due to environment setup issues. Given the sequence is long and lacks evolutionary information, we will attempt to use a different approach by splitting the sequence into smaller chunks and running the prediction again.',\n",
       "   'step_1': {'tool': 'seq2fasta',\n",
       "    'reason': 'Convert the protein sequence into FASTA format to facilitate further processing and tool compatibility.'},\n",
       "   'step_2': {'tool': 'mmseqs_msa',\n",
       "    'reason': 'Generate a multiple sequence alignment (MSA) for the protein sequence to provide evolutionary information which is crucial for AlphaFold2.'},\n",
       "   'step_3': {'tool': 'alphafold2',\n",
       "    'reason': 'Attempt to predict the structure of the protein using AlphaFold2 with the generated MSA.'},\n",
       "   'step_4': {'tool': 'chat',\n",
       "    'reason': 'Inform the user about the result of the structure prediction.'}}}]"
      ]
     },
     "execution_count": 57,
     "metadata": {},
     "output_type": "execute_result"
    }
   ],
   "source": [
    "message_pool[:10]"
   ]
  }
 ],
 "metadata": {
  "kernelspec": {
   "display_name": "protagent_backbone",
   "language": "python",
   "name": "python3"
  },
  "language_info": {
   "codemirror_mode": {
    "name": "ipython",
    "version": 2
   },
   "file_extension": ".py",
   "mimetype": "text/x-python",
   "name": "python",
   "nbconvert_exporter": "python",
   "pygments_lexer": "ipython2",
   "version": "3.10.0"
  }
 },
 "nbformat": 4,
 "nbformat_minor": 5
}
