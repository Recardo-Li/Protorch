{
    "cells": [
     {
      "cell_type": "code",
      "execution_count": 1,
      "id": "initial_id",
      "metadata": {
       "ExecuteTime": {
        "end_time": "2025-04-07T06:08:02.820590Z",
        "start_time": "2025-04-07T06:07:58.984138200Z"
       },
       "collapsed": true
      },
      "outputs": [
       {
        "name": "stderr",
        "output_type": "stream",
        "text": [
         "/home/public/miniconda3/envs/protagent_backbone/lib/python3.10/site-packages/tqdm/auto.py:21: TqdmWarning: IProgress not found. Please update jupyter and ipywidgets. See https://ipywidgets.readthedocs.io/en/stable/user_install.html\n",
         "  from .autonotebook import tqdm as notebook_tqdm\n"
        ]
       }
      ],
      "source": [
       "%load_ext autoreload\n",
       "%autoreload 2\n",
       "\n",
       "import sys\n",
       "sys.path.append(\"/root/ProtAgent\")\n",
       "import os\n",
       "import yaml\n",
       "import json\n",
       "\n",
       "import json_repair\n",
       "import pandas as pd\n",
       "from agent.tools.tool_manager import ToolManager\n",
       "from agent.agent.sujin_multi_agent_backbone import MultiAgentBackbone\n",
       "from agent.utils.constants import AGENT_STATUS"
      ]
     },
     {
      "cell_type": "code",
      "execution_count": 2,
      "id": "92804069",
      "metadata": {},
      "outputs": [],
      "source": [
       "tool_manager = ToolManager(enable_quick_run=False)\n",
       "tool_manager.set_out_dir(\"/home/public/ProtAgent/examples\")"
      ]
     },
     {
      "cell_type": "code",
      "execution_count": 3,
      "id": "7d84d4ee95ff218c",
      "metadata": {
       "ExecuteTime": {
        "end_time": "2025-04-07T06:08:32.840497800Z",
        "start_time": "2025-04-07T06:08:03.690542600Z"
       },
       "collapsed": false
      },
      "outputs": [],
      "source": [
       "backbone = MultiAgentBackbone(model_name=\"qwen-turbo\", tool_manager=tool_manager)"
      ]
     },
     {
      "cell_type": "code",
      "execution_count": 4,
      "id": "90b6c4c2",
      "metadata": {},
      "outputs": [],
      "source": [
       "query = \"What is the capital of France?\""
      ]
     },
     {
      "cell_type": "code",
      "execution_count": 5,
      "id": "7a20cd1eefe1f46c",
      "metadata": {
       "collapsed": false
      },
      "outputs": [
       {
        "name": "stdout",
        "output_type": "stream",
        "text": [
         "{\n",
         "    \"sender\": \"planner\",\n",
         "    \"content\": {\n",
         "        \"user_request\": \"What is the capital of France?\",\n",
         "        \"analysis\": \"The user is asking for the capital of France, which is a general knowledge question. None of the provided tools are relevant to answering this question as they are all related to bioinformatics and protein structure prediction.\",\n",
         "        \"step_1\": {\n",
         "            \"tool\": \"chat\",\n",
         "            \"reason\": \"Since the user's question is not related to any of the available tools, the appropriate response is to use the chat tool to provide the answer directly.\"\n",
         "        }\n",
         "    }\n",
         "}\n",
         "{\n",
         "    \"sender\": \"plan_optimizer\",\n",
         "    \"parsed_inputs\": {\n",
         "        \"QUESTION\": [\n",
         "            \"What is the capital of France?\"\n",
         "        ]\n",
         "    },\n",
         "    \"content\": {\n",
         "        \"user_request\": \"What is the capital of France?\",\n",
         "        \"analysis\": \"The user is asking for the capital of France, which is a general knowledge question. None of the provided tools are relevant to answering this question as they are all related to bioinformatics and protein structure prediction.\",\n",
         "        \"step_1\": {\n",
         "            \"tool\": \"chat\",\n",
         "            \"reason\": \"Since the user's question is not related to any of the available tools, the appropriate response is to use the chat tool to provide the answer directly.\"\n",
         "        }\n",
         "    }\n",
         "}\n",
         "{\n",
         "    \"sender\": \"responder\",\n",
         "    \"content\": \"The capital of France is Paris.\",\n",
         "    \"task_complete\": true\n",
         "}\n",
         "{\n",
         "    \"sender\": \"summarizer\",\n",
         "    \"content\": {}\n",
         "}\n",
         "{\n",
         "    \"sender\": \"namer\",\n",
         "    \"content\": \"Capital of France\"\n",
         "}\n"
        ]
       }
      ],
      "source": [
       "for response in backbone.stream_chat(query):\n",
       "    if response.status == AGENT_STATUS.IDLE:\n",
       "        break\n",
       "    from IPython import display\n",
       "    display.clear_output(wait=True)\n",
       "    \n",
       "    for msg in json_repair.loads(response.content):\n",
       "        if isinstance(msg, str):\n",
       "            msg = json_repair.loads(msg)\n",
       "        print(json.dumps(msg, indent=4))\n",
       "    "
      ]
     },
     {
      "cell_type": "code",
      "execution_count": 6,
      "id": "602a38c4",
      "metadata": {},
      "outputs": [],
      "source": [
       "from agent.agent.sujin_multi_agent_api.query_parser import QueryParserAPI\n",
       "\n",
       "\n",
       "\n",
       "query_parser = QueryParserAPI(tool_manager=tool_manager, model_name=\"claude-sonnet-4-20250514\")\n",
       "\n",
       "query = \"describe the function of this protein?MLGYKCLHWNNLIDLPPLKDPETFSLPSSIPHWPPGQGFGSGTINLGKLQVIKITDFEFIWRYRSTEKKKNISFYKPKGLLPKDFHCLGHYCQSDSHPLRGYVLAARDLVDSLEQVEKPALVEPVDFTLVWSSNDSAENECSSKSECGYFWLPQPPEGYRSIGFVVTKTSVKPELNEVRCVRADLTDICEPHNVIVTAVSESLGVPLFIWRTRPSDRGMWGKGVSAGTFFCRTRLVAAREDLGIGIACLKNLDLSLHAMPNVDQIQALIQHYGPTLVFHPGETYLPSSVSWFFKNGAVLCEKGNPIEEPIDENGSNLPQGGSNDKQFWIDLPCDDQQRDFVKRGNLESSKLYIHIKPALGGTFTDLVFWIFCPFNGPATLKLGLVDISLISIGQHVCDWEHFTLRISNFSGELYSIYLSQHSGGEWIEAYDLEIIPGSNKAVVYSSKHGHASFPRAGTYLQGSTMLGIGIRNDTARSELLVDSSSRYEIIAAEYLSGNSVLAEPPWLQYMREWGPKVVYDSREEIERLVNRFPRTVRVSLATVLRKLPVELSGEEGPTGPKEKNNWYGDERC\""
      ]
     },
     {
      "cell_type": "code",
      "execution_count": 7,
      "id": "541e96cd",
      "metadata": {},
      "outputs": [
       {
        "name": "stdout",
        "output_type": "stream",
        "text": [
         "{\n",
         "    \"sender\": \"query_parser\",\n",
         "    \"content\": {\n",
         "        \"QUESTION\": [\n",
         "            \"describe the function of this protein?\"\n",
         "        ],\n",
         "        \"AA_SEQUENCE\": [\n",
         "            \"MLGYKCLHWNNLIDLPPLKDPETFSLPSSIPHWPPGQGFGSGTINLGKLQVIKITDFEFIWRYRSTEKKKNISFYKPKGLLPKDFHCLGHYCQSDSHPLRGYVLAARDLVDSLEQVEKPALVEPVDFTLVWSSNDSAENECSSKSECGYFWLPQPPEGYRSIGFVVTKTSVKPELNEVRCVRADLTDICEPHNVIVTAVSESLGVPLFIWRTRPSDRGMWGKGVSAGTFFCRTRLVAAREDLGIGIACLKNLDLSLHAMPNVDQIQALIQHYGPTLVFHPGETYLPSSVSWFFKNGAVLCEKGNPIEEPIDENGSNLPQGGSNDKQFWIDLPCDDQQRDFVKRGNLESSKLYIHIKPALGGTFTDLVFWIFCPFNGPATLKLGLVDISLISIGQHVCDWEHFTLRISNFSGELYSIYLSQHSGGEWIEAYDLEIIPGSNKAVVYSSKHGHASFPRAGTYLQGSTMLGIGIRNDTARSELLVDSSSRYEIIAAEYLSGNSVLAEPPWLQYMREWGPKVVYDSREEIERLVNRFPRTVRVSLATVLRKLPVELSGEEGPTGPKEKNNWYGDERC\"\n",
         "        ],\n",
         "        \"TEXT\": [\n",
         "            \"protein function\"\n",
         "        ]\n",
         "    }\n",
         "}\n"
        ]
       }
      ],
      "source": [
       "for response in query_parser.stream_chat(query):\n",
       "    from IPython import display\n",
       "    display.clear_output(wait=True)\n",
       "    print(response.content)"
      ]
     }
    ],
    "metadata": {
     "kernelspec": {
      "display_name": "protagent_backbone",
      "language": "python",
      "name": "python3"
     },
     "language_info": {
      "codemirror_mode": {
       "name": "ipython",
       "version": 3
      },
      "file_extension": ".py",
      "mimetype": "text/x-python",
      "name": "python",
      "nbconvert_exporter": "python",
      "pygments_lexer": "ipython3",
      "version": "3.10.0"
     }
    },
    "nbformat": 4,
    "nbformat_minor": 5
   }